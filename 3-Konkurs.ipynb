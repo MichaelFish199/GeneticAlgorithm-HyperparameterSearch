{
 "cells": [
  {
   "cell_type": "code",
   "execution_count": 8,
   "id": "d4af1c8d",
   "metadata": {},
   "outputs": [],
   "source": [
    "import numpy as np\n",
    "import random\n",
    "import time\n",
    "import string\n",
    "import joblib\n",
    "\n",
    "# genetic algorythm\n",
    "from Tools.genetic import genetic_algorythm"
   ]
  },
  {
   "cell_type": "markdown",
   "id": "296a0395",
   "metadata": {},
   "source": [
    "# Data"
   ]
  },
  {
   "cell_type": "code",
   "execution_count": 2,
   "id": "f0e7c2d2",
   "metadata": {},
   "outputs": [],
   "source": [
    "# dane do konkursu\n",
    "\n",
    "start_konkurs=np.array([0.0352623 , 0.97311138]);\n",
    "\n",
    "cities_konkurs=np.array([[0.73844339, 0.11084875],\n",
    "       [0.64969091, 0.02062209],\n",
    "       [0.52726704, 0.2147905 ],\n",
    "       [0.1236814 , 0.68211836],\n",
    "       [0.22627077, 0.75764456],\n",
    "       [0.74660694, 0.4188424 ],\n",
    "       [0.47121481, 0.99785666],\n",
    "       [0.90461483, 0.39533574],\n",
    "       [0.04167238, 0.168755  ],\n",
    "       [0.42556931, 0.25341613],\n",
    "       [0.43432433, 0.4176202 ],\n",
    "       [0.04761922, 0.53909519],\n",
    "       [0.30693386, 0.48789216],\n",
    "       [0.81226819, 0.96194487],\n",
    "       [0.56270438, 0.8935026 ],\n",
    "       [0.26688656, 0.64777945],\n",
    "       [0.13573137, 0.92684301],\n",
    "       [0.75835666, 0.4661826 ],\n",
    "       [0.70993164, 0.46173106],\n",
    "       [0.68630424, 0.62814191],\n",
    "       [0.84983729, 0.50472488],\n",
    "       [0.49410748, 0.27438532],\n",
    "       [0.8823515 , 0.54554099],\n",
    "       [0.30455616, 0.0351696 ],\n",
    "       [0.22357692, 0.48594047],\n",
    "       [0.63329231, 0.01242043],\n",
    "       [0.97941091, 0.24957209],\n",
    "       [0.26023972, 0.36522329],\n",
    "       [0.3492267 , 0.78758159],\n",
    "       [0.50190588, 0.71441027],\n",
    "       [0.97115877, 0.56105087],\n",
    "       [0.75057174, 0.29355116],\n",
    "       [0.0736678 , 0.27474762],\n",
    "       [0.31599993, 0.30942591],\n",
    "       [0.84114718, 0.95399361],\n",
    "       [0.88477406, 0.27003497],\n",
    "       [0.65218205, 0.6837114 ],\n",
    "       [0.79597901, 0.77631415],\n",
    "       [0.75668362, 0.19590046],\n",
    "       [0.93041499, 0.17053482],\n",
    "       [0.9741113 , 0.27515236],\n",
    "       [0.3269101 , 0.2639916 ],\n",
    "       [0.60029835, 0.98744972],\n",
    "       [0.04302642, 0.5920408 ],\n",
    "       [0.38156455, 0.57282448],\n",
    "       [0.85665077, 0.82401429],\n",
    "       [0.42699608, 0.76437125],\n",
    "       [0.22300945, 0.23936316],\n",
    "       [0.17677513, 0.7874222 ]]);"
   ]
  },
  {
   "cell_type": "markdown",
   "id": "6252f354",
   "metadata": {},
   "source": [
    "# Parameter Search Using Optuna"
   ]
  },
  {
   "cell_type": "code",
   "execution_count": 3,
   "id": "dbf05a0a",
   "metadata": {},
   "outputs": [],
   "source": [
    "#!pip install optuna"
   ]
  },
  {
   "cell_type": "code",
   "execution_count": 4,
   "id": "d32e8d75",
   "metadata": {},
   "outputs": [],
   "source": [
    "import optuna"
   ]
  },
  {
   "cell_type": "code",
   "execution_count": 5,
   "id": "8e4ba743",
   "metadata": {},
   "outputs": [],
   "source": [
    "# Function to return test hyperparameters\n",
    "def optimize_params(trial):\n",
    "    return {'POPULATION': trial.suggest_int('POPULATION', 1, 10, 1),\n",
    "            'CHILDREN': trial.suggest_int('CHILDREN', 1, 10, 1),\n",
    "            'MUTATION': trial.suggest_float('MUTATION', 0.2, 0.8, log=True),\n",
    "            'N_MUTATION': trial.suggest_int('N_MUTATION', 5, 100, 5)\n",
    "            }"
   ]
  },
  {
   "cell_type": "code",
   "execution_count": 6,
   "id": "8ae594d3",
   "metadata": {},
   "outputs": [],
   "source": [
    "# Function that runs trials\n",
    "def optimize_objective(trial):\n",
    "    params = optimize_params(trial)\n",
    "    \n",
    "    tourmin, distance, time  = genetic_algorythm(start_konkurs, cities_konkurs, **params)\n",
    "\n",
    "    return distance"
   ]
  },
  {
   "cell_type": "code",
   "execution_count": 7,
   "id": "aa72458e",
   "metadata": {},
   "outputs": [
    {
     "name": "stderr",
     "output_type": "stream",
     "text": [
      "\u001b[32m[I 2022-11-16 19:17:50,952]\u001b[0m A new study created in memory with name: no-name-05d06b4c-b964-44e3-8ded-9d47482b3324\u001b[0m\n",
      "\u001b[32m[I 2022-11-16 19:18:04,000]\u001b[0m Trial 0 finished with value: 8.585233033074145 and parameters: {'POPULATION': 1, 'CHILDREN': 5, 'MUTATION': 0.4013989012755729, 'N_MUTATION': 20}. Best is trial 0 with value: 8.585233033074145.\u001b[0m\n",
      "\u001b[32m[I 2022-11-16 19:18:45,902]\u001b[0m Trial 1 finished with value: 6.618593669483881 and parameters: {'POPULATION': 3, 'CHILDREN': 5, 'MUTATION': 0.44702597226093654, 'N_MUTATION': 20}. Best is trial 1 with value: 6.618593669483881.\u001b[0m\n",
      "\u001b[32m[I 2022-11-16 19:18:58,663]\u001b[0m Trial 2 finished with value: 7.729002147545588 and parameters: {'POPULATION': 2, 'CHILDREN': 2, 'MUTATION': 0.2348422161207379, 'N_MUTATION': 25}. Best is trial 1 with value: 6.618593669483881.\u001b[0m\n",
      "\u001b[32m[I 2022-11-16 19:21:25,301]\u001b[0m Trial 3 finished with value: 7.453287904085061 and parameters: {'POPULATION': 6, 'CHILDREN': 9, 'MUTATION': 0.5995316559891004, 'N_MUTATION': 15}. Best is trial 1 with value: 6.618593669483881.\u001b[0m\n",
      "\u001b[32m[I 2022-11-16 19:21:46,003]\u001b[0m Trial 4 finished with value: 6.887766974338823 and parameters: {'POPULATION': 1, 'CHILDREN': 7, 'MUTATION': 0.5168571625601595, 'N_MUTATION': 25}. Best is trial 1 with value: 6.618593669483881.\u001b[0m\n",
      "\u001b[32m[I 2022-11-16 19:23:33,178]\u001b[0m Trial 5 finished with value: 6.795074677253929 and parameters: {'POPULATION': 6, 'CHILDREN': 6, 'MUTATION': 0.3808027516424747, 'N_MUTATION': 50}. Best is trial 1 with value: 6.618593669483881.\u001b[0m\n",
      "\u001b[32m[I 2022-11-16 19:25:35,195]\u001b[0m Trial 6 finished with value: 7.90844943711807 and parameters: {'POPULATION': 5, 'CHILDREN': 10, 'MUTATION': 0.30191840830159195, 'N_MUTATION': 50}. Best is trial 1 with value: 6.618593669483881.\u001b[0m\n",
      "\u001b[32m[I 2022-11-16 19:28:35,906]\u001b[0m Trial 7 finished with value: 6.908755853941913 and parameters: {'POPULATION': 9, 'CHILDREN': 7, 'MUTATION': 0.4354438381832276, 'N_MUTATION': 10}. Best is trial 1 with value: 6.618593669483881.\u001b[0m\n",
      "\u001b[32m[I 2022-11-16 19:32:58,920]\u001b[0m Trial 8 finished with value: 6.921022812909283 and parameters: {'POPULATION': 10, 'CHILDREN': 9, 'MUTATION': 0.35386472050007467, 'N_MUTATION': 20}. Best is trial 1 with value: 6.618593669483881.\u001b[0m\n",
      "\u001b[32m[I 2022-11-16 19:37:36,043]\u001b[0m Trial 9 finished with value: 13.841512769908556 and parameters: {'POPULATION': 8, 'CHILDREN': 10, 'MUTATION': 0.7095012959991417, 'N_MUTATION': 5}. Best is trial 1 with value: 6.618593669483881.\u001b[0m\n",
      "\u001b[32m[I 2022-11-16 19:38:13,211]\u001b[0m Trial 10 finished with value: 6.8117460133373084 and parameters: {'POPULATION': 4, 'CHILDREN': 3, 'MUTATION': 0.2108826496676009, 'N_MUTATION': 40}. Best is trial 1 with value: 6.618593669483881.\u001b[0m\n",
      "\u001b[32m[I 2022-11-16 19:38:58,334]\u001b[0m Trial 11 finished with value: 6.981201246209411 and parameters: {'POPULATION': 3, 'CHILDREN': 5, 'MUTATION': 0.3203415688148227, 'N_MUTATION': 35}. Best is trial 1 with value: 6.618593669483881.\u001b[0m\n",
      "\u001b[32m[I 2022-11-16 19:40:23,263]\u001b[0m Trial 12 finished with value: 6.818525630049701 and parameters: {'POPULATION': 7, 'CHILDREN': 4, 'MUTATION': 0.49175394637869163, 'N_MUTATION': 50}. Best is trial 1 with value: 6.618593669483881.\u001b[0m\n",
      "\u001b[32m[I 2022-11-16 19:41:45,402]\u001b[0m Trial 13 finished with value: 6.832556332139712 and parameters: {'POPULATION': 4, 'CHILDREN': 7, 'MUTATION': 0.2681459855693354, 'N_MUTATION': 35}. Best is trial 1 with value: 6.618593669483881.\u001b[0m\n",
      "\u001b[32m[I 2022-11-16 19:42:07,080]\u001b[0m Trial 14 finished with value: 8.430571643181738 and parameters: {'POPULATION': 6, 'CHILDREN': 1, 'MUTATION': 0.7887516870762818, 'N_MUTATION': 40}. Best is trial 1 with value: 6.618593669483881.\u001b[0m\n",
      "\u001b[32m[I 2022-11-16 19:42:58,878]\u001b[0m Trial 15 finished with value: 6.979135063046851 and parameters: {'POPULATION': 3, 'CHILDREN': 6, 'MUTATION': 0.3749189144410235, 'N_MUTATION': 30}. Best is trial 1 with value: 6.618593669483881.\u001b[0m\n",
      "\u001b[32m[I 2022-11-16 19:43:55,750]\u001b[0m Trial 16 finished with value: 6.956236529867877 and parameters: {'POPULATION': 5, 'CHILDREN': 4, 'MUTATION': 0.4907791267588383, 'N_MUTATION': 45}. Best is trial 1 with value: 6.618593669483881.\u001b[0m\n",
      "\u001b[32m[I 2022-11-16 19:46:34,004]\u001b[0m Trial 17 finished with value: 6.599394886762154 and parameters: {'POPULATION': 7, 'CHILDREN': 8, 'MUTATION': 0.5586170018880328, 'N_MUTATION': 15}. Best is trial 17 with value: 6.599394886762154.\u001b[0m\n",
      "\u001b[32m[I 2022-11-16 19:49:47,023]\u001b[0m Trial 18 finished with value: 8.406950422480717 and parameters: {'POPULATION': 8, 'CHILDREN': 8, 'MUTATION': 0.6001711724099198, 'N_MUTATION': 10}. Best is trial 17 with value: 6.599394886762154.\u001b[0m\n",
      "\u001b[32m[I 2022-11-16 19:52:19,266]\u001b[0m Trial 19 finished with value: 7.266823098840962 and parameters: {'POPULATION': 7, 'CHILDREN': 8, 'MUTATION': 0.5762782789998131, 'N_MUTATION': 15}. Best is trial 17 with value: 6.599394886762154.\u001b[0m\n",
      "\u001b[32m[I 2022-11-16 19:53:17,621]\u001b[0m Trial 20 finished with value: 11.925298482021743 and parameters: {'POPULATION': 4, 'CHILDREN': 4, 'MUTATION': 0.4396274674688022, 'N_MUTATION': 5}. Best is trial 17 with value: 6.599394886762154.\u001b[0m\n",
      "\u001b[32m[I 2022-11-16 19:55:28,314]\u001b[0m Trial 21 finished with value: 6.96561054208297 and parameters: {'POPULATION': 7, 'CHILDREN': 6, 'MUTATION': 0.4340122499072176, 'N_MUTATION': 20}. Best is trial 17 with value: 6.599394886762154.\u001b[0m\n",
      "\u001b[32m[I 2022-11-16 19:57:17,201]\u001b[0m Trial 22 finished with value: 6.9429332533104215 and parameters: {'POPULATION': 6, 'CHILDREN': 6, 'MUTATION': 0.670087893263115, 'N_MUTATION': 30}. Best is trial 17 with value: 6.599394886762154.\u001b[0m\n",
      "\u001b[32m[I 2022-11-16 20:00:25,951]\u001b[0m Trial 23 finished with value: 6.959133443616567 and parameters: {'POPULATION': 8, 'CHILDREN': 8, 'MUTATION': 0.5318688040643682, 'N_MUTATION': 15}. Best is trial 17 with value: 6.599394886762154.\u001b[0m\n",
      "\u001b[32m[I 2022-11-16 20:01:40,663]\u001b[0m Trial 24 finished with value: 7.964575044068963 and parameters: {'POPULATION': 5, 'CHILDREN': 5, 'MUTATION': 0.3324263103771623, 'N_MUTATION': 10}. Best is trial 17 with value: 6.599394886762154.\u001b[0m\n",
      "\u001b[32m[I 2022-11-16 20:02:41,285]\u001b[0m Trial 25 finished with value: 6.815801292072273 and parameters: {'POPULATION': 3, 'CHILDREN': 7, 'MUTATION': 0.4006285877650944, 'N_MUTATION': 25}. Best is trial 17 with value: 6.599394886762154.\u001b[0m\n",
      "\u001b[32m[I 2022-11-16 20:04:07,289]\u001b[0m Trial 26 finished with value: 6.671881060560426 and parameters: {'POPULATION': 9, 'CHILDREN': 3, 'MUTATION': 0.27990987262531963, 'N_MUTATION': 15}. Best is trial 17 with value: 6.599394886762154.\u001b[0m\n",
      "\u001b[32m[I 2022-11-16 20:05:43,763]\u001b[0m Trial 27 finished with value: 7.646147403787222 and parameters: {'POPULATION': 10, 'CHILDREN': 3, 'MUTATION': 0.2801974824045272, 'N_MUTATION': 15}. Best is trial 17 with value: 6.599394886762154.\u001b[0m\n",
      "\u001b[32m[I 2022-11-16 20:07:07,978]\u001b[0m Trial 28 finished with value: 7.6624150454747175 and parameters: {'POPULATION': 9, 'CHILDREN': 3, 'MUTATION': 0.24970399445385352, 'N_MUTATION': 20}. Best is trial 17 with value: 6.599394886762154.\u001b[0m\n",
      "\u001b[32m[I 2022-11-16 20:07:43,262]\u001b[0m Trial 29 finished with value: 8.708227955210178 and parameters: {'POPULATION': 9, 'CHILDREN': 1, 'MUTATION': 0.2071533476327387, 'N_MUTATION': 10}. Best is trial 17 with value: 6.599394886762154.\u001b[0m\n",
      "\u001b[32m[I 2022-11-16 20:07:56,599]\u001b[0m Trial 30 finished with value: 8.66674258217236 and parameters: {'POPULATION': 1, 'CHILDREN': 5, 'MUTATION': 0.4691586882647345, 'N_MUTATION': 20}. Best is trial 17 with value: 6.599394886762154.\u001b[0m\n",
      "\u001b[32m[I 2022-11-16 20:08:43,406]\u001b[0m Trial 31 finished with value: 6.72411317175734 and parameters: {'POPULATION': 7, 'CHILDREN': 2, 'MUTATION': 0.3788294226986846, 'N_MUTATION': 20}. Best is trial 17 with value: 6.599394886762154.\u001b[0m\n",
      "\u001b[32m[I 2022-11-16 20:09:30,641]\u001b[0m Trial 32 finished with value: 6.748722872287084 and parameters: {'POPULATION': 7, 'CHILDREN': 2, 'MUTATION': 0.2977276300587118, 'N_MUTATION': 25}. Best is trial 17 with value: 6.599394886762154.\u001b[0m\n",
      "\u001b[32m[I 2022-11-16 20:10:28,677]\u001b[0m Trial 33 finished with value: 7.8531826497737764 and parameters: {'POPULATION': 8, 'CHILDREN': 2, 'MUTATION': 0.5518485968165537, 'N_MUTATION': 20}. Best is trial 17 with value: 6.599394886762154.\u001b[0m\n",
      "\u001b[32m[I 2022-11-16 20:11:33,788]\u001b[0m Trial 34 finished with value: 9.460771081761246 and parameters: {'POPULATION': 9, 'CHILDREN': 2, 'MUTATION': 0.6234369246742749, 'N_MUTATION': 15}. Best is trial 17 with value: 6.599394886762154.\u001b[0m\n"
     ]
    },
    {
     "name": "stderr",
     "output_type": "stream",
     "text": [
      "\u001b[32m[I 2022-11-16 20:11:52,447]\u001b[0m Trial 35 finished with value: 6.941922662101007 and parameters: {'POPULATION': 2, 'CHILDREN': 3, 'MUTATION': 0.22649845425951956, 'N_MUTATION': 25}. Best is trial 17 with value: 6.599394886762154.\u001b[0m\n",
      "\u001b[32m[I 2022-11-16 20:13:17,876]\u001b[0m Trial 36 finished with value: 7.216405004586652 and parameters: {'POPULATION': 7, 'CHILDREN': 4, 'MUTATION': 0.35466104158978995, 'N_MUTATION': 15}. Best is trial 17 with value: 6.599394886762154.\u001b[0m\n",
      "\u001b[32m[I 2022-11-16 20:13:39,623]\u001b[0m Trial 37 finished with value: 8.57022760004778 and parameters: {'POPULATION': 6, 'CHILDREN': 1, 'MUTATION': 0.41688810647788116, 'N_MUTATION': 20}. Best is trial 17 with value: 6.599394886762154.\u001b[0m\n",
      "\u001b[32m[I 2022-11-16 20:17:31,696]\u001b[0m Trial 38 finished with value: 6.16138370816904 and parameters: {'POPULATION': 8, 'CHILDREN': 9, 'MUTATION': 0.4566626873377028, 'N_MUTATION': 10}. Best is trial 38 with value: 6.16138370816904.\u001b[0m\n",
      "\u001b[32m[I 2022-11-16 20:23:02,339]\u001b[0m Trial 39 finished with value: 9.60516791607654 and parameters: {'POPULATION': 10, 'CHILDREN': 9, 'MUTATION': 0.47253514112491374, 'N_MUTATION': 5}. Best is trial 38 with value: 6.16138370816904.\u001b[0m\n",
      "\u001b[32m[I 2022-11-16 20:27:16,254]\u001b[0m Trial 40 finished with value: 7.017972862065542 and parameters: {'POPULATION': 8, 'CHILDREN': 10, 'MUTATION': 0.5142977926155852, 'N_MUTATION': 10}. Best is trial 38 with value: 6.16138370816904.\u001b[0m\n",
      "\u001b[32m[I 2022-11-16 20:31:11,504]\u001b[0m Trial 41 finished with value: 6.640850624509698 and parameters: {'POPULATION': 8, 'CHILDREN': 9, 'MUTATION': 0.38204232987610165, 'N_MUTATION': 15}. Best is trial 38 with value: 6.16138370816904.\u001b[0m\n",
      "\u001b[32m[I 2022-11-16 20:35:32,491]\u001b[0m Trial 42 finished with value: 7.713219893326127 and parameters: {'POPULATION': 9, 'CHILDREN': 9, 'MUTATION': 0.455905289052174, 'N_MUTATION': 10}. Best is trial 38 with value: 6.16138370816904.\u001b[0m\n",
      "\u001b[32m[I 2022-11-16 20:39:29,469]\u001b[0m Trial 43 finished with value: 6.492786820564281 and parameters: {'POPULATION': 8, 'CHILDREN': 9, 'MUTATION': 0.4141572734251889, 'N_MUTATION': 15}. Best is trial 38 with value: 6.16138370816904.\u001b[0m\n",
      "\u001b[32m[I 2022-11-16 20:43:54,577]\u001b[0m Trial 44 finished with value: 10.051626422752918 and parameters: {'POPULATION': 8, 'CHILDREN': 9, 'MUTATION': 0.4149470234793615, 'N_MUTATION': 5}. Best is trial 38 with value: 6.16138370816904.\u001b[0m\n",
      "\u001b[32m[I 2022-11-16 20:46:51,129]\u001b[0m Trial 45 finished with value: 6.945652088103281 and parameters: {'POPULATION': 6, 'CHILDREN': 10, 'MUTATION': 0.35419768500124926, 'N_MUTATION': 15}. Best is trial 38 with value: 6.16138370816904.\u001b[0m\n",
      "\u001b[32m[I 2022-11-16 20:49:58,612]\u001b[0m Trial 46 finished with value: 7.295825720624886 and parameters: {'POPULATION': 8, 'CHILDREN': 8, 'MUTATION': 0.3922829293782359, 'N_MUTATION': 10}. Best is trial 38 with value: 6.16138370816904.\u001b[0m\n",
      "\u001b[32m[I 2022-11-16 20:53:20,753]\u001b[0m Trial 47 finished with value: 6.81556255689501 and parameters: {'POPULATION': 7, 'CHILDREN': 10, 'MUTATION': 0.6442402197305542, 'N_MUTATION': 15}. Best is trial 38 with value: 6.16138370816904.\u001b[0m\n",
      "\u001b[32m[I 2022-11-16 20:53:41,145]\u001b[0m Trial 48 finished with value: 8.869225358183682 and parameters: {'POPULATION': 1, 'CHILDREN': 7, 'MUTATION': 0.5052768869322142, 'N_MUTATION': 10}. Best is trial 38 with value: 6.16138370816904.\u001b[0m\n",
      "\u001b[32m[I 2022-11-16 20:54:40,756]\u001b[0m Trial 49 finished with value: 12.163271432543343 and parameters: {'POPULATION': 2, 'CHILDREN': 9, 'MUTATION': 0.5466223038624164, 'N_MUTATION': 5}. Best is trial 38 with value: 6.16138370816904.\u001b[0m\n",
      "\u001b[32m[I 2022-11-16 20:57:52,141]\u001b[0m Trial 50 finished with value: 6.745689398782036 and parameters: {'POPULATION': 8, 'CHILDREN': 8, 'MUTATION': 0.44889510397034976, 'N_MUTATION': 25}. Best is trial 38 with value: 6.16138370816904.\u001b[0m\n",
      "\u001b[32m[I 2022-11-16 21:01:44,740]\u001b[0m Trial 51 finished with value: 6.64246398086282 and parameters: {'POPULATION': 9, 'CHILDREN': 10, 'MUTATION': 0.3301181793574532, 'N_MUTATION': 15}. Best is trial 38 with value: 6.16138370816904.\u001b[0m\n",
      "\u001b[32m[I 2022-11-16 21:06:17,876]\u001b[0m Trial 52 finished with value: 7.094660598117216 and parameters: {'POPULATION': 10, 'CHILDREN': 9, 'MUTATION': 0.32839785214494066, 'N_MUTATION': 15}. Best is trial 38 with value: 6.16138370816904.\u001b[0m\n",
      "\u001b[32m[I 2022-11-16 21:10:45,994]\u001b[0m Trial 53 finished with value: 6.582774692333775 and parameters: {'POPULATION': 9, 'CHILDREN': 10, 'MUTATION': 0.3557250391285034, 'N_MUTATION': 10}. Best is trial 38 with value: 6.16138370816904.\u001b[0m\n",
      "\u001b[32m[I 2022-11-16 21:14:01,834]\u001b[0m Trial 54 finished with value: 7.628141333970418 and parameters: {'POPULATION': 8, 'CHILDREN': 9, 'MUTATION': 0.3625855513617516, 'N_MUTATION': 10}. Best is trial 38 with value: 6.16138370816904.\u001b[0m\n",
      "\u001b[32m[I 2022-11-16 21:17:55,074]\u001b[0m Trial 55 finished with value: 10.368444606240724 and parameters: {'POPULATION': 7, 'CHILDREN': 10, 'MUTATION': 0.4218058278410013, 'N_MUTATION': 5}. Best is trial 38 with value: 6.16138370816904.\u001b[0m\n",
      "\u001b[32m[I 2022-11-16 21:20:58,590]\u001b[0m Trial 56 finished with value: 6.815373873760449 and parameters: {'POPULATION': 9, 'CHILDREN': 8, 'MUTATION': 0.39580965661540085, 'N_MUTATION': 20}. Best is trial 38 with value: 6.16138370816904.\u001b[0m\n",
      "\u001b[32m[I 2022-11-16 21:25:06,963]\u001b[0m Trial 57 finished with value: 7.986992462708582 and parameters: {'POPULATION': 8, 'CHILDREN': 10, 'MUTATION': 0.5742808911649575, 'N_MUTATION': 10}. Best is trial 38 with value: 6.16138370816904.\u001b[0m\n",
      "\u001b[32m[I 2022-11-16 21:27:25,616]\u001b[0m Trial 58 finished with value: 6.627462023521828 and parameters: {'POPULATION': 6, 'CHILDREN': 8, 'MUTATION': 0.3072609332536895, 'N_MUTATION': 15}. Best is trial 38 with value: 6.16138370816904.\u001b[0m\n",
      "\u001b[32m[I 2022-11-16 21:29:29,250]\u001b[0m Trial 59 finished with value: 6.682989805676676 and parameters: {'POPULATION': 6, 'CHILDREN': 7, 'MUTATION': 0.30531717585775664, 'N_MUTATION': 20}. Best is trial 38 with value: 6.16138370816904.\u001b[0m\n",
      "\u001b[32m[I 2022-11-16 21:31:36,014]\u001b[0m Trial 60 finished with value: 8.559175843633275 and parameters: {'POPULATION': 5, 'CHILDREN': 8, 'MUTATION': 0.4917432340030627, 'N_MUTATION': 10}. Best is trial 38 with value: 6.16138370816904.\u001b[0m\n",
      "\u001b[32m[I 2022-11-16 21:34:43,283]\u001b[0m Trial 61 finished with value: 7.211213195809447 and parameters: {'POPULATION': 7, 'CHILDREN': 9, 'MUTATION': 0.342767360728064, 'N_MUTATION': 15}. Best is trial 38 with value: 6.16138370816904.\u001b[0m\n",
      "\u001b[32m[I 2022-11-16 21:35:51,303]\u001b[0m Trial 62 finished with value: 7.321542595070055 and parameters: {'POPULATION': 4, 'CHILDREN': 6, 'MUTATION': 0.3095890919721405, 'N_MUTATION': 15}. Best is trial 38 with value: 6.16138370816904.\u001b[0m\n",
      "\u001b[32m[I 2022-11-16 21:38:58,616]\u001b[0m Trial 63 finished with value: 6.588846670861879 and parameters: {'POPULATION': 7, 'CHILDREN': 9, 'MUTATION': 0.4333832950114248, 'N_MUTATION': 30}. Best is trial 38 with value: 6.16138370816904.\u001b[0m\n",
      "\u001b[32m[I 2022-11-16 21:40:39,737]\u001b[0m Trial 64 finished with value: 7.024234465112119 and parameters: {'POPULATION': 5, 'CHILDREN': 8, 'MUTATION': 0.4714978764718547, 'N_MUTATION': 30}. Best is trial 38 with value: 6.16138370816904.\u001b[0m\n",
      "\u001b[32m[I 2022-11-16 21:42:09,749]\u001b[0m Trial 65 finished with value: 7.515397508167222 and parameters: {'POPULATION': 6, 'CHILDREN': 5, 'MUTATION': 0.42526534297124013, 'N_MUTATION': 35}. Best is trial 38 with value: 6.16138370816904.\u001b[0m\n",
      "\u001b[32m[I 2022-11-16 21:45:10,983]\u001b[0m Trial 66 finished with value: 6.708266025071973 and parameters: {'POPULATION': 7, 'CHILDREN': 9, 'MUTATION': 0.7220926758066272, 'N_MUTATION': 30}. Best is trial 38 with value: 6.16138370816904.\u001b[0m\n",
      "\u001b[32m[I 2022-11-16 21:47:13,533]\u001b[0m Trial 67 finished with value: 6.66382503839976 and parameters: {'POPULATION': 6, 'CHILDREN': 7, 'MUTATION': 0.3691733908101926, 'N_MUTATION': 35}. Best is trial 38 with value: 6.16138370816904.\u001b[0m\n",
      "\u001b[32m[I 2022-11-16 21:49:56,138]\u001b[0m Trial 68 finished with value: 7.391283589596038 and parameters: {'POPULATION': 7, 'CHILDREN': 8, 'MUTATION': 0.28979439121120054, 'N_MUTATION': 25}. Best is trial 38 with value: 6.16138370816904.\u001b[0m\n",
      "\u001b[32m[I 2022-11-16 21:52:20,642]\u001b[0m Trial 69 finished with value: 7.051566361899401 and parameters: {'POPULATION': 5, 'CHILDREN': 10, 'MUTATION': 0.2640041660119855, 'N_MUTATION': 30}. Best is trial 38 with value: 6.16138370816904.\u001b[0m\n"
     ]
    },
    {
     "name": "stderr",
     "output_type": "stream",
     "text": [
      "\u001b[32m[I 2022-11-16 21:53:37,944]\u001b[0m Trial 70 finished with value: 7.370998759623221 and parameters: {'POPULATION': 3, 'CHILDREN': 9, 'MUTATION': 0.4034323355527375, 'N_MUTATION': 45}. Best is trial 38 with value: 6.16138370816904.\u001b[0m\n",
      "\u001b[32m[I 2022-11-16 21:57:04,885]\u001b[0m Trial 71 finished with value: 6.947963177181552 and parameters: {'POPULATION': 8, 'CHILDREN': 9, 'MUTATION': 0.44248607387749755, 'N_MUTATION': 15}. Best is trial 38 with value: 6.16138370816904.\u001b[0m\n",
      "\u001b[32m[I 2022-11-16 22:00:24,740]\u001b[0m Trial 72 finished with value: 7.068810960223108 and parameters: {'POPULATION': 8, 'CHILDREN': 9, 'MUTATION': 0.3902298506549719, 'N_MUTATION': 10}. Best is trial 38 with value: 6.16138370816904.\u001b[0m\n",
      "\u001b[32m[I 2022-11-16 22:04:46,427]\u001b[0m Trial 73 finished with value: 7.263445589789916 and parameters: {'POPULATION': 9, 'CHILDREN': 10, 'MUTATION': 0.345665206416253, 'N_MUTATION': 20}. Best is trial 38 with value: 6.16138370816904.\u001b[0m\n",
      "\u001b[32m[I 2022-11-16 22:07:39,770]\u001b[0m Trial 74 finished with value: 7.005949083428422 and parameters: {'POPULATION': 7, 'CHILDREN': 8, 'MUTATION': 0.3724013309897641, 'N_MUTATION': 15}. Best is trial 38 with value: 6.16138370816904.\u001b[0m\n",
      "\u001b[32m[I 2022-11-16 22:10:46,364]\u001b[0m Trial 75 finished with value: 7.15789438857747 and parameters: {'POPULATION': 7, 'CHILDREN': 9, 'MUTATION': 0.3199482097685925, 'N_MUTATION': 15}. Best is trial 38 with value: 6.16138370816904.\u001b[0m\n",
      "\u001b[32m[I 2022-11-16 22:12:46,108]\u001b[0m Trial 76 finished with value: 7.084958189604117 and parameters: {'POPULATION': 9, 'CHILDREN': 5, 'MUTATION': 0.41030953202979964, 'N_MUTATION': 20}. Best is trial 38 with value: 6.16138370816904.\u001b[0m\n",
      "\u001b[32m[I 2022-11-16 22:16:49,644]\u001b[0m Trial 77 finished with value: 6.876332674549545 and parameters: {'POPULATION': 8, 'CHILDREN': 10, 'MUTATION': 0.4317746174342902, 'N_MUTATION': 10}. Best is trial 38 with value: 6.16138370816904.\u001b[0m\n",
      "\u001b[32m[I 2022-11-16 22:19:11,370]\u001b[0m Trial 78 finished with value: 6.580320620577788 and parameters: {'POPULATION': 6, 'CHILDREN': 8, 'MUTATION': 0.4573645058485396, 'N_MUTATION': 40}. Best is trial 38 with value: 6.16138370816904.\u001b[0m\n",
      "\u001b[32m[I 2022-11-16 22:21:30,953]\u001b[0m Trial 79 finished with value: 6.7562629718977085 and parameters: {'POPULATION': 6, 'CHILDREN': 8, 'MUTATION': 0.4613086789148259, 'N_MUTATION': 40}. Best is trial 38 with value: 6.16138370816904.\u001b[0m\n",
      "\u001b[32m[I 2022-11-16 22:23:42,536]\u001b[0m Trial 80 finished with value: 7.235049772447086 and parameters: {'POPULATION': 6, 'CHILDREN': 7, 'MUTATION': 0.5341243158916451, 'N_MUTATION': 45}. Best is trial 38 with value: 6.16138370816904.\u001b[0m\n",
      "\u001b[32m[I 2022-11-16 22:25:11,460]\u001b[0m Trial 81 finished with value: 7.221052347750691 and parameters: {'POPULATION': 7, 'CHILDREN': 4, 'MUTATION': 0.4471748005498575, 'N_MUTATION': 45}. Best is trial 38 with value: 6.16138370816904.\u001b[0m\n",
      "\u001b[32m[I 2022-11-16 22:28:38,809]\u001b[0m Trial 82 finished with value: 7.157780863809487 and parameters: {'POPULATION': 8, 'CHILDREN': 9, 'MUTATION': 0.48809307381469913, 'N_MUTATION': 15}. Best is trial 38 with value: 6.16138370816904.\u001b[0m\n",
      "\u001b[32m[I 2022-11-16 22:30:54,698]\u001b[0m Trial 83 finished with value: 6.808101060600806 and parameters: {'POPULATION': 6, 'CHILDREN': 8, 'MUTATION': 0.5057238326175705, 'N_MUTATION': 40}. Best is trial 38 with value: 6.16138370816904.\u001b[0m\n",
      "\u001b[32m[I 2022-11-16 22:32:48,963]\u001b[0m Trial 84 finished with value: 7.217140271784709 and parameters: {'POPULATION': 5, 'CHILDREN': 8, 'MUTATION': 0.48133832632026236, 'N_MUTATION': 35}. Best is trial 38 with value: 6.16138370816904.\u001b[0m\n",
      "\u001b[32m[I 2022-11-16 22:33:58,457]\u001b[0m Trial 85 finished with value: 8.503983449642131 and parameters: {'POPULATION': 4, 'CHILDREN': 6, 'MUTATION': 0.3842108131624772, 'N_MUTATION': 10}. Best is trial 38 with value: 6.16138370816904.\u001b[0m\n",
      "\u001b[32m[I 2022-11-16 22:37:04,785]\u001b[0m Trial 86 finished with value: 7.126390293845463 and parameters: {'POPULATION': 7, 'CHILDREN': 9, 'MUTATION': 0.4135162081334625, 'N_MUTATION': 50}. Best is trial 38 with value: 6.16138370816904.\u001b[0m\n",
      "\u001b[32m[I 2022-11-16 22:40:29,886]\u001b[0m Trial 87 finished with value: 6.433846807545842 and parameters: {'POPULATION': 8, 'CHILDREN': 9, 'MUTATION': 0.43129455297287184, 'N_MUTATION': 20}. Best is trial 38 with value: 6.16138370816904.\u001b[0m\n",
      "\u001b[32m[I 2022-11-16 22:44:08,634]\u001b[0m Trial 88 finished with value: 6.64645176318988 and parameters: {'POPULATION': 9, 'CHILDREN': 8, 'MUTATION': 0.43308404180119137, 'N_MUTATION': 20}. Best is trial 38 with value: 6.16138370816904.\u001b[0m\n",
      "\u001b[32m[I 2022-11-16 22:47:37,994]\u001b[0m Trial 89 finished with value: 7.301109414249166 and parameters: {'POPULATION': 10, 'CHILDREN': 7, 'MUTATION': 0.5261139715008444, 'N_MUTATION': 25}. Best is trial 38 with value: 6.16138370816904.\u001b[0m\n",
      "\u001b[32m[I 2022-11-16 22:50:27,919]\u001b[0m Trial 90 finished with value: 6.66350106253479 and parameters: {'POPULATION': 6, 'CHILDREN': 10, 'MUTATION': 0.5756080830124146, 'N_MUTATION': 25}. Best is trial 38 with value: 6.16138370816904.\u001b[0m\n",
      "\u001b[32m[I 2022-11-16 22:53:58,494]\u001b[0m Trial 91 finished with value: 6.308989647949975 and parameters: {'POPULATION': 8, 'CHILDREN': 9, 'MUTATION': 0.4000580606180995, 'N_MUTATION': 20}. Best is trial 38 with value: 6.16138370816904.\u001b[0m\n",
      "\u001b[32m[I 2022-11-16 22:57:27,205]\u001b[0m Trial 92 finished with value: 6.665481385609239 and parameters: {'POPULATION': 8, 'CHILDREN': 9, 'MUTATION': 0.4572336064734494, 'N_MUTATION': 20}. Best is trial 38 with value: 6.16138370816904.\u001b[0m\n",
      "\u001b[32m[I 2022-11-16 23:00:24,911]\u001b[0m Trial 93 finished with value: 6.6920013351818435 and parameters: {'POPULATION': 8, 'CHILDREN': 9, 'MUTATION': 0.43818774370819397, 'N_MUTATION': 20}. Best is trial 38 with value: 6.16138370816904.\u001b[0m\n",
      "\u001b[32m[I 2022-11-16 23:05:09,420]\u001b[0m Trial 94 finished with value: 8.01258529334201 and parameters: {'POPULATION': 9, 'CHILDREN': 10, 'MUTATION': 0.397812210271553, 'N_MUTATION': 5}. Best is trial 38 with value: 6.16138370816904.\u001b[0m\n",
      "\u001b[32m[I 2022-11-16 23:08:11,692]\u001b[0m Trial 95 finished with value: 6.615732926652282 and parameters: {'POPULATION': 7, 'CHILDREN': 9, 'MUTATION': 0.42555688144573245, 'N_MUTATION': 20}. Best is trial 38 with value: 6.16138370816904.\u001b[0m\n",
      "\u001b[32m[I 2022-11-16 23:11:35,662]\u001b[0m Trial 96 finished with value: 6.997488803389456 and parameters: {'POPULATION': 7, 'CHILDREN': 10, 'MUTATION': 0.40754813412109675, 'N_MUTATION': 25}. Best is trial 38 with value: 6.16138370816904.\u001b[0m\n",
      "\u001b[32m[I 2022-11-16 23:14:39,703]\u001b[0m Trial 97 finished with value: 6.645324265512597 and parameters: {'POPULATION': 7, 'CHILDREN': 9, 'MUTATION': 0.4697627715615094, 'N_MUTATION': 20}. Best is trial 38 with value: 6.16138370816904.\u001b[0m\n",
      "\u001b[32m[I 2022-11-16 23:18:06,990]\u001b[0m Trial 98 finished with value: 6.957283794360092 and parameters: {'POPULATION': 8, 'CHILDREN': 9, 'MUTATION': 0.41835992614351647, 'N_MUTATION': 20}. Best is trial 38 with value: 6.16138370816904.\u001b[0m\n",
      "\u001b[32m[I 2022-11-16 23:19:40,238]\u001b[0m Trial 99 finished with value: 6.576550046951129 and parameters: {'POPULATION': 8, 'CHILDREN': 4, 'MUTATION': 0.45496615783406313, 'N_MUTATION': 25}. Best is trial 38 with value: 6.16138370816904.\u001b[0m\n"
     ]
    }
   ],
   "source": [
    "# Creating the experiment\n",
    "study = optuna.create_study(direction='minimize')\n",
    "study.optimize(optimize_objective, n_trials=100, timeout=60*60*10)"
   ]
  },
  {
   "cell_type": "code",
   "execution_count": 10,
   "id": "eb650254",
   "metadata": {},
   "outputs": [
    {
     "data": {
      "text/plain": [
       "['Tools/Konkurs.pkl']"
      ]
     },
     "execution_count": 10,
     "metadata": {},
     "output_type": "execute_result"
    }
   ],
   "source": [
    "# Saving study\n",
    "joblib.dump(study, \"Tools/Konkurs.pkl\")"
   ]
  },
  {
   "cell_type": "markdown",
   "id": "3cd4d75e",
   "metadata": {},
   "source": [
    "### *You can just load and visualize results of a study*"
   ]
  },
  {
   "cell_type": "code",
   "execution_count": 11,
   "id": "e0c61555",
   "metadata": {},
   "outputs": [],
   "source": [
    "# Loading study\n",
    "study = joblib.load(\"Tools/Konkurs.pkl\")"
   ]
  },
  {
   "cell_type": "markdown",
   "id": "433cac42",
   "metadata": {},
   "source": [
    "# Visualization"
   ]
  },
  {
   "cell_type": "code",
   "execution_count": 18,
   "id": "9c6baa6c",
   "metadata": {},
   "outputs": [
    {
     "data": {
      "application/vnd.plotly.v1+json": {
       "config": {
        "plotlyServerURL": "https://plot.ly"
       },
       "data": [
        {
         "mode": "markers",
         "name": "Objective Value",
         "type": "scatter",
         "x": [
          0,
          1,
          2,
          3,
          4,
          5,
          6,
          7,
          8,
          9,
          10,
          11,
          12,
          13,
          14,
          15,
          16,
          17,
          18,
          19,
          20,
          21,
          22,
          23,
          24,
          25,
          26,
          27,
          28,
          29,
          30,
          31,
          32,
          33,
          34,
          35,
          36,
          37,
          38,
          39,
          40,
          41,
          42,
          43,
          44,
          45,
          46,
          47,
          48,
          49,
          50,
          51,
          52,
          53,
          54,
          55,
          56,
          57,
          58,
          59,
          60,
          61,
          62,
          63,
          64,
          65,
          66,
          67,
          68,
          69,
          70,
          71,
          72,
          73,
          74,
          75,
          76,
          77,
          78,
          79,
          80,
          81,
          82,
          83,
          84,
          85,
          86,
          87,
          88,
          89,
          90,
          91,
          92,
          93,
          94,
          95,
          96,
          97,
          98,
          99
         ],
         "y": [
          8.585233033074145,
          6.618593669483881,
          7.729002147545588,
          7.453287904085061,
          6.887766974338823,
          6.795074677253929,
          7.90844943711807,
          6.908755853941913,
          6.921022812909283,
          13.841512769908556,
          6.8117460133373084,
          6.981201246209411,
          6.818525630049701,
          6.832556332139712,
          8.430571643181738,
          6.979135063046851,
          6.956236529867877,
          6.599394886762154,
          8.406950422480717,
          7.266823098840962,
          11.925298482021743,
          6.96561054208297,
          6.9429332533104215,
          6.959133443616567,
          7.964575044068963,
          6.815801292072273,
          6.671881060560426,
          7.646147403787222,
          7.6624150454747175,
          8.708227955210178,
          8.66674258217236,
          6.72411317175734,
          6.748722872287084,
          7.8531826497737764,
          9.460771081761246,
          6.941922662101007,
          7.216405004586652,
          8.57022760004778,
          6.16138370816904,
          9.60516791607654,
          7.017972862065542,
          6.640850624509698,
          7.713219893326127,
          6.492786820564281,
          10.051626422752918,
          6.945652088103281,
          7.295825720624886,
          6.81556255689501,
          8.869225358183682,
          12.163271432543343,
          6.745689398782036,
          6.64246398086282,
          7.094660598117216,
          6.582774692333775,
          7.628141333970418,
          10.368444606240724,
          6.815373873760449,
          7.986992462708582,
          6.627462023521828,
          6.682989805676676,
          8.559175843633275,
          7.211213195809447,
          7.321542595070055,
          6.588846670861879,
          7.024234465112119,
          7.515397508167222,
          6.708266025071973,
          6.66382503839976,
          7.391283589596038,
          7.051566361899401,
          7.370998759623221,
          6.947963177181552,
          7.068810960223108,
          7.263445589789916,
          7.005949083428422,
          7.15789438857747,
          7.084958189604117,
          6.876332674549545,
          6.580320620577788,
          6.7562629718977085,
          7.235049772447086,
          7.221052347750691,
          7.157780863809487,
          6.808101060600806,
          7.217140271784709,
          8.503983449642131,
          7.126390293845463,
          6.433846807545842,
          6.64645176318988,
          7.301109414249166,
          6.66350106253479,
          6.308989647949975,
          6.665481385609239,
          6.6920013351818435,
          8.01258529334201,
          6.615732926652282,
          6.997488803389456,
          6.645324265512597,
          6.957283794360092,
          6.576550046951129
         ]
        },
        {
         "name": "Best Value",
         "type": "scatter",
         "x": [
          0,
          1,
          2,
          3,
          4,
          5,
          6,
          7,
          8,
          9,
          10,
          11,
          12,
          13,
          14,
          15,
          16,
          17,
          18,
          19,
          20,
          21,
          22,
          23,
          24,
          25,
          26,
          27,
          28,
          29,
          30,
          31,
          32,
          33,
          34,
          35,
          36,
          37,
          38,
          39,
          40,
          41,
          42,
          43,
          44,
          45,
          46,
          47,
          48,
          49,
          50,
          51,
          52,
          53,
          54,
          55,
          56,
          57,
          58,
          59,
          60,
          61,
          62,
          63,
          64,
          65,
          66,
          67,
          68,
          69,
          70,
          71,
          72,
          73,
          74,
          75,
          76,
          77,
          78,
          79,
          80,
          81,
          82,
          83,
          84,
          85,
          86,
          87,
          88,
          89,
          90,
          91,
          92,
          93,
          94,
          95,
          96,
          97,
          98,
          99
         ],
         "y": [
          8.585233033074145,
          6.618593669483881,
          6.618593669483881,
          6.618593669483881,
          6.618593669483881,
          6.618593669483881,
          6.618593669483881,
          6.618593669483881,
          6.618593669483881,
          6.618593669483881,
          6.618593669483881,
          6.618593669483881,
          6.618593669483881,
          6.618593669483881,
          6.618593669483881,
          6.618593669483881,
          6.618593669483881,
          6.599394886762154,
          6.599394886762154,
          6.599394886762154,
          6.599394886762154,
          6.599394886762154,
          6.599394886762154,
          6.599394886762154,
          6.599394886762154,
          6.599394886762154,
          6.599394886762154,
          6.599394886762154,
          6.599394886762154,
          6.599394886762154,
          6.599394886762154,
          6.599394886762154,
          6.599394886762154,
          6.599394886762154,
          6.599394886762154,
          6.599394886762154,
          6.599394886762154,
          6.599394886762154,
          6.16138370816904,
          6.16138370816904,
          6.16138370816904,
          6.16138370816904,
          6.16138370816904,
          6.16138370816904,
          6.16138370816904,
          6.16138370816904,
          6.16138370816904,
          6.16138370816904,
          6.16138370816904,
          6.16138370816904,
          6.16138370816904,
          6.16138370816904,
          6.16138370816904,
          6.16138370816904,
          6.16138370816904,
          6.16138370816904,
          6.16138370816904,
          6.16138370816904,
          6.16138370816904,
          6.16138370816904,
          6.16138370816904,
          6.16138370816904,
          6.16138370816904,
          6.16138370816904,
          6.16138370816904,
          6.16138370816904,
          6.16138370816904,
          6.16138370816904,
          6.16138370816904,
          6.16138370816904,
          6.16138370816904,
          6.16138370816904,
          6.16138370816904,
          6.16138370816904,
          6.16138370816904,
          6.16138370816904,
          6.16138370816904,
          6.16138370816904,
          6.16138370816904,
          6.16138370816904,
          6.16138370816904,
          6.16138370816904,
          6.16138370816904,
          6.16138370816904,
          6.16138370816904,
          6.16138370816904,
          6.16138370816904,
          6.16138370816904,
          6.16138370816904,
          6.16138370816904,
          6.16138370816904,
          6.16138370816904,
          6.16138370816904,
          6.16138370816904,
          6.16138370816904,
          6.16138370816904,
          6.16138370816904,
          6.16138370816904,
          6.16138370816904,
          6.16138370816904
         ]
        }
       ],
       "layout": {
        "template": {
         "data": {
          "bar": [
           {
            "error_x": {
             "color": "#2a3f5f"
            },
            "error_y": {
             "color": "#2a3f5f"
            },
            "marker": {
             "line": {
              "color": "#E5ECF6",
              "width": 0.5
             },
             "pattern": {
              "fillmode": "overlay",
              "size": 10,
              "solidity": 0.2
             }
            },
            "type": "bar"
           }
          ],
          "barpolar": [
           {
            "marker": {
             "line": {
              "color": "#E5ECF6",
              "width": 0.5
             },
             "pattern": {
              "fillmode": "overlay",
              "size": 10,
              "solidity": 0.2
             }
            },
            "type": "barpolar"
           }
          ],
          "carpet": [
           {
            "aaxis": {
             "endlinecolor": "#2a3f5f",
             "gridcolor": "white",
             "linecolor": "white",
             "minorgridcolor": "white",
             "startlinecolor": "#2a3f5f"
            },
            "baxis": {
             "endlinecolor": "#2a3f5f",
             "gridcolor": "white",
             "linecolor": "white",
             "minorgridcolor": "white",
             "startlinecolor": "#2a3f5f"
            },
            "type": "carpet"
           }
          ],
          "choropleth": [
           {
            "colorbar": {
             "outlinewidth": 0,
             "ticks": ""
            },
            "type": "choropleth"
           }
          ],
          "contour": [
           {
            "colorbar": {
             "outlinewidth": 0,
             "ticks": ""
            },
            "colorscale": [
             [
              0,
              "#0d0887"
             ],
             [
              0.1111111111111111,
              "#46039f"
             ],
             [
              0.2222222222222222,
              "#7201a8"
             ],
             [
              0.3333333333333333,
              "#9c179e"
             ],
             [
              0.4444444444444444,
              "#bd3786"
             ],
             [
              0.5555555555555556,
              "#d8576b"
             ],
             [
              0.6666666666666666,
              "#ed7953"
             ],
             [
              0.7777777777777778,
              "#fb9f3a"
             ],
             [
              0.8888888888888888,
              "#fdca26"
             ],
             [
              1,
              "#f0f921"
             ]
            ],
            "type": "contour"
           }
          ],
          "contourcarpet": [
           {
            "colorbar": {
             "outlinewidth": 0,
             "ticks": ""
            },
            "type": "contourcarpet"
           }
          ],
          "heatmap": [
           {
            "colorbar": {
             "outlinewidth": 0,
             "ticks": ""
            },
            "colorscale": [
             [
              0,
              "#0d0887"
             ],
             [
              0.1111111111111111,
              "#46039f"
             ],
             [
              0.2222222222222222,
              "#7201a8"
             ],
             [
              0.3333333333333333,
              "#9c179e"
             ],
             [
              0.4444444444444444,
              "#bd3786"
             ],
             [
              0.5555555555555556,
              "#d8576b"
             ],
             [
              0.6666666666666666,
              "#ed7953"
             ],
             [
              0.7777777777777778,
              "#fb9f3a"
             ],
             [
              0.8888888888888888,
              "#fdca26"
             ],
             [
              1,
              "#f0f921"
             ]
            ],
            "type": "heatmap"
           }
          ],
          "heatmapgl": [
           {
            "colorbar": {
             "outlinewidth": 0,
             "ticks": ""
            },
            "colorscale": [
             [
              0,
              "#0d0887"
             ],
             [
              0.1111111111111111,
              "#46039f"
             ],
             [
              0.2222222222222222,
              "#7201a8"
             ],
             [
              0.3333333333333333,
              "#9c179e"
             ],
             [
              0.4444444444444444,
              "#bd3786"
             ],
             [
              0.5555555555555556,
              "#d8576b"
             ],
             [
              0.6666666666666666,
              "#ed7953"
             ],
             [
              0.7777777777777778,
              "#fb9f3a"
             ],
             [
              0.8888888888888888,
              "#fdca26"
             ],
             [
              1,
              "#f0f921"
             ]
            ],
            "type": "heatmapgl"
           }
          ],
          "histogram": [
           {
            "marker": {
             "pattern": {
              "fillmode": "overlay",
              "size": 10,
              "solidity": 0.2
             }
            },
            "type": "histogram"
           }
          ],
          "histogram2d": [
           {
            "colorbar": {
             "outlinewidth": 0,
             "ticks": ""
            },
            "colorscale": [
             [
              0,
              "#0d0887"
             ],
             [
              0.1111111111111111,
              "#46039f"
             ],
             [
              0.2222222222222222,
              "#7201a8"
             ],
             [
              0.3333333333333333,
              "#9c179e"
             ],
             [
              0.4444444444444444,
              "#bd3786"
             ],
             [
              0.5555555555555556,
              "#d8576b"
             ],
             [
              0.6666666666666666,
              "#ed7953"
             ],
             [
              0.7777777777777778,
              "#fb9f3a"
             ],
             [
              0.8888888888888888,
              "#fdca26"
             ],
             [
              1,
              "#f0f921"
             ]
            ],
            "type": "histogram2d"
           }
          ],
          "histogram2dcontour": [
           {
            "colorbar": {
             "outlinewidth": 0,
             "ticks": ""
            },
            "colorscale": [
             [
              0,
              "#0d0887"
             ],
             [
              0.1111111111111111,
              "#46039f"
             ],
             [
              0.2222222222222222,
              "#7201a8"
             ],
             [
              0.3333333333333333,
              "#9c179e"
             ],
             [
              0.4444444444444444,
              "#bd3786"
             ],
             [
              0.5555555555555556,
              "#d8576b"
             ],
             [
              0.6666666666666666,
              "#ed7953"
             ],
             [
              0.7777777777777778,
              "#fb9f3a"
             ],
             [
              0.8888888888888888,
              "#fdca26"
             ],
             [
              1,
              "#f0f921"
             ]
            ],
            "type": "histogram2dcontour"
           }
          ],
          "mesh3d": [
           {
            "colorbar": {
             "outlinewidth": 0,
             "ticks": ""
            },
            "type": "mesh3d"
           }
          ],
          "parcoords": [
           {
            "line": {
             "colorbar": {
              "outlinewidth": 0,
              "ticks": ""
             }
            },
            "type": "parcoords"
           }
          ],
          "pie": [
           {
            "automargin": true,
            "type": "pie"
           }
          ],
          "scatter": [
           {
            "marker": {
             "colorbar": {
              "outlinewidth": 0,
              "ticks": ""
             }
            },
            "type": "scatter"
           }
          ],
          "scatter3d": [
           {
            "line": {
             "colorbar": {
              "outlinewidth": 0,
              "ticks": ""
             }
            },
            "marker": {
             "colorbar": {
              "outlinewidth": 0,
              "ticks": ""
             }
            },
            "type": "scatter3d"
           }
          ],
          "scattercarpet": [
           {
            "marker": {
             "colorbar": {
              "outlinewidth": 0,
              "ticks": ""
             }
            },
            "type": "scattercarpet"
           }
          ],
          "scattergeo": [
           {
            "marker": {
             "colorbar": {
              "outlinewidth": 0,
              "ticks": ""
             }
            },
            "type": "scattergeo"
           }
          ],
          "scattergl": [
           {
            "marker": {
             "colorbar": {
              "outlinewidth": 0,
              "ticks": ""
             }
            },
            "type": "scattergl"
           }
          ],
          "scattermapbox": [
           {
            "marker": {
             "colorbar": {
              "outlinewidth": 0,
              "ticks": ""
             }
            },
            "type": "scattermapbox"
           }
          ],
          "scatterpolar": [
           {
            "marker": {
             "colorbar": {
              "outlinewidth": 0,
              "ticks": ""
             }
            },
            "type": "scatterpolar"
           }
          ],
          "scatterpolargl": [
           {
            "marker": {
             "colorbar": {
              "outlinewidth": 0,
              "ticks": ""
             }
            },
            "type": "scatterpolargl"
           }
          ],
          "scatterternary": [
           {
            "marker": {
             "colorbar": {
              "outlinewidth": 0,
              "ticks": ""
             }
            },
            "type": "scatterternary"
           }
          ],
          "surface": [
           {
            "colorbar": {
             "outlinewidth": 0,
             "ticks": ""
            },
            "colorscale": [
             [
              0,
              "#0d0887"
             ],
             [
              0.1111111111111111,
              "#46039f"
             ],
             [
              0.2222222222222222,
              "#7201a8"
             ],
             [
              0.3333333333333333,
              "#9c179e"
             ],
             [
              0.4444444444444444,
              "#bd3786"
             ],
             [
              0.5555555555555556,
              "#d8576b"
             ],
             [
              0.6666666666666666,
              "#ed7953"
             ],
             [
              0.7777777777777778,
              "#fb9f3a"
             ],
             [
              0.8888888888888888,
              "#fdca26"
             ],
             [
              1,
              "#f0f921"
             ]
            ],
            "type": "surface"
           }
          ],
          "table": [
           {
            "cells": {
             "fill": {
              "color": "#EBF0F8"
             },
             "line": {
              "color": "white"
             }
            },
            "header": {
             "fill": {
              "color": "#C8D4E3"
             },
             "line": {
              "color": "white"
             }
            },
            "type": "table"
           }
          ]
         },
         "layout": {
          "annotationdefaults": {
           "arrowcolor": "#2a3f5f",
           "arrowhead": 0,
           "arrowwidth": 1
          },
          "autotypenumbers": "strict",
          "coloraxis": {
           "colorbar": {
            "outlinewidth": 0,
            "ticks": ""
           }
          },
          "colorscale": {
           "diverging": [
            [
             0,
             "#8e0152"
            ],
            [
             0.1,
             "#c51b7d"
            ],
            [
             0.2,
             "#de77ae"
            ],
            [
             0.3,
             "#f1b6da"
            ],
            [
             0.4,
             "#fde0ef"
            ],
            [
             0.5,
             "#f7f7f7"
            ],
            [
             0.6,
             "#e6f5d0"
            ],
            [
             0.7,
             "#b8e186"
            ],
            [
             0.8,
             "#7fbc41"
            ],
            [
             0.9,
             "#4d9221"
            ],
            [
             1,
             "#276419"
            ]
           ],
           "sequential": [
            [
             0,
             "#0d0887"
            ],
            [
             0.1111111111111111,
             "#46039f"
            ],
            [
             0.2222222222222222,
             "#7201a8"
            ],
            [
             0.3333333333333333,
             "#9c179e"
            ],
            [
             0.4444444444444444,
             "#bd3786"
            ],
            [
             0.5555555555555556,
             "#d8576b"
            ],
            [
             0.6666666666666666,
             "#ed7953"
            ],
            [
             0.7777777777777778,
             "#fb9f3a"
            ],
            [
             0.8888888888888888,
             "#fdca26"
            ],
            [
             1,
             "#f0f921"
            ]
           ],
           "sequentialminus": [
            [
             0,
             "#0d0887"
            ],
            [
             0.1111111111111111,
             "#46039f"
            ],
            [
             0.2222222222222222,
             "#7201a8"
            ],
            [
             0.3333333333333333,
             "#9c179e"
            ],
            [
             0.4444444444444444,
             "#bd3786"
            ],
            [
             0.5555555555555556,
             "#d8576b"
            ],
            [
             0.6666666666666666,
             "#ed7953"
            ],
            [
             0.7777777777777778,
             "#fb9f3a"
            ],
            [
             0.8888888888888888,
             "#fdca26"
            ],
            [
             1,
             "#f0f921"
            ]
           ]
          },
          "colorway": [
           "#636efa",
           "#EF553B",
           "#00cc96",
           "#ab63fa",
           "#FFA15A",
           "#19d3f3",
           "#FF6692",
           "#B6E880",
           "#FF97FF",
           "#FECB52"
          ],
          "font": {
           "color": "#2a3f5f"
          },
          "geo": {
           "bgcolor": "white",
           "lakecolor": "white",
           "landcolor": "#E5ECF6",
           "showlakes": true,
           "showland": true,
           "subunitcolor": "white"
          },
          "hoverlabel": {
           "align": "left"
          },
          "hovermode": "closest",
          "mapbox": {
           "style": "light"
          },
          "paper_bgcolor": "white",
          "plot_bgcolor": "#E5ECF6",
          "polar": {
           "angularaxis": {
            "gridcolor": "white",
            "linecolor": "white",
            "ticks": ""
           },
           "bgcolor": "#E5ECF6",
           "radialaxis": {
            "gridcolor": "white",
            "linecolor": "white",
            "ticks": ""
           }
          },
          "scene": {
           "xaxis": {
            "backgroundcolor": "#E5ECF6",
            "gridcolor": "white",
            "gridwidth": 2,
            "linecolor": "white",
            "showbackground": true,
            "ticks": "",
            "zerolinecolor": "white"
           },
           "yaxis": {
            "backgroundcolor": "#E5ECF6",
            "gridcolor": "white",
            "gridwidth": 2,
            "linecolor": "white",
            "showbackground": true,
            "ticks": "",
            "zerolinecolor": "white"
           },
           "zaxis": {
            "backgroundcolor": "#E5ECF6",
            "gridcolor": "white",
            "gridwidth": 2,
            "linecolor": "white",
            "showbackground": true,
            "ticks": "",
            "zerolinecolor": "white"
           }
          },
          "shapedefaults": {
           "line": {
            "color": "#2a3f5f"
           }
          },
          "ternary": {
           "aaxis": {
            "gridcolor": "white",
            "linecolor": "white",
            "ticks": ""
           },
           "baxis": {
            "gridcolor": "white",
            "linecolor": "white",
            "ticks": ""
           },
           "bgcolor": "#E5ECF6",
           "caxis": {
            "gridcolor": "white",
            "linecolor": "white",
            "ticks": ""
           }
          },
          "title": {
           "x": 0.05
          },
          "xaxis": {
           "automargin": true,
           "gridcolor": "white",
           "linecolor": "white",
           "ticks": "",
           "title": {
            "standoff": 15
           },
           "zerolinecolor": "white",
           "zerolinewidth": 2
          },
          "yaxis": {
           "automargin": true,
           "gridcolor": "white",
           "linecolor": "white",
           "ticks": "",
           "title": {
            "standoff": 15
           },
           "zerolinecolor": "white",
           "zerolinewidth": 2
          }
         }
        },
        "title": {
         "text": "Optimization History Plot"
        },
        "xaxis": {
         "title": {
          "text": "Trial"
         }
        },
        "yaxis": {
         "title": {
          "text": "Objective Value"
         }
        }
       }
      },
      "text/html": [
       "<div>                            <div id=\"a3d06ec2-2ffd-49bf-ac61-8a66786acf80\" class=\"plotly-graph-div\" style=\"height:525px; width:100%;\"></div>            <script type=\"text/javascript\">                require([\"plotly\"], function(Plotly) {                    window.PLOTLYENV=window.PLOTLYENV || {};                                    if (document.getElementById(\"a3d06ec2-2ffd-49bf-ac61-8a66786acf80\")) {                    Plotly.newPlot(                        \"a3d06ec2-2ffd-49bf-ac61-8a66786acf80\",                        [{\"mode\":\"markers\",\"name\":\"Objective Value\",\"x\":[0,1,2,3,4,5,6,7,8,9,10,11,12,13,14,15,16,17,18,19,20,21,22,23,24,25,26,27,28,29,30,31,32,33,34,35,36,37,38,39,40,41,42,43,44,45,46,47,48,49,50,51,52,53,54,55,56,57,58,59,60,61,62,63,64,65,66,67,68,69,70,71,72,73,74,75,76,77,78,79,80,81,82,83,84,85,86,87,88,89,90,91,92,93,94,95,96,97,98,99],\"y\":[8.585233033074145,6.618593669483881,7.729002147545588,7.453287904085061,6.887766974338823,6.795074677253929,7.90844943711807,6.908755853941913,6.921022812909283,13.841512769908556,6.8117460133373084,6.981201246209411,6.818525630049701,6.832556332139712,8.430571643181738,6.979135063046851,6.956236529867877,6.599394886762154,8.406950422480717,7.266823098840962,11.925298482021743,6.96561054208297,6.9429332533104215,6.959133443616567,7.964575044068963,6.815801292072273,6.671881060560426,7.646147403787222,7.6624150454747175,8.708227955210178,8.66674258217236,6.72411317175734,6.748722872287084,7.8531826497737764,9.460771081761246,6.941922662101007,7.216405004586652,8.57022760004778,6.16138370816904,9.60516791607654,7.017972862065542,6.640850624509698,7.713219893326127,6.492786820564281,10.051626422752918,6.945652088103281,7.295825720624886,6.81556255689501,8.869225358183682,12.163271432543343,6.745689398782036,6.64246398086282,7.094660598117216,6.582774692333775,7.628141333970418,10.368444606240724,6.815373873760449,7.986992462708582,6.627462023521828,6.682989805676676,8.559175843633275,7.211213195809447,7.321542595070055,6.588846670861879,7.024234465112119,7.515397508167222,6.708266025071973,6.66382503839976,7.391283589596038,7.051566361899401,7.370998759623221,6.947963177181552,7.068810960223108,7.263445589789916,7.005949083428422,7.15789438857747,7.084958189604117,6.876332674549545,6.580320620577788,6.7562629718977085,7.235049772447086,7.221052347750691,7.157780863809487,6.808101060600806,7.217140271784709,8.503983449642131,7.126390293845463,6.433846807545842,6.64645176318988,7.301109414249166,6.66350106253479,6.308989647949975,6.665481385609239,6.6920013351818435,8.01258529334201,6.615732926652282,6.997488803389456,6.645324265512597,6.957283794360092,6.576550046951129],\"type\":\"scatter\"},{\"name\":\"Best Value\",\"x\":[0,1,2,3,4,5,6,7,8,9,10,11,12,13,14,15,16,17,18,19,20,21,22,23,24,25,26,27,28,29,30,31,32,33,34,35,36,37,38,39,40,41,42,43,44,45,46,47,48,49,50,51,52,53,54,55,56,57,58,59,60,61,62,63,64,65,66,67,68,69,70,71,72,73,74,75,76,77,78,79,80,81,82,83,84,85,86,87,88,89,90,91,92,93,94,95,96,97,98,99],\"y\":[8.585233033074145,6.618593669483881,6.618593669483881,6.618593669483881,6.618593669483881,6.618593669483881,6.618593669483881,6.618593669483881,6.618593669483881,6.618593669483881,6.618593669483881,6.618593669483881,6.618593669483881,6.618593669483881,6.618593669483881,6.618593669483881,6.618593669483881,6.599394886762154,6.599394886762154,6.599394886762154,6.599394886762154,6.599394886762154,6.599394886762154,6.599394886762154,6.599394886762154,6.599394886762154,6.599394886762154,6.599394886762154,6.599394886762154,6.599394886762154,6.599394886762154,6.599394886762154,6.599394886762154,6.599394886762154,6.599394886762154,6.599394886762154,6.599394886762154,6.599394886762154,6.16138370816904,6.16138370816904,6.16138370816904,6.16138370816904,6.16138370816904,6.16138370816904,6.16138370816904,6.16138370816904,6.16138370816904,6.16138370816904,6.16138370816904,6.16138370816904,6.16138370816904,6.16138370816904,6.16138370816904,6.16138370816904,6.16138370816904,6.16138370816904,6.16138370816904,6.16138370816904,6.16138370816904,6.16138370816904,6.16138370816904,6.16138370816904,6.16138370816904,6.16138370816904,6.16138370816904,6.16138370816904,6.16138370816904,6.16138370816904,6.16138370816904,6.16138370816904,6.16138370816904,6.16138370816904,6.16138370816904,6.16138370816904,6.16138370816904,6.16138370816904,6.16138370816904,6.16138370816904,6.16138370816904,6.16138370816904,6.16138370816904,6.16138370816904,6.16138370816904,6.16138370816904,6.16138370816904,6.16138370816904,6.16138370816904,6.16138370816904,6.16138370816904,6.16138370816904,6.16138370816904,6.16138370816904,6.16138370816904,6.16138370816904,6.16138370816904,6.16138370816904,6.16138370816904,6.16138370816904,6.16138370816904,6.16138370816904],\"type\":\"scatter\"}],                        {\"title\":{\"text\":\"Optimization History Plot\"},\"xaxis\":{\"title\":{\"text\":\"Trial\"}},\"yaxis\":{\"title\":{\"text\":\"Objective Value\"}},\"template\":{\"data\":{\"bar\":[{\"error_x\":{\"color\":\"#2a3f5f\"},\"error_y\":{\"color\":\"#2a3f5f\"},\"marker\":{\"line\":{\"color\":\"#E5ECF6\",\"width\":0.5},\"pattern\":{\"fillmode\":\"overlay\",\"size\":10,\"solidity\":0.2}},\"type\":\"bar\"}],\"barpolar\":[{\"marker\":{\"line\":{\"color\":\"#E5ECF6\",\"width\":0.5},\"pattern\":{\"fillmode\":\"overlay\",\"size\":10,\"solidity\":0.2}},\"type\":\"barpolar\"}],\"carpet\":[{\"aaxis\":{\"endlinecolor\":\"#2a3f5f\",\"gridcolor\":\"white\",\"linecolor\":\"white\",\"minorgridcolor\":\"white\",\"startlinecolor\":\"#2a3f5f\"},\"baxis\":{\"endlinecolor\":\"#2a3f5f\",\"gridcolor\":\"white\",\"linecolor\":\"white\",\"minorgridcolor\":\"white\",\"startlinecolor\":\"#2a3f5f\"},\"type\":\"carpet\"}],\"choropleth\":[{\"colorbar\":{\"outlinewidth\":0,\"ticks\":\"\"},\"type\":\"choropleth\"}],\"contour\":[{\"colorbar\":{\"outlinewidth\":0,\"ticks\":\"\"},\"colorscale\":[[0.0,\"#0d0887\"],[0.1111111111111111,\"#46039f\"],[0.2222222222222222,\"#7201a8\"],[0.3333333333333333,\"#9c179e\"],[0.4444444444444444,\"#bd3786\"],[0.5555555555555556,\"#d8576b\"],[0.6666666666666666,\"#ed7953\"],[0.7777777777777778,\"#fb9f3a\"],[0.8888888888888888,\"#fdca26\"],[1.0,\"#f0f921\"]],\"type\":\"contour\"}],\"contourcarpet\":[{\"colorbar\":{\"outlinewidth\":0,\"ticks\":\"\"},\"type\":\"contourcarpet\"}],\"heatmap\":[{\"colorbar\":{\"outlinewidth\":0,\"ticks\":\"\"},\"colorscale\":[[0.0,\"#0d0887\"],[0.1111111111111111,\"#46039f\"],[0.2222222222222222,\"#7201a8\"],[0.3333333333333333,\"#9c179e\"],[0.4444444444444444,\"#bd3786\"],[0.5555555555555556,\"#d8576b\"],[0.6666666666666666,\"#ed7953\"],[0.7777777777777778,\"#fb9f3a\"],[0.8888888888888888,\"#fdca26\"],[1.0,\"#f0f921\"]],\"type\":\"heatmap\"}],\"heatmapgl\":[{\"colorbar\":{\"outlinewidth\":0,\"ticks\":\"\"},\"colorscale\":[[0.0,\"#0d0887\"],[0.1111111111111111,\"#46039f\"],[0.2222222222222222,\"#7201a8\"],[0.3333333333333333,\"#9c179e\"],[0.4444444444444444,\"#bd3786\"],[0.5555555555555556,\"#d8576b\"],[0.6666666666666666,\"#ed7953\"],[0.7777777777777778,\"#fb9f3a\"],[0.8888888888888888,\"#fdca26\"],[1.0,\"#f0f921\"]],\"type\":\"heatmapgl\"}],\"histogram\":[{\"marker\":{\"pattern\":{\"fillmode\":\"overlay\",\"size\":10,\"solidity\":0.2}},\"type\":\"histogram\"}],\"histogram2d\":[{\"colorbar\":{\"outlinewidth\":0,\"ticks\":\"\"},\"colorscale\":[[0.0,\"#0d0887\"],[0.1111111111111111,\"#46039f\"],[0.2222222222222222,\"#7201a8\"],[0.3333333333333333,\"#9c179e\"],[0.4444444444444444,\"#bd3786\"],[0.5555555555555556,\"#d8576b\"],[0.6666666666666666,\"#ed7953\"],[0.7777777777777778,\"#fb9f3a\"],[0.8888888888888888,\"#fdca26\"],[1.0,\"#f0f921\"]],\"type\":\"histogram2d\"}],\"histogram2dcontour\":[{\"colorbar\":{\"outlinewidth\":0,\"ticks\":\"\"},\"colorscale\":[[0.0,\"#0d0887\"],[0.1111111111111111,\"#46039f\"],[0.2222222222222222,\"#7201a8\"],[0.3333333333333333,\"#9c179e\"],[0.4444444444444444,\"#bd3786\"],[0.5555555555555556,\"#d8576b\"],[0.6666666666666666,\"#ed7953\"],[0.7777777777777778,\"#fb9f3a\"],[0.8888888888888888,\"#fdca26\"],[1.0,\"#f0f921\"]],\"type\":\"histogram2dcontour\"}],\"mesh3d\":[{\"colorbar\":{\"outlinewidth\":0,\"ticks\":\"\"},\"type\":\"mesh3d\"}],\"parcoords\":[{\"line\":{\"colorbar\":{\"outlinewidth\":0,\"ticks\":\"\"}},\"type\":\"parcoords\"}],\"pie\":[{\"automargin\":true,\"type\":\"pie\"}],\"scatter\":[{\"marker\":{\"colorbar\":{\"outlinewidth\":0,\"ticks\":\"\"}},\"type\":\"scatter\"}],\"scatter3d\":[{\"line\":{\"colorbar\":{\"outlinewidth\":0,\"ticks\":\"\"}},\"marker\":{\"colorbar\":{\"outlinewidth\":0,\"ticks\":\"\"}},\"type\":\"scatter3d\"}],\"scattercarpet\":[{\"marker\":{\"colorbar\":{\"outlinewidth\":0,\"ticks\":\"\"}},\"type\":\"scattercarpet\"}],\"scattergeo\":[{\"marker\":{\"colorbar\":{\"outlinewidth\":0,\"ticks\":\"\"}},\"type\":\"scattergeo\"}],\"scattergl\":[{\"marker\":{\"colorbar\":{\"outlinewidth\":0,\"ticks\":\"\"}},\"type\":\"scattergl\"}],\"scattermapbox\":[{\"marker\":{\"colorbar\":{\"outlinewidth\":0,\"ticks\":\"\"}},\"type\":\"scattermapbox\"}],\"scatterpolar\":[{\"marker\":{\"colorbar\":{\"outlinewidth\":0,\"ticks\":\"\"}},\"type\":\"scatterpolar\"}],\"scatterpolargl\":[{\"marker\":{\"colorbar\":{\"outlinewidth\":0,\"ticks\":\"\"}},\"type\":\"scatterpolargl\"}],\"scatterternary\":[{\"marker\":{\"colorbar\":{\"outlinewidth\":0,\"ticks\":\"\"}},\"type\":\"scatterternary\"}],\"surface\":[{\"colorbar\":{\"outlinewidth\":0,\"ticks\":\"\"},\"colorscale\":[[0.0,\"#0d0887\"],[0.1111111111111111,\"#46039f\"],[0.2222222222222222,\"#7201a8\"],[0.3333333333333333,\"#9c179e\"],[0.4444444444444444,\"#bd3786\"],[0.5555555555555556,\"#d8576b\"],[0.6666666666666666,\"#ed7953\"],[0.7777777777777778,\"#fb9f3a\"],[0.8888888888888888,\"#fdca26\"],[1.0,\"#f0f921\"]],\"type\":\"surface\"}],\"table\":[{\"cells\":{\"fill\":{\"color\":\"#EBF0F8\"},\"line\":{\"color\":\"white\"}},\"header\":{\"fill\":{\"color\":\"#C8D4E3\"},\"line\":{\"color\":\"white\"}},\"type\":\"table\"}]},\"layout\":{\"annotationdefaults\":{\"arrowcolor\":\"#2a3f5f\",\"arrowhead\":0,\"arrowwidth\":1},\"autotypenumbers\":\"strict\",\"coloraxis\":{\"colorbar\":{\"outlinewidth\":0,\"ticks\":\"\"}},\"colorscale\":{\"diverging\":[[0,\"#8e0152\"],[0.1,\"#c51b7d\"],[0.2,\"#de77ae\"],[0.3,\"#f1b6da\"],[0.4,\"#fde0ef\"],[0.5,\"#f7f7f7\"],[0.6,\"#e6f5d0\"],[0.7,\"#b8e186\"],[0.8,\"#7fbc41\"],[0.9,\"#4d9221\"],[1,\"#276419\"]],\"sequential\":[[0.0,\"#0d0887\"],[0.1111111111111111,\"#46039f\"],[0.2222222222222222,\"#7201a8\"],[0.3333333333333333,\"#9c179e\"],[0.4444444444444444,\"#bd3786\"],[0.5555555555555556,\"#d8576b\"],[0.6666666666666666,\"#ed7953\"],[0.7777777777777778,\"#fb9f3a\"],[0.8888888888888888,\"#fdca26\"],[1.0,\"#f0f921\"]],\"sequentialminus\":[[0.0,\"#0d0887\"],[0.1111111111111111,\"#46039f\"],[0.2222222222222222,\"#7201a8\"],[0.3333333333333333,\"#9c179e\"],[0.4444444444444444,\"#bd3786\"],[0.5555555555555556,\"#d8576b\"],[0.6666666666666666,\"#ed7953\"],[0.7777777777777778,\"#fb9f3a\"],[0.8888888888888888,\"#fdca26\"],[1.0,\"#f0f921\"]]},\"colorway\":[\"#636efa\",\"#EF553B\",\"#00cc96\",\"#ab63fa\",\"#FFA15A\",\"#19d3f3\",\"#FF6692\",\"#B6E880\",\"#FF97FF\",\"#FECB52\"],\"font\":{\"color\":\"#2a3f5f\"},\"geo\":{\"bgcolor\":\"white\",\"lakecolor\":\"white\",\"landcolor\":\"#E5ECF6\",\"showlakes\":true,\"showland\":true,\"subunitcolor\":\"white\"},\"hoverlabel\":{\"align\":\"left\"},\"hovermode\":\"closest\",\"mapbox\":{\"style\":\"light\"},\"paper_bgcolor\":\"white\",\"plot_bgcolor\":\"#E5ECF6\",\"polar\":{\"angularaxis\":{\"gridcolor\":\"white\",\"linecolor\":\"white\",\"ticks\":\"\"},\"bgcolor\":\"#E5ECF6\",\"radialaxis\":{\"gridcolor\":\"white\",\"linecolor\":\"white\",\"ticks\":\"\"}},\"scene\":{\"xaxis\":{\"backgroundcolor\":\"#E5ECF6\",\"gridcolor\":\"white\",\"gridwidth\":2,\"linecolor\":\"white\",\"showbackground\":true,\"ticks\":\"\",\"zerolinecolor\":\"white\"},\"yaxis\":{\"backgroundcolor\":\"#E5ECF6\",\"gridcolor\":\"white\",\"gridwidth\":2,\"linecolor\":\"white\",\"showbackground\":true,\"ticks\":\"\",\"zerolinecolor\":\"white\"},\"zaxis\":{\"backgroundcolor\":\"#E5ECF6\",\"gridcolor\":\"white\",\"gridwidth\":2,\"linecolor\":\"white\",\"showbackground\":true,\"ticks\":\"\",\"zerolinecolor\":\"white\"}},\"shapedefaults\":{\"line\":{\"color\":\"#2a3f5f\"}},\"ternary\":{\"aaxis\":{\"gridcolor\":\"white\",\"linecolor\":\"white\",\"ticks\":\"\"},\"baxis\":{\"gridcolor\":\"white\",\"linecolor\":\"white\",\"ticks\":\"\"},\"bgcolor\":\"#E5ECF6\",\"caxis\":{\"gridcolor\":\"white\",\"linecolor\":\"white\",\"ticks\":\"\"}},\"title\":{\"x\":0.05},\"xaxis\":{\"automargin\":true,\"gridcolor\":\"white\",\"linecolor\":\"white\",\"ticks\":\"\",\"title\":{\"standoff\":15},\"zerolinecolor\":\"white\",\"zerolinewidth\":2},\"yaxis\":{\"automargin\":true,\"gridcolor\":\"white\",\"linecolor\":\"white\",\"ticks\":\"\",\"title\":{\"standoff\":15},\"zerolinecolor\":\"white\",\"zerolinewidth\":2}}}},                        {\"responsive\": true}                    ).then(function(){\n",
       "                            \n",
       "var gd = document.getElementById('a3d06ec2-2ffd-49bf-ac61-8a66786acf80');\n",
       "var x = new MutationObserver(function (mutations, observer) {{\n",
       "        var display = window.getComputedStyle(gd).display;\n",
       "        if (!display || display === 'none') {{\n",
       "            console.log([gd, 'removed!']);\n",
       "            Plotly.purge(gd);\n",
       "            observer.disconnect();\n",
       "        }}\n",
       "}});\n",
       "\n",
       "// Listen for the removal of the full notebook cells\n",
       "var notebookContainer = gd.closest('#notebook-container');\n",
       "if (notebookContainer) {{\n",
       "    x.observe(notebookContainer, {childList: true});\n",
       "}}\n",
       "\n",
       "// Listen for the clearing of the current output cell\n",
       "var outputEl = gd.closest('.output');\n",
       "if (outputEl) {{\n",
       "    x.observe(outputEl, {childList: true});\n",
       "}}\n",
       "\n",
       "                        })                };                });            </script>        </div>"
      ]
     },
     "metadata": {},
     "output_type": "display_data"
    }
   ],
   "source": [
    "# Ploting history of trials\n",
    "optuna.visualization.plot_optimization_history(study)"
   ]
  },
  {
   "cell_type": "code",
   "execution_count": 20,
   "id": "4cb837c3",
   "metadata": {},
   "outputs": [
    {
     "data": {
      "application/vnd.plotly.v1+json": {
       "config": {
        "plotlyServerURL": "https://plot.ly"
       },
       "data": [
        {
         "cliponaxis": false,
         "hovertemplate": [
          "POPULATION (IntDistribution): 0.05914363490361004<extra></extra>",
          "MUTATION (FloatDistribution): 0.08689097085878765<extra></extra>",
          "CHILDREN (IntDistribution): 0.09985255079981739<extra></extra>",
          "N_MUTATION (IntDistribution): 0.7541128434377848<extra></extra>"
         ],
         "marker": {
          "color": "rgb(66,146,198)"
         },
         "orientation": "h",
         "text": [
          "0.06",
          "0.09",
          "0.10",
          "0.75"
         ],
         "textposition": "outside",
         "type": "bar",
         "x": [
          0.05914363490361004,
          0.08689097085878765,
          0.09985255079981739,
          0.7541128434377848
         ],
         "y": [
          "POPULATION",
          "MUTATION",
          "CHILDREN",
          "N_MUTATION"
         ]
        }
       ],
       "layout": {
        "showlegend": false,
        "template": {
         "data": {
          "bar": [
           {
            "error_x": {
             "color": "#2a3f5f"
            },
            "error_y": {
             "color": "#2a3f5f"
            },
            "marker": {
             "line": {
              "color": "#E5ECF6",
              "width": 0.5
             },
             "pattern": {
              "fillmode": "overlay",
              "size": 10,
              "solidity": 0.2
             }
            },
            "type": "bar"
           }
          ],
          "barpolar": [
           {
            "marker": {
             "line": {
              "color": "#E5ECF6",
              "width": 0.5
             },
             "pattern": {
              "fillmode": "overlay",
              "size": 10,
              "solidity": 0.2
             }
            },
            "type": "barpolar"
           }
          ],
          "carpet": [
           {
            "aaxis": {
             "endlinecolor": "#2a3f5f",
             "gridcolor": "white",
             "linecolor": "white",
             "minorgridcolor": "white",
             "startlinecolor": "#2a3f5f"
            },
            "baxis": {
             "endlinecolor": "#2a3f5f",
             "gridcolor": "white",
             "linecolor": "white",
             "minorgridcolor": "white",
             "startlinecolor": "#2a3f5f"
            },
            "type": "carpet"
           }
          ],
          "choropleth": [
           {
            "colorbar": {
             "outlinewidth": 0,
             "ticks": ""
            },
            "type": "choropleth"
           }
          ],
          "contour": [
           {
            "colorbar": {
             "outlinewidth": 0,
             "ticks": ""
            },
            "colorscale": [
             [
              0,
              "#0d0887"
             ],
             [
              0.1111111111111111,
              "#46039f"
             ],
             [
              0.2222222222222222,
              "#7201a8"
             ],
             [
              0.3333333333333333,
              "#9c179e"
             ],
             [
              0.4444444444444444,
              "#bd3786"
             ],
             [
              0.5555555555555556,
              "#d8576b"
             ],
             [
              0.6666666666666666,
              "#ed7953"
             ],
             [
              0.7777777777777778,
              "#fb9f3a"
             ],
             [
              0.8888888888888888,
              "#fdca26"
             ],
             [
              1,
              "#f0f921"
             ]
            ],
            "type": "contour"
           }
          ],
          "contourcarpet": [
           {
            "colorbar": {
             "outlinewidth": 0,
             "ticks": ""
            },
            "type": "contourcarpet"
           }
          ],
          "heatmap": [
           {
            "colorbar": {
             "outlinewidth": 0,
             "ticks": ""
            },
            "colorscale": [
             [
              0,
              "#0d0887"
             ],
             [
              0.1111111111111111,
              "#46039f"
             ],
             [
              0.2222222222222222,
              "#7201a8"
             ],
             [
              0.3333333333333333,
              "#9c179e"
             ],
             [
              0.4444444444444444,
              "#bd3786"
             ],
             [
              0.5555555555555556,
              "#d8576b"
             ],
             [
              0.6666666666666666,
              "#ed7953"
             ],
             [
              0.7777777777777778,
              "#fb9f3a"
             ],
             [
              0.8888888888888888,
              "#fdca26"
             ],
             [
              1,
              "#f0f921"
             ]
            ],
            "type": "heatmap"
           }
          ],
          "heatmapgl": [
           {
            "colorbar": {
             "outlinewidth": 0,
             "ticks": ""
            },
            "colorscale": [
             [
              0,
              "#0d0887"
             ],
             [
              0.1111111111111111,
              "#46039f"
             ],
             [
              0.2222222222222222,
              "#7201a8"
             ],
             [
              0.3333333333333333,
              "#9c179e"
             ],
             [
              0.4444444444444444,
              "#bd3786"
             ],
             [
              0.5555555555555556,
              "#d8576b"
             ],
             [
              0.6666666666666666,
              "#ed7953"
             ],
             [
              0.7777777777777778,
              "#fb9f3a"
             ],
             [
              0.8888888888888888,
              "#fdca26"
             ],
             [
              1,
              "#f0f921"
             ]
            ],
            "type": "heatmapgl"
           }
          ],
          "histogram": [
           {
            "marker": {
             "pattern": {
              "fillmode": "overlay",
              "size": 10,
              "solidity": 0.2
             }
            },
            "type": "histogram"
           }
          ],
          "histogram2d": [
           {
            "colorbar": {
             "outlinewidth": 0,
             "ticks": ""
            },
            "colorscale": [
             [
              0,
              "#0d0887"
             ],
             [
              0.1111111111111111,
              "#46039f"
             ],
             [
              0.2222222222222222,
              "#7201a8"
             ],
             [
              0.3333333333333333,
              "#9c179e"
             ],
             [
              0.4444444444444444,
              "#bd3786"
             ],
             [
              0.5555555555555556,
              "#d8576b"
             ],
             [
              0.6666666666666666,
              "#ed7953"
             ],
             [
              0.7777777777777778,
              "#fb9f3a"
             ],
             [
              0.8888888888888888,
              "#fdca26"
             ],
             [
              1,
              "#f0f921"
             ]
            ],
            "type": "histogram2d"
           }
          ],
          "histogram2dcontour": [
           {
            "colorbar": {
             "outlinewidth": 0,
             "ticks": ""
            },
            "colorscale": [
             [
              0,
              "#0d0887"
             ],
             [
              0.1111111111111111,
              "#46039f"
             ],
             [
              0.2222222222222222,
              "#7201a8"
             ],
             [
              0.3333333333333333,
              "#9c179e"
             ],
             [
              0.4444444444444444,
              "#bd3786"
             ],
             [
              0.5555555555555556,
              "#d8576b"
             ],
             [
              0.6666666666666666,
              "#ed7953"
             ],
             [
              0.7777777777777778,
              "#fb9f3a"
             ],
             [
              0.8888888888888888,
              "#fdca26"
             ],
             [
              1,
              "#f0f921"
             ]
            ],
            "type": "histogram2dcontour"
           }
          ],
          "mesh3d": [
           {
            "colorbar": {
             "outlinewidth": 0,
             "ticks": ""
            },
            "type": "mesh3d"
           }
          ],
          "parcoords": [
           {
            "line": {
             "colorbar": {
              "outlinewidth": 0,
              "ticks": ""
             }
            },
            "type": "parcoords"
           }
          ],
          "pie": [
           {
            "automargin": true,
            "type": "pie"
           }
          ],
          "scatter": [
           {
            "marker": {
             "colorbar": {
              "outlinewidth": 0,
              "ticks": ""
             }
            },
            "type": "scatter"
           }
          ],
          "scatter3d": [
           {
            "line": {
             "colorbar": {
              "outlinewidth": 0,
              "ticks": ""
             }
            },
            "marker": {
             "colorbar": {
              "outlinewidth": 0,
              "ticks": ""
             }
            },
            "type": "scatter3d"
           }
          ],
          "scattercarpet": [
           {
            "marker": {
             "colorbar": {
              "outlinewidth": 0,
              "ticks": ""
             }
            },
            "type": "scattercarpet"
           }
          ],
          "scattergeo": [
           {
            "marker": {
             "colorbar": {
              "outlinewidth": 0,
              "ticks": ""
             }
            },
            "type": "scattergeo"
           }
          ],
          "scattergl": [
           {
            "marker": {
             "colorbar": {
              "outlinewidth": 0,
              "ticks": ""
             }
            },
            "type": "scattergl"
           }
          ],
          "scattermapbox": [
           {
            "marker": {
             "colorbar": {
              "outlinewidth": 0,
              "ticks": ""
             }
            },
            "type": "scattermapbox"
           }
          ],
          "scatterpolar": [
           {
            "marker": {
             "colorbar": {
              "outlinewidth": 0,
              "ticks": ""
             }
            },
            "type": "scatterpolar"
           }
          ],
          "scatterpolargl": [
           {
            "marker": {
             "colorbar": {
              "outlinewidth": 0,
              "ticks": ""
             }
            },
            "type": "scatterpolargl"
           }
          ],
          "scatterternary": [
           {
            "marker": {
             "colorbar": {
              "outlinewidth": 0,
              "ticks": ""
             }
            },
            "type": "scatterternary"
           }
          ],
          "surface": [
           {
            "colorbar": {
             "outlinewidth": 0,
             "ticks": ""
            },
            "colorscale": [
             [
              0,
              "#0d0887"
             ],
             [
              0.1111111111111111,
              "#46039f"
             ],
             [
              0.2222222222222222,
              "#7201a8"
             ],
             [
              0.3333333333333333,
              "#9c179e"
             ],
             [
              0.4444444444444444,
              "#bd3786"
             ],
             [
              0.5555555555555556,
              "#d8576b"
             ],
             [
              0.6666666666666666,
              "#ed7953"
             ],
             [
              0.7777777777777778,
              "#fb9f3a"
             ],
             [
              0.8888888888888888,
              "#fdca26"
             ],
             [
              1,
              "#f0f921"
             ]
            ],
            "type": "surface"
           }
          ],
          "table": [
           {
            "cells": {
             "fill": {
              "color": "#EBF0F8"
             },
             "line": {
              "color": "white"
             }
            },
            "header": {
             "fill": {
              "color": "#C8D4E3"
             },
             "line": {
              "color": "white"
             }
            },
            "type": "table"
           }
          ]
         },
         "layout": {
          "annotationdefaults": {
           "arrowcolor": "#2a3f5f",
           "arrowhead": 0,
           "arrowwidth": 1
          },
          "autotypenumbers": "strict",
          "coloraxis": {
           "colorbar": {
            "outlinewidth": 0,
            "ticks": ""
           }
          },
          "colorscale": {
           "diverging": [
            [
             0,
             "#8e0152"
            ],
            [
             0.1,
             "#c51b7d"
            ],
            [
             0.2,
             "#de77ae"
            ],
            [
             0.3,
             "#f1b6da"
            ],
            [
             0.4,
             "#fde0ef"
            ],
            [
             0.5,
             "#f7f7f7"
            ],
            [
             0.6,
             "#e6f5d0"
            ],
            [
             0.7,
             "#b8e186"
            ],
            [
             0.8,
             "#7fbc41"
            ],
            [
             0.9,
             "#4d9221"
            ],
            [
             1,
             "#276419"
            ]
           ],
           "sequential": [
            [
             0,
             "#0d0887"
            ],
            [
             0.1111111111111111,
             "#46039f"
            ],
            [
             0.2222222222222222,
             "#7201a8"
            ],
            [
             0.3333333333333333,
             "#9c179e"
            ],
            [
             0.4444444444444444,
             "#bd3786"
            ],
            [
             0.5555555555555556,
             "#d8576b"
            ],
            [
             0.6666666666666666,
             "#ed7953"
            ],
            [
             0.7777777777777778,
             "#fb9f3a"
            ],
            [
             0.8888888888888888,
             "#fdca26"
            ],
            [
             1,
             "#f0f921"
            ]
           ],
           "sequentialminus": [
            [
             0,
             "#0d0887"
            ],
            [
             0.1111111111111111,
             "#46039f"
            ],
            [
             0.2222222222222222,
             "#7201a8"
            ],
            [
             0.3333333333333333,
             "#9c179e"
            ],
            [
             0.4444444444444444,
             "#bd3786"
            ],
            [
             0.5555555555555556,
             "#d8576b"
            ],
            [
             0.6666666666666666,
             "#ed7953"
            ],
            [
             0.7777777777777778,
             "#fb9f3a"
            ],
            [
             0.8888888888888888,
             "#fdca26"
            ],
            [
             1,
             "#f0f921"
            ]
           ]
          },
          "colorway": [
           "#636efa",
           "#EF553B",
           "#00cc96",
           "#ab63fa",
           "#FFA15A",
           "#19d3f3",
           "#FF6692",
           "#B6E880",
           "#FF97FF",
           "#FECB52"
          ],
          "font": {
           "color": "#2a3f5f"
          },
          "geo": {
           "bgcolor": "white",
           "lakecolor": "white",
           "landcolor": "#E5ECF6",
           "showlakes": true,
           "showland": true,
           "subunitcolor": "white"
          },
          "hoverlabel": {
           "align": "left"
          },
          "hovermode": "closest",
          "mapbox": {
           "style": "light"
          },
          "paper_bgcolor": "white",
          "plot_bgcolor": "#E5ECF6",
          "polar": {
           "angularaxis": {
            "gridcolor": "white",
            "linecolor": "white",
            "ticks": ""
           },
           "bgcolor": "#E5ECF6",
           "radialaxis": {
            "gridcolor": "white",
            "linecolor": "white",
            "ticks": ""
           }
          },
          "scene": {
           "xaxis": {
            "backgroundcolor": "#E5ECF6",
            "gridcolor": "white",
            "gridwidth": 2,
            "linecolor": "white",
            "showbackground": true,
            "ticks": "",
            "zerolinecolor": "white"
           },
           "yaxis": {
            "backgroundcolor": "#E5ECF6",
            "gridcolor": "white",
            "gridwidth": 2,
            "linecolor": "white",
            "showbackground": true,
            "ticks": "",
            "zerolinecolor": "white"
           },
           "zaxis": {
            "backgroundcolor": "#E5ECF6",
            "gridcolor": "white",
            "gridwidth": 2,
            "linecolor": "white",
            "showbackground": true,
            "ticks": "",
            "zerolinecolor": "white"
           }
          },
          "shapedefaults": {
           "line": {
            "color": "#2a3f5f"
           }
          },
          "ternary": {
           "aaxis": {
            "gridcolor": "white",
            "linecolor": "white",
            "ticks": ""
           },
           "baxis": {
            "gridcolor": "white",
            "linecolor": "white",
            "ticks": ""
           },
           "bgcolor": "#E5ECF6",
           "caxis": {
            "gridcolor": "white",
            "linecolor": "white",
            "ticks": ""
           }
          },
          "title": {
           "x": 0.05
          },
          "xaxis": {
           "automargin": true,
           "gridcolor": "white",
           "linecolor": "white",
           "ticks": "",
           "title": {
            "standoff": 15
           },
           "zerolinecolor": "white",
           "zerolinewidth": 2
          },
          "yaxis": {
           "automargin": true,
           "gridcolor": "white",
           "linecolor": "white",
           "ticks": "",
           "title": {
            "standoff": 15
           },
           "zerolinecolor": "white",
           "zerolinewidth": 2
          }
         }
        },
        "title": {
         "text": "Hyperparameter Importances"
        },
        "xaxis": {
         "title": {
          "text": "Importance for distance"
         }
        },
        "yaxis": {
         "title": {
          "text": "Hyperparameter"
         }
        }
       }
      },
      "text/html": [
       "<div>                            <div id=\"48c797bb-1b87-49b0-b11e-8555ac915203\" class=\"plotly-graph-div\" style=\"height:525px; width:100%;\"></div>            <script type=\"text/javascript\">                require([\"plotly\"], function(Plotly) {                    window.PLOTLYENV=window.PLOTLYENV || {};                                    if (document.getElementById(\"48c797bb-1b87-49b0-b11e-8555ac915203\")) {                    Plotly.newPlot(                        \"48c797bb-1b87-49b0-b11e-8555ac915203\",                        [{\"cliponaxis\":false,\"hovertemplate\":[\"POPULATION (IntDistribution): 0.05914363490361004<extra></extra>\",\"MUTATION (FloatDistribution): 0.08689097085878765<extra></extra>\",\"CHILDREN (IntDistribution): 0.09985255079981739<extra></extra>\",\"N_MUTATION (IntDistribution): 0.7541128434377848<extra></extra>\"],\"marker\":{\"color\":\"rgb(66,146,198)\"},\"orientation\":\"h\",\"text\":[\"0.06\",\"0.09\",\"0.10\",\"0.75\"],\"textposition\":\"outside\",\"x\":[0.05914363490361004,0.08689097085878765,0.09985255079981739,0.7541128434377848],\"y\":[\"POPULATION\",\"MUTATION\",\"CHILDREN\",\"N_MUTATION\"],\"type\":\"bar\"}],                        {\"showlegend\":false,\"title\":{\"text\":\"Hyperparameter Importances\"},\"xaxis\":{\"title\":{\"text\":\"Importance for distance\"}},\"yaxis\":{\"title\":{\"text\":\"Hyperparameter\"}},\"template\":{\"data\":{\"bar\":[{\"error_x\":{\"color\":\"#2a3f5f\"},\"error_y\":{\"color\":\"#2a3f5f\"},\"marker\":{\"line\":{\"color\":\"#E5ECF6\",\"width\":0.5},\"pattern\":{\"fillmode\":\"overlay\",\"size\":10,\"solidity\":0.2}},\"type\":\"bar\"}],\"barpolar\":[{\"marker\":{\"line\":{\"color\":\"#E5ECF6\",\"width\":0.5},\"pattern\":{\"fillmode\":\"overlay\",\"size\":10,\"solidity\":0.2}},\"type\":\"barpolar\"}],\"carpet\":[{\"aaxis\":{\"endlinecolor\":\"#2a3f5f\",\"gridcolor\":\"white\",\"linecolor\":\"white\",\"minorgridcolor\":\"white\",\"startlinecolor\":\"#2a3f5f\"},\"baxis\":{\"endlinecolor\":\"#2a3f5f\",\"gridcolor\":\"white\",\"linecolor\":\"white\",\"minorgridcolor\":\"white\",\"startlinecolor\":\"#2a3f5f\"},\"type\":\"carpet\"}],\"choropleth\":[{\"colorbar\":{\"outlinewidth\":0,\"ticks\":\"\"},\"type\":\"choropleth\"}],\"contour\":[{\"colorbar\":{\"outlinewidth\":0,\"ticks\":\"\"},\"colorscale\":[[0.0,\"#0d0887\"],[0.1111111111111111,\"#46039f\"],[0.2222222222222222,\"#7201a8\"],[0.3333333333333333,\"#9c179e\"],[0.4444444444444444,\"#bd3786\"],[0.5555555555555556,\"#d8576b\"],[0.6666666666666666,\"#ed7953\"],[0.7777777777777778,\"#fb9f3a\"],[0.8888888888888888,\"#fdca26\"],[1.0,\"#f0f921\"]],\"type\":\"contour\"}],\"contourcarpet\":[{\"colorbar\":{\"outlinewidth\":0,\"ticks\":\"\"},\"type\":\"contourcarpet\"}],\"heatmap\":[{\"colorbar\":{\"outlinewidth\":0,\"ticks\":\"\"},\"colorscale\":[[0.0,\"#0d0887\"],[0.1111111111111111,\"#46039f\"],[0.2222222222222222,\"#7201a8\"],[0.3333333333333333,\"#9c179e\"],[0.4444444444444444,\"#bd3786\"],[0.5555555555555556,\"#d8576b\"],[0.6666666666666666,\"#ed7953\"],[0.7777777777777778,\"#fb9f3a\"],[0.8888888888888888,\"#fdca26\"],[1.0,\"#f0f921\"]],\"type\":\"heatmap\"}],\"heatmapgl\":[{\"colorbar\":{\"outlinewidth\":0,\"ticks\":\"\"},\"colorscale\":[[0.0,\"#0d0887\"],[0.1111111111111111,\"#46039f\"],[0.2222222222222222,\"#7201a8\"],[0.3333333333333333,\"#9c179e\"],[0.4444444444444444,\"#bd3786\"],[0.5555555555555556,\"#d8576b\"],[0.6666666666666666,\"#ed7953\"],[0.7777777777777778,\"#fb9f3a\"],[0.8888888888888888,\"#fdca26\"],[1.0,\"#f0f921\"]],\"type\":\"heatmapgl\"}],\"histogram\":[{\"marker\":{\"pattern\":{\"fillmode\":\"overlay\",\"size\":10,\"solidity\":0.2}},\"type\":\"histogram\"}],\"histogram2d\":[{\"colorbar\":{\"outlinewidth\":0,\"ticks\":\"\"},\"colorscale\":[[0.0,\"#0d0887\"],[0.1111111111111111,\"#46039f\"],[0.2222222222222222,\"#7201a8\"],[0.3333333333333333,\"#9c179e\"],[0.4444444444444444,\"#bd3786\"],[0.5555555555555556,\"#d8576b\"],[0.6666666666666666,\"#ed7953\"],[0.7777777777777778,\"#fb9f3a\"],[0.8888888888888888,\"#fdca26\"],[1.0,\"#f0f921\"]],\"type\":\"histogram2d\"}],\"histogram2dcontour\":[{\"colorbar\":{\"outlinewidth\":0,\"ticks\":\"\"},\"colorscale\":[[0.0,\"#0d0887\"],[0.1111111111111111,\"#46039f\"],[0.2222222222222222,\"#7201a8\"],[0.3333333333333333,\"#9c179e\"],[0.4444444444444444,\"#bd3786\"],[0.5555555555555556,\"#d8576b\"],[0.6666666666666666,\"#ed7953\"],[0.7777777777777778,\"#fb9f3a\"],[0.8888888888888888,\"#fdca26\"],[1.0,\"#f0f921\"]],\"type\":\"histogram2dcontour\"}],\"mesh3d\":[{\"colorbar\":{\"outlinewidth\":0,\"ticks\":\"\"},\"type\":\"mesh3d\"}],\"parcoords\":[{\"line\":{\"colorbar\":{\"outlinewidth\":0,\"ticks\":\"\"}},\"type\":\"parcoords\"}],\"pie\":[{\"automargin\":true,\"type\":\"pie\"}],\"scatter\":[{\"marker\":{\"colorbar\":{\"outlinewidth\":0,\"ticks\":\"\"}},\"type\":\"scatter\"}],\"scatter3d\":[{\"line\":{\"colorbar\":{\"outlinewidth\":0,\"ticks\":\"\"}},\"marker\":{\"colorbar\":{\"outlinewidth\":0,\"ticks\":\"\"}},\"type\":\"scatter3d\"}],\"scattercarpet\":[{\"marker\":{\"colorbar\":{\"outlinewidth\":0,\"ticks\":\"\"}},\"type\":\"scattercarpet\"}],\"scattergeo\":[{\"marker\":{\"colorbar\":{\"outlinewidth\":0,\"ticks\":\"\"}},\"type\":\"scattergeo\"}],\"scattergl\":[{\"marker\":{\"colorbar\":{\"outlinewidth\":0,\"ticks\":\"\"}},\"type\":\"scattergl\"}],\"scattermapbox\":[{\"marker\":{\"colorbar\":{\"outlinewidth\":0,\"ticks\":\"\"}},\"type\":\"scattermapbox\"}],\"scatterpolar\":[{\"marker\":{\"colorbar\":{\"outlinewidth\":0,\"ticks\":\"\"}},\"type\":\"scatterpolar\"}],\"scatterpolargl\":[{\"marker\":{\"colorbar\":{\"outlinewidth\":0,\"ticks\":\"\"}},\"type\":\"scatterpolargl\"}],\"scatterternary\":[{\"marker\":{\"colorbar\":{\"outlinewidth\":0,\"ticks\":\"\"}},\"type\":\"scatterternary\"}],\"surface\":[{\"colorbar\":{\"outlinewidth\":0,\"ticks\":\"\"},\"colorscale\":[[0.0,\"#0d0887\"],[0.1111111111111111,\"#46039f\"],[0.2222222222222222,\"#7201a8\"],[0.3333333333333333,\"#9c179e\"],[0.4444444444444444,\"#bd3786\"],[0.5555555555555556,\"#d8576b\"],[0.6666666666666666,\"#ed7953\"],[0.7777777777777778,\"#fb9f3a\"],[0.8888888888888888,\"#fdca26\"],[1.0,\"#f0f921\"]],\"type\":\"surface\"}],\"table\":[{\"cells\":{\"fill\":{\"color\":\"#EBF0F8\"},\"line\":{\"color\":\"white\"}},\"header\":{\"fill\":{\"color\":\"#C8D4E3\"},\"line\":{\"color\":\"white\"}},\"type\":\"table\"}]},\"layout\":{\"annotationdefaults\":{\"arrowcolor\":\"#2a3f5f\",\"arrowhead\":0,\"arrowwidth\":1},\"autotypenumbers\":\"strict\",\"coloraxis\":{\"colorbar\":{\"outlinewidth\":0,\"ticks\":\"\"}},\"colorscale\":{\"diverging\":[[0,\"#8e0152\"],[0.1,\"#c51b7d\"],[0.2,\"#de77ae\"],[0.3,\"#f1b6da\"],[0.4,\"#fde0ef\"],[0.5,\"#f7f7f7\"],[0.6,\"#e6f5d0\"],[0.7,\"#b8e186\"],[0.8,\"#7fbc41\"],[0.9,\"#4d9221\"],[1,\"#276419\"]],\"sequential\":[[0.0,\"#0d0887\"],[0.1111111111111111,\"#46039f\"],[0.2222222222222222,\"#7201a8\"],[0.3333333333333333,\"#9c179e\"],[0.4444444444444444,\"#bd3786\"],[0.5555555555555556,\"#d8576b\"],[0.6666666666666666,\"#ed7953\"],[0.7777777777777778,\"#fb9f3a\"],[0.8888888888888888,\"#fdca26\"],[1.0,\"#f0f921\"]],\"sequentialminus\":[[0.0,\"#0d0887\"],[0.1111111111111111,\"#46039f\"],[0.2222222222222222,\"#7201a8\"],[0.3333333333333333,\"#9c179e\"],[0.4444444444444444,\"#bd3786\"],[0.5555555555555556,\"#d8576b\"],[0.6666666666666666,\"#ed7953\"],[0.7777777777777778,\"#fb9f3a\"],[0.8888888888888888,\"#fdca26\"],[1.0,\"#f0f921\"]]},\"colorway\":[\"#636efa\",\"#EF553B\",\"#00cc96\",\"#ab63fa\",\"#FFA15A\",\"#19d3f3\",\"#FF6692\",\"#B6E880\",\"#FF97FF\",\"#FECB52\"],\"font\":{\"color\":\"#2a3f5f\"},\"geo\":{\"bgcolor\":\"white\",\"lakecolor\":\"white\",\"landcolor\":\"#E5ECF6\",\"showlakes\":true,\"showland\":true,\"subunitcolor\":\"white\"},\"hoverlabel\":{\"align\":\"left\"},\"hovermode\":\"closest\",\"mapbox\":{\"style\":\"light\"},\"paper_bgcolor\":\"white\",\"plot_bgcolor\":\"#E5ECF6\",\"polar\":{\"angularaxis\":{\"gridcolor\":\"white\",\"linecolor\":\"white\",\"ticks\":\"\"},\"bgcolor\":\"#E5ECF6\",\"radialaxis\":{\"gridcolor\":\"white\",\"linecolor\":\"white\",\"ticks\":\"\"}},\"scene\":{\"xaxis\":{\"backgroundcolor\":\"#E5ECF6\",\"gridcolor\":\"white\",\"gridwidth\":2,\"linecolor\":\"white\",\"showbackground\":true,\"ticks\":\"\",\"zerolinecolor\":\"white\"},\"yaxis\":{\"backgroundcolor\":\"#E5ECF6\",\"gridcolor\":\"white\",\"gridwidth\":2,\"linecolor\":\"white\",\"showbackground\":true,\"ticks\":\"\",\"zerolinecolor\":\"white\"},\"zaxis\":{\"backgroundcolor\":\"#E5ECF6\",\"gridcolor\":\"white\",\"gridwidth\":2,\"linecolor\":\"white\",\"showbackground\":true,\"ticks\":\"\",\"zerolinecolor\":\"white\"}},\"shapedefaults\":{\"line\":{\"color\":\"#2a3f5f\"}},\"ternary\":{\"aaxis\":{\"gridcolor\":\"white\",\"linecolor\":\"white\",\"ticks\":\"\"},\"baxis\":{\"gridcolor\":\"white\",\"linecolor\":\"white\",\"ticks\":\"\"},\"bgcolor\":\"#E5ECF6\",\"caxis\":{\"gridcolor\":\"white\",\"linecolor\":\"white\",\"ticks\":\"\"}},\"title\":{\"x\":0.05},\"xaxis\":{\"automargin\":true,\"gridcolor\":\"white\",\"linecolor\":\"white\",\"ticks\":\"\",\"title\":{\"standoff\":15},\"zerolinecolor\":\"white\",\"zerolinewidth\":2},\"yaxis\":{\"automargin\":true,\"gridcolor\":\"white\",\"linecolor\":\"white\",\"ticks\":\"\",\"title\":{\"standoff\":15},\"zerolinecolor\":\"white\",\"zerolinewidth\":2}}}},                        {\"responsive\": true}                    ).then(function(){\n",
       "                            \n",
       "var gd = document.getElementById('48c797bb-1b87-49b0-b11e-8555ac915203');\n",
       "var x = new MutationObserver(function (mutations, observer) {{\n",
       "        var display = window.getComputedStyle(gd).display;\n",
       "        if (!display || display === 'none') {{\n",
       "            console.log([gd, 'removed!']);\n",
       "            Plotly.purge(gd);\n",
       "            observer.disconnect();\n",
       "        }}\n",
       "}});\n",
       "\n",
       "// Listen for the removal of the full notebook cells\n",
       "var notebookContainer = gd.closest('#notebook-container');\n",
       "if (notebookContainer) {{\n",
       "    x.observe(notebookContainer, {childList: true});\n",
       "}}\n",
       "\n",
       "// Listen for the clearing of the current output cell\n",
       "var outputEl = gd.closest('.output');\n",
       "if (outputEl) {{\n",
       "    x.observe(outputEl, {childList: true});\n",
       "}}\n",
       "\n",
       "                        })                };                });            </script>        </div>"
      ]
     },
     "metadata": {},
     "output_type": "display_data"
    }
   ],
   "source": [
    "# Plotting most important parameters that influence distance\n",
    "optuna.visualization.plot_param_importances(study, target_name=\"distance\")"
   ]
  },
  {
   "cell_type": "code",
   "execution_count": 22,
   "id": "cc748c51",
   "metadata": {},
   "outputs": [
    {
     "data": {
      "application/vnd.plotly.v1+json": {
       "config": {
        "plotlyServerURL": "https://plot.ly"
       },
       "data": [
        {
         "marker": {
          "color": [
           0,
           1,
           2,
           3,
           4,
           5,
           6,
           7,
           8,
           9,
           10,
           11,
           12,
           13,
           14,
           15,
           16,
           17,
           18,
           19,
           20,
           21,
           22,
           23,
           24,
           25,
           26,
           27,
           28,
           29,
           30,
           31,
           32,
           33,
           34,
           35,
           36,
           37,
           38,
           39,
           40,
           41,
           42,
           43,
           44,
           45,
           46,
           47,
           48,
           49,
           50,
           51,
           52,
           53,
           54,
           55,
           56,
           57,
           58,
           59,
           60,
           61,
           62,
           63,
           64,
           65,
           66,
           67,
           68,
           69,
           70,
           71,
           72,
           73,
           74,
           75,
           76,
           77,
           78,
           79,
           80,
           81,
           82,
           83,
           84,
           85,
           86,
           87,
           88,
           89,
           90,
           91,
           92,
           93,
           94,
           95,
           96,
           97,
           98,
           99
          ],
          "colorbar": {
           "title": {
            "text": "Trial"
           },
           "x": 1,
           "xpad": 40
          },
          "colorscale": [
           [
            0,
            "rgb(247,251,255)"
           ],
           [
            0.125,
            "rgb(222,235,247)"
           ],
           [
            0.25,
            "rgb(198,219,239)"
           ],
           [
            0.375,
            "rgb(158,202,225)"
           ],
           [
            0.5,
            "rgb(107,174,214)"
           ],
           [
            0.625,
            "rgb(66,146,198)"
           ],
           [
            0.75,
            "rgb(33,113,181)"
           ],
           [
            0.875,
            "rgb(8,81,156)"
           ],
           [
            1,
            "rgb(8,48,107)"
           ]
          ],
          "line": {
           "color": "Grey",
           "width": 0.5
          },
          "showscale": true
         },
         "mode": "markers",
         "showlegend": false,
         "type": "scatter",
         "x": [
          5,
          5,
          2,
          9,
          7,
          6,
          10,
          7,
          9,
          10,
          3,
          5,
          4,
          7,
          1,
          6,
          4,
          8,
          8,
          8,
          4,
          6,
          6,
          8,
          5,
          7,
          3,
          3,
          3,
          1,
          5,
          2,
          2,
          2,
          2,
          3,
          4,
          1,
          9,
          9,
          10,
          9,
          9,
          9,
          9,
          10,
          8,
          10,
          7,
          9,
          8,
          10,
          9,
          10,
          9,
          10,
          8,
          10,
          8,
          7,
          8,
          9,
          6,
          9,
          8,
          5,
          9,
          7,
          8,
          10,
          9,
          9,
          9,
          10,
          8,
          9,
          5,
          10,
          8,
          8,
          7,
          4,
          9,
          8,
          8,
          6,
          9,
          9,
          8,
          7,
          10,
          9,
          9,
          9,
          10,
          9,
          10,
          9,
          9,
          4
         ],
         "xaxis": "x",
         "y": [
          8.585233033074145,
          6.618593669483881,
          7.729002147545588,
          7.453287904085061,
          6.887766974338823,
          6.795074677253929,
          7.90844943711807,
          6.908755853941913,
          6.921022812909283,
          13.841512769908556,
          6.8117460133373084,
          6.981201246209411,
          6.818525630049701,
          6.832556332139712,
          8.430571643181738,
          6.979135063046851,
          6.956236529867877,
          6.599394886762154,
          8.406950422480717,
          7.266823098840962,
          11.925298482021743,
          6.96561054208297,
          6.9429332533104215,
          6.959133443616567,
          7.964575044068963,
          6.815801292072273,
          6.671881060560426,
          7.646147403787222,
          7.6624150454747175,
          8.708227955210178,
          8.66674258217236,
          6.72411317175734,
          6.748722872287084,
          7.8531826497737764,
          9.460771081761246,
          6.941922662101007,
          7.216405004586652,
          8.57022760004778,
          6.16138370816904,
          9.60516791607654,
          7.017972862065542,
          6.640850624509698,
          7.713219893326127,
          6.492786820564281,
          10.051626422752918,
          6.945652088103281,
          7.295825720624886,
          6.81556255689501,
          8.869225358183682,
          12.163271432543343,
          6.745689398782036,
          6.64246398086282,
          7.094660598117216,
          6.582774692333775,
          7.628141333970418,
          10.368444606240724,
          6.815373873760449,
          7.986992462708582,
          6.627462023521828,
          6.682989805676676,
          8.559175843633275,
          7.211213195809447,
          7.321542595070055,
          6.588846670861879,
          7.024234465112119,
          7.515397508167222,
          6.708266025071973,
          6.66382503839976,
          7.391283589596038,
          7.051566361899401,
          7.370998759623221,
          6.947963177181552,
          7.068810960223108,
          7.263445589789916,
          7.005949083428422,
          7.15789438857747,
          7.084958189604117,
          6.876332674549545,
          6.580320620577788,
          6.7562629718977085,
          7.235049772447086,
          7.221052347750691,
          7.157780863809487,
          6.808101060600806,
          7.217140271784709,
          8.503983449642131,
          7.126390293845463,
          6.433846807545842,
          6.64645176318988,
          7.301109414249166,
          6.66350106253479,
          6.308989647949975,
          6.665481385609239,
          6.6920013351818435,
          8.01258529334201,
          6.615732926652282,
          6.997488803389456,
          6.645324265512597,
          6.957283794360092,
          6.576550046951129
         ],
         "yaxis": "y"
        },
        {
         "marker": {
          "color": [
           0,
           1,
           2,
           3,
           4,
           5,
           6,
           7,
           8,
           9,
           10,
           11,
           12,
           13,
           14,
           15,
           16,
           17,
           18,
           19,
           20,
           21,
           22,
           23,
           24,
           25,
           26,
           27,
           28,
           29,
           30,
           31,
           32,
           33,
           34,
           35,
           36,
           37,
           38,
           39,
           40,
           41,
           42,
           43,
           44,
           45,
           46,
           47,
           48,
           49,
           50,
           51,
           52,
           53,
           54,
           55,
           56,
           57,
           58,
           59,
           60,
           61,
           62,
           63,
           64,
           65,
           66,
           67,
           68,
           69,
           70,
           71,
           72,
           73,
           74,
           75,
           76,
           77,
           78,
           79,
           80,
           81,
           82,
           83,
           84,
           85,
           86,
           87,
           88,
           89,
           90,
           91,
           92,
           93,
           94,
           95,
           96,
           97,
           98,
           99
          ],
          "colorbar": {
           "title": {
            "text": "Trial"
           },
           "x": 1,
           "xpad": 40
          },
          "colorscale": [
           [
            0,
            "rgb(247,251,255)"
           ],
           [
            0.125,
            "rgb(222,235,247)"
           ],
           [
            0.25,
            "rgb(198,219,239)"
           ],
           [
            0.375,
            "rgb(158,202,225)"
           ],
           [
            0.5,
            "rgb(107,174,214)"
           ],
           [
            0.625,
            "rgb(66,146,198)"
           ],
           [
            0.75,
            "rgb(33,113,181)"
           ],
           [
            0.875,
            "rgb(8,81,156)"
           ],
           [
            1,
            "rgb(8,48,107)"
           ]
          ],
          "line": {
           "color": "Grey",
           "width": 0.5
          },
          "showscale": false
         },
         "mode": "markers",
         "showlegend": false,
         "type": "scatter",
         "x": [
          0.4013989012755729,
          0.44702597226093654,
          0.2348422161207379,
          0.5995316559891004,
          0.5168571625601595,
          0.3808027516424747,
          0.30191840830159195,
          0.4354438381832276,
          0.35386472050007467,
          0.7095012959991417,
          0.2108826496676009,
          0.3203415688148227,
          0.49175394637869163,
          0.2681459855693354,
          0.7887516870762818,
          0.3749189144410235,
          0.4907791267588383,
          0.5586170018880328,
          0.6001711724099198,
          0.5762782789998131,
          0.4396274674688022,
          0.4340122499072176,
          0.670087893263115,
          0.5318688040643682,
          0.3324263103771623,
          0.4006285877650944,
          0.27990987262531963,
          0.2801974824045272,
          0.24970399445385352,
          0.2071533476327387,
          0.4691586882647345,
          0.3788294226986846,
          0.2977276300587118,
          0.5518485968165537,
          0.6234369246742749,
          0.22649845425951956,
          0.35466104158978995,
          0.41688810647788116,
          0.4566626873377028,
          0.47253514112491374,
          0.5142977926155852,
          0.38204232987610165,
          0.455905289052174,
          0.4141572734251889,
          0.4149470234793615,
          0.35419768500124926,
          0.3922829293782359,
          0.6442402197305542,
          0.5052768869322142,
          0.5466223038624164,
          0.44889510397034976,
          0.3301181793574532,
          0.32839785214494066,
          0.3557250391285034,
          0.3625855513617516,
          0.4218058278410013,
          0.39580965661540085,
          0.5742808911649575,
          0.3072609332536895,
          0.30531717585775664,
          0.4917432340030627,
          0.342767360728064,
          0.3095890919721405,
          0.4333832950114248,
          0.4714978764718547,
          0.42526534297124013,
          0.7220926758066272,
          0.3691733908101926,
          0.28979439121120054,
          0.2640041660119855,
          0.4034323355527375,
          0.44248607387749755,
          0.3902298506549719,
          0.345665206416253,
          0.3724013309897641,
          0.3199482097685925,
          0.41030953202979964,
          0.4317746174342902,
          0.4573645058485396,
          0.4613086789148259,
          0.5341243158916451,
          0.4471748005498575,
          0.48809307381469913,
          0.5057238326175705,
          0.48133832632026236,
          0.3842108131624772,
          0.4135162081334625,
          0.43129455297287184,
          0.43308404180119137,
          0.5261139715008444,
          0.5756080830124146,
          0.4000580606180995,
          0.4572336064734494,
          0.43818774370819397,
          0.397812210271553,
          0.42555688144573245,
          0.40754813412109675,
          0.4697627715615094,
          0.41835992614351647,
          0.45496615783406313
         ],
         "xaxis": "x2",
         "y": [
          8.585233033074145,
          6.618593669483881,
          7.729002147545588,
          7.453287904085061,
          6.887766974338823,
          6.795074677253929,
          7.90844943711807,
          6.908755853941913,
          6.921022812909283,
          13.841512769908556,
          6.8117460133373084,
          6.981201246209411,
          6.818525630049701,
          6.832556332139712,
          8.430571643181738,
          6.979135063046851,
          6.956236529867877,
          6.599394886762154,
          8.406950422480717,
          7.266823098840962,
          11.925298482021743,
          6.96561054208297,
          6.9429332533104215,
          6.959133443616567,
          7.964575044068963,
          6.815801292072273,
          6.671881060560426,
          7.646147403787222,
          7.6624150454747175,
          8.708227955210178,
          8.66674258217236,
          6.72411317175734,
          6.748722872287084,
          7.8531826497737764,
          9.460771081761246,
          6.941922662101007,
          7.216405004586652,
          8.57022760004778,
          6.16138370816904,
          9.60516791607654,
          7.017972862065542,
          6.640850624509698,
          7.713219893326127,
          6.492786820564281,
          10.051626422752918,
          6.945652088103281,
          7.295825720624886,
          6.81556255689501,
          8.869225358183682,
          12.163271432543343,
          6.745689398782036,
          6.64246398086282,
          7.094660598117216,
          6.582774692333775,
          7.628141333970418,
          10.368444606240724,
          6.815373873760449,
          7.986992462708582,
          6.627462023521828,
          6.682989805676676,
          8.559175843633275,
          7.211213195809447,
          7.321542595070055,
          6.588846670861879,
          7.024234465112119,
          7.515397508167222,
          6.708266025071973,
          6.66382503839976,
          7.391283589596038,
          7.051566361899401,
          7.370998759623221,
          6.947963177181552,
          7.068810960223108,
          7.263445589789916,
          7.005949083428422,
          7.15789438857747,
          7.084958189604117,
          6.876332674549545,
          6.580320620577788,
          6.7562629718977085,
          7.235049772447086,
          7.221052347750691,
          7.157780863809487,
          6.808101060600806,
          7.217140271784709,
          8.503983449642131,
          7.126390293845463,
          6.433846807545842,
          6.64645176318988,
          7.301109414249166,
          6.66350106253479,
          6.308989647949975,
          6.665481385609239,
          6.6920013351818435,
          8.01258529334201,
          6.615732926652282,
          6.997488803389456,
          6.645324265512597,
          6.957283794360092,
          6.576550046951129
         ],
         "yaxis": "y2"
        },
        {
         "marker": {
          "color": [
           0,
           1,
           2,
           3,
           4,
           5,
           6,
           7,
           8,
           9,
           10,
           11,
           12,
           13,
           14,
           15,
           16,
           17,
           18,
           19,
           20,
           21,
           22,
           23,
           24,
           25,
           26,
           27,
           28,
           29,
           30,
           31,
           32,
           33,
           34,
           35,
           36,
           37,
           38,
           39,
           40,
           41,
           42,
           43,
           44,
           45,
           46,
           47,
           48,
           49,
           50,
           51,
           52,
           53,
           54,
           55,
           56,
           57,
           58,
           59,
           60,
           61,
           62,
           63,
           64,
           65,
           66,
           67,
           68,
           69,
           70,
           71,
           72,
           73,
           74,
           75,
           76,
           77,
           78,
           79,
           80,
           81,
           82,
           83,
           84,
           85,
           86,
           87,
           88,
           89,
           90,
           91,
           92,
           93,
           94,
           95,
           96,
           97,
           98,
           99
          ],
          "colorbar": {
           "title": {
            "text": "Trial"
           },
           "x": 1,
           "xpad": 40
          },
          "colorscale": [
           [
            0,
            "rgb(247,251,255)"
           ],
           [
            0.125,
            "rgb(222,235,247)"
           ],
           [
            0.25,
            "rgb(198,219,239)"
           ],
           [
            0.375,
            "rgb(158,202,225)"
           ],
           [
            0.5,
            "rgb(107,174,214)"
           ],
           [
            0.625,
            "rgb(66,146,198)"
           ],
           [
            0.75,
            "rgb(33,113,181)"
           ],
           [
            0.875,
            "rgb(8,81,156)"
           ],
           [
            1,
            "rgb(8,48,107)"
           ]
          ],
          "line": {
           "color": "Grey",
           "width": 0.5
          },
          "showscale": false
         },
         "mode": "markers",
         "showlegend": false,
         "type": "scatter",
         "x": [
          20,
          20,
          25,
          15,
          25,
          50,
          50,
          10,
          20,
          5,
          40,
          35,
          50,
          35,
          40,
          30,
          45,
          15,
          10,
          15,
          5,
          20,
          30,
          15,
          10,
          25,
          15,
          15,
          20,
          10,
          20,
          20,
          25,
          20,
          15,
          25,
          15,
          20,
          10,
          5,
          10,
          15,
          10,
          15,
          5,
          15,
          10,
          15,
          10,
          5,
          25,
          15,
          15,
          10,
          10,
          5,
          20,
          10,
          15,
          20,
          10,
          15,
          15,
          30,
          30,
          35,
          30,
          35,
          25,
          30,
          45,
          15,
          10,
          20,
          15,
          15,
          20,
          10,
          40,
          40,
          45,
          45,
          15,
          40,
          35,
          10,
          50,
          20,
          20,
          25,
          25,
          20,
          20,
          20,
          5,
          20,
          25,
          20,
          20,
          25
         ],
         "xaxis": "x3",
         "y": [
          8.585233033074145,
          6.618593669483881,
          7.729002147545588,
          7.453287904085061,
          6.887766974338823,
          6.795074677253929,
          7.90844943711807,
          6.908755853941913,
          6.921022812909283,
          13.841512769908556,
          6.8117460133373084,
          6.981201246209411,
          6.818525630049701,
          6.832556332139712,
          8.430571643181738,
          6.979135063046851,
          6.956236529867877,
          6.599394886762154,
          8.406950422480717,
          7.266823098840962,
          11.925298482021743,
          6.96561054208297,
          6.9429332533104215,
          6.959133443616567,
          7.964575044068963,
          6.815801292072273,
          6.671881060560426,
          7.646147403787222,
          7.6624150454747175,
          8.708227955210178,
          8.66674258217236,
          6.72411317175734,
          6.748722872287084,
          7.8531826497737764,
          9.460771081761246,
          6.941922662101007,
          7.216405004586652,
          8.57022760004778,
          6.16138370816904,
          9.60516791607654,
          7.017972862065542,
          6.640850624509698,
          7.713219893326127,
          6.492786820564281,
          10.051626422752918,
          6.945652088103281,
          7.295825720624886,
          6.81556255689501,
          8.869225358183682,
          12.163271432543343,
          6.745689398782036,
          6.64246398086282,
          7.094660598117216,
          6.582774692333775,
          7.628141333970418,
          10.368444606240724,
          6.815373873760449,
          7.986992462708582,
          6.627462023521828,
          6.682989805676676,
          8.559175843633275,
          7.211213195809447,
          7.321542595070055,
          6.588846670861879,
          7.024234465112119,
          7.515397508167222,
          6.708266025071973,
          6.66382503839976,
          7.391283589596038,
          7.051566361899401,
          7.370998759623221,
          6.947963177181552,
          7.068810960223108,
          7.263445589789916,
          7.005949083428422,
          7.15789438857747,
          7.084958189604117,
          6.876332674549545,
          6.580320620577788,
          6.7562629718977085,
          7.235049772447086,
          7.221052347750691,
          7.157780863809487,
          6.808101060600806,
          7.217140271784709,
          8.503983449642131,
          7.126390293845463,
          6.433846807545842,
          6.64645176318988,
          7.301109414249166,
          6.66350106253479,
          6.308989647949975,
          6.665481385609239,
          6.6920013351818435,
          8.01258529334201,
          6.615732926652282,
          6.997488803389456,
          6.645324265512597,
          6.957283794360092,
          6.576550046951129
         ],
         "yaxis": "y3"
        },
        {
         "marker": {
          "color": [
           0,
           1,
           2,
           3,
           4,
           5,
           6,
           7,
           8,
           9,
           10,
           11,
           12,
           13,
           14,
           15,
           16,
           17,
           18,
           19,
           20,
           21,
           22,
           23,
           24,
           25,
           26,
           27,
           28,
           29,
           30,
           31,
           32,
           33,
           34,
           35,
           36,
           37,
           38,
           39,
           40,
           41,
           42,
           43,
           44,
           45,
           46,
           47,
           48,
           49,
           50,
           51,
           52,
           53,
           54,
           55,
           56,
           57,
           58,
           59,
           60,
           61,
           62,
           63,
           64,
           65,
           66,
           67,
           68,
           69,
           70,
           71,
           72,
           73,
           74,
           75,
           76,
           77,
           78,
           79,
           80,
           81,
           82,
           83,
           84,
           85,
           86,
           87,
           88,
           89,
           90,
           91,
           92,
           93,
           94,
           95,
           96,
           97,
           98,
           99
          ],
          "colorbar": {
           "title": {
            "text": "Trial"
           },
           "x": 1,
           "xpad": 40
          },
          "colorscale": [
           [
            0,
            "rgb(247,251,255)"
           ],
           [
            0.125,
            "rgb(222,235,247)"
           ],
           [
            0.25,
            "rgb(198,219,239)"
           ],
           [
            0.375,
            "rgb(158,202,225)"
           ],
           [
            0.5,
            "rgb(107,174,214)"
           ],
           [
            0.625,
            "rgb(66,146,198)"
           ],
           [
            0.75,
            "rgb(33,113,181)"
           ],
           [
            0.875,
            "rgb(8,81,156)"
           ],
           [
            1,
            "rgb(8,48,107)"
           ]
          ],
          "line": {
           "color": "Grey",
           "width": 0.5
          },
          "showscale": false
         },
         "mode": "markers",
         "showlegend": false,
         "type": "scatter",
         "x": [
          1,
          3,
          2,
          6,
          1,
          6,
          5,
          9,
          10,
          8,
          4,
          3,
          7,
          4,
          6,
          3,
          5,
          7,
          8,
          7,
          4,
          7,
          6,
          8,
          5,
          3,
          9,
          10,
          9,
          9,
          1,
          7,
          7,
          8,
          9,
          2,
          7,
          6,
          8,
          10,
          8,
          8,
          9,
          8,
          8,
          6,
          8,
          7,
          1,
          2,
          8,
          9,
          10,
          9,
          8,
          7,
          9,
          8,
          6,
          6,
          5,
          7,
          4,
          7,
          5,
          6,
          7,
          6,
          7,
          5,
          3,
          8,
          8,
          9,
          7,
          7,
          9,
          8,
          6,
          6,
          6,
          7,
          8,
          6,
          5,
          4,
          7,
          8,
          9,
          10,
          6,
          8,
          8,
          8,
          9,
          7,
          7,
          7,
          8,
          8
         ],
         "xaxis": "x4",
         "y": [
          8.585233033074145,
          6.618593669483881,
          7.729002147545588,
          7.453287904085061,
          6.887766974338823,
          6.795074677253929,
          7.90844943711807,
          6.908755853941913,
          6.921022812909283,
          13.841512769908556,
          6.8117460133373084,
          6.981201246209411,
          6.818525630049701,
          6.832556332139712,
          8.430571643181738,
          6.979135063046851,
          6.956236529867877,
          6.599394886762154,
          8.406950422480717,
          7.266823098840962,
          11.925298482021743,
          6.96561054208297,
          6.9429332533104215,
          6.959133443616567,
          7.964575044068963,
          6.815801292072273,
          6.671881060560426,
          7.646147403787222,
          7.6624150454747175,
          8.708227955210178,
          8.66674258217236,
          6.72411317175734,
          6.748722872287084,
          7.8531826497737764,
          9.460771081761246,
          6.941922662101007,
          7.216405004586652,
          8.57022760004778,
          6.16138370816904,
          9.60516791607654,
          7.017972862065542,
          6.640850624509698,
          7.713219893326127,
          6.492786820564281,
          10.051626422752918,
          6.945652088103281,
          7.295825720624886,
          6.81556255689501,
          8.869225358183682,
          12.163271432543343,
          6.745689398782036,
          6.64246398086282,
          7.094660598117216,
          6.582774692333775,
          7.628141333970418,
          10.368444606240724,
          6.815373873760449,
          7.986992462708582,
          6.627462023521828,
          6.682989805676676,
          8.559175843633275,
          7.211213195809447,
          7.321542595070055,
          6.588846670861879,
          7.024234465112119,
          7.515397508167222,
          6.708266025071973,
          6.66382503839976,
          7.391283589596038,
          7.051566361899401,
          7.370998759623221,
          6.947963177181552,
          7.068810960223108,
          7.263445589789916,
          7.005949083428422,
          7.15789438857747,
          7.084958189604117,
          6.876332674549545,
          6.580320620577788,
          6.7562629718977085,
          7.235049772447086,
          7.221052347750691,
          7.157780863809487,
          6.808101060600806,
          7.217140271784709,
          8.503983449642131,
          7.126390293845463,
          6.433846807545842,
          6.64645176318988,
          7.301109414249166,
          6.66350106253479,
          6.308989647949975,
          6.665481385609239,
          6.6920013351818435,
          8.01258529334201,
          6.615732926652282,
          6.997488803389456,
          6.645324265512597,
          6.957283794360092,
          6.576550046951129
         ],
         "yaxis": "y4"
        }
       ],
       "layout": {
        "template": {
         "data": {
          "bar": [
           {
            "error_x": {
             "color": "#2a3f5f"
            },
            "error_y": {
             "color": "#2a3f5f"
            },
            "marker": {
             "line": {
              "color": "#E5ECF6",
              "width": 0.5
             },
             "pattern": {
              "fillmode": "overlay",
              "size": 10,
              "solidity": 0.2
             }
            },
            "type": "bar"
           }
          ],
          "barpolar": [
           {
            "marker": {
             "line": {
              "color": "#E5ECF6",
              "width": 0.5
             },
             "pattern": {
              "fillmode": "overlay",
              "size": 10,
              "solidity": 0.2
             }
            },
            "type": "barpolar"
           }
          ],
          "carpet": [
           {
            "aaxis": {
             "endlinecolor": "#2a3f5f",
             "gridcolor": "white",
             "linecolor": "white",
             "minorgridcolor": "white",
             "startlinecolor": "#2a3f5f"
            },
            "baxis": {
             "endlinecolor": "#2a3f5f",
             "gridcolor": "white",
             "linecolor": "white",
             "minorgridcolor": "white",
             "startlinecolor": "#2a3f5f"
            },
            "type": "carpet"
           }
          ],
          "choropleth": [
           {
            "colorbar": {
             "outlinewidth": 0,
             "ticks": ""
            },
            "type": "choropleth"
           }
          ],
          "contour": [
           {
            "colorbar": {
             "outlinewidth": 0,
             "ticks": ""
            },
            "colorscale": [
             [
              0,
              "#0d0887"
             ],
             [
              0.1111111111111111,
              "#46039f"
             ],
             [
              0.2222222222222222,
              "#7201a8"
             ],
             [
              0.3333333333333333,
              "#9c179e"
             ],
             [
              0.4444444444444444,
              "#bd3786"
             ],
             [
              0.5555555555555556,
              "#d8576b"
             ],
             [
              0.6666666666666666,
              "#ed7953"
             ],
             [
              0.7777777777777778,
              "#fb9f3a"
             ],
             [
              0.8888888888888888,
              "#fdca26"
             ],
             [
              1,
              "#f0f921"
             ]
            ],
            "type": "contour"
           }
          ],
          "contourcarpet": [
           {
            "colorbar": {
             "outlinewidth": 0,
             "ticks": ""
            },
            "type": "contourcarpet"
           }
          ],
          "heatmap": [
           {
            "colorbar": {
             "outlinewidth": 0,
             "ticks": ""
            },
            "colorscale": [
             [
              0,
              "#0d0887"
             ],
             [
              0.1111111111111111,
              "#46039f"
             ],
             [
              0.2222222222222222,
              "#7201a8"
             ],
             [
              0.3333333333333333,
              "#9c179e"
             ],
             [
              0.4444444444444444,
              "#bd3786"
             ],
             [
              0.5555555555555556,
              "#d8576b"
             ],
             [
              0.6666666666666666,
              "#ed7953"
             ],
             [
              0.7777777777777778,
              "#fb9f3a"
             ],
             [
              0.8888888888888888,
              "#fdca26"
             ],
             [
              1,
              "#f0f921"
             ]
            ],
            "type": "heatmap"
           }
          ],
          "heatmapgl": [
           {
            "colorbar": {
             "outlinewidth": 0,
             "ticks": ""
            },
            "colorscale": [
             [
              0,
              "#0d0887"
             ],
             [
              0.1111111111111111,
              "#46039f"
             ],
             [
              0.2222222222222222,
              "#7201a8"
             ],
             [
              0.3333333333333333,
              "#9c179e"
             ],
             [
              0.4444444444444444,
              "#bd3786"
             ],
             [
              0.5555555555555556,
              "#d8576b"
             ],
             [
              0.6666666666666666,
              "#ed7953"
             ],
             [
              0.7777777777777778,
              "#fb9f3a"
             ],
             [
              0.8888888888888888,
              "#fdca26"
             ],
             [
              1,
              "#f0f921"
             ]
            ],
            "type": "heatmapgl"
           }
          ],
          "histogram": [
           {
            "marker": {
             "pattern": {
              "fillmode": "overlay",
              "size": 10,
              "solidity": 0.2
             }
            },
            "type": "histogram"
           }
          ],
          "histogram2d": [
           {
            "colorbar": {
             "outlinewidth": 0,
             "ticks": ""
            },
            "colorscale": [
             [
              0,
              "#0d0887"
             ],
             [
              0.1111111111111111,
              "#46039f"
             ],
             [
              0.2222222222222222,
              "#7201a8"
             ],
             [
              0.3333333333333333,
              "#9c179e"
             ],
             [
              0.4444444444444444,
              "#bd3786"
             ],
             [
              0.5555555555555556,
              "#d8576b"
             ],
             [
              0.6666666666666666,
              "#ed7953"
             ],
             [
              0.7777777777777778,
              "#fb9f3a"
             ],
             [
              0.8888888888888888,
              "#fdca26"
             ],
             [
              1,
              "#f0f921"
             ]
            ],
            "type": "histogram2d"
           }
          ],
          "histogram2dcontour": [
           {
            "colorbar": {
             "outlinewidth": 0,
             "ticks": ""
            },
            "colorscale": [
             [
              0,
              "#0d0887"
             ],
             [
              0.1111111111111111,
              "#46039f"
             ],
             [
              0.2222222222222222,
              "#7201a8"
             ],
             [
              0.3333333333333333,
              "#9c179e"
             ],
             [
              0.4444444444444444,
              "#bd3786"
             ],
             [
              0.5555555555555556,
              "#d8576b"
             ],
             [
              0.6666666666666666,
              "#ed7953"
             ],
             [
              0.7777777777777778,
              "#fb9f3a"
             ],
             [
              0.8888888888888888,
              "#fdca26"
             ],
             [
              1,
              "#f0f921"
             ]
            ],
            "type": "histogram2dcontour"
           }
          ],
          "mesh3d": [
           {
            "colorbar": {
             "outlinewidth": 0,
             "ticks": ""
            },
            "type": "mesh3d"
           }
          ],
          "parcoords": [
           {
            "line": {
             "colorbar": {
              "outlinewidth": 0,
              "ticks": ""
             }
            },
            "type": "parcoords"
           }
          ],
          "pie": [
           {
            "automargin": true,
            "type": "pie"
           }
          ],
          "scatter": [
           {
            "marker": {
             "colorbar": {
              "outlinewidth": 0,
              "ticks": ""
             }
            },
            "type": "scatter"
           }
          ],
          "scatter3d": [
           {
            "line": {
             "colorbar": {
              "outlinewidth": 0,
              "ticks": ""
             }
            },
            "marker": {
             "colorbar": {
              "outlinewidth": 0,
              "ticks": ""
             }
            },
            "type": "scatter3d"
           }
          ],
          "scattercarpet": [
           {
            "marker": {
             "colorbar": {
              "outlinewidth": 0,
              "ticks": ""
             }
            },
            "type": "scattercarpet"
           }
          ],
          "scattergeo": [
           {
            "marker": {
             "colorbar": {
              "outlinewidth": 0,
              "ticks": ""
             }
            },
            "type": "scattergeo"
           }
          ],
          "scattergl": [
           {
            "marker": {
             "colorbar": {
              "outlinewidth": 0,
              "ticks": ""
             }
            },
            "type": "scattergl"
           }
          ],
          "scattermapbox": [
           {
            "marker": {
             "colorbar": {
              "outlinewidth": 0,
              "ticks": ""
             }
            },
            "type": "scattermapbox"
           }
          ],
          "scatterpolar": [
           {
            "marker": {
             "colorbar": {
              "outlinewidth": 0,
              "ticks": ""
             }
            },
            "type": "scatterpolar"
           }
          ],
          "scatterpolargl": [
           {
            "marker": {
             "colorbar": {
              "outlinewidth": 0,
              "ticks": ""
             }
            },
            "type": "scatterpolargl"
           }
          ],
          "scatterternary": [
           {
            "marker": {
             "colorbar": {
              "outlinewidth": 0,
              "ticks": ""
             }
            },
            "type": "scatterternary"
           }
          ],
          "surface": [
           {
            "colorbar": {
             "outlinewidth": 0,
             "ticks": ""
            },
            "colorscale": [
             [
              0,
              "#0d0887"
             ],
             [
              0.1111111111111111,
              "#46039f"
             ],
             [
              0.2222222222222222,
              "#7201a8"
             ],
             [
              0.3333333333333333,
              "#9c179e"
             ],
             [
              0.4444444444444444,
              "#bd3786"
             ],
             [
              0.5555555555555556,
              "#d8576b"
             ],
             [
              0.6666666666666666,
              "#ed7953"
             ],
             [
              0.7777777777777778,
              "#fb9f3a"
             ],
             [
              0.8888888888888888,
              "#fdca26"
             ],
             [
              1,
              "#f0f921"
             ]
            ],
            "type": "surface"
           }
          ],
          "table": [
           {
            "cells": {
             "fill": {
              "color": "#EBF0F8"
             },
             "line": {
              "color": "white"
             }
            },
            "header": {
             "fill": {
              "color": "#C8D4E3"
             },
             "line": {
              "color": "white"
             }
            },
            "type": "table"
           }
          ]
         },
         "layout": {
          "annotationdefaults": {
           "arrowcolor": "#2a3f5f",
           "arrowhead": 0,
           "arrowwidth": 1
          },
          "autotypenumbers": "strict",
          "coloraxis": {
           "colorbar": {
            "outlinewidth": 0,
            "ticks": ""
           }
          },
          "colorscale": {
           "diverging": [
            [
             0,
             "#8e0152"
            ],
            [
             0.1,
             "#c51b7d"
            ],
            [
             0.2,
             "#de77ae"
            ],
            [
             0.3,
             "#f1b6da"
            ],
            [
             0.4,
             "#fde0ef"
            ],
            [
             0.5,
             "#f7f7f7"
            ],
            [
             0.6,
             "#e6f5d0"
            ],
            [
             0.7,
             "#b8e186"
            ],
            [
             0.8,
             "#7fbc41"
            ],
            [
             0.9,
             "#4d9221"
            ],
            [
             1,
             "#276419"
            ]
           ],
           "sequential": [
            [
             0,
             "#0d0887"
            ],
            [
             0.1111111111111111,
             "#46039f"
            ],
            [
             0.2222222222222222,
             "#7201a8"
            ],
            [
             0.3333333333333333,
             "#9c179e"
            ],
            [
             0.4444444444444444,
             "#bd3786"
            ],
            [
             0.5555555555555556,
             "#d8576b"
            ],
            [
             0.6666666666666666,
             "#ed7953"
            ],
            [
             0.7777777777777778,
             "#fb9f3a"
            ],
            [
             0.8888888888888888,
             "#fdca26"
            ],
            [
             1,
             "#f0f921"
            ]
           ],
           "sequentialminus": [
            [
             0,
             "#0d0887"
            ],
            [
             0.1111111111111111,
             "#46039f"
            ],
            [
             0.2222222222222222,
             "#7201a8"
            ],
            [
             0.3333333333333333,
             "#9c179e"
            ],
            [
             0.4444444444444444,
             "#bd3786"
            ],
            [
             0.5555555555555556,
             "#d8576b"
            ],
            [
             0.6666666666666666,
             "#ed7953"
            ],
            [
             0.7777777777777778,
             "#fb9f3a"
            ],
            [
             0.8888888888888888,
             "#fdca26"
            ],
            [
             1,
             "#f0f921"
            ]
           ]
          },
          "colorway": [
           "#636efa",
           "#EF553B",
           "#00cc96",
           "#ab63fa",
           "#FFA15A",
           "#19d3f3",
           "#FF6692",
           "#B6E880",
           "#FF97FF",
           "#FECB52"
          ],
          "font": {
           "color": "#2a3f5f"
          },
          "geo": {
           "bgcolor": "white",
           "lakecolor": "white",
           "landcolor": "#E5ECF6",
           "showlakes": true,
           "showland": true,
           "subunitcolor": "white"
          },
          "hoverlabel": {
           "align": "left"
          },
          "hovermode": "closest",
          "mapbox": {
           "style": "light"
          },
          "paper_bgcolor": "white",
          "plot_bgcolor": "#E5ECF6",
          "polar": {
           "angularaxis": {
            "gridcolor": "white",
            "linecolor": "white",
            "ticks": ""
           },
           "bgcolor": "#E5ECF6",
           "radialaxis": {
            "gridcolor": "white",
            "linecolor": "white",
            "ticks": ""
           }
          },
          "scene": {
           "xaxis": {
            "backgroundcolor": "#E5ECF6",
            "gridcolor": "white",
            "gridwidth": 2,
            "linecolor": "white",
            "showbackground": true,
            "ticks": "",
            "zerolinecolor": "white"
           },
           "yaxis": {
            "backgroundcolor": "#E5ECF6",
            "gridcolor": "white",
            "gridwidth": 2,
            "linecolor": "white",
            "showbackground": true,
            "ticks": "",
            "zerolinecolor": "white"
           },
           "zaxis": {
            "backgroundcolor": "#E5ECF6",
            "gridcolor": "white",
            "gridwidth": 2,
            "linecolor": "white",
            "showbackground": true,
            "ticks": "",
            "zerolinecolor": "white"
           }
          },
          "shapedefaults": {
           "line": {
            "color": "#2a3f5f"
           }
          },
          "ternary": {
           "aaxis": {
            "gridcolor": "white",
            "linecolor": "white",
            "ticks": ""
           },
           "baxis": {
            "gridcolor": "white",
            "linecolor": "white",
            "ticks": ""
           },
           "bgcolor": "#E5ECF6",
           "caxis": {
            "gridcolor": "white",
            "linecolor": "white",
            "ticks": ""
           }
          },
          "title": {
           "x": 0.05
          },
          "xaxis": {
           "automargin": true,
           "gridcolor": "white",
           "linecolor": "white",
           "ticks": "",
           "title": {
            "standoff": 15
           },
           "zerolinecolor": "white",
           "zerolinewidth": 2
          },
          "yaxis": {
           "automargin": true,
           "gridcolor": "white",
           "linecolor": "white",
           "ticks": "",
           "title": {
            "standoff": 15
           },
           "zerolinecolor": "white",
           "zerolinewidth": 2
          }
         }
        },
        "title": {
         "text": "Slice Plot"
        },
        "width": 1200,
        "xaxis": {
         "anchor": "y",
         "domain": [
          0,
          0.2125
         ],
         "title": {
          "text": "CHILDREN"
         }
        },
        "xaxis2": {
         "anchor": "y2",
         "domain": [
          0.2625,
          0.475
         ],
         "title": {
          "text": "MUTATION"
         },
         "type": "log"
        },
        "xaxis3": {
         "anchor": "y3",
         "domain": [
          0.525,
          0.7375
         ],
         "title": {
          "text": "N_MUTATION"
         }
        },
        "xaxis4": {
         "anchor": "y4",
         "domain": [
          0.7875,
          1
         ],
         "title": {
          "text": "POPULATION"
         }
        },
        "yaxis": {
         "anchor": "x",
         "domain": [
          0,
          1
         ],
         "title": {
          "text": "distance"
         }
        },
        "yaxis2": {
         "anchor": "x2",
         "domain": [
          0,
          1
         ],
         "matches": "y",
         "showticklabels": false
        },
        "yaxis3": {
         "anchor": "x3",
         "domain": [
          0,
          1
         ],
         "matches": "y",
         "showticklabels": false
        },
        "yaxis4": {
         "anchor": "x4",
         "domain": [
          0,
          1
         ],
         "matches": "y",
         "showticklabels": false
        }
       }
      },
      "text/html": [
       "<div>                            <div id=\"08347358-ce46-4f98-844b-c8c5bb0d98ec\" class=\"plotly-graph-div\" style=\"height:525px; width:1200px;\"></div>            <script type=\"text/javascript\">                require([\"plotly\"], function(Plotly) {                    window.PLOTLYENV=window.PLOTLYENV || {};                                    if (document.getElementById(\"08347358-ce46-4f98-844b-c8c5bb0d98ec\")) {                    Plotly.newPlot(                        \"08347358-ce46-4f98-844b-c8c5bb0d98ec\",                        [{\"marker\":{\"color\":[0,1,2,3,4,5,6,7,8,9,10,11,12,13,14,15,16,17,18,19,20,21,22,23,24,25,26,27,28,29,30,31,32,33,34,35,36,37,38,39,40,41,42,43,44,45,46,47,48,49,50,51,52,53,54,55,56,57,58,59,60,61,62,63,64,65,66,67,68,69,70,71,72,73,74,75,76,77,78,79,80,81,82,83,84,85,86,87,88,89,90,91,92,93,94,95,96,97,98,99],\"colorbar\":{\"title\":{\"text\":\"Trial\"},\"x\":1.0,\"xpad\":40},\"colorscale\":[[0.0,\"rgb(247,251,255)\"],[0.125,\"rgb(222,235,247)\"],[0.25,\"rgb(198,219,239)\"],[0.375,\"rgb(158,202,225)\"],[0.5,\"rgb(107,174,214)\"],[0.625,\"rgb(66,146,198)\"],[0.75,\"rgb(33,113,181)\"],[0.875,\"rgb(8,81,156)\"],[1.0,\"rgb(8,48,107)\"]],\"line\":{\"color\":\"Grey\",\"width\":0.5},\"showscale\":true},\"mode\":\"markers\",\"showlegend\":false,\"x\":[5,5,2,9,7,6,10,7,9,10,3,5,4,7,1,6,4,8,8,8,4,6,6,8,5,7,3,3,3,1,5,2,2,2,2,3,4,1,9,9,10,9,9,9,9,10,8,10,7,9,8,10,9,10,9,10,8,10,8,7,8,9,6,9,8,5,9,7,8,10,9,9,9,10,8,9,5,10,8,8,7,4,9,8,8,6,9,9,8,7,10,9,9,9,10,9,10,9,9,4],\"y\":[8.585233033074145,6.618593669483881,7.729002147545588,7.453287904085061,6.887766974338823,6.795074677253929,7.90844943711807,6.908755853941913,6.921022812909283,13.841512769908556,6.8117460133373084,6.981201246209411,6.818525630049701,6.832556332139712,8.430571643181738,6.979135063046851,6.956236529867877,6.599394886762154,8.406950422480717,7.266823098840962,11.925298482021743,6.96561054208297,6.9429332533104215,6.959133443616567,7.964575044068963,6.815801292072273,6.671881060560426,7.646147403787222,7.6624150454747175,8.708227955210178,8.66674258217236,6.72411317175734,6.748722872287084,7.8531826497737764,9.460771081761246,6.941922662101007,7.216405004586652,8.57022760004778,6.16138370816904,9.60516791607654,7.017972862065542,6.640850624509698,7.713219893326127,6.492786820564281,10.051626422752918,6.945652088103281,7.295825720624886,6.81556255689501,8.869225358183682,12.163271432543343,6.745689398782036,6.64246398086282,7.094660598117216,6.582774692333775,7.628141333970418,10.368444606240724,6.815373873760449,7.986992462708582,6.627462023521828,6.682989805676676,8.559175843633275,7.211213195809447,7.321542595070055,6.588846670861879,7.024234465112119,7.515397508167222,6.708266025071973,6.66382503839976,7.391283589596038,7.051566361899401,7.370998759623221,6.947963177181552,7.068810960223108,7.263445589789916,7.005949083428422,7.15789438857747,7.084958189604117,6.876332674549545,6.580320620577788,6.7562629718977085,7.235049772447086,7.221052347750691,7.157780863809487,6.808101060600806,7.217140271784709,8.503983449642131,7.126390293845463,6.433846807545842,6.64645176318988,7.301109414249166,6.66350106253479,6.308989647949975,6.665481385609239,6.6920013351818435,8.01258529334201,6.615732926652282,6.997488803389456,6.645324265512597,6.957283794360092,6.576550046951129],\"type\":\"scatter\",\"xaxis\":\"x\",\"yaxis\":\"y\"},{\"marker\":{\"color\":[0,1,2,3,4,5,6,7,8,9,10,11,12,13,14,15,16,17,18,19,20,21,22,23,24,25,26,27,28,29,30,31,32,33,34,35,36,37,38,39,40,41,42,43,44,45,46,47,48,49,50,51,52,53,54,55,56,57,58,59,60,61,62,63,64,65,66,67,68,69,70,71,72,73,74,75,76,77,78,79,80,81,82,83,84,85,86,87,88,89,90,91,92,93,94,95,96,97,98,99],\"colorbar\":{\"title\":{\"text\":\"Trial\"},\"x\":1.0,\"xpad\":40},\"colorscale\":[[0.0,\"rgb(247,251,255)\"],[0.125,\"rgb(222,235,247)\"],[0.25,\"rgb(198,219,239)\"],[0.375,\"rgb(158,202,225)\"],[0.5,\"rgb(107,174,214)\"],[0.625,\"rgb(66,146,198)\"],[0.75,\"rgb(33,113,181)\"],[0.875,\"rgb(8,81,156)\"],[1.0,\"rgb(8,48,107)\"]],\"line\":{\"color\":\"Grey\",\"width\":0.5},\"showscale\":false},\"mode\":\"markers\",\"showlegend\":false,\"x\":[0.4013989012755729,0.44702597226093654,0.2348422161207379,0.5995316559891004,0.5168571625601595,0.3808027516424747,0.30191840830159195,0.4354438381832276,0.35386472050007467,0.7095012959991417,0.2108826496676009,0.3203415688148227,0.49175394637869163,0.2681459855693354,0.7887516870762818,0.3749189144410235,0.4907791267588383,0.5586170018880328,0.6001711724099198,0.5762782789998131,0.4396274674688022,0.4340122499072176,0.670087893263115,0.5318688040643682,0.3324263103771623,0.4006285877650944,0.27990987262531963,0.2801974824045272,0.24970399445385352,0.2071533476327387,0.4691586882647345,0.3788294226986846,0.2977276300587118,0.5518485968165537,0.6234369246742749,0.22649845425951956,0.35466104158978995,0.41688810647788116,0.4566626873377028,0.47253514112491374,0.5142977926155852,0.38204232987610165,0.455905289052174,0.4141572734251889,0.4149470234793615,0.35419768500124926,0.3922829293782359,0.6442402197305542,0.5052768869322142,0.5466223038624164,0.44889510397034976,0.3301181793574532,0.32839785214494066,0.3557250391285034,0.3625855513617516,0.4218058278410013,0.39580965661540085,0.5742808911649575,0.3072609332536895,0.30531717585775664,0.4917432340030627,0.342767360728064,0.3095890919721405,0.4333832950114248,0.4714978764718547,0.42526534297124013,0.7220926758066272,0.3691733908101926,0.28979439121120054,0.2640041660119855,0.4034323355527375,0.44248607387749755,0.3902298506549719,0.345665206416253,0.3724013309897641,0.3199482097685925,0.41030953202979964,0.4317746174342902,0.4573645058485396,0.4613086789148259,0.5341243158916451,0.4471748005498575,0.48809307381469913,0.5057238326175705,0.48133832632026236,0.3842108131624772,0.4135162081334625,0.43129455297287184,0.43308404180119137,0.5261139715008444,0.5756080830124146,0.4000580606180995,0.4572336064734494,0.43818774370819397,0.397812210271553,0.42555688144573245,0.40754813412109675,0.4697627715615094,0.41835992614351647,0.45496615783406313],\"y\":[8.585233033074145,6.618593669483881,7.729002147545588,7.453287904085061,6.887766974338823,6.795074677253929,7.90844943711807,6.908755853941913,6.921022812909283,13.841512769908556,6.8117460133373084,6.981201246209411,6.818525630049701,6.832556332139712,8.430571643181738,6.979135063046851,6.956236529867877,6.599394886762154,8.406950422480717,7.266823098840962,11.925298482021743,6.96561054208297,6.9429332533104215,6.959133443616567,7.964575044068963,6.815801292072273,6.671881060560426,7.646147403787222,7.6624150454747175,8.708227955210178,8.66674258217236,6.72411317175734,6.748722872287084,7.8531826497737764,9.460771081761246,6.941922662101007,7.216405004586652,8.57022760004778,6.16138370816904,9.60516791607654,7.017972862065542,6.640850624509698,7.713219893326127,6.492786820564281,10.051626422752918,6.945652088103281,7.295825720624886,6.81556255689501,8.869225358183682,12.163271432543343,6.745689398782036,6.64246398086282,7.094660598117216,6.582774692333775,7.628141333970418,10.368444606240724,6.815373873760449,7.986992462708582,6.627462023521828,6.682989805676676,8.559175843633275,7.211213195809447,7.321542595070055,6.588846670861879,7.024234465112119,7.515397508167222,6.708266025071973,6.66382503839976,7.391283589596038,7.051566361899401,7.370998759623221,6.947963177181552,7.068810960223108,7.263445589789916,7.005949083428422,7.15789438857747,7.084958189604117,6.876332674549545,6.580320620577788,6.7562629718977085,7.235049772447086,7.221052347750691,7.157780863809487,6.808101060600806,7.217140271784709,8.503983449642131,7.126390293845463,6.433846807545842,6.64645176318988,7.301109414249166,6.66350106253479,6.308989647949975,6.665481385609239,6.6920013351818435,8.01258529334201,6.615732926652282,6.997488803389456,6.645324265512597,6.957283794360092,6.576550046951129],\"type\":\"scatter\",\"xaxis\":\"x2\",\"yaxis\":\"y2\"},{\"marker\":{\"color\":[0,1,2,3,4,5,6,7,8,9,10,11,12,13,14,15,16,17,18,19,20,21,22,23,24,25,26,27,28,29,30,31,32,33,34,35,36,37,38,39,40,41,42,43,44,45,46,47,48,49,50,51,52,53,54,55,56,57,58,59,60,61,62,63,64,65,66,67,68,69,70,71,72,73,74,75,76,77,78,79,80,81,82,83,84,85,86,87,88,89,90,91,92,93,94,95,96,97,98,99],\"colorbar\":{\"title\":{\"text\":\"Trial\"},\"x\":1.0,\"xpad\":40},\"colorscale\":[[0.0,\"rgb(247,251,255)\"],[0.125,\"rgb(222,235,247)\"],[0.25,\"rgb(198,219,239)\"],[0.375,\"rgb(158,202,225)\"],[0.5,\"rgb(107,174,214)\"],[0.625,\"rgb(66,146,198)\"],[0.75,\"rgb(33,113,181)\"],[0.875,\"rgb(8,81,156)\"],[1.0,\"rgb(8,48,107)\"]],\"line\":{\"color\":\"Grey\",\"width\":0.5},\"showscale\":false},\"mode\":\"markers\",\"showlegend\":false,\"x\":[20,20,25,15,25,50,50,10,20,5,40,35,50,35,40,30,45,15,10,15,5,20,30,15,10,25,15,15,20,10,20,20,25,20,15,25,15,20,10,5,10,15,10,15,5,15,10,15,10,5,25,15,15,10,10,5,20,10,15,20,10,15,15,30,30,35,30,35,25,30,45,15,10,20,15,15,20,10,40,40,45,45,15,40,35,10,50,20,20,25,25,20,20,20,5,20,25,20,20,25],\"y\":[8.585233033074145,6.618593669483881,7.729002147545588,7.453287904085061,6.887766974338823,6.795074677253929,7.90844943711807,6.908755853941913,6.921022812909283,13.841512769908556,6.8117460133373084,6.981201246209411,6.818525630049701,6.832556332139712,8.430571643181738,6.979135063046851,6.956236529867877,6.599394886762154,8.406950422480717,7.266823098840962,11.925298482021743,6.96561054208297,6.9429332533104215,6.959133443616567,7.964575044068963,6.815801292072273,6.671881060560426,7.646147403787222,7.6624150454747175,8.708227955210178,8.66674258217236,6.72411317175734,6.748722872287084,7.8531826497737764,9.460771081761246,6.941922662101007,7.216405004586652,8.57022760004778,6.16138370816904,9.60516791607654,7.017972862065542,6.640850624509698,7.713219893326127,6.492786820564281,10.051626422752918,6.945652088103281,7.295825720624886,6.81556255689501,8.869225358183682,12.163271432543343,6.745689398782036,6.64246398086282,7.094660598117216,6.582774692333775,7.628141333970418,10.368444606240724,6.815373873760449,7.986992462708582,6.627462023521828,6.682989805676676,8.559175843633275,7.211213195809447,7.321542595070055,6.588846670861879,7.024234465112119,7.515397508167222,6.708266025071973,6.66382503839976,7.391283589596038,7.051566361899401,7.370998759623221,6.947963177181552,7.068810960223108,7.263445589789916,7.005949083428422,7.15789438857747,7.084958189604117,6.876332674549545,6.580320620577788,6.7562629718977085,7.235049772447086,7.221052347750691,7.157780863809487,6.808101060600806,7.217140271784709,8.503983449642131,7.126390293845463,6.433846807545842,6.64645176318988,7.301109414249166,6.66350106253479,6.308989647949975,6.665481385609239,6.6920013351818435,8.01258529334201,6.615732926652282,6.997488803389456,6.645324265512597,6.957283794360092,6.576550046951129],\"type\":\"scatter\",\"xaxis\":\"x3\",\"yaxis\":\"y3\"},{\"marker\":{\"color\":[0,1,2,3,4,5,6,7,8,9,10,11,12,13,14,15,16,17,18,19,20,21,22,23,24,25,26,27,28,29,30,31,32,33,34,35,36,37,38,39,40,41,42,43,44,45,46,47,48,49,50,51,52,53,54,55,56,57,58,59,60,61,62,63,64,65,66,67,68,69,70,71,72,73,74,75,76,77,78,79,80,81,82,83,84,85,86,87,88,89,90,91,92,93,94,95,96,97,98,99],\"colorbar\":{\"title\":{\"text\":\"Trial\"},\"x\":1.0,\"xpad\":40},\"colorscale\":[[0.0,\"rgb(247,251,255)\"],[0.125,\"rgb(222,235,247)\"],[0.25,\"rgb(198,219,239)\"],[0.375,\"rgb(158,202,225)\"],[0.5,\"rgb(107,174,214)\"],[0.625,\"rgb(66,146,198)\"],[0.75,\"rgb(33,113,181)\"],[0.875,\"rgb(8,81,156)\"],[1.0,\"rgb(8,48,107)\"]],\"line\":{\"color\":\"Grey\",\"width\":0.5},\"showscale\":false},\"mode\":\"markers\",\"showlegend\":false,\"x\":[1,3,2,6,1,6,5,9,10,8,4,3,7,4,6,3,5,7,8,7,4,7,6,8,5,3,9,10,9,9,1,7,7,8,9,2,7,6,8,10,8,8,9,8,8,6,8,7,1,2,8,9,10,9,8,7,9,8,6,6,5,7,4,7,5,6,7,6,7,5,3,8,8,9,7,7,9,8,6,6,6,7,8,6,5,4,7,8,9,10,6,8,8,8,9,7,7,7,8,8],\"y\":[8.585233033074145,6.618593669483881,7.729002147545588,7.453287904085061,6.887766974338823,6.795074677253929,7.90844943711807,6.908755853941913,6.921022812909283,13.841512769908556,6.8117460133373084,6.981201246209411,6.818525630049701,6.832556332139712,8.430571643181738,6.979135063046851,6.956236529867877,6.599394886762154,8.406950422480717,7.266823098840962,11.925298482021743,6.96561054208297,6.9429332533104215,6.959133443616567,7.964575044068963,6.815801292072273,6.671881060560426,7.646147403787222,7.6624150454747175,8.708227955210178,8.66674258217236,6.72411317175734,6.748722872287084,7.8531826497737764,9.460771081761246,6.941922662101007,7.216405004586652,8.57022760004778,6.16138370816904,9.60516791607654,7.017972862065542,6.640850624509698,7.713219893326127,6.492786820564281,10.051626422752918,6.945652088103281,7.295825720624886,6.81556255689501,8.869225358183682,12.163271432543343,6.745689398782036,6.64246398086282,7.094660598117216,6.582774692333775,7.628141333970418,10.368444606240724,6.815373873760449,7.986992462708582,6.627462023521828,6.682989805676676,8.559175843633275,7.211213195809447,7.321542595070055,6.588846670861879,7.024234465112119,7.515397508167222,6.708266025071973,6.66382503839976,7.391283589596038,7.051566361899401,7.370998759623221,6.947963177181552,7.068810960223108,7.263445589789916,7.005949083428422,7.15789438857747,7.084958189604117,6.876332674549545,6.580320620577788,6.7562629718977085,7.235049772447086,7.221052347750691,7.157780863809487,6.808101060600806,7.217140271784709,8.503983449642131,7.126390293845463,6.433846807545842,6.64645176318988,7.301109414249166,6.66350106253479,6.308989647949975,6.665481385609239,6.6920013351818435,8.01258529334201,6.615732926652282,6.997488803389456,6.645324265512597,6.957283794360092,6.576550046951129],\"type\":\"scatter\",\"xaxis\":\"x4\",\"yaxis\":\"y4\"}],                        {\"template\":{\"data\":{\"bar\":[{\"error_x\":{\"color\":\"#2a3f5f\"},\"error_y\":{\"color\":\"#2a3f5f\"},\"marker\":{\"line\":{\"color\":\"#E5ECF6\",\"width\":0.5},\"pattern\":{\"fillmode\":\"overlay\",\"size\":10,\"solidity\":0.2}},\"type\":\"bar\"}],\"barpolar\":[{\"marker\":{\"line\":{\"color\":\"#E5ECF6\",\"width\":0.5},\"pattern\":{\"fillmode\":\"overlay\",\"size\":10,\"solidity\":0.2}},\"type\":\"barpolar\"}],\"carpet\":[{\"aaxis\":{\"endlinecolor\":\"#2a3f5f\",\"gridcolor\":\"white\",\"linecolor\":\"white\",\"minorgridcolor\":\"white\",\"startlinecolor\":\"#2a3f5f\"},\"baxis\":{\"endlinecolor\":\"#2a3f5f\",\"gridcolor\":\"white\",\"linecolor\":\"white\",\"minorgridcolor\":\"white\",\"startlinecolor\":\"#2a3f5f\"},\"type\":\"carpet\"}],\"choropleth\":[{\"colorbar\":{\"outlinewidth\":0,\"ticks\":\"\"},\"type\":\"choropleth\"}],\"contour\":[{\"colorbar\":{\"outlinewidth\":0,\"ticks\":\"\"},\"colorscale\":[[0.0,\"#0d0887\"],[0.1111111111111111,\"#46039f\"],[0.2222222222222222,\"#7201a8\"],[0.3333333333333333,\"#9c179e\"],[0.4444444444444444,\"#bd3786\"],[0.5555555555555556,\"#d8576b\"],[0.6666666666666666,\"#ed7953\"],[0.7777777777777778,\"#fb9f3a\"],[0.8888888888888888,\"#fdca26\"],[1.0,\"#f0f921\"]],\"type\":\"contour\"}],\"contourcarpet\":[{\"colorbar\":{\"outlinewidth\":0,\"ticks\":\"\"},\"type\":\"contourcarpet\"}],\"heatmap\":[{\"colorbar\":{\"outlinewidth\":0,\"ticks\":\"\"},\"colorscale\":[[0.0,\"#0d0887\"],[0.1111111111111111,\"#46039f\"],[0.2222222222222222,\"#7201a8\"],[0.3333333333333333,\"#9c179e\"],[0.4444444444444444,\"#bd3786\"],[0.5555555555555556,\"#d8576b\"],[0.6666666666666666,\"#ed7953\"],[0.7777777777777778,\"#fb9f3a\"],[0.8888888888888888,\"#fdca26\"],[1.0,\"#f0f921\"]],\"type\":\"heatmap\"}],\"heatmapgl\":[{\"colorbar\":{\"outlinewidth\":0,\"ticks\":\"\"},\"colorscale\":[[0.0,\"#0d0887\"],[0.1111111111111111,\"#46039f\"],[0.2222222222222222,\"#7201a8\"],[0.3333333333333333,\"#9c179e\"],[0.4444444444444444,\"#bd3786\"],[0.5555555555555556,\"#d8576b\"],[0.6666666666666666,\"#ed7953\"],[0.7777777777777778,\"#fb9f3a\"],[0.8888888888888888,\"#fdca26\"],[1.0,\"#f0f921\"]],\"type\":\"heatmapgl\"}],\"histogram\":[{\"marker\":{\"pattern\":{\"fillmode\":\"overlay\",\"size\":10,\"solidity\":0.2}},\"type\":\"histogram\"}],\"histogram2d\":[{\"colorbar\":{\"outlinewidth\":0,\"ticks\":\"\"},\"colorscale\":[[0.0,\"#0d0887\"],[0.1111111111111111,\"#46039f\"],[0.2222222222222222,\"#7201a8\"],[0.3333333333333333,\"#9c179e\"],[0.4444444444444444,\"#bd3786\"],[0.5555555555555556,\"#d8576b\"],[0.6666666666666666,\"#ed7953\"],[0.7777777777777778,\"#fb9f3a\"],[0.8888888888888888,\"#fdca26\"],[1.0,\"#f0f921\"]],\"type\":\"histogram2d\"}],\"histogram2dcontour\":[{\"colorbar\":{\"outlinewidth\":0,\"ticks\":\"\"},\"colorscale\":[[0.0,\"#0d0887\"],[0.1111111111111111,\"#46039f\"],[0.2222222222222222,\"#7201a8\"],[0.3333333333333333,\"#9c179e\"],[0.4444444444444444,\"#bd3786\"],[0.5555555555555556,\"#d8576b\"],[0.6666666666666666,\"#ed7953\"],[0.7777777777777778,\"#fb9f3a\"],[0.8888888888888888,\"#fdca26\"],[1.0,\"#f0f921\"]],\"type\":\"histogram2dcontour\"}],\"mesh3d\":[{\"colorbar\":{\"outlinewidth\":0,\"ticks\":\"\"},\"type\":\"mesh3d\"}],\"parcoords\":[{\"line\":{\"colorbar\":{\"outlinewidth\":0,\"ticks\":\"\"}},\"type\":\"parcoords\"}],\"pie\":[{\"automargin\":true,\"type\":\"pie\"}],\"scatter\":[{\"marker\":{\"colorbar\":{\"outlinewidth\":0,\"ticks\":\"\"}},\"type\":\"scatter\"}],\"scatter3d\":[{\"line\":{\"colorbar\":{\"outlinewidth\":0,\"ticks\":\"\"}},\"marker\":{\"colorbar\":{\"outlinewidth\":0,\"ticks\":\"\"}},\"type\":\"scatter3d\"}],\"scattercarpet\":[{\"marker\":{\"colorbar\":{\"outlinewidth\":0,\"ticks\":\"\"}},\"type\":\"scattercarpet\"}],\"scattergeo\":[{\"marker\":{\"colorbar\":{\"outlinewidth\":0,\"ticks\":\"\"}},\"type\":\"scattergeo\"}],\"scattergl\":[{\"marker\":{\"colorbar\":{\"outlinewidth\":0,\"ticks\":\"\"}},\"type\":\"scattergl\"}],\"scattermapbox\":[{\"marker\":{\"colorbar\":{\"outlinewidth\":0,\"ticks\":\"\"}},\"type\":\"scattermapbox\"}],\"scatterpolar\":[{\"marker\":{\"colorbar\":{\"outlinewidth\":0,\"ticks\":\"\"}},\"type\":\"scatterpolar\"}],\"scatterpolargl\":[{\"marker\":{\"colorbar\":{\"outlinewidth\":0,\"ticks\":\"\"}},\"type\":\"scatterpolargl\"}],\"scatterternary\":[{\"marker\":{\"colorbar\":{\"outlinewidth\":0,\"ticks\":\"\"}},\"type\":\"scatterternary\"}],\"surface\":[{\"colorbar\":{\"outlinewidth\":0,\"ticks\":\"\"},\"colorscale\":[[0.0,\"#0d0887\"],[0.1111111111111111,\"#46039f\"],[0.2222222222222222,\"#7201a8\"],[0.3333333333333333,\"#9c179e\"],[0.4444444444444444,\"#bd3786\"],[0.5555555555555556,\"#d8576b\"],[0.6666666666666666,\"#ed7953\"],[0.7777777777777778,\"#fb9f3a\"],[0.8888888888888888,\"#fdca26\"],[1.0,\"#f0f921\"]],\"type\":\"surface\"}],\"table\":[{\"cells\":{\"fill\":{\"color\":\"#EBF0F8\"},\"line\":{\"color\":\"white\"}},\"header\":{\"fill\":{\"color\":\"#C8D4E3\"},\"line\":{\"color\":\"white\"}},\"type\":\"table\"}]},\"layout\":{\"annotationdefaults\":{\"arrowcolor\":\"#2a3f5f\",\"arrowhead\":0,\"arrowwidth\":1},\"autotypenumbers\":\"strict\",\"coloraxis\":{\"colorbar\":{\"outlinewidth\":0,\"ticks\":\"\"}},\"colorscale\":{\"diverging\":[[0,\"#8e0152\"],[0.1,\"#c51b7d\"],[0.2,\"#de77ae\"],[0.3,\"#f1b6da\"],[0.4,\"#fde0ef\"],[0.5,\"#f7f7f7\"],[0.6,\"#e6f5d0\"],[0.7,\"#b8e186\"],[0.8,\"#7fbc41\"],[0.9,\"#4d9221\"],[1,\"#276419\"]],\"sequential\":[[0.0,\"#0d0887\"],[0.1111111111111111,\"#46039f\"],[0.2222222222222222,\"#7201a8\"],[0.3333333333333333,\"#9c179e\"],[0.4444444444444444,\"#bd3786\"],[0.5555555555555556,\"#d8576b\"],[0.6666666666666666,\"#ed7953\"],[0.7777777777777778,\"#fb9f3a\"],[0.8888888888888888,\"#fdca26\"],[1.0,\"#f0f921\"]],\"sequentialminus\":[[0.0,\"#0d0887\"],[0.1111111111111111,\"#46039f\"],[0.2222222222222222,\"#7201a8\"],[0.3333333333333333,\"#9c179e\"],[0.4444444444444444,\"#bd3786\"],[0.5555555555555556,\"#d8576b\"],[0.6666666666666666,\"#ed7953\"],[0.7777777777777778,\"#fb9f3a\"],[0.8888888888888888,\"#fdca26\"],[1.0,\"#f0f921\"]]},\"colorway\":[\"#636efa\",\"#EF553B\",\"#00cc96\",\"#ab63fa\",\"#FFA15A\",\"#19d3f3\",\"#FF6692\",\"#B6E880\",\"#FF97FF\",\"#FECB52\"],\"font\":{\"color\":\"#2a3f5f\"},\"geo\":{\"bgcolor\":\"white\",\"lakecolor\":\"white\",\"landcolor\":\"#E5ECF6\",\"showlakes\":true,\"showland\":true,\"subunitcolor\":\"white\"},\"hoverlabel\":{\"align\":\"left\"},\"hovermode\":\"closest\",\"mapbox\":{\"style\":\"light\"},\"paper_bgcolor\":\"white\",\"plot_bgcolor\":\"#E5ECF6\",\"polar\":{\"angularaxis\":{\"gridcolor\":\"white\",\"linecolor\":\"white\",\"ticks\":\"\"},\"bgcolor\":\"#E5ECF6\",\"radialaxis\":{\"gridcolor\":\"white\",\"linecolor\":\"white\",\"ticks\":\"\"}},\"scene\":{\"xaxis\":{\"backgroundcolor\":\"#E5ECF6\",\"gridcolor\":\"white\",\"gridwidth\":2,\"linecolor\":\"white\",\"showbackground\":true,\"ticks\":\"\",\"zerolinecolor\":\"white\"},\"yaxis\":{\"backgroundcolor\":\"#E5ECF6\",\"gridcolor\":\"white\",\"gridwidth\":2,\"linecolor\":\"white\",\"showbackground\":true,\"ticks\":\"\",\"zerolinecolor\":\"white\"},\"zaxis\":{\"backgroundcolor\":\"#E5ECF6\",\"gridcolor\":\"white\",\"gridwidth\":2,\"linecolor\":\"white\",\"showbackground\":true,\"ticks\":\"\",\"zerolinecolor\":\"white\"}},\"shapedefaults\":{\"line\":{\"color\":\"#2a3f5f\"}},\"ternary\":{\"aaxis\":{\"gridcolor\":\"white\",\"linecolor\":\"white\",\"ticks\":\"\"},\"baxis\":{\"gridcolor\":\"white\",\"linecolor\":\"white\",\"ticks\":\"\"},\"bgcolor\":\"#E5ECF6\",\"caxis\":{\"gridcolor\":\"white\",\"linecolor\":\"white\",\"ticks\":\"\"}},\"title\":{\"x\":0.05},\"xaxis\":{\"automargin\":true,\"gridcolor\":\"white\",\"linecolor\":\"white\",\"ticks\":\"\",\"title\":{\"standoff\":15},\"zerolinecolor\":\"white\",\"zerolinewidth\":2},\"yaxis\":{\"automargin\":true,\"gridcolor\":\"white\",\"linecolor\":\"white\",\"ticks\":\"\",\"title\":{\"standoff\":15},\"zerolinecolor\":\"white\",\"zerolinewidth\":2}}},\"xaxis\":{\"anchor\":\"y\",\"domain\":[0.0,0.2125],\"title\":{\"text\":\"CHILDREN\"}},\"yaxis\":{\"anchor\":\"x\",\"domain\":[0.0,1.0],\"title\":{\"text\":\"distance\"}},\"xaxis2\":{\"anchor\":\"y2\",\"domain\":[0.2625,0.475],\"title\":{\"text\":\"MUTATION\"},\"type\":\"log\"},\"yaxis2\":{\"anchor\":\"x2\",\"domain\":[0.0,1.0],\"matches\":\"y\",\"showticklabels\":false},\"xaxis3\":{\"anchor\":\"y3\",\"domain\":[0.525,0.7375],\"title\":{\"text\":\"N_MUTATION\"}},\"yaxis3\":{\"anchor\":\"x3\",\"domain\":[0.0,1.0],\"matches\":\"y\",\"showticklabels\":false},\"xaxis4\":{\"anchor\":\"y4\",\"domain\":[0.7875,1.0],\"title\":{\"text\":\"POPULATION\"}},\"yaxis4\":{\"anchor\":\"x4\",\"domain\":[0.0,1.0],\"matches\":\"y\",\"showticklabels\":false},\"title\":{\"text\":\"Slice Plot\"},\"width\":1200},                        {\"responsive\": true}                    ).then(function(){\n",
       "                            \n",
       "var gd = document.getElementById('08347358-ce46-4f98-844b-c8c5bb0d98ec');\n",
       "var x = new MutationObserver(function (mutations, observer) {{\n",
       "        var display = window.getComputedStyle(gd).display;\n",
       "        if (!display || display === 'none') {{\n",
       "            console.log([gd, 'removed!']);\n",
       "            Plotly.purge(gd);\n",
       "            observer.disconnect();\n",
       "        }}\n",
       "}});\n",
       "\n",
       "// Listen for the removal of the full notebook cells\n",
       "var notebookContainer = gd.closest('#notebook-container');\n",
       "if (notebookContainer) {{\n",
       "    x.observe(notebookContainer, {childList: true});\n",
       "}}\n",
       "\n",
       "// Listen for the clearing of the current output cell\n",
       "var outputEl = gd.closest('.output');\n",
       "if (outputEl) {{\n",
       "    x.observe(outputEl, {childList: true});\n",
       "}}\n",
       "\n",
       "                        })                };                });            </script>        </div>"
      ]
     },
     "metadata": {},
     "output_type": "display_data"
    }
   ],
   "source": [
    "# Plotting scatter plots of every parameter\n",
    "optuna.visualization.plot_slice(study, params=study.best_params.keys(), target_name=\"distance\")"
   ]
  },
  {
   "cell_type": "code",
   "execution_count": 24,
   "id": "836457f2",
   "metadata": {},
   "outputs": [
    {
     "data": {
      "application/vnd.plotly.v1+json": {
       "config": {
        "plotlyServerURL": "https://plot.ly"
       },
       "data": [
        {
         "type": "scatter",
         "xaxis": "x",
         "yaxis": "y"
        },
        {
         "colorbar": {
          "title": {
           "text": "distance"
          }
         },
         "colorscale": [
          [
           0,
           "rgb(247,251,255)"
          ],
          [
           0.125,
           "rgb(222,235,247)"
          ],
          [
           0.25,
           "rgb(198,219,239)"
          ],
          [
           0.375,
           "rgb(158,202,225)"
          ],
          [
           0.5,
           "rgb(107,174,214)"
          ],
          [
           0.625,
           "rgb(66,146,198)"
          ],
          [
           0.75,
           "rgb(33,113,181)"
          ],
          [
           0.875,
           "rgb(8,81,156)"
          ],
          [
           1,
           "rgb(8,48,107)"
          ]
         ],
         "connectgaps": true,
         "contours": {
          "coloring": "heatmap"
         },
         "hoverinfo": "none",
         "line": {
          "smoothing": 1.3
         },
         "reversescale": true,
         "showscale": true,
         "type": "contour",
         "x": [
          0.55,
          1,
          2,
          3,
          4,
          5,
          6,
          7,
          8,
          9,
          10,
          10.45
         ],
         "xaxis": "x5",
         "y": [
          0.19375795348254654,
          0.2071533476327387,
          0.2108826496676009,
          0.22649845425951956,
          0.2348422161207379,
          0.24970399445385352,
          0.2640041660119855,
          0.2681459855693354,
          0.27990987262531963,
          0.2801974824045272,
          0.28979439121120054,
          0.2977276300587118,
          0.30191840830159195,
          0.30531717585775664,
          0.3072609332536895,
          0.3095890919721405,
          0.3199482097685925,
          0.3203415688148227,
          0.32839785214494066,
          0.3301181793574532,
          0.3324263103771623,
          0.342767360728064,
          0.345665206416253,
          0.35386472050007467,
          0.35419768500124926,
          0.35466104158978995,
          0.3557250391285034,
          0.3625855513617516,
          0.3691733908101926,
          0.3724013309897641,
          0.3749189144410235,
          0.3788294226986846,
          0.3808027516424747,
          0.38204232987610165,
          0.3842108131624772,
          0.3902298506549719,
          0.3922829293782359,
          0.39580965661540085,
          0.397812210271553,
          0.4000580606180995,
          0.4006285877650944,
          0.4013989012755729,
          0.4034323355527375,
          0.40754813412109675,
          0.41030953202979964,
          0.4135162081334625,
          0.4141572734251889,
          0.4149470234793615,
          0.41688810647788116,
          0.41835992614351647,
          0.4218058278410013,
          0.42526534297124013,
          0.42555688144573245,
          0.43129455297287184,
          0.4317746174342902,
          0.43308404180119137,
          0.4333832950114248,
          0.4340122499072176,
          0.4354438381832276,
          0.43818774370819397,
          0.4396274674688022,
          0.44248607387749755,
          0.44702597226093654,
          0.4471748005498575,
          0.44889510397034976,
          0.45496615783406313,
          0.455905289052174,
          0.4566626873377028,
          0.4572336064734494,
          0.4573645058485396,
          0.4613086789148259,
          0.4691586882647345,
          0.4697627715615094,
          0.4714978764718547,
          0.47253514112491374,
          0.48133832632026236,
          0.48809307381469913,
          0.4907791267588383,
          0.4917432340030627,
          0.49175394637869163,
          0.5052768869322142,
          0.5057238326175705,
          0.5142977926155852,
          0.5168571625601595,
          0.5261139715008444,
          0.5318688040643682,
          0.5341243158916451,
          0.5466223038624164,
          0.5518485968165537,
          0.5586170018880328,
          0.5742808911649575,
          0.5756080830124146,
          0.5762782789998131,
          0.5995316559891004,
          0.6001711724099198,
          0.6234369246742749,
          0.6442402197305542,
          0.670087893263115,
          0.7095012959991417,
          0.7220926758066272,
          0.7887516870762818,
          0.8432817827193884
         ],
         "yaxis": "y5",
         "z": [
          [
           null,
           null,
           null,
           null,
           null,
           null,
           null,
           null,
           null,
           null,
           null,
           null
          ],
          [
           null,
           8.708227955210178,
           null,
           null,
           null,
           null,
           null,
           null,
           null,
           null,
           null,
           null
          ],
          [
           null,
           null,
           null,
           6.8117460133373084,
           null,
           null,
           null,
           null,
           null,
           null,
           null,
           null
          ],
          [
           null,
           null,
           null,
           6.941922662101007,
           null,
           null,
           null,
           null,
           null,
           null,
           null,
           null
          ],
          [
           null,
           null,
           7.729002147545588,
           null,
           null,
           null,
           null,
           null,
           null,
           null,
           null,
           null
          ],
          [
           null,
           null,
           null,
           7.6624150454747175,
           null,
           null,
           null,
           null,
           null,
           null,
           null,
           null
          ],
          [
           null,
           null,
           null,
           null,
           null,
           null,
           null,
           null,
           null,
           null,
           7.051566361899401,
           null
          ],
          [
           null,
           null,
           null,
           null,
           null,
           null,
           null,
           6.832556332139712,
           null,
           null,
           null,
           null
          ],
          [
           null,
           null,
           null,
           6.671881060560426,
           null,
           null,
           null,
           null,
           null,
           null,
           null,
           null
          ],
          [
           null,
           null,
           null,
           7.646147403787222,
           null,
           null,
           null,
           null,
           null,
           null,
           null,
           null
          ],
          [
           null,
           null,
           null,
           null,
           null,
           null,
           null,
           null,
           7.391283589596038,
           null,
           null,
           null
          ],
          [
           null,
           null,
           6.748722872287084,
           null,
           null,
           null,
           null,
           null,
           null,
           null,
           null,
           null
          ],
          [
           null,
           null,
           null,
           null,
           null,
           null,
           null,
           null,
           null,
           null,
           7.90844943711807,
           null
          ],
          [
           null,
           null,
           null,
           null,
           null,
           null,
           null,
           6.682989805676676,
           null,
           null,
           null,
           null
          ],
          [
           null,
           null,
           null,
           null,
           null,
           null,
           null,
           null,
           6.627462023521828,
           null,
           null,
           null
          ],
          [
           null,
           null,
           null,
           null,
           null,
           null,
           7.321542595070055,
           null,
           null,
           null,
           null,
           null
          ],
          [
           null,
           null,
           null,
           null,
           null,
           null,
           null,
           null,
           null,
           7.15789438857747,
           null,
           null
          ],
          [
           null,
           null,
           null,
           null,
           null,
           6.981201246209411,
           null,
           null,
           null,
           null,
           null,
           null
          ],
          [
           null,
           null,
           null,
           null,
           null,
           null,
           null,
           null,
           null,
           7.094660598117216,
           null,
           null
          ],
          [
           null,
           null,
           null,
           null,
           null,
           null,
           null,
           null,
           null,
           null,
           6.64246398086282,
           null
          ],
          [
           null,
           null,
           null,
           null,
           null,
           7.964575044068963,
           null,
           null,
           null,
           null,
           null,
           null
          ],
          [
           null,
           null,
           null,
           null,
           null,
           null,
           null,
           null,
           null,
           7.211213195809447,
           null,
           null
          ],
          [
           null,
           null,
           null,
           null,
           null,
           null,
           null,
           null,
           null,
           null,
           7.263445589789916,
           null
          ],
          [
           null,
           null,
           null,
           null,
           null,
           null,
           null,
           null,
           null,
           6.921022812909283,
           null,
           null
          ],
          [
           null,
           null,
           null,
           null,
           null,
           null,
           null,
           null,
           null,
           null,
           6.945652088103281,
           null
          ],
          [
           null,
           null,
           null,
           null,
           7.216405004586652,
           null,
           null,
           null,
           null,
           null,
           null,
           null
          ],
          [
           null,
           null,
           null,
           null,
           null,
           null,
           null,
           null,
           null,
           null,
           6.582774692333775,
           null
          ],
          [
           null,
           null,
           null,
           null,
           null,
           null,
           null,
           null,
           null,
           7.628141333970418,
           null,
           null
          ],
          [
           null,
           null,
           null,
           null,
           null,
           null,
           null,
           6.66382503839976,
           null,
           null,
           null,
           null
          ],
          [
           null,
           null,
           null,
           null,
           null,
           null,
           null,
           null,
           7.005949083428422,
           null,
           null,
           null
          ],
          [
           null,
           null,
           null,
           null,
           null,
           null,
           6.979135063046851,
           null,
           null,
           null,
           null,
           null
          ],
          [
           null,
           null,
           6.72411317175734,
           null,
           null,
           null,
           null,
           null,
           null,
           null,
           null,
           null
          ],
          [
           null,
           null,
           null,
           null,
           null,
           null,
           6.795074677253929,
           null,
           null,
           null,
           null,
           null
          ],
          [
           null,
           null,
           null,
           null,
           null,
           null,
           null,
           null,
           null,
           6.640850624509698,
           null,
           null
          ],
          [
           null,
           null,
           null,
           null,
           null,
           null,
           8.503983449642131,
           null,
           null,
           null,
           null,
           null
          ],
          [
           null,
           null,
           null,
           null,
           null,
           null,
           null,
           null,
           null,
           7.068810960223108,
           null,
           null
          ],
          [
           null,
           null,
           null,
           null,
           null,
           null,
           null,
           null,
           7.295825720624886,
           null,
           null,
           null
          ],
          [
           null,
           null,
           null,
           null,
           null,
           null,
           null,
           null,
           6.815373873760449,
           null,
           null,
           null
          ],
          [
           null,
           null,
           null,
           null,
           null,
           null,
           null,
           null,
           null,
           null,
           8.01258529334201,
           null
          ],
          [
           null,
           null,
           null,
           null,
           null,
           null,
           null,
           null,
           null,
           6.308989647949975,
           null,
           null
          ],
          [
           null,
           null,
           null,
           null,
           null,
           null,
           null,
           6.815801292072273,
           null,
           null,
           null,
           null
          ],
          [
           null,
           null,
           null,
           null,
           null,
           8.585233033074145,
           null,
           null,
           null,
           null,
           null,
           null
          ],
          [
           null,
           null,
           null,
           null,
           null,
           null,
           null,
           null,
           null,
           7.370998759623221,
           null,
           null
          ],
          [
           null,
           null,
           null,
           null,
           null,
           null,
           null,
           null,
           null,
           null,
           6.997488803389456,
           null
          ],
          [
           null,
           null,
           null,
           null,
           null,
           7.084958189604117,
           null,
           null,
           null,
           null,
           null,
           null
          ],
          [
           null,
           null,
           null,
           null,
           null,
           null,
           null,
           null,
           null,
           7.126390293845463,
           null,
           null
          ],
          [
           null,
           null,
           null,
           null,
           null,
           null,
           null,
           null,
           null,
           6.492786820564281,
           null,
           null
          ],
          [
           null,
           null,
           null,
           null,
           null,
           null,
           null,
           null,
           null,
           10.051626422752918,
           null,
           null
          ],
          [
           null,
           8.57022760004778,
           null,
           null,
           null,
           null,
           null,
           null,
           null,
           null,
           null,
           null
          ],
          [
           null,
           null,
           null,
           null,
           null,
           null,
           null,
           null,
           null,
           6.957283794360092,
           null,
           null
          ],
          [
           null,
           null,
           null,
           null,
           null,
           null,
           null,
           null,
           null,
           null,
           10.368444606240724,
           null
          ],
          [
           null,
           null,
           null,
           null,
           null,
           7.515397508167222,
           null,
           null,
           null,
           null,
           null,
           null
          ],
          [
           null,
           null,
           null,
           null,
           null,
           null,
           null,
           null,
           null,
           6.615732926652282,
           null,
           null
          ],
          [
           null,
           null,
           null,
           null,
           null,
           null,
           null,
           null,
           null,
           6.433846807545842,
           null,
           null
          ],
          [
           null,
           null,
           null,
           null,
           null,
           null,
           null,
           null,
           null,
           null,
           6.876332674549545,
           null
          ],
          [
           null,
           null,
           null,
           null,
           null,
           null,
           null,
           null,
           6.64645176318988,
           null,
           null,
           null
          ],
          [
           null,
           null,
           null,
           null,
           null,
           null,
           null,
           null,
           null,
           6.588846670861879,
           null,
           null
          ],
          [
           null,
           null,
           null,
           null,
           null,
           null,
           6.96561054208297,
           null,
           null,
           null,
           null,
           null
          ],
          [
           null,
           null,
           null,
           null,
           null,
           null,
           null,
           6.908755853941913,
           null,
           null,
           null,
           null
          ],
          [
           null,
           null,
           null,
           null,
           null,
           null,
           null,
           null,
           null,
           6.6920013351818435,
           null,
           null
          ],
          [
           null,
           null,
           null,
           null,
           11.925298482021743,
           null,
           null,
           null,
           null,
           null,
           null,
           null
          ],
          [
           null,
           null,
           null,
           null,
           null,
           null,
           null,
           null,
           null,
           6.947963177181552,
           null,
           null
          ],
          [
           null,
           null,
           null,
           null,
           null,
           6.618593669483881,
           null,
           null,
           null,
           null,
           null,
           null
          ],
          [
           null,
           null,
           null,
           null,
           7.221052347750691,
           null,
           null,
           null,
           null,
           null,
           null,
           null
          ],
          [
           null,
           null,
           null,
           null,
           null,
           null,
           null,
           null,
           6.745689398782036,
           null,
           null,
           null
          ],
          [
           null,
           null,
           null,
           null,
           6.576550046951129,
           null,
           null,
           null,
           null,
           null,
           null,
           null
          ],
          [
           null,
           null,
           null,
           null,
           null,
           null,
           null,
           null,
           null,
           7.713219893326127,
           null,
           null
          ],
          [
           null,
           null,
           null,
           null,
           null,
           null,
           null,
           null,
           null,
           6.16138370816904,
           null,
           null
          ],
          [
           null,
           null,
           null,
           null,
           null,
           null,
           null,
           null,
           null,
           6.665481385609239,
           null,
           null
          ],
          [
           null,
           null,
           null,
           null,
           null,
           null,
           null,
           null,
           6.580320620577788,
           null,
           null,
           null
          ],
          [
           null,
           null,
           null,
           null,
           null,
           null,
           null,
           null,
           6.7562629718977085,
           null,
           null,
           null
          ],
          [
           null,
           null,
           null,
           null,
           null,
           8.66674258217236,
           null,
           null,
           null,
           null,
           null,
           null
          ],
          [
           null,
           null,
           null,
           null,
           null,
           null,
           null,
           null,
           null,
           6.645324265512597,
           null,
           null
          ],
          [
           null,
           null,
           null,
           null,
           null,
           null,
           null,
           null,
           7.024234465112119,
           null,
           null,
           null
          ],
          [
           null,
           null,
           null,
           null,
           null,
           null,
           null,
           null,
           null,
           9.60516791607654,
           null,
           null
          ],
          [
           null,
           null,
           null,
           null,
           null,
           null,
           null,
           null,
           7.217140271784709,
           null,
           null,
           null
          ],
          [
           null,
           null,
           null,
           null,
           null,
           null,
           null,
           null,
           null,
           7.157780863809487,
           null,
           null
          ],
          [
           null,
           null,
           null,
           null,
           6.956236529867877,
           null,
           null,
           null,
           null,
           null,
           null,
           null
          ],
          [
           null,
           null,
           null,
           null,
           null,
           null,
           null,
           null,
           8.559175843633275,
           null,
           null,
           null
          ],
          [
           null,
           null,
           null,
           null,
           6.818525630049701,
           null,
           null,
           null,
           null,
           null,
           null,
           null
          ],
          [
           null,
           null,
           null,
           null,
           null,
           null,
           null,
           8.869225358183682,
           null,
           null,
           null,
           null
          ],
          [
           null,
           null,
           null,
           null,
           null,
           null,
           null,
           null,
           6.808101060600806,
           null,
           null,
           null
          ],
          [
           null,
           null,
           null,
           null,
           null,
           null,
           null,
           null,
           null,
           null,
           7.017972862065542,
           null
          ],
          [
           null,
           null,
           null,
           null,
           null,
           null,
           null,
           6.887766974338823,
           null,
           null,
           null,
           null
          ],
          [
           null,
           null,
           null,
           null,
           null,
           null,
           null,
           7.301109414249166,
           null,
           null,
           null,
           null
          ],
          [
           null,
           null,
           null,
           null,
           null,
           null,
           null,
           null,
           6.959133443616567,
           null,
           null,
           null
          ],
          [
           null,
           null,
           null,
           null,
           null,
           null,
           null,
           7.235049772447086,
           null,
           null,
           null,
           null
          ],
          [
           null,
           null,
           null,
           null,
           null,
           null,
           null,
           null,
           null,
           12.163271432543343,
           null,
           null
          ],
          [
           null,
           null,
           7.8531826497737764,
           null,
           null,
           null,
           null,
           null,
           null,
           null,
           null,
           null
          ],
          [
           null,
           null,
           null,
           null,
           null,
           null,
           null,
           null,
           6.599394886762154,
           null,
           null,
           null
          ],
          [
           null,
           null,
           null,
           null,
           null,
           null,
           null,
           null,
           null,
           null,
           7.986992462708582,
           null
          ],
          [
           null,
           null,
           null,
           null,
           null,
           null,
           null,
           null,
           null,
           null,
           6.66350106253479,
           null
          ],
          [
           null,
           null,
           null,
           null,
           null,
           null,
           null,
           null,
           7.266823098840962,
           null,
           null,
           null
          ],
          [
           null,
           null,
           null,
           null,
           null,
           null,
           null,
           null,
           null,
           7.453287904085061,
           null,
           null
          ],
          [
           null,
           null,
           null,
           null,
           null,
           null,
           null,
           null,
           8.406950422480717,
           null,
           null,
           null
          ],
          [
           null,
           null,
           9.460771081761246,
           null,
           null,
           null,
           null,
           null,
           null,
           null,
           null,
           null
          ],
          [
           null,
           null,
           null,
           null,
           null,
           null,
           null,
           null,
           null,
           null,
           6.81556255689501,
           null
          ],
          [
           null,
           null,
           null,
           null,
           null,
           null,
           6.9429332533104215,
           null,
           null,
           null,
           null,
           null
          ],
          [
           null,
           null,
           null,
           null,
           null,
           null,
           null,
           null,
           null,
           null,
           13.841512769908556,
           null
          ],
          [
           null,
           null,
           null,
           null,
           null,
           null,
           null,
           null,
           null,
           6.708266025071973,
           null,
           null
          ],
          [
           null,
           8.430571643181738,
           null,
           null,
           null,
           null,
           null,
           null,
           null,
           null,
           null,
           null
          ],
          [
           null,
           null,
           null,
           null,
           null,
           null,
           null,
           null,
           null,
           null,
           null,
           null
          ]
         ]
        },
        {
         "marker": {
          "color": "black",
          "line": {
           "color": "Grey",
           "width": 2
          }
         },
         "mode": "markers",
         "showlegend": false,
         "type": "scatter",
         "x": [
          5,
          5,
          2,
          9,
          7,
          6,
          10,
          7,
          9,
          10,
          3,
          5,
          4,
          7,
          1,
          6,
          4,
          8,
          8,
          8,
          4,
          6,
          6,
          8,
          5,
          7,
          3,
          3,
          3,
          1,
          5,
          2,
          2,
          2,
          2,
          3,
          4,
          1,
          9,
          9,
          10,
          9,
          9,
          9,
          9,
          10,
          8,
          10,
          7,
          9,
          8,
          10,
          9,
          10,
          9,
          10,
          8,
          10,
          8,
          7,
          8,
          9,
          6,
          9,
          8,
          5,
          9,
          7,
          8,
          10,
          9,
          9,
          9,
          10,
          8,
          9,
          5,
          10,
          8,
          8,
          7,
          4,
          9,
          8,
          8,
          6,
          9,
          9,
          8,
          7,
          10,
          9,
          9,
          9,
          10,
          9,
          10,
          9,
          9,
          4
         ],
         "xaxis": "x5",
         "y": [
          0.4013989012755729,
          0.44702597226093654,
          0.2348422161207379,
          0.5995316559891004,
          0.5168571625601595,
          0.3808027516424747,
          0.30191840830159195,
          0.4354438381832276,
          0.35386472050007467,
          0.7095012959991417,
          0.2108826496676009,
          0.3203415688148227,
          0.49175394637869163,
          0.2681459855693354,
          0.7887516870762818,
          0.3749189144410235,
          0.4907791267588383,
          0.5586170018880328,
          0.6001711724099198,
          0.5762782789998131,
          0.4396274674688022,
          0.4340122499072176,
          0.670087893263115,
          0.5318688040643682,
          0.3324263103771623,
          0.4006285877650944,
          0.27990987262531963,
          0.2801974824045272,
          0.24970399445385352,
          0.2071533476327387,
          0.4691586882647345,
          0.3788294226986846,
          0.2977276300587118,
          0.5518485968165537,
          0.6234369246742749,
          0.22649845425951956,
          0.35466104158978995,
          0.41688810647788116,
          0.4566626873377028,
          0.47253514112491374,
          0.5142977926155852,
          0.38204232987610165,
          0.455905289052174,
          0.4141572734251889,
          0.4149470234793615,
          0.35419768500124926,
          0.3922829293782359,
          0.6442402197305542,
          0.5052768869322142,
          0.5466223038624164,
          0.44889510397034976,
          0.3301181793574532,
          0.32839785214494066,
          0.3557250391285034,
          0.3625855513617516,
          0.4218058278410013,
          0.39580965661540085,
          0.5742808911649575,
          0.3072609332536895,
          0.30531717585775664,
          0.4917432340030627,
          0.342767360728064,
          0.3095890919721405,
          0.4333832950114248,
          0.4714978764718547,
          0.42526534297124013,
          0.7220926758066272,
          0.3691733908101926,
          0.28979439121120054,
          0.2640041660119855,
          0.4034323355527375,
          0.44248607387749755,
          0.3902298506549719,
          0.345665206416253,
          0.3724013309897641,
          0.3199482097685925,
          0.41030953202979964,
          0.4317746174342902,
          0.4573645058485396,
          0.4613086789148259,
          0.5341243158916451,
          0.4471748005498575,
          0.48809307381469913,
          0.5057238326175705,
          0.48133832632026236,
          0.3842108131624772,
          0.4135162081334625,
          0.43129455297287184,
          0.43308404180119137,
          0.5261139715008444,
          0.5756080830124146,
          0.4000580606180995,
          0.4572336064734494,
          0.43818774370819397,
          0.397812210271553,
          0.42555688144573245,
          0.40754813412109675,
          0.4697627715615094,
          0.41835992614351647,
          0.45496615783406313
         ],
         "yaxis": "y5"
        },
        {
         "colorbar": {
          "title": {
           "text": "distance"
          }
         },
         "colorscale": [
          [
           0,
           "rgb(247,251,255)"
          ],
          [
           0.125,
           "rgb(222,235,247)"
          ],
          [
           0.25,
           "rgb(198,219,239)"
          ],
          [
           0.375,
           "rgb(158,202,225)"
          ],
          [
           0.5,
           "rgb(107,174,214)"
          ],
          [
           0.625,
           "rgb(66,146,198)"
          ],
          [
           0.75,
           "rgb(33,113,181)"
          ],
          [
           0.875,
           "rgb(8,81,156)"
          ],
          [
           1,
           "rgb(8,48,107)"
          ]
         ],
         "connectgaps": true,
         "contours": {
          "coloring": "heatmap"
         },
         "hoverinfo": "none",
         "line": {
          "smoothing": 1.3
         },
         "reversescale": true,
         "showscale": false,
         "type": "contour",
         "x": [
          0.55,
          1,
          2,
          3,
          4,
          5,
          6,
          7,
          8,
          9,
          10,
          10.45
         ],
         "xaxis": "x9",
         "y": [
          2.75,
          5,
          10,
          15,
          20,
          25,
          30,
          35,
          40,
          45,
          50,
          52.25
         ],
         "yaxis": "y9",
         "z": [
          [
           null,
           null,
           null,
           null,
           null,
           null,
           null,
           null,
           null,
           null,
           null,
           null
          ],
          [
           null,
           null,
           null,
           null,
           11.925298482021743,
           null,
           null,
           null,
           null,
           12.163271432543343,
           8.01258529334201,
           null
          ],
          [
           null,
           8.708227955210178,
           null,
           null,
           null,
           7.964575044068963,
           8.503983449642131,
           8.869225358183682,
           8.559175843633275,
           7.068810960223108,
           6.876332674549545,
           null
          ],
          [
           null,
           null,
           9.460771081761246,
           7.646147403787222,
           7.216405004586652,
           null,
           7.321542595070055,
           null,
           7.005949083428422,
           7.157780863809487,
           6.64246398086282,
           null
          ],
          [
           null,
           8.57022760004778,
           7.8531826497737764,
           7.6624150454747175,
           null,
           7.084958189604117,
           6.96561054208297,
           6.682989805676676,
           6.64645176318988,
           6.957283794360092,
           7.263445589789916,
           null
          ],
          [
           null,
           null,
           6.748722872287084,
           6.941922662101007,
           6.576550046951129,
           null,
           null,
           7.301109414249166,
           7.391283589596038,
           null,
           6.997488803389456,
           null
          ],
          [
           null,
           null,
           null,
           null,
           null,
           null,
           6.9429332533104215,
           null,
           7.024234465112119,
           6.708266025071973,
           7.051566361899401,
           null
          ],
          [
           null,
           null,
           null,
           null,
           null,
           7.515397508167222,
           null,
           6.66382503839976,
           7.217140271784709,
           null,
           null,
           null
          ],
          [
           null,
           8.430571643181738,
           null,
           6.8117460133373084,
           null,
           null,
           null,
           null,
           6.808101060600806,
           null,
           null,
           null
          ],
          [
           null,
           null,
           null,
           null,
           7.221052347750691,
           null,
           null,
           7.235049772447086,
           null,
           7.370998759623221,
           null,
           null
          ],
          [
           null,
           null,
           null,
           null,
           6.818525630049701,
           null,
           6.795074677253929,
           null,
           null,
           7.126390293845463,
           7.90844943711807,
           null
          ],
          [
           null,
           null,
           null,
           null,
           null,
           null,
           null,
           null,
           null,
           null,
           null,
           null
          ]
         ]
        },
        {
         "marker": {
          "color": "black",
          "line": {
           "color": "Grey",
           "width": 2
          }
         },
         "mode": "markers",
         "showlegend": false,
         "type": "scatter",
         "x": [
          5,
          5,
          2,
          9,
          7,
          6,
          10,
          7,
          9,
          10,
          3,
          5,
          4,
          7,
          1,
          6,
          4,
          8,
          8,
          8,
          4,
          6,
          6,
          8,
          5,
          7,
          3,
          3,
          3,
          1,
          5,
          2,
          2,
          2,
          2,
          3,
          4,
          1,
          9,
          9,
          10,
          9,
          9,
          9,
          9,
          10,
          8,
          10,
          7,
          9,
          8,
          10,
          9,
          10,
          9,
          10,
          8,
          10,
          8,
          7,
          8,
          9,
          6,
          9,
          8,
          5,
          9,
          7,
          8,
          10,
          9,
          9,
          9,
          10,
          8,
          9,
          5,
          10,
          8,
          8,
          7,
          4,
          9,
          8,
          8,
          6,
          9,
          9,
          8,
          7,
          10,
          9,
          9,
          9,
          10,
          9,
          10,
          9,
          9,
          4
         ],
         "xaxis": "x9",
         "y": [
          20,
          20,
          25,
          15,
          25,
          50,
          50,
          10,
          20,
          5,
          40,
          35,
          50,
          35,
          40,
          30,
          45,
          15,
          10,
          15,
          5,
          20,
          30,
          15,
          10,
          25,
          15,
          15,
          20,
          10,
          20,
          20,
          25,
          20,
          15,
          25,
          15,
          20,
          10,
          5,
          10,
          15,
          10,
          15,
          5,
          15,
          10,
          15,
          10,
          5,
          25,
          15,
          15,
          10,
          10,
          5,
          20,
          10,
          15,
          20,
          10,
          15,
          15,
          30,
          30,
          35,
          30,
          35,
          25,
          30,
          45,
          15,
          10,
          20,
          15,
          15,
          20,
          10,
          40,
          40,
          45,
          45,
          15,
          40,
          35,
          10,
          50,
          20,
          20,
          25,
          25,
          20,
          20,
          20,
          5,
          20,
          25,
          20,
          20,
          25
         ],
         "yaxis": "y9"
        },
        {
         "colorbar": {
          "title": {
           "text": "distance"
          }
         },
         "colorscale": [
          [
           0,
           "rgb(247,251,255)"
          ],
          [
           0.125,
           "rgb(222,235,247)"
          ],
          [
           0.25,
           "rgb(198,219,239)"
          ],
          [
           0.375,
           "rgb(158,202,225)"
          ],
          [
           0.5,
           "rgb(107,174,214)"
          ],
          [
           0.625,
           "rgb(66,146,198)"
          ],
          [
           0.75,
           "rgb(33,113,181)"
          ],
          [
           0.875,
           "rgb(8,81,156)"
          ],
          [
           1,
           "rgb(8,48,107)"
          ]
         ],
         "connectgaps": true,
         "contours": {
          "coloring": "heatmap"
         },
         "hoverinfo": "none",
         "line": {
          "smoothing": 1.3
         },
         "reversescale": true,
         "showscale": false,
         "type": "contour",
         "x": [
          0.55,
          1,
          2,
          3,
          4,
          5,
          6,
          7,
          8,
          9,
          10,
          10.45
         ],
         "xaxis": "x13",
         "y": [
          0.55,
          1,
          2,
          3,
          4,
          5,
          6,
          7,
          8,
          9,
          10,
          10.45
         ],
         "yaxis": "y13",
         "z": [
          [
           null,
           null,
           null,
           null,
           null,
           null,
           null,
           null,
           null,
           null,
           null,
           null
          ],
          [
           null,
           null,
           null,
           null,
           null,
           8.66674258217236,
           null,
           8.869225358183682,
           null,
           null,
           null,
           null
          ],
          [
           null,
           null,
           7.729002147545588,
           6.941922662101007,
           null,
           null,
           null,
           null,
           null,
           12.163271432543343,
           null,
           null
          ],
          [
           null,
           null,
           null,
           null,
           null,
           6.981201246209411,
           6.979135063046851,
           6.815801292072273,
           null,
           7.370998759623221,
           null,
           null
          ],
          [
           null,
           null,
           null,
           6.8117460133373084,
           11.925298482021743,
           null,
           8.503983449642131,
           6.832556332139712,
           null,
           null,
           null,
           null
          ],
          [
           null,
           null,
           null,
           null,
           6.956236529867877,
           7.964575044068963,
           null,
           null,
           7.217140271784709,
           null,
           7.051566361899401,
           null
          ],
          [
           null,
           8.57022760004778,
           null,
           null,
           null,
           7.515397508167222,
           6.9429332533104215,
           7.235049772447086,
           6.808101060600806,
           7.453287904085061,
           6.66350106253479,
           null
          ],
          [
           null,
           null,
           6.748722872287084,
           null,
           7.221052347750691,
           null,
           6.96561054208297,
           null,
           7.005949083428422,
           6.645324265512597,
           6.997488803389456,
           null
          ],
          [
           null,
           null,
           7.8531826497737764,
           null,
           6.576550046951129,
           null,
           null,
           null,
           6.745689398782036,
           6.957283794360092,
           6.876332674549545,
           null
          ],
          [
           null,
           8.708227955210178,
           9.460771081761246,
           7.6624150454747175,
           null,
           7.084958189604117,
           null,
           6.908755853941913,
           6.64645176318988,
           7.713219893326127,
           8.01258529334201,
           null
          ],
          [
           null,
           null,
           null,
           7.646147403787222,
           null,
           null,
           null,
           7.301109414249166,
           null,
           7.094660598117216,
           null,
           null
          ],
          [
           null,
           null,
           null,
           null,
           null,
           null,
           null,
           null,
           null,
           null,
           null,
           null
          ]
         ]
        },
        {
         "marker": {
          "color": "black",
          "line": {
           "color": "Grey",
           "width": 2
          }
         },
         "mode": "markers",
         "showlegend": false,
         "type": "scatter",
         "x": [
          5,
          5,
          2,
          9,
          7,
          6,
          10,
          7,
          9,
          10,
          3,
          5,
          4,
          7,
          1,
          6,
          4,
          8,
          8,
          8,
          4,
          6,
          6,
          8,
          5,
          7,
          3,
          3,
          3,
          1,
          5,
          2,
          2,
          2,
          2,
          3,
          4,
          1,
          9,
          9,
          10,
          9,
          9,
          9,
          9,
          10,
          8,
          10,
          7,
          9,
          8,
          10,
          9,
          10,
          9,
          10,
          8,
          10,
          8,
          7,
          8,
          9,
          6,
          9,
          8,
          5,
          9,
          7,
          8,
          10,
          9,
          9,
          9,
          10,
          8,
          9,
          5,
          10,
          8,
          8,
          7,
          4,
          9,
          8,
          8,
          6,
          9,
          9,
          8,
          7,
          10,
          9,
          9,
          9,
          10,
          9,
          10,
          9,
          9,
          4
         ],
         "xaxis": "x13",
         "y": [
          1,
          3,
          2,
          6,
          1,
          6,
          5,
          9,
          10,
          8,
          4,
          3,
          7,
          4,
          6,
          3,
          5,
          7,
          8,
          7,
          4,
          7,
          6,
          8,
          5,
          3,
          9,
          10,
          9,
          9,
          1,
          7,
          7,
          8,
          9,
          2,
          7,
          6,
          8,
          10,
          8,
          8,
          9,
          8,
          8,
          6,
          8,
          7,
          1,
          2,
          8,
          9,
          10,
          9,
          8,
          7,
          9,
          8,
          6,
          6,
          5,
          7,
          4,
          7,
          5,
          6,
          7,
          6,
          7,
          5,
          3,
          8,
          8,
          9,
          7,
          7,
          9,
          8,
          6,
          6,
          6,
          7,
          8,
          6,
          5,
          4,
          7,
          8,
          9,
          10,
          6,
          8,
          8,
          8,
          9,
          7,
          7,
          7,
          8,
          8
         ],
         "yaxis": "y13"
        },
        {
         "colorbar": {
          "title": {
           "text": "distance"
          }
         },
         "colorscale": [
          [
           0,
           "rgb(247,251,255)"
          ],
          [
           0.125,
           "rgb(222,235,247)"
          ],
          [
           0.25,
           "rgb(198,219,239)"
          ],
          [
           0.375,
           "rgb(158,202,225)"
          ],
          [
           0.5,
           "rgb(107,174,214)"
          ],
          [
           0.625,
           "rgb(66,146,198)"
          ],
          [
           0.75,
           "rgb(33,113,181)"
          ],
          [
           0.875,
           "rgb(8,81,156)"
          ],
          [
           1,
           "rgb(8,48,107)"
          ]
         ],
         "connectgaps": true,
         "contours": {
          "coloring": "heatmap"
         },
         "hoverinfo": "none",
         "line": {
          "smoothing": 1.3
         },
         "reversescale": true,
         "showscale": false,
         "type": "contour",
         "x": [
          0.19375795348254654,
          0.2071533476327387,
          0.2108826496676009,
          0.22649845425951956,
          0.2348422161207379,
          0.24970399445385352,
          0.2640041660119855,
          0.2681459855693354,
          0.27990987262531963,
          0.2801974824045272,
          0.28979439121120054,
          0.2977276300587118,
          0.30191840830159195,
          0.30531717585775664,
          0.3072609332536895,
          0.3095890919721405,
          0.3199482097685925,
          0.3203415688148227,
          0.32839785214494066,
          0.3301181793574532,
          0.3324263103771623,
          0.342767360728064,
          0.345665206416253,
          0.35386472050007467,
          0.35419768500124926,
          0.35466104158978995,
          0.3557250391285034,
          0.3625855513617516,
          0.3691733908101926,
          0.3724013309897641,
          0.3749189144410235,
          0.3788294226986846,
          0.3808027516424747,
          0.38204232987610165,
          0.3842108131624772,
          0.3902298506549719,
          0.3922829293782359,
          0.39580965661540085,
          0.397812210271553,
          0.4000580606180995,
          0.4006285877650944,
          0.4013989012755729,
          0.4034323355527375,
          0.40754813412109675,
          0.41030953202979964,
          0.4135162081334625,
          0.4141572734251889,
          0.4149470234793615,
          0.41688810647788116,
          0.41835992614351647,
          0.4218058278410013,
          0.42526534297124013,
          0.42555688144573245,
          0.43129455297287184,
          0.4317746174342902,
          0.43308404180119137,
          0.4333832950114248,
          0.4340122499072176,
          0.4354438381832276,
          0.43818774370819397,
          0.4396274674688022,
          0.44248607387749755,
          0.44702597226093654,
          0.4471748005498575,
          0.44889510397034976,
          0.45496615783406313,
          0.455905289052174,
          0.4566626873377028,
          0.4572336064734494,
          0.4573645058485396,
          0.4613086789148259,
          0.4691586882647345,
          0.4697627715615094,
          0.4714978764718547,
          0.47253514112491374,
          0.48133832632026236,
          0.48809307381469913,
          0.4907791267588383,
          0.4917432340030627,
          0.49175394637869163,
          0.5052768869322142,
          0.5057238326175705,
          0.5142977926155852,
          0.5168571625601595,
          0.5261139715008444,
          0.5318688040643682,
          0.5341243158916451,
          0.5466223038624164,
          0.5518485968165537,
          0.5586170018880328,
          0.5742808911649575,
          0.5756080830124146,
          0.5762782789998131,
          0.5995316559891004,
          0.6001711724099198,
          0.6234369246742749,
          0.6442402197305542,
          0.670087893263115,
          0.7095012959991417,
          0.7220926758066272,
          0.7887516870762818,
          0.8432817827193884
         ],
         "xaxis": "x2",
         "y": [
          0.55,
          1,
          2,
          3,
          4,
          5,
          6,
          7,
          8,
          9,
          10,
          10.45
         ],
         "yaxis": "y2",
         "z": [
          [
           null,
           null,
           null,
           null,
           null,
           null,
           null,
           null,
           null,
           null,
           null,
           null,
           null,
           null,
           null,
           null,
           null,
           null,
           null,
           null,
           null,
           null,
           null,
           null,
           null,
           null,
           null,
           null,
           null,
           null,
           null,
           null,
           null,
           null,
           null,
           null,
           null,
           null,
           null,
           null,
           null,
           null,
           null,
           null,
           null,
           null,
           null,
           null,
           null,
           null,
           null,
           null,
           null,
           null,
           null,
           null,
           null,
           null,
           null,
           null,
           null,
           null,
           null,
           null,
           null,
           null,
           null,
           null,
           null,
           null,
           null,
           null,
           null,
           null,
           null,
           null,
           null,
           null,
           null,
           null,
           null,
           null,
           null,
           null,
           null,
           null,
           null,
           null,
           null,
           null,
           null,
           null,
           null,
           null,
           null,
           null,
           null,
           null,
           null,
           null,
           null,
           null
          ],
          [
           null,
           8.708227955210178,
           null,
           null,
           null,
           null,
           null,
           null,
           null,
           null,
           null,
           null,
           null,
           null,
           null,
           null,
           null,
           null,
           null,
           null,
           null,
           null,
           null,
           null,
           null,
           null,
           null,
           null,
           null,
           null,
           null,
           null,
           null,
           null,
           null,
           null,
           null,
           null,
           null,
           null,
           null,
           null,
           null,
           null,
           null,
           null,
           null,
           null,
           8.57022760004778,
           null,
           null,
           null,
           null,
           null,
           null,
           null,
           null,
           null,
           null,
           null,
           null,
           null,
           null,
           null,
           null,
           null,
           null,
           null,
           null,
           null,
           null,
           null,
           null,
           null,
           null,
           null,
           null,
           null,
           null,
           null,
           null,
           null,
           null,
           null,
           null,
           null,
           null,
           null,
           null,
           null,
           null,
           null,
           null,
           null,
           null,
           null,
           null,
           null,
           null,
           null,
           8.430571643181738,
           null
          ],
          [
           null,
           null,
           null,
           null,
           7.729002147545588,
           null,
           null,
           null,
           null,
           null,
           null,
           6.748722872287084,
           null,
           null,
           null,
           null,
           null,
           null,
           null,
           null,
           null,
           null,
           null,
           null,
           null,
           null,
           null,
           null,
           null,
           null,
           null,
           6.72411317175734,
           null,
           null,
           null,
           null,
           null,
           null,
           null,
           null,
           null,
           null,
           null,
           null,
           null,
           null,
           null,
           null,
           null,
           null,
           null,
           null,
           null,
           null,
           null,
           null,
           null,
           null,
           null,
           null,
           null,
           null,
           null,
           null,
           null,
           null,
           null,
           null,
           null,
           null,
           null,
           null,
           null,
           null,
           null,
           null,
           null,
           null,
           null,
           null,
           null,
           null,
           null,
           null,
           null,
           null,
           null,
           null,
           7.8531826497737764,
           null,
           null,
           null,
           null,
           null,
           null,
           9.460771081761246,
           null,
           null,
           null,
           null,
           null,
           null
          ],
          [
           null,
           null,
           6.8117460133373084,
           6.941922662101007,
           null,
           7.6624150454747175,
           null,
           null,
           6.671881060560426,
           7.646147403787222,
           null,
           null,
           null,
           null,
           null,
           null,
           null,
           null,
           null,
           null,
           null,
           null,
           null,
           null,
           null,
           null,
           null,
           null,
           null,
           null,
           null,
           null,
           null,
           null,
           null,
           null,
           null,
           null,
           null,
           null,
           null,
           null,
           null,
           null,
           null,
           null,
           null,
           null,
           null,
           null,
           null,
           null,
           null,
           null,
           null,
           null,
           null,
           null,
           null,
           null,
           null,
           null,
           null,
           null,
           null,
           null,
           null,
           null,
           null,
           null,
           null,
           null,
           null,
           null,
           null,
           null,
           null,
           null,
           null,
           null,
           null,
           null,
           null,
           null,
           null,
           null,
           null,
           null,
           null,
           null,
           null,
           null,
           null,
           null,
           null,
           null,
           null,
           null,
           null,
           null,
           null,
           null
          ],
          [
           null,
           null,
           null,
           null,
           null,
           null,
           null,
           null,
           null,
           null,
           null,
           null,
           null,
           null,
           null,
           null,
           null,
           null,
           null,
           null,
           null,
           null,
           null,
           null,
           null,
           7.216405004586652,
           null,
           null,
           null,
           null,
           null,
           null,
           null,
           null,
           null,
           null,
           null,
           null,
           null,
           null,
           null,
           null,
           null,
           null,
           null,
           null,
           null,
           null,
           null,
           null,
           null,
           null,
           null,
           null,
           null,
           null,
           null,
           null,
           null,
           null,
           11.925298482021743,
           null,
           null,
           7.221052347750691,
           null,
           6.576550046951129,
           null,
           null,
           null,
           null,
           null,
           null,
           null,
           null,
           null,
           null,
           null,
           6.956236529867877,
           null,
           6.818525630049701,
           null,
           null,
           null,
           null,
           null,
           null,
           null,
           null,
           null,
           null,
           null,
           null,
           null,
           null,
           null,
           null,
           null,
           null,
           null,
           null,
           null,
           null
          ],
          [
           null,
           null,
           null,
           null,
           null,
           null,
           null,
           null,
           null,
           null,
           null,
           null,
           null,
           null,
           null,
           null,
           null,
           6.981201246209411,
           null,
           null,
           7.964575044068963,
           null,
           null,
           null,
           null,
           null,
           null,
           null,
           null,
           null,
           null,
           null,
           null,
           null,
           null,
           null,
           null,
           null,
           null,
           null,
           null,
           8.585233033074145,
           null,
           null,
           7.084958189604117,
           null,
           null,
           null,
           null,
           null,
           null,
           7.515397508167222,
           null,
           null,
           null,
           null,
           null,
           null,
           null,
           null,
           null,
           null,
           6.618593669483881,
           null,
           null,
           null,
           null,
           null,
           null,
           null,
           null,
           8.66674258217236,
           null,
           null,
           null,
           null,
           null,
           null,
           null,
           null,
           null,
           null,
           null,
           null,
           null,
           null,
           null,
           null,
           null,
           null,
           null,
           null,
           null,
           null,
           null,
           null,
           null,
           null,
           null,
           null,
           null,
           null
          ],
          [
           null,
           null,
           null,
           null,
           null,
           null,
           null,
           null,
           null,
           null,
           null,
           null,
           null,
           null,
           null,
           7.321542595070055,
           null,
           null,
           null,
           null,
           null,
           null,
           null,
           null,
           null,
           null,
           null,
           null,
           null,
           null,
           6.979135063046851,
           null,
           6.795074677253929,
           null,
           8.503983449642131,
           null,
           null,
           null,
           null,
           null,
           null,
           null,
           null,
           null,
           null,
           null,
           null,
           null,
           null,
           null,
           null,
           null,
           null,
           null,
           null,
           null,
           null,
           6.96561054208297,
           null,
           null,
           null,
           null,
           null,
           null,
           null,
           null,
           null,
           null,
           null,
           null,
           null,
           null,
           null,
           null,
           null,
           null,
           null,
           null,
           null,
           null,
           null,
           null,
           null,
           null,
           null,
           null,
           null,
           null,
           null,
           null,
           null,
           null,
           null,
           null,
           null,
           null,
           null,
           6.9429332533104215,
           null,
           null,
           null,
           null
          ],
          [
           null,
           null,
           null,
           null,
           null,
           null,
           null,
           6.832556332139712,
           null,
           null,
           null,
           null,
           null,
           6.682989805676676,
           null,
           null,
           null,
           null,
           null,
           null,
           null,
           null,
           null,
           null,
           null,
           null,
           null,
           null,
           6.66382503839976,
           null,
           null,
           null,
           null,
           null,
           null,
           null,
           null,
           null,
           null,
           null,
           6.815801292072273,
           null,
           null,
           null,
           null,
           null,
           null,
           null,
           null,
           null,
           null,
           null,
           null,
           null,
           null,
           null,
           null,
           null,
           6.908755853941913,
           null,
           null,
           null,
           null,
           null,
           null,
           null,
           null,
           null,
           null,
           null,
           null,
           null,
           null,
           null,
           null,
           null,
           null,
           null,
           null,
           null,
           8.869225358183682,
           null,
           null,
           6.887766974338823,
           7.301109414249166,
           null,
           7.235049772447086,
           null,
           null,
           null,
           null,
           null,
           null,
           null,
           null,
           null,
           null,
           null,
           null,
           null,
           null,
           null
          ],
          [
           null,
           null,
           null,
           null,
           null,
           null,
           null,
           null,
           null,
           null,
           7.391283589596038,
           null,
           null,
           null,
           6.627462023521828,
           null,
           null,
           null,
           null,
           null,
           null,
           null,
           null,
           null,
           null,
           null,
           null,
           null,
           null,
           7.005949083428422,
           null,
           null,
           null,
           null,
           null,
           null,
           7.295825720624886,
           6.815373873760449,
           null,
           null,
           null,
           null,
           null,
           null,
           null,
           null,
           null,
           null,
           null,
           null,
           null,
           null,
           null,
           null,
           null,
           6.64645176318988,
           null,
           null,
           null,
           null,
           null,
           null,
           null,
           null,
           6.745689398782036,
           null,
           null,
           null,
           null,
           6.580320620577788,
           6.7562629718977085,
           null,
           null,
           7.024234465112119,
           null,
           7.217140271784709,
           null,
           null,
           8.559175843633275,
           null,
           null,
           6.808101060600806,
           null,
           null,
           null,
           6.959133443616567,
           null,
           null,
           null,
           6.599394886762154,
           null,
           null,
           7.266823098840962,
           null,
           8.406950422480717,
           null,
           null,
           null,
           null,
           null,
           null,
           null
          ],
          [
           null,
           null,
           null,
           null,
           null,
           null,
           null,
           null,
           null,
           null,
           null,
           null,
           null,
           null,
           null,
           null,
           7.15789438857747,
           null,
           7.094660598117216,
           null,
           null,
           7.211213195809447,
           null,
           6.921022812909283,
           null,
           null,
           null,
           7.628141333970418,
           null,
           null,
           null,
           null,
           null,
           6.640850624509698,
           null,
           7.068810960223108,
           null,
           null,
           null,
           6.308989647949975,
           null,
           null,
           7.370998759623221,
           null,
           null,
           7.126390293845463,
           6.492786820564281,
           10.051626422752918,
           null,
           6.957283794360092,
           null,
           null,
           6.615732926652282,
           6.433846807545842,
           null,
           null,
           6.588846670861879,
           null,
           null,
           6.6920013351818435,
           null,
           6.947963177181552,
           null,
           null,
           null,
           null,
           7.713219893326127,
           6.16138370816904,
           6.665481385609239,
           null,
           null,
           null,
           6.645324265512597,
           null,
           9.60516791607654,
           null,
           7.157780863809487,
           null,
           null,
           null,
           null,
           null,
           null,
           null,
           null,
           null,
           null,
           12.163271432543343,
           null,
           null,
           null,
           null,
           null,
           7.453287904085061,
           null,
           null,
           null,
           null,
           null,
           6.708266025071973,
           null,
           null
          ],
          [
           null,
           null,
           null,
           null,
           null,
           null,
           7.051566361899401,
           null,
           null,
           null,
           null,
           null,
           7.90844943711807,
           null,
           null,
           null,
           null,
           null,
           null,
           6.64246398086282,
           null,
           null,
           7.263445589789916,
           null,
           6.945652088103281,
           null,
           6.582774692333775,
           null,
           null,
           null,
           null,
           null,
           null,
           null,
           null,
           null,
           null,
           null,
           8.01258529334201,
           null,
           null,
           null,
           null,
           6.997488803389456,
           null,
           null,
           null,
           null,
           null,
           null,
           10.368444606240724,
           null,
           null,
           null,
           6.876332674549545,
           null,
           null,
           null,
           null,
           null,
           null,
           null,
           null,
           null,
           null,
           null,
           null,
           null,
           null,
           null,
           null,
           null,
           null,
           null,
           null,
           null,
           null,
           null,
           null,
           null,
           null,
           null,
           7.017972862065542,
           null,
           null,
           null,
           null,
           null,
           null,
           null,
           7.986992462708582,
           6.66350106253479,
           null,
           null,
           null,
           null,
           6.81556255689501,
           null,
           13.841512769908556,
           null,
           null,
           null
          ],
          [
           null,
           null,
           null,
           null,
           null,
           null,
           null,
           null,
           null,
           null,
           null,
           null,
           null,
           null,
           null,
           null,
           null,
           null,
           null,
           null,
           null,
           null,
           null,
           null,
           null,
           null,
           null,
           null,
           null,
           null,
           null,
           null,
           null,
           null,
           null,
           null,
           null,
           null,
           null,
           null,
           null,
           null,
           null,
           null,
           null,
           null,
           null,
           null,
           null,
           null,
           null,
           null,
           null,
           null,
           null,
           null,
           null,
           null,
           null,
           null,
           null,
           null,
           null,
           null,
           null,
           null,
           null,
           null,
           null,
           null,
           null,
           null,
           null,
           null,
           null,
           null,
           null,
           null,
           null,
           null,
           null,
           null,
           null,
           null,
           null,
           null,
           null,
           null,
           null,
           null,
           null,
           null,
           null,
           null,
           null,
           null,
           null,
           null,
           null,
           null,
           null,
           null
          ]
         ]
        },
        {
         "marker": {
          "color": "black",
          "line": {
           "color": "Grey",
           "width": 2
          }
         },
         "mode": "markers",
         "showlegend": false,
         "type": "scatter",
         "x": [
          0.4013989012755729,
          0.44702597226093654,
          0.2348422161207379,
          0.5995316559891004,
          0.5168571625601595,
          0.3808027516424747,
          0.30191840830159195,
          0.4354438381832276,
          0.35386472050007467,
          0.7095012959991417,
          0.2108826496676009,
          0.3203415688148227,
          0.49175394637869163,
          0.2681459855693354,
          0.7887516870762818,
          0.3749189144410235,
          0.4907791267588383,
          0.5586170018880328,
          0.6001711724099198,
          0.5762782789998131,
          0.4396274674688022,
          0.4340122499072176,
          0.670087893263115,
          0.5318688040643682,
          0.3324263103771623,
          0.4006285877650944,
          0.27990987262531963,
          0.2801974824045272,
          0.24970399445385352,
          0.2071533476327387,
          0.4691586882647345,
          0.3788294226986846,
          0.2977276300587118,
          0.5518485968165537,
          0.6234369246742749,
          0.22649845425951956,
          0.35466104158978995,
          0.41688810647788116,
          0.4566626873377028,
          0.47253514112491374,
          0.5142977926155852,
          0.38204232987610165,
          0.455905289052174,
          0.4141572734251889,
          0.4149470234793615,
          0.35419768500124926,
          0.3922829293782359,
          0.6442402197305542,
          0.5052768869322142,
          0.5466223038624164,
          0.44889510397034976,
          0.3301181793574532,
          0.32839785214494066,
          0.3557250391285034,
          0.3625855513617516,
          0.4218058278410013,
          0.39580965661540085,
          0.5742808911649575,
          0.3072609332536895,
          0.30531717585775664,
          0.4917432340030627,
          0.342767360728064,
          0.3095890919721405,
          0.4333832950114248,
          0.4714978764718547,
          0.42526534297124013,
          0.7220926758066272,
          0.3691733908101926,
          0.28979439121120054,
          0.2640041660119855,
          0.4034323355527375,
          0.44248607387749755,
          0.3902298506549719,
          0.345665206416253,
          0.3724013309897641,
          0.3199482097685925,
          0.41030953202979964,
          0.4317746174342902,
          0.4573645058485396,
          0.4613086789148259,
          0.5341243158916451,
          0.4471748005498575,
          0.48809307381469913,
          0.5057238326175705,
          0.48133832632026236,
          0.3842108131624772,
          0.4135162081334625,
          0.43129455297287184,
          0.43308404180119137,
          0.5261139715008444,
          0.5756080830124146,
          0.4000580606180995,
          0.4572336064734494,
          0.43818774370819397,
          0.397812210271553,
          0.42555688144573245,
          0.40754813412109675,
          0.4697627715615094,
          0.41835992614351647,
          0.45496615783406313
         ],
         "xaxis": "x2",
         "y": [
          5,
          5,
          2,
          9,
          7,
          6,
          10,
          7,
          9,
          10,
          3,
          5,
          4,
          7,
          1,
          6,
          4,
          8,
          8,
          8,
          4,
          6,
          6,
          8,
          5,
          7,
          3,
          3,
          3,
          1,
          5,
          2,
          2,
          2,
          2,
          3,
          4,
          1,
          9,
          9,
          10,
          9,
          9,
          9,
          9,
          10,
          8,
          10,
          7,
          9,
          8,
          10,
          9,
          10,
          9,
          10,
          8,
          10,
          8,
          7,
          8,
          9,
          6,
          9,
          8,
          5,
          9,
          7,
          8,
          10,
          9,
          9,
          9,
          10,
          8,
          9,
          5,
          10,
          8,
          8,
          7,
          4,
          9,
          8,
          8,
          6,
          9,
          9,
          8,
          7,
          10,
          9,
          9,
          9,
          10,
          9,
          10,
          9,
          9,
          4
         ],
         "yaxis": "y2"
        },
        {
         "type": "scatter",
         "xaxis": "x6",
         "yaxis": "y6"
        },
        {
         "colorbar": {
          "title": {
           "text": "distance"
          }
         },
         "colorscale": [
          [
           0,
           "rgb(247,251,255)"
          ],
          [
           0.125,
           "rgb(222,235,247)"
          ],
          [
           0.25,
           "rgb(198,219,239)"
          ],
          [
           0.375,
           "rgb(158,202,225)"
          ],
          [
           0.5,
           "rgb(107,174,214)"
          ],
          [
           0.625,
           "rgb(66,146,198)"
          ],
          [
           0.75,
           "rgb(33,113,181)"
          ],
          [
           0.875,
           "rgb(8,81,156)"
          ],
          [
           1,
           "rgb(8,48,107)"
          ]
         ],
         "connectgaps": true,
         "contours": {
          "coloring": "heatmap"
         },
         "hoverinfo": "none",
         "line": {
          "smoothing": 1.3
         },
         "reversescale": true,
         "showscale": false,
         "type": "contour",
         "x": [
          0.19375795348254654,
          0.2071533476327387,
          0.2108826496676009,
          0.22649845425951956,
          0.2348422161207379,
          0.24970399445385352,
          0.2640041660119855,
          0.2681459855693354,
          0.27990987262531963,
          0.2801974824045272,
          0.28979439121120054,
          0.2977276300587118,
          0.30191840830159195,
          0.30531717585775664,
          0.3072609332536895,
          0.3095890919721405,
          0.3199482097685925,
          0.3203415688148227,
          0.32839785214494066,
          0.3301181793574532,
          0.3324263103771623,
          0.342767360728064,
          0.345665206416253,
          0.35386472050007467,
          0.35419768500124926,
          0.35466104158978995,
          0.3557250391285034,
          0.3625855513617516,
          0.3691733908101926,
          0.3724013309897641,
          0.3749189144410235,
          0.3788294226986846,
          0.3808027516424747,
          0.38204232987610165,
          0.3842108131624772,
          0.3902298506549719,
          0.3922829293782359,
          0.39580965661540085,
          0.397812210271553,
          0.4000580606180995,
          0.4006285877650944,
          0.4013989012755729,
          0.4034323355527375,
          0.40754813412109675,
          0.41030953202979964,
          0.4135162081334625,
          0.4141572734251889,
          0.4149470234793615,
          0.41688810647788116,
          0.41835992614351647,
          0.4218058278410013,
          0.42526534297124013,
          0.42555688144573245,
          0.43129455297287184,
          0.4317746174342902,
          0.43308404180119137,
          0.4333832950114248,
          0.4340122499072176,
          0.4354438381832276,
          0.43818774370819397,
          0.4396274674688022,
          0.44248607387749755,
          0.44702597226093654,
          0.4471748005498575,
          0.44889510397034976,
          0.45496615783406313,
          0.455905289052174,
          0.4566626873377028,
          0.4572336064734494,
          0.4573645058485396,
          0.4613086789148259,
          0.4691586882647345,
          0.4697627715615094,
          0.4714978764718547,
          0.47253514112491374,
          0.48133832632026236,
          0.48809307381469913,
          0.4907791267588383,
          0.4917432340030627,
          0.49175394637869163,
          0.5052768869322142,
          0.5057238326175705,
          0.5142977926155852,
          0.5168571625601595,
          0.5261139715008444,
          0.5318688040643682,
          0.5341243158916451,
          0.5466223038624164,
          0.5518485968165537,
          0.5586170018880328,
          0.5742808911649575,
          0.5756080830124146,
          0.5762782789998131,
          0.5995316559891004,
          0.6001711724099198,
          0.6234369246742749,
          0.6442402197305542,
          0.670087893263115,
          0.7095012959991417,
          0.7220926758066272,
          0.7887516870762818,
          0.8432817827193884
         ],
         "xaxis": "x10",
         "y": [
          2.75,
          5,
          10,
          15,
          20,
          25,
          30,
          35,
          40,
          45,
          50,
          52.25
         ],
         "yaxis": "y10",
         "z": [
          [
           null,
           null,
           null,
           null,
           null,
           null,
           null,
           null,
           null,
           null,
           null,
           null,
           null,
           null,
           null,
           null,
           null,
           null,
           null,
           null,
           null,
           null,
           null,
           null,
           null,
           null,
           null,
           null,
           null,
           null,
           null,
           null,
           null,
           null,
           null,
           null,
           null,
           null,
           null,
           null,
           null,
           null,
           null,
           null,
           null,
           null,
           null,
           null,
           null,
           null,
           null,
           null,
           null,
           null,
           null,
           null,
           null,
           null,
           null,
           null,
           null,
           null,
           null,
           null,
           null,
           null,
           null,
           null,
           null,
           null,
           null,
           null,
           null,
           null,
           null,
           null,
           null,
           null,
           null,
           null,
           null,
           null,
           null,
           null,
           null,
           null,
           null,
           null,
           null,
           null,
           null,
           null,
           null,
           null,
           null,
           null,
           null,
           null,
           null,
           null,
           null,
           null
          ],
          [
           null,
           null,
           null,
           null,
           null,
           null,
           null,
           null,
           null,
           null,
           null,
           null,
           null,
           null,
           null,
           null,
           null,
           null,
           null,
           null,
           null,
           null,
           null,
           null,
           null,
           null,
           null,
           null,
           null,
           null,
           null,
           null,
           null,
           null,
           null,
           null,
           null,
           null,
           8.01258529334201,
           null,
           null,
           null,
           null,
           null,
           null,
           null,
           null,
           10.051626422752918,
           null,
           null,
           10.368444606240724,
           null,
           null,
           null,
           null,
           null,
           null,
           null,
           null,
           null,
           11.925298482021743,
           null,
           null,
           null,
           null,
           null,
           null,
           null,
           null,
           null,
           null,
           null,
           null,
           null,
           9.60516791607654,
           null,
           null,
           null,
           null,
           null,
           null,
           null,
           null,
           null,
           null,
           null,
           null,
           12.163271432543343,
           null,
           null,
           null,
           null,
           null,
           null,
           null,
           null,
           null,
           null,
           13.841512769908556,
           null,
           null,
           null
          ],
          [
           null,
           8.708227955210178,
           null,
           null,
           null,
           null,
           null,
           null,
           null,
           null,
           null,
           null,
           null,
           null,
           null,
           null,
           null,
           null,
           null,
           null,
           7.964575044068963,
           null,
           null,
           null,
           null,
           null,
           6.582774692333775,
           7.628141333970418,
           null,
           null,
           null,
           null,
           null,
           null,
           8.503983449642131,
           7.068810960223108,
           7.295825720624886,
           null,
           null,
           null,
           null,
           null,
           null,
           null,
           null,
           null,
           null,
           null,
           null,
           null,
           null,
           null,
           null,
           null,
           6.876332674549545,
           null,
           null,
           null,
           6.908755853941913,
           null,
           null,
           null,
           null,
           null,
           null,
           null,
           7.713219893326127,
           6.16138370816904,
           null,
           null,
           null,
           null,
           null,
           null,
           null,
           null,
           null,
           null,
           8.559175843633275,
           null,
           8.869225358183682,
           null,
           7.017972862065542,
           null,
           null,
           null,
           null,
           null,
           null,
           null,
           7.986992462708582,
           null,
           null,
           null,
           8.406950422480717,
           null,
           null,
           null,
           null,
           null,
           null,
           null
          ],
          [
           null,
           null,
           null,
           null,
           null,
           null,
           null,
           null,
           6.671881060560426,
           7.646147403787222,
           null,
           null,
           null,
           null,
           6.627462023521828,
           7.321542595070055,
           7.15789438857747,
           null,
           7.094660598117216,
           6.64246398086282,
           null,
           7.211213195809447,
           null,
           null,
           6.945652088103281,
           7.216405004586652,
           null,
           null,
           null,
           7.005949083428422,
           null,
           null,
           null,
           6.640850624509698,
           null,
           null,
           null,
           null,
           null,
           null,
           null,
           null,
           null,
           null,
           null,
           null,
           6.492786820564281,
           null,
           null,
           null,
           null,
           null,
           null,
           null,
           null,
           null,
           null,
           null,
           null,
           null,
           null,
           6.947963177181552,
           null,
           null,
           null,
           null,
           null,
           null,
           null,
           null,
           null,
           null,
           null,
           null,
           null,
           null,
           7.157780863809487,
           null,
           null,
           null,
           null,
           null,
           null,
           null,
           null,
           6.959133443616567,
           null,
           null,
           null,
           6.599394886762154,
           null,
           null,
           7.266823098840962,
           7.453287904085061,
           null,
           9.460771081761246,
           6.81556255689501,
           null,
           null,
           null,
           null,
           null
          ],
          [
           null,
           null,
           null,
           null,
           null,
           7.6624150454747175,
           null,
           null,
           null,
           null,
           null,
           null,
           null,
           6.682989805676676,
           null,
           null,
           null,
           null,
           null,
           null,
           null,
           null,
           7.263445589789916,
           6.921022812909283,
           null,
           null,
           null,
           null,
           null,
           null,
           null,
           6.72411317175734,
           null,
           null,
           null,
           null,
           null,
           6.815373873760449,
           null,
           6.308989647949975,
           null,
           8.585233033074145,
           null,
           null,
           7.084958189604117,
           null,
           null,
           null,
           8.57022760004778,
           6.957283794360092,
           null,
           null,
           6.615732926652282,
           6.433846807545842,
           null,
           6.64645176318988,
           null,
           6.96561054208297,
           null,
           6.6920013351818435,
           null,
           null,
           6.618593669483881,
           null,
           null,
           null,
           null,
           null,
           6.665481385609239,
           null,
           null,
           8.66674258217236,
           6.645324265512597,
           null,
           null,
           null,
           null,
           null,
           null,
           null,
           null,
           null,
           null,
           null,
           null,
           null,
           null,
           null,
           7.8531826497737764,
           null,
           null,
           null,
           null,
           null,
           null,
           null,
           null,
           null,
           null,
           null,
           null,
           null
          ],
          [
           null,
           null,
           null,
           6.941922662101007,
           7.729002147545588,
           null,
           null,
           null,
           null,
           null,
           7.391283589596038,
           6.748722872287084,
           null,
           null,
           null,
           null,
           null,
           null,
           null,
           null,
           null,
           null,
           null,
           null,
           null,
           null,
           null,
           null,
           null,
           null,
           null,
           null,
           null,
           null,
           null,
           null,
           null,
           null,
           null,
           null,
           6.815801292072273,
           null,
           null,
           6.997488803389456,
           null,
           null,
           null,
           null,
           null,
           null,
           null,
           null,
           null,
           null,
           null,
           null,
           null,
           null,
           null,
           null,
           null,
           null,
           null,
           null,
           6.745689398782036,
           6.576550046951129,
           null,
           null,
           null,
           null,
           null,
           null,
           null,
           null,
           null,
           null,
           null,
           null,
           null,
           null,
           null,
           null,
           null,
           6.887766974338823,
           7.301109414249166,
           null,
           null,
           null,
           null,
           null,
           null,
           6.66350106253479,
           null,
           null,
           null,
           null,
           null,
           null,
           null,
           null,
           null,
           null
          ],
          [
           null,
           null,
           null,
           null,
           null,
           null,
           7.051566361899401,
           null,
           null,
           null,
           null,
           null,
           null,
           null,
           null,
           null,
           null,
           null,
           null,
           null,
           null,
           null,
           null,
           null,
           null,
           null,
           null,
           null,
           null,
           null,
           6.979135063046851,
           null,
           null,
           null,
           null,
           null,
           null,
           null,
           null,
           null,
           null,
           null,
           null,
           null,
           null,
           null,
           null,
           null,
           null,
           null,
           null,
           null,
           null,
           null,
           null,
           null,
           6.588846670861879,
           null,
           null,
           null,
           null,
           null,
           null,
           null,
           null,
           null,
           null,
           null,
           null,
           null,
           null,
           null,
           null,
           7.024234465112119,
           null,
           null,
           null,
           null,
           null,
           null,
           null,
           null,
           null,
           null,
           null,
           null,
           null,
           null,
           null,
           null,
           null,
           null,
           null,
           null,
           null,
           null,
           null,
           6.9429332533104215,
           null,
           6.708266025071973,
           null,
           null
          ],
          [
           null,
           null,
           null,
           null,
           null,
           null,
           null,
           6.832556332139712,
           null,
           null,
           null,
           null,
           null,
           null,
           null,
           null,
           null,
           6.981201246209411,
           null,
           null,
           null,
           null,
           null,
           null,
           null,
           null,
           null,
           null,
           6.66382503839976,
           null,
           null,
           null,
           null,
           null,
           null,
           null,
           null,
           null,
           null,
           null,
           null,
           null,
           null,
           null,
           null,
           null,
           null,
           null,
           null,
           null,
           null,
           7.515397508167222,
           null,
           null,
           null,
           null,
           null,
           null,
           null,
           null,
           null,
           null,
           null,
           null,
           null,
           null,
           null,
           null,
           null,
           null,
           null,
           null,
           null,
           null,
           null,
           7.217140271784709,
           null,
           null,
           null,
           null,
           null,
           null,
           null,
           null,
           null,
           null,
           null,
           null,
           null,
           null,
           null,
           null,
           null,
           null,
           null,
           null,
           null,
           null,
           null,
           null,
           null,
           null
          ],
          [
           null,
           null,
           6.8117460133373084,
           null,
           null,
           null,
           null,
           null,
           null,
           null,
           null,
           null,
           null,
           null,
           null,
           null,
           null,
           null,
           null,
           null,
           null,
           null,
           null,
           null,
           null,
           null,
           null,
           null,
           null,
           null,
           null,
           null,
           null,
           null,
           null,
           null,
           null,
           null,
           null,
           null,
           null,
           null,
           null,
           null,
           null,
           null,
           null,
           null,
           null,
           null,
           null,
           null,
           null,
           null,
           null,
           null,
           null,
           null,
           null,
           null,
           null,
           null,
           null,
           null,
           null,
           null,
           null,
           null,
           null,
           6.580320620577788,
           6.7562629718977085,
           null,
           null,
           null,
           null,
           null,
           null,
           null,
           null,
           null,
           null,
           6.808101060600806,
           null,
           null,
           null,
           null,
           null,
           null,
           null,
           null,
           null,
           null,
           null,
           null,
           null,
           null,
           null,
           null,
           null,
           null,
           8.430571643181738,
           null
          ],
          [
           null,
           null,
           null,
           null,
           null,
           null,
           null,
           null,
           null,
           null,
           null,
           null,
           null,
           null,
           null,
           null,
           null,
           null,
           null,
           null,
           null,
           null,
           null,
           null,
           null,
           null,
           null,
           null,
           null,
           null,
           null,
           null,
           null,
           null,
           null,
           null,
           null,
           null,
           null,
           null,
           null,
           null,
           7.370998759623221,
           null,
           null,
           null,
           null,
           null,
           null,
           null,
           null,
           null,
           null,
           null,
           null,
           null,
           null,
           null,
           null,
           null,
           null,
           null,
           null,
           7.221052347750691,
           null,
           null,
           null,
           null,
           null,
           null,
           null,
           null,
           null,
           null,
           null,
           null,
           null,
           6.956236529867877,
           null,
           null,
           null,
           null,
           null,
           null,
           null,
           null,
           7.235049772447086,
           null,
           null,
           null,
           null,
           null,
           null,
           null,
           null,
           null,
           null,
           null,
           null,
           null,
           null,
           null
          ],
          [
           null,
           null,
           null,
           null,
           null,
           null,
           null,
           null,
           null,
           null,
           null,
           null,
           7.90844943711807,
           null,
           null,
           null,
           null,
           null,
           null,
           null,
           null,
           null,
           null,
           null,
           null,
           null,
           null,
           null,
           null,
           null,
           null,
           null,
           6.795074677253929,
           null,
           null,
           null,
           null,
           null,
           null,
           null,
           null,
           null,
           null,
           null,
           null,
           7.126390293845463,
           null,
           null,
           null,
           null,
           null,
           null,
           null,
           null,
           null,
           null,
           null,
           null,
           null,
           null,
           null,
           null,
           null,
           null,
           null,
           null,
           null,
           null,
           null,
           null,
           null,
           null,
           null,
           null,
           null,
           null,
           null,
           null,
           null,
           6.818525630049701,
           null,
           null,
           null,
           null,
           null,
           null,
           null,
           null,
           null,
           null,
           null,
           null,
           null,
           null,
           null,
           null,
           null,
           null,
           null,
           null,
           null,
           null
          ],
          [
           null,
           null,
           null,
           null,
           null,
           null,
           null,
           null,
           null,
           null,
           null,
           null,
           null,
           null,
           null,
           null,
           null,
           null,
           null,
           null,
           null,
           null,
           null,
           null,
           null,
           null,
           null,
           null,
           null,
           null,
           null,
           null,
           null,
           null,
           null,
           null,
           null,
           null,
           null,
           null,
           null,
           null,
           null,
           null,
           null,
           null,
           null,
           null,
           null,
           null,
           null,
           null,
           null,
           null,
           null,
           null,
           null,
           null,
           null,
           null,
           null,
           null,
           null,
           null,
           null,
           null,
           null,
           null,
           null,
           null,
           null,
           null,
           null,
           null,
           null,
           null,
           null,
           null,
           null,
           null,
           null,
           null,
           null,
           null,
           null,
           null,
           null,
           null,
           null,
           null,
           null,
           null,
           null,
           null,
           null,
           null,
           null,
           null,
           null,
           null,
           null,
           null
          ]
         ]
        },
        {
         "marker": {
          "color": "black",
          "line": {
           "color": "Grey",
           "width": 2
          }
         },
         "mode": "markers",
         "showlegend": false,
         "type": "scatter",
         "x": [
          0.4013989012755729,
          0.44702597226093654,
          0.2348422161207379,
          0.5995316559891004,
          0.5168571625601595,
          0.3808027516424747,
          0.30191840830159195,
          0.4354438381832276,
          0.35386472050007467,
          0.7095012959991417,
          0.2108826496676009,
          0.3203415688148227,
          0.49175394637869163,
          0.2681459855693354,
          0.7887516870762818,
          0.3749189144410235,
          0.4907791267588383,
          0.5586170018880328,
          0.6001711724099198,
          0.5762782789998131,
          0.4396274674688022,
          0.4340122499072176,
          0.670087893263115,
          0.5318688040643682,
          0.3324263103771623,
          0.4006285877650944,
          0.27990987262531963,
          0.2801974824045272,
          0.24970399445385352,
          0.2071533476327387,
          0.4691586882647345,
          0.3788294226986846,
          0.2977276300587118,
          0.5518485968165537,
          0.6234369246742749,
          0.22649845425951956,
          0.35466104158978995,
          0.41688810647788116,
          0.4566626873377028,
          0.47253514112491374,
          0.5142977926155852,
          0.38204232987610165,
          0.455905289052174,
          0.4141572734251889,
          0.4149470234793615,
          0.35419768500124926,
          0.3922829293782359,
          0.6442402197305542,
          0.5052768869322142,
          0.5466223038624164,
          0.44889510397034976,
          0.3301181793574532,
          0.32839785214494066,
          0.3557250391285034,
          0.3625855513617516,
          0.4218058278410013,
          0.39580965661540085,
          0.5742808911649575,
          0.3072609332536895,
          0.30531717585775664,
          0.4917432340030627,
          0.342767360728064,
          0.3095890919721405,
          0.4333832950114248,
          0.4714978764718547,
          0.42526534297124013,
          0.7220926758066272,
          0.3691733908101926,
          0.28979439121120054,
          0.2640041660119855,
          0.4034323355527375,
          0.44248607387749755,
          0.3902298506549719,
          0.345665206416253,
          0.3724013309897641,
          0.3199482097685925,
          0.41030953202979964,
          0.4317746174342902,
          0.4573645058485396,
          0.4613086789148259,
          0.5341243158916451,
          0.4471748005498575,
          0.48809307381469913,
          0.5057238326175705,
          0.48133832632026236,
          0.3842108131624772,
          0.4135162081334625,
          0.43129455297287184,
          0.43308404180119137,
          0.5261139715008444,
          0.5756080830124146,
          0.4000580606180995,
          0.4572336064734494,
          0.43818774370819397,
          0.397812210271553,
          0.42555688144573245,
          0.40754813412109675,
          0.4697627715615094,
          0.41835992614351647,
          0.45496615783406313
         ],
         "xaxis": "x10",
         "y": [
          20,
          20,
          25,
          15,
          25,
          50,
          50,
          10,
          20,
          5,
          40,
          35,
          50,
          35,
          40,
          30,
          45,
          15,
          10,
          15,
          5,
          20,
          30,
          15,
          10,
          25,
          15,
          15,
          20,
          10,
          20,
          20,
          25,
          20,
          15,
          25,
          15,
          20,
          10,
          5,
          10,
          15,
          10,
          15,
          5,
          15,
          10,
          15,
          10,
          5,
          25,
          15,
          15,
          10,
          10,
          5,
          20,
          10,
          15,
          20,
          10,
          15,
          15,
          30,
          30,
          35,
          30,
          35,
          25,
          30,
          45,
          15,
          10,
          20,
          15,
          15,
          20,
          10,
          40,
          40,
          45,
          45,
          15,
          40,
          35,
          10,
          50,
          20,
          20,
          25,
          25,
          20,
          20,
          20,
          5,
          20,
          25,
          20,
          20,
          25
         ],
         "yaxis": "y10"
        },
        {
         "colorbar": {
          "title": {
           "text": "distance"
          }
         },
         "colorscale": [
          [
           0,
           "rgb(247,251,255)"
          ],
          [
           0.125,
           "rgb(222,235,247)"
          ],
          [
           0.25,
           "rgb(198,219,239)"
          ],
          [
           0.375,
           "rgb(158,202,225)"
          ],
          [
           0.5,
           "rgb(107,174,214)"
          ],
          [
           0.625,
           "rgb(66,146,198)"
          ],
          [
           0.75,
           "rgb(33,113,181)"
          ],
          [
           0.875,
           "rgb(8,81,156)"
          ],
          [
           1,
           "rgb(8,48,107)"
          ]
         ],
         "connectgaps": true,
         "contours": {
          "coloring": "heatmap"
         },
         "hoverinfo": "none",
         "line": {
          "smoothing": 1.3
         },
         "reversescale": true,
         "showscale": false,
         "type": "contour",
         "x": [
          0.19375795348254654,
          0.2071533476327387,
          0.2108826496676009,
          0.22649845425951956,
          0.2348422161207379,
          0.24970399445385352,
          0.2640041660119855,
          0.2681459855693354,
          0.27990987262531963,
          0.2801974824045272,
          0.28979439121120054,
          0.2977276300587118,
          0.30191840830159195,
          0.30531717585775664,
          0.3072609332536895,
          0.3095890919721405,
          0.3199482097685925,
          0.3203415688148227,
          0.32839785214494066,
          0.3301181793574532,
          0.3324263103771623,
          0.342767360728064,
          0.345665206416253,
          0.35386472050007467,
          0.35419768500124926,
          0.35466104158978995,
          0.3557250391285034,
          0.3625855513617516,
          0.3691733908101926,
          0.3724013309897641,
          0.3749189144410235,
          0.3788294226986846,
          0.3808027516424747,
          0.38204232987610165,
          0.3842108131624772,
          0.3902298506549719,
          0.3922829293782359,
          0.39580965661540085,
          0.397812210271553,
          0.4000580606180995,
          0.4006285877650944,
          0.4013989012755729,
          0.4034323355527375,
          0.40754813412109675,
          0.41030953202979964,
          0.4135162081334625,
          0.4141572734251889,
          0.4149470234793615,
          0.41688810647788116,
          0.41835992614351647,
          0.4218058278410013,
          0.42526534297124013,
          0.42555688144573245,
          0.43129455297287184,
          0.4317746174342902,
          0.43308404180119137,
          0.4333832950114248,
          0.4340122499072176,
          0.4354438381832276,
          0.43818774370819397,
          0.4396274674688022,
          0.44248607387749755,
          0.44702597226093654,
          0.4471748005498575,
          0.44889510397034976,
          0.45496615783406313,
          0.455905289052174,
          0.4566626873377028,
          0.4572336064734494,
          0.4573645058485396,
          0.4613086789148259,
          0.4691586882647345,
          0.4697627715615094,
          0.4714978764718547,
          0.47253514112491374,
          0.48133832632026236,
          0.48809307381469913,
          0.4907791267588383,
          0.4917432340030627,
          0.49175394637869163,
          0.5052768869322142,
          0.5057238326175705,
          0.5142977926155852,
          0.5168571625601595,
          0.5261139715008444,
          0.5318688040643682,
          0.5341243158916451,
          0.5466223038624164,
          0.5518485968165537,
          0.5586170018880328,
          0.5742808911649575,
          0.5756080830124146,
          0.5762782789998131,
          0.5995316559891004,
          0.6001711724099198,
          0.6234369246742749,
          0.6442402197305542,
          0.670087893263115,
          0.7095012959991417,
          0.7220926758066272,
          0.7887516870762818,
          0.8432817827193884
         ],
         "xaxis": "x14",
         "y": [
          0.55,
          1,
          2,
          3,
          4,
          5,
          6,
          7,
          8,
          9,
          10,
          10.45
         ],
         "yaxis": "y14",
         "z": [
          [
           null,
           null,
           null,
           null,
           null,
           null,
           null,
           null,
           null,
           null,
           null,
           null,
           null,
           null,
           null,
           null,
           null,
           null,
           null,
           null,
           null,
           null,
           null,
           null,
           null,
           null,
           null,
           null,
           null,
           null,
           null,
           null,
           null,
           null,
           null,
           null,
           null,
           null,
           null,
           null,
           null,
           null,
           null,
           null,
           null,
           null,
           null,
           null,
           null,
           null,
           null,
           null,
           null,
           null,
           null,
           null,
           null,
           null,
           null,
           null,
           null,
           null,
           null,
           null,
           null,
           null,
           null,
           null,
           null,
           null,
           null,
           null,
           null,
           null,
           null,
           null,
           null,
           null,
           null,
           null,
           null,
           null,
           null,
           null,
           null,
           null,
           null,
           null,
           null,
           null,
           null,
           null,
           null,
           null,
           null,
           null,
           null,
           null,
           null,
           null,
           null,
           null
          ],
          [
           null,
           null,
           null,
           null,
           null,
           null,
           null,
           null,
           null,
           null,
           null,
           null,
           null,
           null,
           null,
           null,
           null,
           null,
           null,
           null,
           null,
           null,
           null,
           null,
           null,
           null,
           null,
           null,
           null,
           null,
           null,
           null,
           null,
           null,
           null,
           null,
           null,
           null,
           null,
           null,
           null,
           8.585233033074145,
           null,
           null,
           null,
           null,
           null,
           null,
           null,
           null,
           null,
           null,
           null,
           null,
           null,
           null,
           null,
           null,
           null,
           null,
           null,
           null,
           null,
           null,
           null,
           null,
           null,
           null,
           null,
           null,
           null,
           8.66674258217236,
           null,
           null,
           null,
           null,
           null,
           null,
           null,
           null,
           8.869225358183682,
           null,
           null,
           6.887766974338823,
           null,
           null,
           null,
           null,
           null,
           null,
           null,
           null,
           null,
           null,
           null,
           null,
           null,
           null,
           null,
           null,
           null,
           null
          ],
          [
           null,
           null,
           null,
           6.941922662101007,
           7.729002147545588,
           null,
           null,
           null,
           null,
           null,
           null,
           null,
           null,
           null,
           null,
           null,
           null,
           null,
           null,
           null,
           null,
           null,
           null,
           null,
           null,
           null,
           null,
           null,
           null,
           null,
           null,
           null,
           null,
           null,
           null,
           null,
           null,
           null,
           null,
           null,
           null,
           null,
           null,
           null,
           null,
           null,
           null,
           null,
           null,
           null,
           null,
           null,
           null,
           null,
           null,
           null,
           null,
           null,
           null,
           null,
           null,
           null,
           null,
           null,
           null,
           null,
           null,
           null,
           null,
           null,
           null,
           null,
           null,
           null,
           null,
           null,
           null,
           null,
           null,
           null,
           null,
           null,
           null,
           null,
           null,
           null,
           null,
           12.163271432543343,
           null,
           null,
           null,
           null,
           null,
           null,
           null,
           null,
           null,
           null,
           null,
           null,
           null,
           null
          ],
          [
           null,
           null,
           null,
           null,
           null,
           null,
           null,
           null,
           null,
           null,
           null,
           null,
           null,
           null,
           null,
           null,
           null,
           6.981201246209411,
           null,
           null,
           null,
           null,
           null,
           null,
           null,
           null,
           null,
           null,
           null,
           null,
           6.979135063046851,
           null,
           null,
           null,
           null,
           null,
           null,
           null,
           null,
           null,
           6.815801292072273,
           null,
           7.370998759623221,
           null,
           null,
           null,
           null,
           null,
           null,
           null,
           null,
           null,
           null,
           null,
           null,
           null,
           null,
           null,
           null,
           null,
           null,
           null,
           6.618593669483881,
           null,
           null,
           null,
           null,
           null,
           null,
           null,
           null,
           null,
           null,
           null,
           null,
           null,
           null,
           null,
           null,
           null,
           null,
           null,
           null,
           null,
           null,
           null,
           null,
           null,
           null,
           null,
           null,
           null,
           null,
           null,
           null,
           null,
           null,
           null,
           null,
           null,
           null,
           null
          ],
          [
           null,
           null,
           6.8117460133373084,
           null,
           null,
           null,
           null,
           6.832556332139712,
           null,
           null,
           null,
           null,
           null,
           null,
           null,
           7.321542595070055,
           null,
           null,
           null,
           null,
           null,
           null,
           null,
           null,
           null,
           null,
           null,
           null,
           null,
           null,
           null,
           null,
           null,
           null,
           8.503983449642131,
           null,
           null,
           null,
           null,
           null,
           null,
           null,
           null,
           null,
           null,
           null,
           null,
           null,
           null,
           null,
           null,
           null,
           null,
           null,
           null,
           null,
           null,
           null,
           null,
           null,
           11.925298482021743,
           null,
           null,
           null,
           null,
           null,
           null,
           null,
           null,
           null,
           null,
           null,
           null,
           null,
           null,
           null,
           null,
           null,
           null,
           null,
           null,
           null,
           null,
           null,
           null,
           null,
           null,
           null,
           null,
           null,
           null,
           null,
           null,
           null,
           null,
           null,
           null,
           null,
           null,
           null,
           null,
           null
          ],
          [
           null,
           null,
           null,
           null,
           null,
           null,
           7.051566361899401,
           null,
           null,
           null,
           null,
           null,
           7.90844943711807,
           null,
           null,
           null,
           null,
           null,
           null,
           null,
           7.964575044068963,
           null,
           null,
           null,
           null,
           null,
           null,
           null,
           null,
           null,
           null,
           null,
           null,
           null,
           null,
           null,
           null,
           null,
           null,
           null,
           null,
           null,
           null,
           null,
           null,
           null,
           null,
           null,
           null,
           null,
           null,
           null,
           null,
           null,
           null,
           null,
           null,
           null,
           null,
           null,
           null,
           null,
           null,
           null,
           null,
           null,
           null,
           null,
           null,
           null,
           null,
           null,
           null,
           7.024234465112119,
           null,
           7.217140271784709,
           null,
           6.956236529867877,
           8.559175843633275,
           null,
           null,
           null,
           null,
           null,
           null,
           null,
           null,
           null,
           null,
           null,
           null,
           null,
           null,
           null,
           null,
           null,
           null,
           null,
           null,
           null,
           null,
           null
          ],
          [
           null,
           null,
           null,
           null,
           null,
           null,
           null,
           null,
           null,
           null,
           null,
           null,
           null,
           6.682989805676676,
           6.627462023521828,
           null,
           null,
           null,
           null,
           null,
           null,
           null,
           null,
           null,
           6.945652088103281,
           null,
           null,
           null,
           6.66382503839976,
           null,
           null,
           null,
           6.795074677253929,
           null,
           null,
           null,
           null,
           null,
           null,
           null,
           null,
           null,
           null,
           null,
           null,
           null,
           null,
           null,
           8.57022760004778,
           null,
           null,
           7.515397508167222,
           null,
           null,
           null,
           null,
           null,
           null,
           null,
           null,
           null,
           null,
           null,
           null,
           null,
           null,
           null,
           null,
           null,
           6.580320620577788,
           6.7562629718977085,
           null,
           null,
           null,
           null,
           null,
           null,
           null,
           null,
           null,
           null,
           6.808101060600806,
           null,
           null,
           null,
           null,
           7.235049772447086,
           null,
           null,
           null,
           null,
           6.66350106253479,
           null,
           7.453287904085061,
           null,
           null,
           null,
           6.9429332533104215,
           null,
           null,
           8.430571643181738,
           null
          ],
          [
           null,
           null,
           null,
           null,
           null,
           null,
           null,
           null,
           null,
           null,
           7.391283589596038,
           6.748722872287084,
           null,
           null,
           null,
           null,
           7.15789438857747,
           null,
           null,
           null,
           null,
           7.211213195809447,
           null,
           null,
           null,
           7.216405004586652,
           null,
           null,
           null,
           7.005949083428422,
           null,
           6.72411317175734,
           null,
           null,
           null,
           null,
           null,
           null,
           null,
           null,
           null,
           null,
           null,
           6.997488803389456,
           null,
           7.126390293845463,
           null,
           null,
           null,
           null,
           10.368444606240724,
           null,
           6.615732926652282,
           null,
           null,
           null,
           6.588846670861879,
           6.96561054208297,
           null,
           null,
           null,
           null,
           null,
           7.221052347750691,
           null,
           null,
           null,
           null,
           null,
           null,
           null,
           null,
           6.645324265512597,
           null,
           null,
           null,
           null,
           null,
           null,
           6.818525630049701,
           null,
           null,
           null,
           null,
           null,
           null,
           null,
           null,
           null,
           6.599394886762154,
           null,
           null,
           7.266823098840962,
           null,
           null,
           null,
           6.81556255689501,
           null,
           null,
           6.708266025071973,
           null,
           null
          ],
          [
           null,
           null,
           null,
           null,
           null,
           null,
           null,
           null,
           null,
           null,
           null,
           null,
           null,
           null,
           null,
           null,
           null,
           null,
           null,
           null,
           null,
           null,
           null,
           null,
           null,
           null,
           null,
           7.628141333970418,
           null,
           null,
           null,
           null,
           null,
           6.640850624509698,
           null,
           7.068810960223108,
           7.295825720624886,
           null,
           null,
           6.308989647949975,
           null,
           null,
           null,
           null,
           null,
           null,
           6.492786820564281,
           10.051626422752918,
           null,
           6.957283794360092,
           null,
           null,
           null,
           6.433846807545842,
           6.876332674549545,
           null,
           null,
           null,
           null,
           6.6920013351818435,
           null,
           6.947963177181552,
           null,
           null,
           6.745689398782036,
           6.576550046951129,
           null,
           6.16138370816904,
           6.665481385609239,
           null,
           null,
           null,
           null,
           null,
           null,
           null,
           7.157780863809487,
           null,
           null,
           null,
           null,
           null,
           7.017972862065542,
           null,
           null,
           6.959133443616567,
           null,
           null,
           7.8531826497737764,
           null,
           7.986992462708582,
           null,
           null,
           null,
           8.406950422480717,
           null,
           null,
           null,
           13.841512769908556,
           null,
           null,
           null
          ],
          [
           null,
           8.708227955210178,
           null,
           null,
           null,
           7.6624150454747175,
           null,
           null,
           6.671881060560426,
           null,
           null,
           null,
           null,
           null,
           null,
           null,
           null,
           null,
           null,
           6.64246398086282,
           null,
           null,
           7.263445589789916,
           null,
           null,
           null,
           6.582774692333775,
           null,
           null,
           null,
           null,
           null,
           null,
           null,
           null,
           null,
           null,
           6.815373873760449,
           8.01258529334201,
           null,
           null,
           null,
           null,
           null,
           7.084958189604117,
           null,
           null,
           null,
           null,
           null,
           null,
           null,
           null,
           null,
           null,
           6.64645176318988,
           null,
           null,
           6.908755853941913,
           null,
           null,
           null,
           null,
           null,
           null,
           null,
           7.713219893326127,
           null,
           null,
           null,
           null,
           null,
           null,
           null,
           null,
           null,
           null,
           null,
           null,
           null,
           null,
           null,
           null,
           null,
           null,
           null,
           null,
           null,
           null,
           null,
           null,
           null,
           null,
           null,
           null,
           9.460771081761246,
           null,
           null,
           null,
           null,
           null,
           null
          ],
          [
           null,
           null,
           null,
           null,
           null,
           null,
           null,
           null,
           null,
           7.646147403787222,
           null,
           null,
           null,
           null,
           null,
           null,
           null,
           null,
           7.094660598117216,
           null,
           null,
           null,
           null,
           6.921022812909283,
           null,
           null,
           null,
           null,
           null,
           null,
           null,
           null,
           null,
           null,
           null,
           null,
           null,
           null,
           null,
           null,
           null,
           null,
           null,
           null,
           null,
           null,
           null,
           null,
           null,
           null,
           null,
           null,
           null,
           null,
           null,
           null,
           null,
           null,
           null,
           null,
           null,
           null,
           null,
           null,
           null,
           null,
           null,
           null,
           null,
           null,
           null,
           null,
           null,
           null,
           9.60516791607654,
           null,
           null,
           null,
           null,
           null,
           null,
           null,
           null,
           null,
           7.301109414249166,
           null,
           null,
           null,
           null,
           null,
           null,
           null,
           null,
           null,
           null,
           null,
           null,
           null,
           null,
           null,
           null,
           null
          ],
          [
           null,
           null,
           null,
           null,
           null,
           null,
           null,
           null,
           null,
           null,
           null,
           null,
           null,
           null,
           null,
           null,
           null,
           null,
           null,
           null,
           null,
           null,
           null,
           null,
           null,
           null,
           null,
           null,
           null,
           null,
           null,
           null,
           null,
           null,
           null,
           null,
           null,
           null,
           null,
           null,
           null,
           null,
           null,
           null,
           null,
           null,
           null,
           null,
           null,
           null,
           null,
           null,
           null,
           null,
           null,
           null,
           null,
           null,
           null,
           null,
           null,
           null,
           null,
           null,
           null,
           null,
           null,
           null,
           null,
           null,
           null,
           null,
           null,
           null,
           null,
           null,
           null,
           null,
           null,
           null,
           null,
           null,
           null,
           null,
           null,
           null,
           null,
           null,
           null,
           null,
           null,
           null,
           null,
           null,
           null,
           null,
           null,
           null,
           null,
           null,
           null,
           null
          ]
         ]
        },
        {
         "marker": {
          "color": "black",
          "line": {
           "color": "Grey",
           "width": 2
          }
         },
         "mode": "markers",
         "showlegend": false,
         "type": "scatter",
         "x": [
          0.4013989012755729,
          0.44702597226093654,
          0.2348422161207379,
          0.5995316559891004,
          0.5168571625601595,
          0.3808027516424747,
          0.30191840830159195,
          0.4354438381832276,
          0.35386472050007467,
          0.7095012959991417,
          0.2108826496676009,
          0.3203415688148227,
          0.49175394637869163,
          0.2681459855693354,
          0.7887516870762818,
          0.3749189144410235,
          0.4907791267588383,
          0.5586170018880328,
          0.6001711724099198,
          0.5762782789998131,
          0.4396274674688022,
          0.4340122499072176,
          0.670087893263115,
          0.5318688040643682,
          0.3324263103771623,
          0.4006285877650944,
          0.27990987262531963,
          0.2801974824045272,
          0.24970399445385352,
          0.2071533476327387,
          0.4691586882647345,
          0.3788294226986846,
          0.2977276300587118,
          0.5518485968165537,
          0.6234369246742749,
          0.22649845425951956,
          0.35466104158978995,
          0.41688810647788116,
          0.4566626873377028,
          0.47253514112491374,
          0.5142977926155852,
          0.38204232987610165,
          0.455905289052174,
          0.4141572734251889,
          0.4149470234793615,
          0.35419768500124926,
          0.3922829293782359,
          0.6442402197305542,
          0.5052768869322142,
          0.5466223038624164,
          0.44889510397034976,
          0.3301181793574532,
          0.32839785214494066,
          0.3557250391285034,
          0.3625855513617516,
          0.4218058278410013,
          0.39580965661540085,
          0.5742808911649575,
          0.3072609332536895,
          0.30531717585775664,
          0.4917432340030627,
          0.342767360728064,
          0.3095890919721405,
          0.4333832950114248,
          0.4714978764718547,
          0.42526534297124013,
          0.7220926758066272,
          0.3691733908101926,
          0.28979439121120054,
          0.2640041660119855,
          0.4034323355527375,
          0.44248607387749755,
          0.3902298506549719,
          0.345665206416253,
          0.3724013309897641,
          0.3199482097685925,
          0.41030953202979964,
          0.4317746174342902,
          0.4573645058485396,
          0.4613086789148259,
          0.5341243158916451,
          0.4471748005498575,
          0.48809307381469913,
          0.5057238326175705,
          0.48133832632026236,
          0.3842108131624772,
          0.4135162081334625,
          0.43129455297287184,
          0.43308404180119137,
          0.5261139715008444,
          0.5756080830124146,
          0.4000580606180995,
          0.4572336064734494,
          0.43818774370819397,
          0.397812210271553,
          0.42555688144573245,
          0.40754813412109675,
          0.4697627715615094,
          0.41835992614351647,
          0.45496615783406313
         ],
         "xaxis": "x14",
         "y": [
          1,
          3,
          2,
          6,
          1,
          6,
          5,
          9,
          10,
          8,
          4,
          3,
          7,
          4,
          6,
          3,
          5,
          7,
          8,
          7,
          4,
          7,
          6,
          8,
          5,
          3,
          9,
          10,
          9,
          9,
          1,
          7,
          7,
          8,
          9,
          2,
          7,
          6,
          8,
          10,
          8,
          8,
          9,
          8,
          8,
          6,
          8,
          7,
          1,
          2,
          8,
          9,
          10,
          9,
          8,
          7,
          9,
          8,
          6,
          6,
          5,
          7,
          4,
          7,
          5,
          6,
          7,
          6,
          7,
          5,
          3,
          8,
          8,
          9,
          7,
          7,
          9,
          8,
          6,
          6,
          6,
          7,
          8,
          6,
          5,
          4,
          7,
          8,
          9,
          10,
          6,
          8,
          8,
          8,
          9,
          7,
          7,
          7,
          8,
          8
         ],
         "yaxis": "y14"
        },
        {
         "colorbar": {
          "title": {
           "text": "distance"
          }
         },
         "colorscale": [
          [
           0,
           "rgb(247,251,255)"
          ],
          [
           0.125,
           "rgb(222,235,247)"
          ],
          [
           0.25,
           "rgb(198,219,239)"
          ],
          [
           0.375,
           "rgb(158,202,225)"
          ],
          [
           0.5,
           "rgb(107,174,214)"
          ],
          [
           0.625,
           "rgb(66,146,198)"
          ],
          [
           0.75,
           "rgb(33,113,181)"
          ],
          [
           0.875,
           "rgb(8,81,156)"
          ],
          [
           1,
           "rgb(8,48,107)"
          ]
         ],
         "connectgaps": true,
         "contours": {
          "coloring": "heatmap"
         },
         "hoverinfo": "none",
         "line": {
          "smoothing": 1.3
         },
         "reversescale": true,
         "showscale": false,
         "type": "contour",
         "x": [
          2.75,
          5,
          10,
          15,
          20,
          25,
          30,
          35,
          40,
          45,
          50,
          52.25
         ],
         "xaxis": "x3",
         "y": [
          0.55,
          1,
          2,
          3,
          4,
          5,
          6,
          7,
          8,
          9,
          10,
          10.45
         ],
         "yaxis": "y3",
         "z": [
          [
           null,
           null,
           null,
           null,
           null,
           null,
           null,
           null,
           null,
           null,
           null,
           null
          ],
          [
           null,
           null,
           8.708227955210178,
           null,
           8.57022760004778,
           null,
           null,
           null,
           8.430571643181738,
           null,
           null,
           null
          ],
          [
           null,
           null,
           null,
           9.460771081761246,
           7.8531826497737764,
           6.748722872287084,
           null,
           null,
           null,
           null,
           null,
           null
          ],
          [
           null,
           null,
           null,
           7.646147403787222,
           7.6624150454747175,
           6.941922662101007,
           null,
           null,
           6.8117460133373084,
           null,
           null,
           null
          ],
          [
           null,
           11.925298482021743,
           null,
           7.216405004586652,
           null,
           6.576550046951129,
           null,
           null,
           null,
           7.221052347750691,
           6.818525630049701,
           null
          ],
          [
           null,
           null,
           7.964575044068963,
           null,
           7.084958189604117,
           null,
           null,
           7.515397508167222,
           null,
           null,
           null,
           null
          ],
          [
           null,
           null,
           8.503983449642131,
           7.321542595070055,
           6.96561054208297,
           null,
           6.9429332533104215,
           null,
           null,
           null,
           6.795074677253929,
           null
          ],
          [
           null,
           null,
           8.869225358183682,
           null,
           6.682989805676676,
           7.301109414249166,
           null,
           6.66382503839976,
           null,
           7.235049772447086,
           null,
           null
          ],
          [
           null,
           null,
           8.559175843633275,
           7.005949083428422,
           6.64645176318988,
           7.391283589596038,
           7.024234465112119,
           7.217140271784709,
           6.808101060600806,
           null,
           null,
           null
          ],
          [
           null,
           12.163271432543343,
           7.068810960223108,
           7.157780863809487,
           6.957283794360092,
           null,
           6.708266025071973,
           null,
           null,
           7.370998759623221,
           7.126390293845463,
           null
          ],
          [
           null,
           8.01258529334201,
           6.876332674549545,
           6.64246398086282,
           7.263445589789916,
           6.997488803389456,
           7.051566361899401,
           null,
           null,
           null,
           7.90844943711807,
           null
          ],
          [
           null,
           null,
           null,
           null,
           null,
           null,
           null,
           null,
           null,
           null,
           null,
           null
          ]
         ]
        },
        {
         "marker": {
          "color": "black",
          "line": {
           "color": "Grey",
           "width": 2
          }
         },
         "mode": "markers",
         "showlegend": false,
         "type": "scatter",
         "x": [
          20,
          20,
          25,
          15,
          25,
          50,
          50,
          10,
          20,
          5,
          40,
          35,
          50,
          35,
          40,
          30,
          45,
          15,
          10,
          15,
          5,
          20,
          30,
          15,
          10,
          25,
          15,
          15,
          20,
          10,
          20,
          20,
          25,
          20,
          15,
          25,
          15,
          20,
          10,
          5,
          10,
          15,
          10,
          15,
          5,
          15,
          10,
          15,
          10,
          5,
          25,
          15,
          15,
          10,
          10,
          5,
          20,
          10,
          15,
          20,
          10,
          15,
          15,
          30,
          30,
          35,
          30,
          35,
          25,
          30,
          45,
          15,
          10,
          20,
          15,
          15,
          20,
          10,
          40,
          40,
          45,
          45,
          15,
          40,
          35,
          10,
          50,
          20,
          20,
          25,
          25,
          20,
          20,
          20,
          5,
          20,
          25,
          20,
          20,
          25
         ],
         "xaxis": "x3",
         "y": [
          5,
          5,
          2,
          9,
          7,
          6,
          10,
          7,
          9,
          10,
          3,
          5,
          4,
          7,
          1,
          6,
          4,
          8,
          8,
          8,
          4,
          6,
          6,
          8,
          5,
          7,
          3,
          3,
          3,
          1,
          5,
          2,
          2,
          2,
          2,
          3,
          4,
          1,
          9,
          9,
          10,
          9,
          9,
          9,
          9,
          10,
          8,
          10,
          7,
          9,
          8,
          10,
          9,
          10,
          9,
          10,
          8,
          10,
          8,
          7,
          8,
          9,
          6,
          9,
          8,
          5,
          9,
          7,
          8,
          10,
          9,
          9,
          9,
          10,
          8,
          9,
          5,
          10,
          8,
          8,
          7,
          4,
          9,
          8,
          8,
          6,
          9,
          9,
          8,
          7,
          10,
          9,
          9,
          9,
          10,
          9,
          10,
          9,
          9,
          4
         ],
         "yaxis": "y3"
        },
        {
         "colorbar": {
          "title": {
           "text": "distance"
          }
         },
         "colorscale": [
          [
           0,
           "rgb(247,251,255)"
          ],
          [
           0.125,
           "rgb(222,235,247)"
          ],
          [
           0.25,
           "rgb(198,219,239)"
          ],
          [
           0.375,
           "rgb(158,202,225)"
          ],
          [
           0.5,
           "rgb(107,174,214)"
          ],
          [
           0.625,
           "rgb(66,146,198)"
          ],
          [
           0.75,
           "rgb(33,113,181)"
          ],
          [
           0.875,
           "rgb(8,81,156)"
          ],
          [
           1,
           "rgb(8,48,107)"
          ]
         ],
         "connectgaps": true,
         "contours": {
          "coloring": "heatmap"
         },
         "hoverinfo": "none",
         "line": {
          "smoothing": 1.3
         },
         "reversescale": true,
         "showscale": false,
         "type": "contour",
         "x": [
          2.75,
          5,
          10,
          15,
          20,
          25,
          30,
          35,
          40,
          45,
          50,
          52.25
         ],
         "xaxis": "x7",
         "y": [
          0.19375795348254654,
          0.2071533476327387,
          0.2108826496676009,
          0.22649845425951956,
          0.2348422161207379,
          0.24970399445385352,
          0.2640041660119855,
          0.2681459855693354,
          0.27990987262531963,
          0.2801974824045272,
          0.28979439121120054,
          0.2977276300587118,
          0.30191840830159195,
          0.30531717585775664,
          0.3072609332536895,
          0.3095890919721405,
          0.3199482097685925,
          0.3203415688148227,
          0.32839785214494066,
          0.3301181793574532,
          0.3324263103771623,
          0.342767360728064,
          0.345665206416253,
          0.35386472050007467,
          0.35419768500124926,
          0.35466104158978995,
          0.3557250391285034,
          0.3625855513617516,
          0.3691733908101926,
          0.3724013309897641,
          0.3749189144410235,
          0.3788294226986846,
          0.3808027516424747,
          0.38204232987610165,
          0.3842108131624772,
          0.3902298506549719,
          0.3922829293782359,
          0.39580965661540085,
          0.397812210271553,
          0.4000580606180995,
          0.4006285877650944,
          0.4013989012755729,
          0.4034323355527375,
          0.40754813412109675,
          0.41030953202979964,
          0.4135162081334625,
          0.4141572734251889,
          0.4149470234793615,
          0.41688810647788116,
          0.41835992614351647,
          0.4218058278410013,
          0.42526534297124013,
          0.42555688144573245,
          0.43129455297287184,
          0.4317746174342902,
          0.43308404180119137,
          0.4333832950114248,
          0.4340122499072176,
          0.4354438381832276,
          0.43818774370819397,
          0.4396274674688022,
          0.44248607387749755,
          0.44702597226093654,
          0.4471748005498575,
          0.44889510397034976,
          0.45496615783406313,
          0.455905289052174,
          0.4566626873377028,
          0.4572336064734494,
          0.4573645058485396,
          0.4613086789148259,
          0.4691586882647345,
          0.4697627715615094,
          0.4714978764718547,
          0.47253514112491374,
          0.48133832632026236,
          0.48809307381469913,
          0.4907791267588383,
          0.4917432340030627,
          0.49175394637869163,
          0.5052768869322142,
          0.5057238326175705,
          0.5142977926155852,
          0.5168571625601595,
          0.5261139715008444,
          0.5318688040643682,
          0.5341243158916451,
          0.5466223038624164,
          0.5518485968165537,
          0.5586170018880328,
          0.5742808911649575,
          0.5756080830124146,
          0.5762782789998131,
          0.5995316559891004,
          0.6001711724099198,
          0.6234369246742749,
          0.6442402197305542,
          0.670087893263115,
          0.7095012959991417,
          0.7220926758066272,
          0.7887516870762818,
          0.8432817827193884
         ],
         "yaxis": "y7",
         "z": [
          [
           null,
           null,
           null,
           null,
           null,
           null,
           null,
           null,
           null,
           null,
           null,
           null
          ],
          [
           null,
           null,
           8.708227955210178,
           null,
           null,
           null,
           null,
           null,
           null,
           null,
           null,
           null
          ],
          [
           null,
           null,
           null,
           null,
           null,
           null,
           null,
           null,
           6.8117460133373084,
           null,
           null,
           null
          ],
          [
           null,
           null,
           null,
           null,
           null,
           6.941922662101007,
           null,
           null,
           null,
           null,
           null,
           null
          ],
          [
           null,
           null,
           null,
           null,
           null,
           7.729002147545588,
           null,
           null,
           null,
           null,
           null,
           null
          ],
          [
           null,
           null,
           null,
           null,
           7.6624150454747175,
           null,
           null,
           null,
           null,
           null,
           null,
           null
          ],
          [
           null,
           null,
           null,
           null,
           null,
           null,
           7.051566361899401,
           null,
           null,
           null,
           null,
           null
          ],
          [
           null,
           null,
           null,
           null,
           null,
           null,
           null,
           6.832556332139712,
           null,
           null,
           null,
           null
          ],
          [
           null,
           null,
           null,
           6.671881060560426,
           null,
           null,
           null,
           null,
           null,
           null,
           null,
           null
          ],
          [
           null,
           null,
           null,
           7.646147403787222,
           null,
           null,
           null,
           null,
           null,
           null,
           null,
           null
          ],
          [
           null,
           null,
           null,
           null,
           null,
           7.391283589596038,
           null,
           null,
           null,
           null,
           null,
           null
          ],
          [
           null,
           null,
           null,
           null,
           null,
           6.748722872287084,
           null,
           null,
           null,
           null,
           null,
           null
          ],
          [
           null,
           null,
           null,
           null,
           null,
           null,
           null,
           null,
           null,
           null,
           7.90844943711807,
           null
          ],
          [
           null,
           null,
           null,
           null,
           6.682989805676676,
           null,
           null,
           null,
           null,
           null,
           null,
           null
          ],
          [
           null,
           null,
           null,
           6.627462023521828,
           null,
           null,
           null,
           null,
           null,
           null,
           null,
           null
          ],
          [
           null,
           null,
           null,
           7.321542595070055,
           null,
           null,
           null,
           null,
           null,
           null,
           null,
           null
          ],
          [
           null,
           null,
           null,
           7.15789438857747,
           null,
           null,
           null,
           null,
           null,
           null,
           null,
           null
          ],
          [
           null,
           null,
           null,
           null,
           null,
           null,
           null,
           6.981201246209411,
           null,
           null,
           null,
           null
          ],
          [
           null,
           null,
           null,
           7.094660598117216,
           null,
           null,
           null,
           null,
           null,
           null,
           null,
           null
          ],
          [
           null,
           null,
           null,
           6.64246398086282,
           null,
           null,
           null,
           null,
           null,
           null,
           null,
           null
          ],
          [
           null,
           null,
           7.964575044068963,
           null,
           null,
           null,
           null,
           null,
           null,
           null,
           null,
           null
          ],
          [
           null,
           null,
           null,
           7.211213195809447,
           null,
           null,
           null,
           null,
           null,
           null,
           null,
           null
          ],
          [
           null,
           null,
           null,
           null,
           7.263445589789916,
           null,
           null,
           null,
           null,
           null,
           null,
           null
          ],
          [
           null,
           null,
           null,
           null,
           6.921022812909283,
           null,
           null,
           null,
           null,
           null,
           null,
           null
          ],
          [
           null,
           null,
           null,
           6.945652088103281,
           null,
           null,
           null,
           null,
           null,
           null,
           null,
           null
          ],
          [
           null,
           null,
           null,
           7.216405004586652,
           null,
           null,
           null,
           null,
           null,
           null,
           null,
           null
          ],
          [
           null,
           null,
           6.582774692333775,
           null,
           null,
           null,
           null,
           null,
           null,
           null,
           null,
           null
          ],
          [
           null,
           null,
           7.628141333970418,
           null,
           null,
           null,
           null,
           null,
           null,
           null,
           null,
           null
          ],
          [
           null,
           null,
           null,
           null,
           null,
           null,
           null,
           6.66382503839976,
           null,
           null,
           null,
           null
          ],
          [
           null,
           null,
           null,
           7.005949083428422,
           null,
           null,
           null,
           null,
           null,
           null,
           null,
           null
          ],
          [
           null,
           null,
           null,
           null,
           null,
           null,
           6.979135063046851,
           null,
           null,
           null,
           null,
           null
          ],
          [
           null,
           null,
           null,
           null,
           6.72411317175734,
           null,
           null,
           null,
           null,
           null,
           null,
           null
          ],
          [
           null,
           null,
           null,
           null,
           null,
           null,
           null,
           null,
           null,
           null,
           6.795074677253929,
           null
          ],
          [
           null,
           null,
           null,
           6.640850624509698,
           null,
           null,
           null,
           null,
           null,
           null,
           null,
           null
          ],
          [
           null,
           null,
           8.503983449642131,
           null,
           null,
           null,
           null,
           null,
           null,
           null,
           null,
           null
          ],
          [
           null,
           null,
           7.068810960223108,
           null,
           null,
           null,
           null,
           null,
           null,
           null,
           null,
           null
          ],
          [
           null,
           null,
           7.295825720624886,
           null,
           null,
           null,
           null,
           null,
           null,
           null,
           null,
           null
          ],
          [
           null,
           null,
           null,
           null,
           6.815373873760449,
           null,
           null,
           null,
           null,
           null,
           null,
           null
          ],
          [
           null,
           8.01258529334201,
           null,
           null,
           null,
           null,
           null,
           null,
           null,
           null,
           null,
           null
          ],
          [
           null,
           null,
           null,
           null,
           6.308989647949975,
           null,
           null,
           null,
           null,
           null,
           null,
           null
          ],
          [
           null,
           null,
           null,
           null,
           null,
           6.815801292072273,
           null,
           null,
           null,
           null,
           null,
           null
          ],
          [
           null,
           null,
           null,
           null,
           8.585233033074145,
           null,
           null,
           null,
           null,
           null,
           null,
           null
          ],
          [
           null,
           null,
           null,
           null,
           null,
           null,
           null,
           null,
           null,
           7.370998759623221,
           null,
           null
          ],
          [
           null,
           null,
           null,
           null,
           null,
           6.997488803389456,
           null,
           null,
           null,
           null,
           null,
           null
          ],
          [
           null,
           null,
           null,
           null,
           7.084958189604117,
           null,
           null,
           null,
           null,
           null,
           null,
           null
          ],
          [
           null,
           null,
           null,
           null,
           null,
           null,
           null,
           null,
           null,
           null,
           7.126390293845463,
           null
          ],
          [
           null,
           null,
           null,
           6.492786820564281,
           null,
           null,
           null,
           null,
           null,
           null,
           null,
           null
          ],
          [
           null,
           10.051626422752918,
           null,
           null,
           null,
           null,
           null,
           null,
           null,
           null,
           null,
           null
          ],
          [
           null,
           null,
           null,
           null,
           8.57022760004778,
           null,
           null,
           null,
           null,
           null,
           null,
           null
          ],
          [
           null,
           null,
           null,
           null,
           6.957283794360092,
           null,
           null,
           null,
           null,
           null,
           null,
           null
          ],
          [
           null,
           10.368444606240724,
           null,
           null,
           null,
           null,
           null,
           null,
           null,
           null,
           null,
           null
          ],
          [
           null,
           null,
           null,
           null,
           null,
           null,
           null,
           7.515397508167222,
           null,
           null,
           null,
           null
          ],
          [
           null,
           null,
           null,
           null,
           6.615732926652282,
           null,
           null,
           null,
           null,
           null,
           null,
           null
          ],
          [
           null,
           null,
           null,
           null,
           6.433846807545842,
           null,
           null,
           null,
           null,
           null,
           null,
           null
          ],
          [
           null,
           null,
           6.876332674549545,
           null,
           null,
           null,
           null,
           null,
           null,
           null,
           null,
           null
          ],
          [
           null,
           null,
           null,
           null,
           6.64645176318988,
           null,
           null,
           null,
           null,
           null,
           null,
           null
          ],
          [
           null,
           null,
           null,
           null,
           null,
           null,
           6.588846670861879,
           null,
           null,
           null,
           null,
           null
          ],
          [
           null,
           null,
           null,
           null,
           6.96561054208297,
           null,
           null,
           null,
           null,
           null,
           null,
           null
          ],
          [
           null,
           null,
           6.908755853941913,
           null,
           null,
           null,
           null,
           null,
           null,
           null,
           null,
           null
          ],
          [
           null,
           null,
           null,
           null,
           6.6920013351818435,
           null,
           null,
           null,
           null,
           null,
           null,
           null
          ],
          [
           null,
           11.925298482021743,
           null,
           null,
           null,
           null,
           null,
           null,
           null,
           null,
           null,
           null
          ],
          [
           null,
           null,
           null,
           6.947963177181552,
           null,
           null,
           null,
           null,
           null,
           null,
           null,
           null
          ],
          [
           null,
           null,
           null,
           null,
           6.618593669483881,
           null,
           null,
           null,
           null,
           null,
           null,
           null
          ],
          [
           null,
           null,
           null,
           null,
           null,
           null,
           null,
           null,
           null,
           7.221052347750691,
           null,
           null
          ],
          [
           null,
           null,
           null,
           null,
           null,
           6.745689398782036,
           null,
           null,
           null,
           null,
           null,
           null
          ],
          [
           null,
           null,
           null,
           null,
           null,
           6.576550046951129,
           null,
           null,
           null,
           null,
           null,
           null
          ],
          [
           null,
           null,
           7.713219893326127,
           null,
           null,
           null,
           null,
           null,
           null,
           null,
           null,
           null
          ],
          [
           null,
           null,
           6.16138370816904,
           null,
           null,
           null,
           null,
           null,
           null,
           null,
           null,
           null
          ],
          [
           null,
           null,
           null,
           null,
           6.665481385609239,
           null,
           null,
           null,
           null,
           null,
           null,
           null
          ],
          [
           null,
           null,
           null,
           null,
           null,
           null,
           null,
           null,
           6.580320620577788,
           null,
           null,
           null
          ],
          [
           null,
           null,
           null,
           null,
           null,
           null,
           null,
           null,
           6.7562629718977085,
           null,
           null,
           null
          ],
          [
           null,
           null,
           null,
           null,
           8.66674258217236,
           null,
           null,
           null,
           null,
           null,
           null,
           null
          ],
          [
           null,
           null,
           null,
           null,
           6.645324265512597,
           null,
           null,
           null,
           null,
           null,
           null,
           null
          ],
          [
           null,
           null,
           null,
           null,
           null,
           null,
           7.024234465112119,
           null,
           null,
           null,
           null,
           null
          ],
          [
           null,
           9.60516791607654,
           null,
           null,
           null,
           null,
           null,
           null,
           null,
           null,
           null,
           null
          ],
          [
           null,
           null,
           null,
           null,
           null,
           null,
           null,
           7.217140271784709,
           null,
           null,
           null,
           null
          ],
          [
           null,
           null,
           null,
           7.157780863809487,
           null,
           null,
           null,
           null,
           null,
           null,
           null,
           null
          ],
          [
           null,
           null,
           null,
           null,
           null,
           null,
           null,
           null,
           null,
           6.956236529867877,
           null,
           null
          ],
          [
           null,
           null,
           8.559175843633275,
           null,
           null,
           null,
           null,
           null,
           null,
           null,
           null,
           null
          ],
          [
           null,
           null,
           null,
           null,
           null,
           null,
           null,
           null,
           null,
           null,
           6.818525630049701,
           null
          ],
          [
           null,
           null,
           8.869225358183682,
           null,
           null,
           null,
           null,
           null,
           null,
           null,
           null,
           null
          ],
          [
           null,
           null,
           null,
           null,
           null,
           null,
           null,
           null,
           6.808101060600806,
           null,
           null,
           null
          ],
          [
           null,
           null,
           7.017972862065542,
           null,
           null,
           null,
           null,
           null,
           null,
           null,
           null,
           null
          ],
          [
           null,
           null,
           null,
           null,
           null,
           6.887766974338823,
           null,
           null,
           null,
           null,
           null,
           null
          ],
          [
           null,
           null,
           null,
           null,
           null,
           7.301109414249166,
           null,
           null,
           null,
           null,
           null,
           null
          ],
          [
           null,
           null,
           null,
           6.959133443616567,
           null,
           null,
           null,
           null,
           null,
           null,
           null,
           null
          ],
          [
           null,
           null,
           null,
           null,
           null,
           null,
           null,
           null,
           null,
           7.235049772447086,
           null,
           null
          ],
          [
           null,
           12.163271432543343,
           null,
           null,
           null,
           null,
           null,
           null,
           null,
           null,
           null,
           null
          ],
          [
           null,
           null,
           null,
           null,
           7.8531826497737764,
           null,
           null,
           null,
           null,
           null,
           null,
           null
          ],
          [
           null,
           null,
           null,
           6.599394886762154,
           null,
           null,
           null,
           null,
           null,
           null,
           null,
           null
          ],
          [
           null,
           null,
           7.986992462708582,
           null,
           null,
           null,
           null,
           null,
           null,
           null,
           null,
           null
          ],
          [
           null,
           null,
           null,
           null,
           null,
           6.66350106253479,
           null,
           null,
           null,
           null,
           null,
           null
          ],
          [
           null,
           null,
           null,
           7.266823098840962,
           null,
           null,
           null,
           null,
           null,
           null,
           null,
           null
          ],
          [
           null,
           null,
           null,
           7.453287904085061,
           null,
           null,
           null,
           null,
           null,
           null,
           null,
           null
          ],
          [
           null,
           null,
           8.406950422480717,
           null,
           null,
           null,
           null,
           null,
           null,
           null,
           null,
           null
          ],
          [
           null,
           null,
           null,
           9.460771081761246,
           null,
           null,
           null,
           null,
           null,
           null,
           null,
           null
          ],
          [
           null,
           null,
           null,
           6.81556255689501,
           null,
           null,
           null,
           null,
           null,
           null,
           null,
           null
          ],
          [
           null,
           null,
           null,
           null,
           null,
           null,
           6.9429332533104215,
           null,
           null,
           null,
           null,
           null
          ],
          [
           null,
           13.841512769908556,
           null,
           null,
           null,
           null,
           null,
           null,
           null,
           null,
           null,
           null
          ],
          [
           null,
           null,
           null,
           null,
           null,
           null,
           6.708266025071973,
           null,
           null,
           null,
           null,
           null
          ],
          [
           null,
           null,
           null,
           null,
           null,
           null,
           null,
           null,
           8.430571643181738,
           null,
           null,
           null
          ],
          [
           null,
           null,
           null,
           null,
           null,
           null,
           null,
           null,
           null,
           null,
           null,
           null
          ]
         ]
        },
        {
         "marker": {
          "color": "black",
          "line": {
           "color": "Grey",
           "width": 2
          }
         },
         "mode": "markers",
         "showlegend": false,
         "type": "scatter",
         "x": [
          20,
          20,
          25,
          15,
          25,
          50,
          50,
          10,
          20,
          5,
          40,
          35,
          50,
          35,
          40,
          30,
          45,
          15,
          10,
          15,
          5,
          20,
          30,
          15,
          10,
          25,
          15,
          15,
          20,
          10,
          20,
          20,
          25,
          20,
          15,
          25,
          15,
          20,
          10,
          5,
          10,
          15,
          10,
          15,
          5,
          15,
          10,
          15,
          10,
          5,
          25,
          15,
          15,
          10,
          10,
          5,
          20,
          10,
          15,
          20,
          10,
          15,
          15,
          30,
          30,
          35,
          30,
          35,
          25,
          30,
          45,
          15,
          10,
          20,
          15,
          15,
          20,
          10,
          40,
          40,
          45,
          45,
          15,
          40,
          35,
          10,
          50,
          20,
          20,
          25,
          25,
          20,
          20,
          20,
          5,
          20,
          25,
          20,
          20,
          25
         ],
         "xaxis": "x7",
         "y": [
          0.4013989012755729,
          0.44702597226093654,
          0.2348422161207379,
          0.5995316559891004,
          0.5168571625601595,
          0.3808027516424747,
          0.30191840830159195,
          0.4354438381832276,
          0.35386472050007467,
          0.7095012959991417,
          0.2108826496676009,
          0.3203415688148227,
          0.49175394637869163,
          0.2681459855693354,
          0.7887516870762818,
          0.3749189144410235,
          0.4907791267588383,
          0.5586170018880328,
          0.6001711724099198,
          0.5762782789998131,
          0.4396274674688022,
          0.4340122499072176,
          0.670087893263115,
          0.5318688040643682,
          0.3324263103771623,
          0.4006285877650944,
          0.27990987262531963,
          0.2801974824045272,
          0.24970399445385352,
          0.2071533476327387,
          0.4691586882647345,
          0.3788294226986846,
          0.2977276300587118,
          0.5518485968165537,
          0.6234369246742749,
          0.22649845425951956,
          0.35466104158978995,
          0.41688810647788116,
          0.4566626873377028,
          0.47253514112491374,
          0.5142977926155852,
          0.38204232987610165,
          0.455905289052174,
          0.4141572734251889,
          0.4149470234793615,
          0.35419768500124926,
          0.3922829293782359,
          0.6442402197305542,
          0.5052768869322142,
          0.5466223038624164,
          0.44889510397034976,
          0.3301181793574532,
          0.32839785214494066,
          0.3557250391285034,
          0.3625855513617516,
          0.4218058278410013,
          0.39580965661540085,
          0.5742808911649575,
          0.3072609332536895,
          0.30531717585775664,
          0.4917432340030627,
          0.342767360728064,
          0.3095890919721405,
          0.4333832950114248,
          0.4714978764718547,
          0.42526534297124013,
          0.7220926758066272,
          0.3691733908101926,
          0.28979439121120054,
          0.2640041660119855,
          0.4034323355527375,
          0.44248607387749755,
          0.3902298506549719,
          0.345665206416253,
          0.3724013309897641,
          0.3199482097685925,
          0.41030953202979964,
          0.4317746174342902,
          0.4573645058485396,
          0.4613086789148259,
          0.5341243158916451,
          0.4471748005498575,
          0.48809307381469913,
          0.5057238326175705,
          0.48133832632026236,
          0.3842108131624772,
          0.4135162081334625,
          0.43129455297287184,
          0.43308404180119137,
          0.5261139715008444,
          0.5756080830124146,
          0.4000580606180995,
          0.4572336064734494,
          0.43818774370819397,
          0.397812210271553,
          0.42555688144573245,
          0.40754813412109675,
          0.4697627715615094,
          0.41835992614351647,
          0.45496615783406313
         ],
         "yaxis": "y7"
        },
        {
         "type": "scatter",
         "xaxis": "x11",
         "yaxis": "y11"
        },
        {
         "colorbar": {
          "title": {
           "text": "distance"
          }
         },
         "colorscale": [
          [
           0,
           "rgb(247,251,255)"
          ],
          [
           0.125,
           "rgb(222,235,247)"
          ],
          [
           0.25,
           "rgb(198,219,239)"
          ],
          [
           0.375,
           "rgb(158,202,225)"
          ],
          [
           0.5,
           "rgb(107,174,214)"
          ],
          [
           0.625,
           "rgb(66,146,198)"
          ],
          [
           0.75,
           "rgb(33,113,181)"
          ],
          [
           0.875,
           "rgb(8,81,156)"
          ],
          [
           1,
           "rgb(8,48,107)"
          ]
         ],
         "connectgaps": true,
         "contours": {
          "coloring": "heatmap"
         },
         "hoverinfo": "none",
         "line": {
          "smoothing": 1.3
         },
         "reversescale": true,
         "showscale": false,
         "type": "contour",
         "x": [
          2.75,
          5,
          10,
          15,
          20,
          25,
          30,
          35,
          40,
          45,
          50,
          52.25
         ],
         "xaxis": "x15",
         "y": [
          0.55,
          1,
          2,
          3,
          4,
          5,
          6,
          7,
          8,
          9,
          10,
          10.45
         ],
         "yaxis": "y15",
         "z": [
          [
           null,
           null,
           null,
           null,
           null,
           null,
           null,
           null,
           null,
           null,
           null,
           null
          ],
          [
           null,
           null,
           8.869225358183682,
           null,
           8.66674258217236,
           6.887766974338823,
           null,
           null,
           null,
           null,
           null,
           null
          ],
          [
           null,
           12.163271432543343,
           null,
           null,
           null,
           6.941922662101007,
           null,
           null,
           null,
           null,
           null,
           null
          ],
          [
           null,
           null,
           null,
           null,
           6.618593669483881,
           6.815801292072273,
           6.979135063046851,
           6.981201246209411,
           null,
           7.370998759623221,
           null,
           null
          ],
          [
           null,
           11.925298482021743,
           8.503983449642131,
           7.321542595070055,
           null,
           null,
           null,
           6.832556332139712,
           6.8117460133373084,
           null,
           null,
           null
          ],
          [
           null,
           null,
           8.559175843633275,
           null,
           null,
           null,
           7.051566361899401,
           7.217140271784709,
           null,
           6.956236529867877,
           7.90844943711807,
           null
          ],
          [
           null,
           null,
           null,
           6.627462023521828,
           6.682989805676676,
           6.66350106253479,
           6.9429332533104215,
           6.66382503839976,
           6.808101060600806,
           7.235049772447086,
           6.795074677253929,
           null
          ],
          [
           null,
           10.368444606240724,
           null,
           7.15789438857747,
           6.645324265512597,
           6.997488803389456,
           6.708266025071973,
           null,
           null,
           7.221052347750691,
           7.126390293845463,
           null
          ],
          [
           null,
           10.051626422752918,
           6.876332674549545,
           7.157780863809487,
           6.957283794360092,
           6.576550046951129,
           null,
           null,
           null,
           null,
           null,
           null
          ],
          [
           null,
           8.01258529334201,
           6.582774692333775,
           6.64246398086282,
           6.64645176318988,
           null,
           null,
           null,
           null,
           null,
           null,
           null
          ],
          [
           null,
           9.60516791607654,
           null,
           7.094660598117216,
           6.921022812909283,
           7.301109414249166,
           null,
           null,
           null,
           null,
           null,
           null
          ],
          [
           null,
           null,
           null,
           null,
           null,
           null,
           null,
           null,
           null,
           null,
           null,
           null
          ]
         ]
        },
        {
         "marker": {
          "color": "black",
          "line": {
           "color": "Grey",
           "width": 2
          }
         },
         "mode": "markers",
         "showlegend": false,
         "type": "scatter",
         "x": [
          20,
          20,
          25,
          15,
          25,
          50,
          50,
          10,
          20,
          5,
          40,
          35,
          50,
          35,
          40,
          30,
          45,
          15,
          10,
          15,
          5,
          20,
          30,
          15,
          10,
          25,
          15,
          15,
          20,
          10,
          20,
          20,
          25,
          20,
          15,
          25,
          15,
          20,
          10,
          5,
          10,
          15,
          10,
          15,
          5,
          15,
          10,
          15,
          10,
          5,
          25,
          15,
          15,
          10,
          10,
          5,
          20,
          10,
          15,
          20,
          10,
          15,
          15,
          30,
          30,
          35,
          30,
          35,
          25,
          30,
          45,
          15,
          10,
          20,
          15,
          15,
          20,
          10,
          40,
          40,
          45,
          45,
          15,
          40,
          35,
          10,
          50,
          20,
          20,
          25,
          25,
          20,
          20,
          20,
          5,
          20,
          25,
          20,
          20,
          25
         ],
         "xaxis": "x15",
         "y": [
          1,
          3,
          2,
          6,
          1,
          6,
          5,
          9,
          10,
          8,
          4,
          3,
          7,
          4,
          6,
          3,
          5,
          7,
          8,
          7,
          4,
          7,
          6,
          8,
          5,
          3,
          9,
          10,
          9,
          9,
          1,
          7,
          7,
          8,
          9,
          2,
          7,
          6,
          8,
          10,
          8,
          8,
          9,
          8,
          8,
          6,
          8,
          7,
          1,
          2,
          8,
          9,
          10,
          9,
          8,
          7,
          9,
          8,
          6,
          6,
          5,
          7,
          4,
          7,
          5,
          6,
          7,
          6,
          7,
          5,
          3,
          8,
          8,
          9,
          7,
          7,
          9,
          8,
          6,
          6,
          6,
          7,
          8,
          6,
          5,
          4,
          7,
          8,
          9,
          10,
          6,
          8,
          8,
          8,
          9,
          7,
          7,
          7,
          8,
          8
         ],
         "yaxis": "y15"
        },
        {
         "colorbar": {
          "title": {
           "text": "distance"
          }
         },
         "colorscale": [
          [
           0,
           "rgb(247,251,255)"
          ],
          [
           0.125,
           "rgb(222,235,247)"
          ],
          [
           0.25,
           "rgb(198,219,239)"
          ],
          [
           0.375,
           "rgb(158,202,225)"
          ],
          [
           0.5,
           "rgb(107,174,214)"
          ],
          [
           0.625,
           "rgb(66,146,198)"
          ],
          [
           0.75,
           "rgb(33,113,181)"
          ],
          [
           0.875,
           "rgb(8,81,156)"
          ],
          [
           1,
           "rgb(8,48,107)"
          ]
         ],
         "connectgaps": true,
         "contours": {
          "coloring": "heatmap"
         },
         "hoverinfo": "none",
         "line": {
          "smoothing": 1.3
         },
         "reversescale": true,
         "showscale": false,
         "type": "contour",
         "x": [
          0.55,
          1,
          2,
          3,
          4,
          5,
          6,
          7,
          8,
          9,
          10,
          10.45
         ],
         "xaxis": "x4",
         "y": [
          0.55,
          1,
          2,
          3,
          4,
          5,
          6,
          7,
          8,
          9,
          10,
          10.45
         ],
         "yaxis": "y4",
         "z": [
          [
           null,
           null,
           null,
           null,
           null,
           null,
           null,
           null,
           null,
           null,
           null,
           null
          ],
          [
           null,
           null,
           null,
           null,
           null,
           null,
           8.57022760004778,
           null,
           null,
           8.708227955210178,
           null,
           null
          ],
          [
           null,
           null,
           7.729002147545588,
           null,
           null,
           null,
           null,
           6.748722872287084,
           7.8531826497737764,
           9.460771081761246,
           null,
           null
          ],
          [
           null,
           null,
           6.941922662101007,
           null,
           6.8117460133373084,
           null,
           null,
           null,
           null,
           7.6624150454747175,
           7.646147403787222,
           null
          ],
          [
           null,
           null,
           null,
           null,
           11.925298482021743,
           6.956236529867877,
           null,
           7.221052347750691,
           6.576550046951129,
           null,
           null,
           null
          ],
          [
           null,
           8.66674258217236,
           null,
           6.981201246209411,
           null,
           7.964575044068963,
           7.515397508167222,
           null,
           null,
           7.084958189604117,
           null,
           null
          ],
          [
           null,
           null,
           null,
           6.979135063046851,
           8.503983449642131,
           null,
           6.9429332533104215,
           6.96561054208297,
           null,
           null,
           null,
           null
          ],
          [
           null,
           8.869225358183682,
           null,
           6.815801292072273,
           6.832556332139712,
           null,
           7.235049772447086,
           null,
           null,
           6.908755853941913,
           7.301109414249166,
           null
          ],
          [
           null,
           null,
           null,
           null,
           null,
           7.217140271784709,
           6.808101060600806,
           7.005949083428422,
           6.745689398782036,
           6.64645176318988,
           null,
           null
          ],
          [
           null,
           null,
           12.163271432543343,
           7.370998759623221,
           null,
           null,
           7.453287904085061,
           6.645324265512597,
           6.957283794360092,
           7.713219893326127,
           7.094660598117216,
           null
          ],
          [
           null,
           null,
           null,
           null,
           null,
           7.051566361899401,
           6.66350106253479,
           6.997488803389456,
           6.876332674549545,
           8.01258529334201,
           null,
           null
          ],
          [
           null,
           null,
           null,
           null,
           null,
           null,
           null,
           null,
           null,
           null,
           null,
           null
          ]
         ]
        },
        {
         "marker": {
          "color": "black",
          "line": {
           "color": "Grey",
           "width": 2
          }
         },
         "mode": "markers",
         "showlegend": false,
         "type": "scatter",
         "x": [
          1,
          3,
          2,
          6,
          1,
          6,
          5,
          9,
          10,
          8,
          4,
          3,
          7,
          4,
          6,
          3,
          5,
          7,
          8,
          7,
          4,
          7,
          6,
          8,
          5,
          3,
          9,
          10,
          9,
          9,
          1,
          7,
          7,
          8,
          9,
          2,
          7,
          6,
          8,
          10,
          8,
          8,
          9,
          8,
          8,
          6,
          8,
          7,
          1,
          2,
          8,
          9,
          10,
          9,
          8,
          7,
          9,
          8,
          6,
          6,
          5,
          7,
          4,
          7,
          5,
          6,
          7,
          6,
          7,
          5,
          3,
          8,
          8,
          9,
          7,
          7,
          9,
          8,
          6,
          6,
          6,
          7,
          8,
          6,
          5,
          4,
          7,
          8,
          9,
          10,
          6,
          8,
          8,
          8,
          9,
          7,
          7,
          7,
          8,
          8
         ],
         "xaxis": "x4",
         "y": [
          5,
          5,
          2,
          9,
          7,
          6,
          10,
          7,
          9,
          10,
          3,
          5,
          4,
          7,
          1,
          6,
          4,
          8,
          8,
          8,
          4,
          6,
          6,
          8,
          5,
          7,
          3,
          3,
          3,
          1,
          5,
          2,
          2,
          2,
          2,
          3,
          4,
          1,
          9,
          9,
          10,
          9,
          9,
          9,
          9,
          10,
          8,
          10,
          7,
          9,
          8,
          10,
          9,
          10,
          9,
          10,
          8,
          10,
          8,
          7,
          8,
          9,
          6,
          9,
          8,
          5,
          9,
          7,
          8,
          10,
          9,
          9,
          9,
          10,
          8,
          9,
          5,
          10,
          8,
          8,
          7,
          4,
          9,
          8,
          8,
          6,
          9,
          9,
          8,
          7,
          10,
          9,
          9,
          9,
          10,
          9,
          10,
          9,
          9,
          4
         ],
         "yaxis": "y4"
        },
        {
         "colorbar": {
          "title": {
           "text": "distance"
          }
         },
         "colorscale": [
          [
           0,
           "rgb(247,251,255)"
          ],
          [
           0.125,
           "rgb(222,235,247)"
          ],
          [
           0.25,
           "rgb(198,219,239)"
          ],
          [
           0.375,
           "rgb(158,202,225)"
          ],
          [
           0.5,
           "rgb(107,174,214)"
          ],
          [
           0.625,
           "rgb(66,146,198)"
          ],
          [
           0.75,
           "rgb(33,113,181)"
          ],
          [
           0.875,
           "rgb(8,81,156)"
          ],
          [
           1,
           "rgb(8,48,107)"
          ]
         ],
         "connectgaps": true,
         "contours": {
          "coloring": "heatmap"
         },
         "hoverinfo": "none",
         "line": {
          "smoothing": 1.3
         },
         "reversescale": true,
         "showscale": false,
         "type": "contour",
         "x": [
          0.55,
          1,
          2,
          3,
          4,
          5,
          6,
          7,
          8,
          9,
          10,
          10.45
         ],
         "xaxis": "x8",
         "y": [
          0.19375795348254654,
          0.2071533476327387,
          0.2108826496676009,
          0.22649845425951956,
          0.2348422161207379,
          0.24970399445385352,
          0.2640041660119855,
          0.2681459855693354,
          0.27990987262531963,
          0.2801974824045272,
          0.28979439121120054,
          0.2977276300587118,
          0.30191840830159195,
          0.30531717585775664,
          0.3072609332536895,
          0.3095890919721405,
          0.3199482097685925,
          0.3203415688148227,
          0.32839785214494066,
          0.3301181793574532,
          0.3324263103771623,
          0.342767360728064,
          0.345665206416253,
          0.35386472050007467,
          0.35419768500124926,
          0.35466104158978995,
          0.3557250391285034,
          0.3625855513617516,
          0.3691733908101926,
          0.3724013309897641,
          0.3749189144410235,
          0.3788294226986846,
          0.3808027516424747,
          0.38204232987610165,
          0.3842108131624772,
          0.3902298506549719,
          0.3922829293782359,
          0.39580965661540085,
          0.397812210271553,
          0.4000580606180995,
          0.4006285877650944,
          0.4013989012755729,
          0.4034323355527375,
          0.40754813412109675,
          0.41030953202979964,
          0.4135162081334625,
          0.4141572734251889,
          0.4149470234793615,
          0.41688810647788116,
          0.41835992614351647,
          0.4218058278410013,
          0.42526534297124013,
          0.42555688144573245,
          0.43129455297287184,
          0.4317746174342902,
          0.43308404180119137,
          0.4333832950114248,
          0.4340122499072176,
          0.4354438381832276,
          0.43818774370819397,
          0.4396274674688022,
          0.44248607387749755,
          0.44702597226093654,
          0.4471748005498575,
          0.44889510397034976,
          0.45496615783406313,
          0.455905289052174,
          0.4566626873377028,
          0.4572336064734494,
          0.4573645058485396,
          0.4613086789148259,
          0.4691586882647345,
          0.4697627715615094,
          0.4714978764718547,
          0.47253514112491374,
          0.48133832632026236,
          0.48809307381469913,
          0.4907791267588383,
          0.4917432340030627,
          0.49175394637869163,
          0.5052768869322142,
          0.5057238326175705,
          0.5142977926155852,
          0.5168571625601595,
          0.5261139715008444,
          0.5318688040643682,
          0.5341243158916451,
          0.5466223038624164,
          0.5518485968165537,
          0.5586170018880328,
          0.5742808911649575,
          0.5756080830124146,
          0.5762782789998131,
          0.5995316559891004,
          0.6001711724099198,
          0.6234369246742749,
          0.6442402197305542,
          0.670087893263115,
          0.7095012959991417,
          0.7220926758066272,
          0.7887516870762818,
          0.8432817827193884
         ],
         "yaxis": "y8",
         "z": [
          [
           null,
           null,
           null,
           null,
           null,
           null,
           null,
           null,
           null,
           null,
           null,
           null
          ],
          [
           null,
           null,
           null,
           null,
           null,
           null,
           null,
           null,
           null,
           8.708227955210178,
           null,
           null
          ],
          [
           null,
           null,
           null,
           null,
           6.8117460133373084,
           null,
           null,
           null,
           null,
           null,
           null,
           null
          ],
          [
           null,
           null,
           6.941922662101007,
           null,
           null,
           null,
           null,
           null,
           null,
           null,
           null,
           null
          ],
          [
           null,
           null,
           7.729002147545588,
           null,
           null,
           null,
           null,
           null,
           null,
           null,
           null,
           null
          ],
          [
           null,
           null,
           null,
           null,
           null,
           null,
           null,
           null,
           null,
           7.6624150454747175,
           null,
           null
          ],
          [
           null,
           null,
           null,
           null,
           null,
           7.051566361899401,
           null,
           null,
           null,
           null,
           null,
           null
          ],
          [
           null,
           null,
           null,
           null,
           6.832556332139712,
           null,
           null,
           null,
           null,
           null,
           null,
           null
          ],
          [
           null,
           null,
           null,
           null,
           null,
           null,
           null,
           null,
           null,
           6.671881060560426,
           null,
           null
          ],
          [
           null,
           null,
           null,
           null,
           null,
           null,
           null,
           null,
           null,
           null,
           7.646147403787222,
           null
          ],
          [
           null,
           null,
           null,
           null,
           null,
           null,
           null,
           7.391283589596038,
           null,
           null,
           null,
           null
          ],
          [
           null,
           null,
           null,
           null,
           null,
           null,
           null,
           6.748722872287084,
           null,
           null,
           null,
           null
          ],
          [
           null,
           null,
           null,
           null,
           null,
           7.90844943711807,
           null,
           null,
           null,
           null,
           null,
           null
          ],
          [
           null,
           null,
           null,
           null,
           null,
           null,
           6.682989805676676,
           null,
           null,
           null,
           null,
           null
          ],
          [
           null,
           null,
           null,
           null,
           null,
           null,
           6.627462023521828,
           null,
           null,
           null,
           null,
           null
          ],
          [
           null,
           null,
           null,
           null,
           7.321542595070055,
           null,
           null,
           null,
           null,
           null,
           null,
           null
          ],
          [
           null,
           null,
           null,
           null,
           null,
           null,
           null,
           7.15789438857747,
           null,
           null,
           null,
           null
          ],
          [
           null,
           null,
           null,
           6.981201246209411,
           null,
           null,
           null,
           null,
           null,
           null,
           null,
           null
          ],
          [
           null,
           null,
           null,
           null,
           null,
           null,
           null,
           null,
           null,
           null,
           7.094660598117216,
           null
          ],
          [
           null,
           null,
           null,
           null,
           null,
           null,
           null,
           null,
           null,
           6.64246398086282,
           null,
           null
          ],
          [
           null,
           null,
           null,
           null,
           null,
           7.964575044068963,
           null,
           null,
           null,
           null,
           null,
           null
          ],
          [
           null,
           null,
           null,
           null,
           null,
           null,
           null,
           7.211213195809447,
           null,
           null,
           null,
           null
          ],
          [
           null,
           null,
           null,
           null,
           null,
           null,
           null,
           null,
           null,
           7.263445589789916,
           null,
           null
          ],
          [
           null,
           null,
           null,
           null,
           null,
           null,
           null,
           null,
           null,
           null,
           6.921022812909283,
           null
          ],
          [
           null,
           null,
           null,
           null,
           null,
           null,
           6.945652088103281,
           null,
           null,
           null,
           null,
           null
          ],
          [
           null,
           null,
           null,
           null,
           null,
           null,
           null,
           7.216405004586652,
           null,
           null,
           null,
           null
          ],
          [
           null,
           null,
           null,
           null,
           null,
           null,
           null,
           null,
           null,
           6.582774692333775,
           null,
           null
          ],
          [
           null,
           null,
           null,
           null,
           null,
           null,
           null,
           null,
           7.628141333970418,
           null,
           null,
           null
          ],
          [
           null,
           null,
           null,
           null,
           null,
           null,
           6.66382503839976,
           null,
           null,
           null,
           null,
           null
          ],
          [
           null,
           null,
           null,
           null,
           null,
           null,
           null,
           7.005949083428422,
           null,
           null,
           null,
           null
          ],
          [
           null,
           null,
           null,
           6.979135063046851,
           null,
           null,
           null,
           null,
           null,
           null,
           null,
           null
          ],
          [
           null,
           null,
           null,
           null,
           null,
           null,
           null,
           6.72411317175734,
           null,
           null,
           null,
           null
          ],
          [
           null,
           null,
           null,
           null,
           null,
           null,
           6.795074677253929,
           null,
           null,
           null,
           null,
           null
          ],
          [
           null,
           null,
           null,
           null,
           null,
           null,
           null,
           null,
           6.640850624509698,
           null,
           null,
           null
          ],
          [
           null,
           null,
           null,
           null,
           8.503983449642131,
           null,
           null,
           null,
           null,
           null,
           null,
           null
          ],
          [
           null,
           null,
           null,
           null,
           null,
           null,
           null,
           null,
           7.068810960223108,
           null,
           null,
           null
          ],
          [
           null,
           null,
           null,
           null,
           null,
           null,
           null,
           null,
           7.295825720624886,
           null,
           null,
           null
          ],
          [
           null,
           null,
           null,
           null,
           null,
           null,
           null,
           null,
           null,
           6.815373873760449,
           null,
           null
          ],
          [
           null,
           null,
           null,
           null,
           null,
           null,
           null,
           null,
           null,
           8.01258529334201,
           null,
           null
          ],
          [
           null,
           null,
           null,
           null,
           null,
           null,
           null,
           null,
           6.308989647949975,
           null,
           null,
           null
          ],
          [
           null,
           null,
           null,
           6.815801292072273,
           null,
           null,
           null,
           null,
           null,
           null,
           null,
           null
          ],
          [
           null,
           8.585233033074145,
           null,
           null,
           null,
           null,
           null,
           null,
           null,
           null,
           null,
           null
          ],
          [
           null,
           null,
           null,
           7.370998759623221,
           null,
           null,
           null,
           null,
           null,
           null,
           null,
           null
          ],
          [
           null,
           null,
           null,
           null,
           null,
           null,
           null,
           6.997488803389456,
           null,
           null,
           null,
           null
          ],
          [
           null,
           null,
           null,
           null,
           null,
           null,
           null,
           null,
           null,
           7.084958189604117,
           null,
           null
          ],
          [
           null,
           null,
           null,
           null,
           null,
           null,
           null,
           7.126390293845463,
           null,
           null,
           null,
           null
          ],
          [
           null,
           null,
           null,
           null,
           null,
           null,
           null,
           null,
           6.492786820564281,
           null,
           null,
           null
          ],
          [
           null,
           null,
           null,
           null,
           null,
           null,
           null,
           null,
           10.051626422752918,
           null,
           null,
           null
          ],
          [
           null,
           null,
           null,
           null,
           null,
           null,
           8.57022760004778,
           null,
           null,
           null,
           null,
           null
          ],
          [
           null,
           null,
           null,
           null,
           null,
           null,
           null,
           null,
           6.957283794360092,
           null,
           null,
           null
          ],
          [
           null,
           null,
           null,
           null,
           null,
           null,
           null,
           10.368444606240724,
           null,
           null,
           null,
           null
          ],
          [
           null,
           null,
           null,
           null,
           null,
           null,
           7.515397508167222,
           null,
           null,
           null,
           null,
           null
          ],
          [
           null,
           null,
           null,
           null,
           null,
           null,
           null,
           6.615732926652282,
           null,
           null,
           null,
           null
          ],
          [
           null,
           null,
           null,
           null,
           null,
           null,
           null,
           null,
           6.433846807545842,
           null,
           null,
           null
          ],
          [
           null,
           null,
           null,
           null,
           null,
           null,
           null,
           null,
           6.876332674549545,
           null,
           null,
           null
          ],
          [
           null,
           null,
           null,
           null,
           null,
           null,
           null,
           null,
           null,
           6.64645176318988,
           null,
           null
          ],
          [
           null,
           null,
           null,
           null,
           null,
           null,
           null,
           6.588846670861879,
           null,
           null,
           null,
           null
          ],
          [
           null,
           null,
           null,
           null,
           null,
           null,
           null,
           6.96561054208297,
           null,
           null,
           null,
           null
          ],
          [
           null,
           null,
           null,
           null,
           null,
           null,
           null,
           null,
           null,
           6.908755853941913,
           null,
           null
          ],
          [
           null,
           null,
           null,
           null,
           null,
           null,
           null,
           null,
           6.6920013351818435,
           null,
           null,
           null
          ],
          [
           null,
           null,
           null,
           null,
           11.925298482021743,
           null,
           null,
           null,
           null,
           null,
           null,
           null
          ],
          [
           null,
           null,
           null,
           null,
           null,
           null,
           null,
           null,
           6.947963177181552,
           null,
           null,
           null
          ],
          [
           null,
           null,
           null,
           6.618593669483881,
           null,
           null,
           null,
           null,
           null,
           null,
           null,
           null
          ],
          [
           null,
           null,
           null,
           null,
           null,
           null,
           null,
           7.221052347750691,
           null,
           null,
           null,
           null
          ],
          [
           null,
           null,
           null,
           null,
           null,
           null,
           null,
           null,
           6.745689398782036,
           null,
           null,
           null
          ],
          [
           null,
           null,
           null,
           null,
           null,
           null,
           null,
           null,
           6.576550046951129,
           null,
           null,
           null
          ],
          [
           null,
           null,
           null,
           null,
           null,
           null,
           null,
           null,
           null,
           7.713219893326127,
           null,
           null
          ],
          [
           null,
           null,
           null,
           null,
           null,
           null,
           null,
           null,
           6.16138370816904,
           null,
           null,
           null
          ],
          [
           null,
           null,
           null,
           null,
           null,
           null,
           null,
           null,
           6.665481385609239,
           null,
           null,
           null
          ],
          [
           null,
           null,
           null,
           null,
           null,
           null,
           6.580320620577788,
           null,
           null,
           null,
           null,
           null
          ],
          [
           null,
           null,
           null,
           null,
           null,
           null,
           6.7562629718977085,
           null,
           null,
           null,
           null,
           null
          ],
          [
           null,
           8.66674258217236,
           null,
           null,
           null,
           null,
           null,
           null,
           null,
           null,
           null,
           null
          ],
          [
           null,
           null,
           null,
           null,
           null,
           null,
           null,
           6.645324265512597,
           null,
           null,
           null,
           null
          ],
          [
           null,
           null,
           null,
           null,
           null,
           7.024234465112119,
           null,
           null,
           null,
           null,
           null,
           null
          ],
          [
           null,
           null,
           null,
           null,
           null,
           null,
           null,
           null,
           null,
           null,
           9.60516791607654,
           null
          ],
          [
           null,
           null,
           null,
           null,
           null,
           7.217140271784709,
           null,
           null,
           null,
           null,
           null,
           null
          ],
          [
           null,
           null,
           null,
           null,
           null,
           null,
           null,
           null,
           7.157780863809487,
           null,
           null,
           null
          ],
          [
           null,
           null,
           null,
           null,
           null,
           6.956236529867877,
           null,
           null,
           null,
           null,
           null,
           null
          ],
          [
           null,
           null,
           null,
           null,
           null,
           8.559175843633275,
           null,
           null,
           null,
           null,
           null,
           null
          ],
          [
           null,
           null,
           null,
           null,
           null,
           null,
           null,
           6.818525630049701,
           null,
           null,
           null,
           null
          ],
          [
           null,
           8.869225358183682,
           null,
           null,
           null,
           null,
           null,
           null,
           null,
           null,
           null,
           null
          ],
          [
           null,
           null,
           null,
           null,
           null,
           null,
           6.808101060600806,
           null,
           null,
           null,
           null,
           null
          ],
          [
           null,
           null,
           null,
           null,
           null,
           null,
           null,
           null,
           7.017972862065542,
           null,
           null,
           null
          ],
          [
           null,
           6.887766974338823,
           null,
           null,
           null,
           null,
           null,
           null,
           null,
           null,
           null,
           null
          ],
          [
           null,
           null,
           null,
           null,
           null,
           null,
           null,
           null,
           null,
           null,
           7.301109414249166,
           null
          ],
          [
           null,
           null,
           null,
           null,
           null,
           null,
           null,
           null,
           6.959133443616567,
           null,
           null,
           null
          ],
          [
           null,
           null,
           null,
           null,
           null,
           null,
           7.235049772447086,
           null,
           null,
           null,
           null,
           null
          ],
          [
           null,
           null,
           12.163271432543343,
           null,
           null,
           null,
           null,
           null,
           null,
           null,
           null,
           null
          ],
          [
           null,
           null,
           null,
           null,
           null,
           null,
           null,
           null,
           7.8531826497737764,
           null,
           null,
           null
          ],
          [
           null,
           null,
           null,
           null,
           null,
           null,
           null,
           6.599394886762154,
           null,
           null,
           null,
           null
          ],
          [
           null,
           null,
           null,
           null,
           null,
           null,
           null,
           null,
           7.986992462708582,
           null,
           null,
           null
          ],
          [
           null,
           null,
           null,
           null,
           null,
           null,
           6.66350106253479,
           null,
           null,
           null,
           null,
           null
          ],
          [
           null,
           null,
           null,
           null,
           null,
           null,
           null,
           7.266823098840962,
           null,
           null,
           null,
           null
          ],
          [
           null,
           null,
           null,
           null,
           null,
           null,
           7.453287904085061,
           null,
           null,
           null,
           null,
           null
          ],
          [
           null,
           null,
           null,
           null,
           null,
           null,
           null,
           null,
           8.406950422480717,
           null,
           null,
           null
          ],
          [
           null,
           null,
           null,
           null,
           null,
           null,
           null,
           null,
           null,
           9.460771081761246,
           null,
           null
          ],
          [
           null,
           null,
           null,
           null,
           null,
           null,
           null,
           6.81556255689501,
           null,
           null,
           null,
           null
          ],
          [
           null,
           null,
           null,
           null,
           null,
           null,
           6.9429332533104215,
           null,
           null,
           null,
           null,
           null
          ],
          [
           null,
           null,
           null,
           null,
           null,
           null,
           null,
           null,
           13.841512769908556,
           null,
           null,
           null
          ],
          [
           null,
           null,
           null,
           null,
           null,
           null,
           null,
           6.708266025071973,
           null,
           null,
           null,
           null
          ],
          [
           null,
           null,
           null,
           null,
           null,
           null,
           8.430571643181738,
           null,
           null,
           null,
           null,
           null
          ],
          [
           null,
           null,
           null,
           null,
           null,
           null,
           null,
           null,
           null,
           null,
           null,
           null
          ]
         ]
        },
        {
         "marker": {
          "color": "black",
          "line": {
           "color": "Grey",
           "width": 2
          }
         },
         "mode": "markers",
         "showlegend": false,
         "type": "scatter",
         "x": [
          1,
          3,
          2,
          6,
          1,
          6,
          5,
          9,
          10,
          8,
          4,
          3,
          7,
          4,
          6,
          3,
          5,
          7,
          8,
          7,
          4,
          7,
          6,
          8,
          5,
          3,
          9,
          10,
          9,
          9,
          1,
          7,
          7,
          8,
          9,
          2,
          7,
          6,
          8,
          10,
          8,
          8,
          9,
          8,
          8,
          6,
          8,
          7,
          1,
          2,
          8,
          9,
          10,
          9,
          8,
          7,
          9,
          8,
          6,
          6,
          5,
          7,
          4,
          7,
          5,
          6,
          7,
          6,
          7,
          5,
          3,
          8,
          8,
          9,
          7,
          7,
          9,
          8,
          6,
          6,
          6,
          7,
          8,
          6,
          5,
          4,
          7,
          8,
          9,
          10,
          6,
          8,
          8,
          8,
          9,
          7,
          7,
          7,
          8,
          8
         ],
         "xaxis": "x8",
         "y": [
          0.4013989012755729,
          0.44702597226093654,
          0.2348422161207379,
          0.5995316559891004,
          0.5168571625601595,
          0.3808027516424747,
          0.30191840830159195,
          0.4354438381832276,
          0.35386472050007467,
          0.7095012959991417,
          0.2108826496676009,
          0.3203415688148227,
          0.49175394637869163,
          0.2681459855693354,
          0.7887516870762818,
          0.3749189144410235,
          0.4907791267588383,
          0.5586170018880328,
          0.6001711724099198,
          0.5762782789998131,
          0.4396274674688022,
          0.4340122499072176,
          0.670087893263115,
          0.5318688040643682,
          0.3324263103771623,
          0.4006285877650944,
          0.27990987262531963,
          0.2801974824045272,
          0.24970399445385352,
          0.2071533476327387,
          0.4691586882647345,
          0.3788294226986846,
          0.2977276300587118,
          0.5518485968165537,
          0.6234369246742749,
          0.22649845425951956,
          0.35466104158978995,
          0.41688810647788116,
          0.4566626873377028,
          0.47253514112491374,
          0.5142977926155852,
          0.38204232987610165,
          0.455905289052174,
          0.4141572734251889,
          0.4149470234793615,
          0.35419768500124926,
          0.3922829293782359,
          0.6442402197305542,
          0.5052768869322142,
          0.5466223038624164,
          0.44889510397034976,
          0.3301181793574532,
          0.32839785214494066,
          0.3557250391285034,
          0.3625855513617516,
          0.4218058278410013,
          0.39580965661540085,
          0.5742808911649575,
          0.3072609332536895,
          0.30531717585775664,
          0.4917432340030627,
          0.342767360728064,
          0.3095890919721405,
          0.4333832950114248,
          0.4714978764718547,
          0.42526534297124013,
          0.7220926758066272,
          0.3691733908101926,
          0.28979439121120054,
          0.2640041660119855,
          0.4034323355527375,
          0.44248607387749755,
          0.3902298506549719,
          0.345665206416253,
          0.3724013309897641,
          0.3199482097685925,
          0.41030953202979964,
          0.4317746174342902,
          0.4573645058485396,
          0.4613086789148259,
          0.5341243158916451,
          0.4471748005498575,
          0.48809307381469913,
          0.5057238326175705,
          0.48133832632026236,
          0.3842108131624772,
          0.4135162081334625,
          0.43129455297287184,
          0.43308404180119137,
          0.5261139715008444,
          0.5756080830124146,
          0.4000580606180995,
          0.4572336064734494,
          0.43818774370819397,
          0.397812210271553,
          0.42555688144573245,
          0.40754813412109675,
          0.4697627715615094,
          0.41835992614351647,
          0.45496615783406313
         ],
         "yaxis": "y8"
        },
        {
         "colorbar": {
          "title": {
           "text": "distance"
          }
         },
         "colorscale": [
          [
           0,
           "rgb(247,251,255)"
          ],
          [
           0.125,
           "rgb(222,235,247)"
          ],
          [
           0.25,
           "rgb(198,219,239)"
          ],
          [
           0.375,
           "rgb(158,202,225)"
          ],
          [
           0.5,
           "rgb(107,174,214)"
          ],
          [
           0.625,
           "rgb(66,146,198)"
          ],
          [
           0.75,
           "rgb(33,113,181)"
          ],
          [
           0.875,
           "rgb(8,81,156)"
          ],
          [
           1,
           "rgb(8,48,107)"
          ]
         ],
         "connectgaps": true,
         "contours": {
          "coloring": "heatmap"
         },
         "hoverinfo": "none",
         "line": {
          "smoothing": 1.3
         },
         "reversescale": true,
         "showscale": false,
         "type": "contour",
         "x": [
          0.55,
          1,
          2,
          3,
          4,
          5,
          6,
          7,
          8,
          9,
          10,
          10.45
         ],
         "xaxis": "x12",
         "y": [
          2.75,
          5,
          10,
          15,
          20,
          25,
          30,
          35,
          40,
          45,
          50,
          52.25
         ],
         "yaxis": "y12",
         "z": [
          [
           null,
           null,
           null,
           null,
           null,
           null,
           null,
           null,
           null,
           null,
           null,
           null
          ],
          [
           null,
           null,
           12.163271432543343,
           null,
           11.925298482021743,
           null,
           null,
           10.368444606240724,
           10.051626422752918,
           8.01258529334201,
           9.60516791607654,
           null
          ],
          [
           null,
           8.869225358183682,
           null,
           null,
           8.503983449642131,
           8.559175843633275,
           null,
           null,
           6.876332674549545,
           6.582774692333775,
           null,
           null
          ],
          [
           null,
           null,
           null,
           null,
           7.321542595070055,
           null,
           6.627462023521828,
           7.15789438857747,
           7.157780863809487,
           6.64246398086282,
           7.094660598117216,
           null
          ],
          [
           null,
           8.66674258217236,
           null,
           6.618593669483881,
           null,
           null,
           6.682989805676676,
           6.645324265512597,
           6.957283794360092,
           6.64645176318988,
           6.921022812909283,
           null
          ],
          [
           null,
           6.887766974338823,
           6.941922662101007,
           6.815801292072273,
           null,
           null,
           6.66350106253479,
           6.997488803389456,
           6.576550046951129,
           null,
           7.301109414249166,
           null
          ],
          [
           null,
           null,
           null,
           6.979135063046851,
           null,
           7.051566361899401,
           6.9429332533104215,
           6.708266025071973,
           null,
           null,
           null,
           null
          ],
          [
           null,
           null,
           null,
           6.981201246209411,
           6.832556332139712,
           7.217140271784709,
           6.66382503839976,
           null,
           null,
           null,
           null,
           null
          ],
          [
           null,
           null,
           null,
           null,
           6.8117460133373084,
           null,
           6.808101060600806,
           null,
           null,
           null,
           null,
           null
          ],
          [
           null,
           null,
           null,
           7.370998759623221,
           null,
           6.956236529867877,
           7.235049772447086,
           7.221052347750691,
           null,
           null,
           null,
           null
          ],
          [
           null,
           null,
           null,
           null,
           null,
           7.90844943711807,
           6.795074677253929,
           7.126390293845463,
           null,
           null,
           null,
           null
          ],
          [
           null,
           null,
           null,
           null,
           null,
           null,
           null,
           null,
           null,
           null,
           null,
           null
          ]
         ]
        },
        {
         "marker": {
          "color": "black",
          "line": {
           "color": "Grey",
           "width": 2
          }
         },
         "mode": "markers",
         "showlegend": false,
         "type": "scatter",
         "x": [
          1,
          3,
          2,
          6,
          1,
          6,
          5,
          9,
          10,
          8,
          4,
          3,
          7,
          4,
          6,
          3,
          5,
          7,
          8,
          7,
          4,
          7,
          6,
          8,
          5,
          3,
          9,
          10,
          9,
          9,
          1,
          7,
          7,
          8,
          9,
          2,
          7,
          6,
          8,
          10,
          8,
          8,
          9,
          8,
          8,
          6,
          8,
          7,
          1,
          2,
          8,
          9,
          10,
          9,
          8,
          7,
          9,
          8,
          6,
          6,
          5,
          7,
          4,
          7,
          5,
          6,
          7,
          6,
          7,
          5,
          3,
          8,
          8,
          9,
          7,
          7,
          9,
          8,
          6,
          6,
          6,
          7,
          8,
          6,
          5,
          4,
          7,
          8,
          9,
          10,
          6,
          8,
          8,
          8,
          9,
          7,
          7,
          7,
          8,
          8
         ],
         "xaxis": "x12",
         "y": [
          20,
          20,
          25,
          15,
          25,
          50,
          50,
          10,
          20,
          5,
          40,
          35,
          50,
          35,
          40,
          30,
          45,
          15,
          10,
          15,
          5,
          20,
          30,
          15,
          10,
          25,
          15,
          15,
          20,
          10,
          20,
          20,
          25,
          20,
          15,
          25,
          15,
          20,
          10,
          5,
          10,
          15,
          10,
          15,
          5,
          15,
          10,
          15,
          10,
          5,
          25,
          15,
          15,
          10,
          10,
          5,
          20,
          10,
          15,
          20,
          10,
          15,
          15,
          30,
          30,
          35,
          30,
          35,
          25,
          30,
          45,
          15,
          10,
          20,
          15,
          15,
          20,
          10,
          40,
          40,
          45,
          45,
          15,
          40,
          35,
          10,
          50,
          20,
          20,
          25,
          25,
          20,
          20,
          20,
          5,
          20,
          25,
          20,
          20,
          25
         ],
         "yaxis": "y12"
        },
        {
         "type": "scatter",
         "xaxis": "x16",
         "yaxis": "y16"
        }
       ],
       "layout": {
        "template": {
         "data": {
          "bar": [
           {
            "error_x": {
             "color": "#2a3f5f"
            },
            "error_y": {
             "color": "#2a3f5f"
            },
            "marker": {
             "line": {
              "color": "#E5ECF6",
              "width": 0.5
             },
             "pattern": {
              "fillmode": "overlay",
              "size": 10,
              "solidity": 0.2
             }
            },
            "type": "bar"
           }
          ],
          "barpolar": [
           {
            "marker": {
             "line": {
              "color": "#E5ECF6",
              "width": 0.5
             },
             "pattern": {
              "fillmode": "overlay",
              "size": 10,
              "solidity": 0.2
             }
            },
            "type": "barpolar"
           }
          ],
          "carpet": [
           {
            "aaxis": {
             "endlinecolor": "#2a3f5f",
             "gridcolor": "white",
             "linecolor": "white",
             "minorgridcolor": "white",
             "startlinecolor": "#2a3f5f"
            },
            "baxis": {
             "endlinecolor": "#2a3f5f",
             "gridcolor": "white",
             "linecolor": "white",
             "minorgridcolor": "white",
             "startlinecolor": "#2a3f5f"
            },
            "type": "carpet"
           }
          ],
          "choropleth": [
           {
            "colorbar": {
             "outlinewidth": 0,
             "ticks": ""
            },
            "type": "choropleth"
           }
          ],
          "contour": [
           {
            "colorbar": {
             "outlinewidth": 0,
             "ticks": ""
            },
            "colorscale": [
             [
              0,
              "#0d0887"
             ],
             [
              0.1111111111111111,
              "#46039f"
             ],
             [
              0.2222222222222222,
              "#7201a8"
             ],
             [
              0.3333333333333333,
              "#9c179e"
             ],
             [
              0.4444444444444444,
              "#bd3786"
             ],
             [
              0.5555555555555556,
              "#d8576b"
             ],
             [
              0.6666666666666666,
              "#ed7953"
             ],
             [
              0.7777777777777778,
              "#fb9f3a"
             ],
             [
              0.8888888888888888,
              "#fdca26"
             ],
             [
              1,
              "#f0f921"
             ]
            ],
            "type": "contour"
           }
          ],
          "contourcarpet": [
           {
            "colorbar": {
             "outlinewidth": 0,
             "ticks": ""
            },
            "type": "contourcarpet"
           }
          ],
          "heatmap": [
           {
            "colorbar": {
             "outlinewidth": 0,
             "ticks": ""
            },
            "colorscale": [
             [
              0,
              "#0d0887"
             ],
             [
              0.1111111111111111,
              "#46039f"
             ],
             [
              0.2222222222222222,
              "#7201a8"
             ],
             [
              0.3333333333333333,
              "#9c179e"
             ],
             [
              0.4444444444444444,
              "#bd3786"
             ],
             [
              0.5555555555555556,
              "#d8576b"
             ],
             [
              0.6666666666666666,
              "#ed7953"
             ],
             [
              0.7777777777777778,
              "#fb9f3a"
             ],
             [
              0.8888888888888888,
              "#fdca26"
             ],
             [
              1,
              "#f0f921"
             ]
            ],
            "type": "heatmap"
           }
          ],
          "heatmapgl": [
           {
            "colorbar": {
             "outlinewidth": 0,
             "ticks": ""
            },
            "colorscale": [
             [
              0,
              "#0d0887"
             ],
             [
              0.1111111111111111,
              "#46039f"
             ],
             [
              0.2222222222222222,
              "#7201a8"
             ],
             [
              0.3333333333333333,
              "#9c179e"
             ],
             [
              0.4444444444444444,
              "#bd3786"
             ],
             [
              0.5555555555555556,
              "#d8576b"
             ],
             [
              0.6666666666666666,
              "#ed7953"
             ],
             [
              0.7777777777777778,
              "#fb9f3a"
             ],
             [
              0.8888888888888888,
              "#fdca26"
             ],
             [
              1,
              "#f0f921"
             ]
            ],
            "type": "heatmapgl"
           }
          ],
          "histogram": [
           {
            "marker": {
             "pattern": {
              "fillmode": "overlay",
              "size": 10,
              "solidity": 0.2
             }
            },
            "type": "histogram"
           }
          ],
          "histogram2d": [
           {
            "colorbar": {
             "outlinewidth": 0,
             "ticks": ""
            },
            "colorscale": [
             [
              0,
              "#0d0887"
             ],
             [
              0.1111111111111111,
              "#46039f"
             ],
             [
              0.2222222222222222,
              "#7201a8"
             ],
             [
              0.3333333333333333,
              "#9c179e"
             ],
             [
              0.4444444444444444,
              "#bd3786"
             ],
             [
              0.5555555555555556,
              "#d8576b"
             ],
             [
              0.6666666666666666,
              "#ed7953"
             ],
             [
              0.7777777777777778,
              "#fb9f3a"
             ],
             [
              0.8888888888888888,
              "#fdca26"
             ],
             [
              1,
              "#f0f921"
             ]
            ],
            "type": "histogram2d"
           }
          ],
          "histogram2dcontour": [
           {
            "colorbar": {
             "outlinewidth": 0,
             "ticks": ""
            },
            "colorscale": [
             [
              0,
              "#0d0887"
             ],
             [
              0.1111111111111111,
              "#46039f"
             ],
             [
              0.2222222222222222,
              "#7201a8"
             ],
             [
              0.3333333333333333,
              "#9c179e"
             ],
             [
              0.4444444444444444,
              "#bd3786"
             ],
             [
              0.5555555555555556,
              "#d8576b"
             ],
             [
              0.6666666666666666,
              "#ed7953"
             ],
             [
              0.7777777777777778,
              "#fb9f3a"
             ],
             [
              0.8888888888888888,
              "#fdca26"
             ],
             [
              1,
              "#f0f921"
             ]
            ],
            "type": "histogram2dcontour"
           }
          ],
          "mesh3d": [
           {
            "colorbar": {
             "outlinewidth": 0,
             "ticks": ""
            },
            "type": "mesh3d"
           }
          ],
          "parcoords": [
           {
            "line": {
             "colorbar": {
              "outlinewidth": 0,
              "ticks": ""
             }
            },
            "type": "parcoords"
           }
          ],
          "pie": [
           {
            "automargin": true,
            "type": "pie"
           }
          ],
          "scatter": [
           {
            "marker": {
             "colorbar": {
              "outlinewidth": 0,
              "ticks": ""
             }
            },
            "type": "scatter"
           }
          ],
          "scatter3d": [
           {
            "line": {
             "colorbar": {
              "outlinewidth": 0,
              "ticks": ""
             }
            },
            "marker": {
             "colorbar": {
              "outlinewidth": 0,
              "ticks": ""
             }
            },
            "type": "scatter3d"
           }
          ],
          "scattercarpet": [
           {
            "marker": {
             "colorbar": {
              "outlinewidth": 0,
              "ticks": ""
             }
            },
            "type": "scattercarpet"
           }
          ],
          "scattergeo": [
           {
            "marker": {
             "colorbar": {
              "outlinewidth": 0,
              "ticks": ""
             }
            },
            "type": "scattergeo"
           }
          ],
          "scattergl": [
           {
            "marker": {
             "colorbar": {
              "outlinewidth": 0,
              "ticks": ""
             }
            },
            "type": "scattergl"
           }
          ],
          "scattermapbox": [
           {
            "marker": {
             "colorbar": {
              "outlinewidth": 0,
              "ticks": ""
             }
            },
            "type": "scattermapbox"
           }
          ],
          "scatterpolar": [
           {
            "marker": {
             "colorbar": {
              "outlinewidth": 0,
              "ticks": ""
             }
            },
            "type": "scatterpolar"
           }
          ],
          "scatterpolargl": [
           {
            "marker": {
             "colorbar": {
              "outlinewidth": 0,
              "ticks": ""
             }
            },
            "type": "scatterpolargl"
           }
          ],
          "scatterternary": [
           {
            "marker": {
             "colorbar": {
              "outlinewidth": 0,
              "ticks": ""
             }
            },
            "type": "scatterternary"
           }
          ],
          "surface": [
           {
            "colorbar": {
             "outlinewidth": 0,
             "ticks": ""
            },
            "colorscale": [
             [
              0,
              "#0d0887"
             ],
             [
              0.1111111111111111,
              "#46039f"
             ],
             [
              0.2222222222222222,
              "#7201a8"
             ],
             [
              0.3333333333333333,
              "#9c179e"
             ],
             [
              0.4444444444444444,
              "#bd3786"
             ],
             [
              0.5555555555555556,
              "#d8576b"
             ],
             [
              0.6666666666666666,
              "#ed7953"
             ],
             [
              0.7777777777777778,
              "#fb9f3a"
             ],
             [
              0.8888888888888888,
              "#fdca26"
             ],
             [
              1,
              "#f0f921"
             ]
            ],
            "type": "surface"
           }
          ],
          "table": [
           {
            "cells": {
             "fill": {
              "color": "#EBF0F8"
             },
             "line": {
              "color": "white"
             }
            },
            "header": {
             "fill": {
              "color": "#C8D4E3"
             },
             "line": {
              "color": "white"
             }
            },
            "type": "table"
           }
          ]
         },
         "layout": {
          "annotationdefaults": {
           "arrowcolor": "#2a3f5f",
           "arrowhead": 0,
           "arrowwidth": 1
          },
          "autotypenumbers": "strict",
          "coloraxis": {
           "colorbar": {
            "outlinewidth": 0,
            "ticks": ""
           }
          },
          "colorscale": {
           "diverging": [
            [
             0,
             "#8e0152"
            ],
            [
             0.1,
             "#c51b7d"
            ],
            [
             0.2,
             "#de77ae"
            ],
            [
             0.3,
             "#f1b6da"
            ],
            [
             0.4,
             "#fde0ef"
            ],
            [
             0.5,
             "#f7f7f7"
            ],
            [
             0.6,
             "#e6f5d0"
            ],
            [
             0.7,
             "#b8e186"
            ],
            [
             0.8,
             "#7fbc41"
            ],
            [
             0.9,
             "#4d9221"
            ],
            [
             1,
             "#276419"
            ]
           ],
           "sequential": [
            [
             0,
             "#0d0887"
            ],
            [
             0.1111111111111111,
             "#46039f"
            ],
            [
             0.2222222222222222,
             "#7201a8"
            ],
            [
             0.3333333333333333,
             "#9c179e"
            ],
            [
             0.4444444444444444,
             "#bd3786"
            ],
            [
             0.5555555555555556,
             "#d8576b"
            ],
            [
             0.6666666666666666,
             "#ed7953"
            ],
            [
             0.7777777777777778,
             "#fb9f3a"
            ],
            [
             0.8888888888888888,
             "#fdca26"
            ],
            [
             1,
             "#f0f921"
            ]
           ],
           "sequentialminus": [
            [
             0,
             "#0d0887"
            ],
            [
             0.1111111111111111,
             "#46039f"
            ],
            [
             0.2222222222222222,
             "#7201a8"
            ],
            [
             0.3333333333333333,
             "#9c179e"
            ],
            [
             0.4444444444444444,
             "#bd3786"
            ],
            [
             0.5555555555555556,
             "#d8576b"
            ],
            [
             0.6666666666666666,
             "#ed7953"
            ],
            [
             0.7777777777777778,
             "#fb9f3a"
            ],
            [
             0.8888888888888888,
             "#fdca26"
            ],
            [
             1,
             "#f0f921"
            ]
           ]
          },
          "colorway": [
           "#636efa",
           "#EF553B",
           "#00cc96",
           "#ab63fa",
           "#FFA15A",
           "#19d3f3",
           "#FF6692",
           "#B6E880",
           "#FF97FF",
           "#FECB52"
          ],
          "font": {
           "color": "#2a3f5f"
          },
          "geo": {
           "bgcolor": "white",
           "lakecolor": "white",
           "landcolor": "#E5ECF6",
           "showlakes": true,
           "showland": true,
           "subunitcolor": "white"
          },
          "hoverlabel": {
           "align": "left"
          },
          "hovermode": "closest",
          "mapbox": {
           "style": "light"
          },
          "paper_bgcolor": "white",
          "plot_bgcolor": "#E5ECF6",
          "polar": {
           "angularaxis": {
            "gridcolor": "white",
            "linecolor": "white",
            "ticks": ""
           },
           "bgcolor": "#E5ECF6",
           "radialaxis": {
            "gridcolor": "white",
            "linecolor": "white",
            "ticks": ""
           }
          },
          "scene": {
           "xaxis": {
            "backgroundcolor": "#E5ECF6",
            "gridcolor": "white",
            "gridwidth": 2,
            "linecolor": "white",
            "showbackground": true,
            "ticks": "",
            "zerolinecolor": "white"
           },
           "yaxis": {
            "backgroundcolor": "#E5ECF6",
            "gridcolor": "white",
            "gridwidth": 2,
            "linecolor": "white",
            "showbackground": true,
            "ticks": "",
            "zerolinecolor": "white"
           },
           "zaxis": {
            "backgroundcolor": "#E5ECF6",
            "gridcolor": "white",
            "gridwidth": 2,
            "linecolor": "white",
            "showbackground": true,
            "ticks": "",
            "zerolinecolor": "white"
           }
          },
          "shapedefaults": {
           "line": {
            "color": "#2a3f5f"
           }
          },
          "ternary": {
           "aaxis": {
            "gridcolor": "white",
            "linecolor": "white",
            "ticks": ""
           },
           "baxis": {
            "gridcolor": "white",
            "linecolor": "white",
            "ticks": ""
           },
           "bgcolor": "#E5ECF6",
           "caxis": {
            "gridcolor": "white",
            "linecolor": "white",
            "ticks": ""
           }
          },
          "title": {
           "x": 0.05
          },
          "xaxis": {
           "automargin": true,
           "gridcolor": "white",
           "linecolor": "white",
           "ticks": "",
           "title": {
            "standoff": 15
           },
           "zerolinecolor": "white",
           "zerolinewidth": 2
          },
          "yaxis": {
           "automargin": true,
           "gridcolor": "white",
           "linecolor": "white",
           "ticks": "",
           "title": {
            "standoff": 15
           },
           "zerolinecolor": "white",
           "zerolinewidth": 2
          }
         }
        },
        "title": {
         "text": "Contour Plot"
        },
        "xaxis": {
         "anchor": "y",
         "domain": [
          0,
          0.2125
         ],
         "matches": "x13",
         "range": [
          0.55,
          10.45
         ],
         "showticklabels": false
        },
        "xaxis10": {
         "anchor": "y10",
         "domain": [
          0.2625,
          0.475
         ],
         "matches": "x14",
         "range": [
          -0.7127404612981068,
          -0.074027281565345
         ],
         "showticklabels": false,
         "type": "log"
        },
        "xaxis11": {
         "anchor": "y11",
         "domain": [
          0.525,
          0.7375
         ],
         "matches": "x15",
         "range": [
          2.75,
          52.25
         ],
         "showticklabels": false
        },
        "xaxis12": {
         "anchor": "y12",
         "domain": [
          0.7875,
          1
         ],
         "matches": "x16",
         "range": [
          0.55,
          10.45
         ],
         "showticklabels": false
        },
        "xaxis13": {
         "anchor": "y13",
         "domain": [
          0,
          0.2125
         ],
         "range": [
          0.55,
          10.45
         ],
         "title": {
          "text": "CHILDREN"
         }
        },
        "xaxis14": {
         "anchor": "y14",
         "domain": [
          0.2625,
          0.475
         ],
         "range": [
          -0.7127404612981068,
          -0.074027281565345
         ],
         "title": {
          "text": "MUTATION"
         },
         "type": "log"
        },
        "xaxis15": {
         "anchor": "y15",
         "domain": [
          0.525,
          0.7375
         ],
         "range": [
          2.75,
          52.25
         ],
         "title": {
          "text": "N_MUTATION"
         }
        },
        "xaxis16": {
         "anchor": "y16",
         "domain": [
          0.7875,
          1
         ],
         "range": [
          0.55,
          10.45
         ],
         "title": {
          "text": "POPULATION"
         }
        },
        "xaxis2": {
         "anchor": "y2",
         "domain": [
          0.2625,
          0.475
         ],
         "matches": "x14",
         "range": [
          -0.7127404612981068,
          -0.074027281565345
         ],
         "showticklabels": false,
         "type": "log"
        },
        "xaxis3": {
         "anchor": "y3",
         "domain": [
          0.525,
          0.7375
         ],
         "matches": "x15",
         "range": [
          2.75,
          52.25
         ],
         "showticklabels": false
        },
        "xaxis4": {
         "anchor": "y4",
         "domain": [
          0.7875,
          1
         ],
         "matches": "x16",
         "range": [
          0.55,
          10.45
         ],
         "showticklabels": false
        },
        "xaxis5": {
         "anchor": "y5",
         "domain": [
          0,
          0.2125
         ],
         "matches": "x13",
         "range": [
          0.55,
          10.45
         ],
         "showticklabels": false
        },
        "xaxis6": {
         "anchor": "y6",
         "domain": [
          0.2625,
          0.475
         ],
         "matches": "x14",
         "range": [
          -0.7127404612981068,
          -0.074027281565345
         ],
         "showticklabels": false,
         "type": "log"
        },
        "xaxis7": {
         "anchor": "y7",
         "domain": [
          0.525,
          0.7375
         ],
         "matches": "x15",
         "range": [
          2.75,
          52.25
         ],
         "showticklabels": false
        },
        "xaxis8": {
         "anchor": "y8",
         "domain": [
          0.7875,
          1
         ],
         "matches": "x16",
         "range": [
          0.55,
          10.45
         ],
         "showticklabels": false
        },
        "xaxis9": {
         "anchor": "y9",
         "domain": [
          0,
          0.2125
         ],
         "matches": "x13",
         "range": [
          0.55,
          10.45
         ],
         "showticklabels": false
        },
        "yaxis": {
         "anchor": "x",
         "domain": [
          0.80625,
          1
         ],
         "range": [
          0.55,
          10.45
         ],
         "title": {
          "text": "CHILDREN"
         }
        },
        "yaxis10": {
         "anchor": "x10",
         "domain": [
          0.26875,
          0.4625
         ],
         "matches": "y9",
         "range": [
          2.75,
          52.25
         ],
         "showticklabels": false
        },
        "yaxis11": {
         "anchor": "x11",
         "domain": [
          0.26875,
          0.4625
         ],
         "matches": "y9",
         "range": [
          2.75,
          52.25
         ],
         "showticklabels": false
        },
        "yaxis12": {
         "anchor": "x12",
         "domain": [
          0.26875,
          0.4625
         ],
         "matches": "y9",
         "range": [
          2.75,
          52.25
         ],
         "showticklabels": false
        },
        "yaxis13": {
         "anchor": "x13",
         "domain": [
          0,
          0.19375
         ],
         "range": [
          0.55,
          10.45
         ],
         "title": {
          "text": "POPULATION"
         }
        },
        "yaxis14": {
         "anchor": "x14",
         "domain": [
          0,
          0.19375
         ],
         "matches": "y13",
         "range": [
          0.55,
          10.45
         ],
         "showticklabels": false
        },
        "yaxis15": {
         "anchor": "x15",
         "domain": [
          0,
          0.19375
         ],
         "matches": "y13",
         "range": [
          0.55,
          10.45
         ],
         "showticklabels": false
        },
        "yaxis16": {
         "anchor": "x16",
         "domain": [
          0,
          0.19375
         ],
         "matches": "y13",
         "range": [
          0.55,
          10.45
         ],
         "showticklabels": false
        },
        "yaxis2": {
         "anchor": "x2",
         "domain": [
          0.80625,
          1
         ],
         "matches": "y",
         "range": [
          0.55,
          10.45
         ],
         "showticklabels": false
        },
        "yaxis3": {
         "anchor": "x3",
         "domain": [
          0.80625,
          1
         ],
         "matches": "y",
         "range": [
          0.55,
          10.45
         ],
         "showticklabels": false
        },
        "yaxis4": {
         "anchor": "x4",
         "domain": [
          0.80625,
          1
         ],
         "matches": "y",
         "range": [
          0.55,
          10.45
         ],
         "showticklabels": false
        },
        "yaxis5": {
         "anchor": "x5",
         "domain": [
          0.5375,
          0.73125
         ],
         "range": [
          -0.7127404612981068,
          -0.074027281565345
         ],
         "title": {
          "text": "MUTATION"
         },
         "type": "log"
        },
        "yaxis6": {
         "anchor": "x6",
         "domain": [
          0.5375,
          0.73125
         ],
         "matches": "y5",
         "range": [
          -0.7127404612981068,
          -0.074027281565345
         ],
         "showticklabels": false,
         "type": "log"
        },
        "yaxis7": {
         "anchor": "x7",
         "domain": [
          0.5375,
          0.73125
         ],
         "matches": "y5",
         "range": [
          -0.7127404612981068,
          -0.074027281565345
         ],
         "showticklabels": false,
         "type": "log"
        },
        "yaxis8": {
         "anchor": "x8",
         "domain": [
          0.5375,
          0.73125
         ],
         "matches": "y5",
         "range": [
          -0.7127404612981068,
          -0.074027281565345
         ],
         "showticklabels": false,
         "type": "log"
        },
        "yaxis9": {
         "anchor": "x9",
         "domain": [
          0.26875,
          0.4625
         ],
         "range": [
          2.75,
          52.25
         ],
         "title": {
          "text": "N_MUTATION"
         }
        }
       }
      },
      "text/html": [
       "<div>                            <div id=\"54b9739c-7552-48c6-8d98-b1c609898158\" class=\"plotly-graph-div\" style=\"height:525px; width:100%;\"></div>            <script type=\"text/javascript\">                require([\"plotly\"], function(Plotly) {                    window.PLOTLYENV=window.PLOTLYENV || {};                                    if (document.getElementById(\"54b9739c-7552-48c6-8d98-b1c609898158\")) {                    Plotly.newPlot(                        \"54b9739c-7552-48c6-8d98-b1c609898158\",                        [{\"type\":\"scatter\",\"xaxis\":\"x\",\"yaxis\":\"y\"},{\"colorbar\":{\"title\":{\"text\":\"distance\"}},\"colorscale\":[[0.0,\"rgb(247,251,255)\"],[0.125,\"rgb(222,235,247)\"],[0.25,\"rgb(198,219,239)\"],[0.375,\"rgb(158,202,225)\"],[0.5,\"rgb(107,174,214)\"],[0.625,\"rgb(66,146,198)\"],[0.75,\"rgb(33,113,181)\"],[0.875,\"rgb(8,81,156)\"],[1.0,\"rgb(8,48,107)\"]],\"connectgaps\":true,\"contours\":{\"coloring\":\"heatmap\"},\"hoverinfo\":\"none\",\"line\":{\"smoothing\":1.3},\"reversescale\":true,\"showscale\":true,\"x\":[0.55,1,2,3,4,5,6,7,8,9,10,10.45],\"y\":[0.19375795348254654,0.2071533476327387,0.2108826496676009,0.22649845425951956,0.2348422161207379,0.24970399445385352,0.2640041660119855,0.2681459855693354,0.27990987262531963,0.2801974824045272,0.28979439121120054,0.2977276300587118,0.30191840830159195,0.30531717585775664,0.3072609332536895,0.3095890919721405,0.3199482097685925,0.3203415688148227,0.32839785214494066,0.3301181793574532,0.3324263103771623,0.342767360728064,0.345665206416253,0.35386472050007467,0.35419768500124926,0.35466104158978995,0.3557250391285034,0.3625855513617516,0.3691733908101926,0.3724013309897641,0.3749189144410235,0.3788294226986846,0.3808027516424747,0.38204232987610165,0.3842108131624772,0.3902298506549719,0.3922829293782359,0.39580965661540085,0.397812210271553,0.4000580606180995,0.4006285877650944,0.4013989012755729,0.4034323355527375,0.40754813412109675,0.41030953202979964,0.4135162081334625,0.4141572734251889,0.4149470234793615,0.41688810647788116,0.41835992614351647,0.4218058278410013,0.42526534297124013,0.42555688144573245,0.43129455297287184,0.4317746174342902,0.43308404180119137,0.4333832950114248,0.4340122499072176,0.4354438381832276,0.43818774370819397,0.4396274674688022,0.44248607387749755,0.44702597226093654,0.4471748005498575,0.44889510397034976,0.45496615783406313,0.455905289052174,0.4566626873377028,0.4572336064734494,0.4573645058485396,0.4613086789148259,0.4691586882647345,0.4697627715615094,0.4714978764718547,0.47253514112491374,0.48133832632026236,0.48809307381469913,0.4907791267588383,0.4917432340030627,0.49175394637869163,0.5052768869322142,0.5057238326175705,0.5142977926155852,0.5168571625601595,0.5261139715008444,0.5318688040643682,0.5341243158916451,0.5466223038624164,0.5518485968165537,0.5586170018880328,0.5742808911649575,0.5756080830124146,0.5762782789998131,0.5995316559891004,0.6001711724099198,0.6234369246742749,0.6442402197305542,0.670087893263115,0.7095012959991417,0.7220926758066272,0.7887516870762818,0.8432817827193884],\"z\":[[null,null,null,null,null,null,null,null,null,null,null,null],[null,8.708227955210178,null,null,null,null,null,null,null,null,null,null],[null,null,null,6.8117460133373084,null,null,null,null,null,null,null,null],[null,null,null,6.941922662101007,null,null,null,null,null,null,null,null],[null,null,7.729002147545588,null,null,null,null,null,null,null,null,null],[null,null,null,7.6624150454747175,null,null,null,null,null,null,null,null],[null,null,null,null,null,null,null,null,null,null,7.051566361899401,null],[null,null,null,null,null,null,null,6.832556332139712,null,null,null,null],[null,null,null,6.671881060560426,null,null,null,null,null,null,null,null],[null,null,null,7.646147403787222,null,null,null,null,null,null,null,null],[null,null,null,null,null,null,null,null,7.391283589596038,null,null,null],[null,null,6.748722872287084,null,null,null,null,null,null,null,null,null],[null,null,null,null,null,null,null,null,null,null,7.90844943711807,null],[null,null,null,null,null,null,null,6.682989805676676,null,null,null,null],[null,null,null,null,null,null,null,null,6.627462023521828,null,null,null],[null,null,null,null,null,null,7.321542595070055,null,null,null,null,null],[null,null,null,null,null,null,null,null,null,7.15789438857747,null,null],[null,null,null,null,null,6.981201246209411,null,null,null,null,null,null],[null,null,null,null,null,null,null,null,null,7.094660598117216,null,null],[null,null,null,null,null,null,null,null,null,null,6.64246398086282,null],[null,null,null,null,null,7.964575044068963,null,null,null,null,null,null],[null,null,null,null,null,null,null,null,null,7.211213195809447,null,null],[null,null,null,null,null,null,null,null,null,null,7.263445589789916,null],[null,null,null,null,null,null,null,null,null,6.921022812909283,null,null],[null,null,null,null,null,null,null,null,null,null,6.945652088103281,null],[null,null,null,null,7.216405004586652,null,null,null,null,null,null,null],[null,null,null,null,null,null,null,null,null,null,6.582774692333775,null],[null,null,null,null,null,null,null,null,null,7.628141333970418,null,null],[null,null,null,null,null,null,null,6.66382503839976,null,null,null,null],[null,null,null,null,null,null,null,null,7.005949083428422,null,null,null],[null,null,null,null,null,null,6.979135063046851,null,null,null,null,null],[null,null,6.72411317175734,null,null,null,null,null,null,null,null,null],[null,null,null,null,null,null,6.795074677253929,null,null,null,null,null],[null,null,null,null,null,null,null,null,null,6.640850624509698,null,null],[null,null,null,null,null,null,8.503983449642131,null,null,null,null,null],[null,null,null,null,null,null,null,null,null,7.068810960223108,null,null],[null,null,null,null,null,null,null,null,7.295825720624886,null,null,null],[null,null,null,null,null,null,null,null,6.815373873760449,null,null,null],[null,null,null,null,null,null,null,null,null,null,8.01258529334201,null],[null,null,null,null,null,null,null,null,null,6.308989647949975,null,null],[null,null,null,null,null,null,null,6.815801292072273,null,null,null,null],[null,null,null,null,null,8.585233033074145,null,null,null,null,null,null],[null,null,null,null,null,null,null,null,null,7.370998759623221,null,null],[null,null,null,null,null,null,null,null,null,null,6.997488803389456,null],[null,null,null,null,null,7.084958189604117,null,null,null,null,null,null],[null,null,null,null,null,null,null,null,null,7.126390293845463,null,null],[null,null,null,null,null,null,null,null,null,6.492786820564281,null,null],[null,null,null,null,null,null,null,null,null,10.051626422752918,null,null],[null,8.57022760004778,null,null,null,null,null,null,null,null,null,null],[null,null,null,null,null,null,null,null,null,6.957283794360092,null,null],[null,null,null,null,null,null,null,null,null,null,10.368444606240724,null],[null,null,null,null,null,7.515397508167222,null,null,null,null,null,null],[null,null,null,null,null,null,null,null,null,6.615732926652282,null,null],[null,null,null,null,null,null,null,null,null,6.433846807545842,null,null],[null,null,null,null,null,null,null,null,null,null,6.876332674549545,null],[null,null,null,null,null,null,null,null,6.64645176318988,null,null,null],[null,null,null,null,null,null,null,null,null,6.588846670861879,null,null],[null,null,null,null,null,null,6.96561054208297,null,null,null,null,null],[null,null,null,null,null,null,null,6.908755853941913,null,null,null,null],[null,null,null,null,null,null,null,null,null,6.6920013351818435,null,null],[null,null,null,null,11.925298482021743,null,null,null,null,null,null,null],[null,null,null,null,null,null,null,null,null,6.947963177181552,null,null],[null,null,null,null,null,6.618593669483881,null,null,null,null,null,null],[null,null,null,null,7.221052347750691,null,null,null,null,null,null,null],[null,null,null,null,null,null,null,null,6.745689398782036,null,null,null],[null,null,null,null,6.576550046951129,null,null,null,null,null,null,null],[null,null,null,null,null,null,null,null,null,7.713219893326127,null,null],[null,null,null,null,null,null,null,null,null,6.16138370816904,null,null],[null,null,null,null,null,null,null,null,null,6.665481385609239,null,null],[null,null,null,null,null,null,null,null,6.580320620577788,null,null,null],[null,null,null,null,null,null,null,null,6.7562629718977085,null,null,null],[null,null,null,null,null,8.66674258217236,null,null,null,null,null,null],[null,null,null,null,null,null,null,null,null,6.645324265512597,null,null],[null,null,null,null,null,null,null,null,7.024234465112119,null,null,null],[null,null,null,null,null,null,null,null,null,9.60516791607654,null,null],[null,null,null,null,null,null,null,null,7.217140271784709,null,null,null],[null,null,null,null,null,null,null,null,null,7.157780863809487,null,null],[null,null,null,null,6.956236529867877,null,null,null,null,null,null,null],[null,null,null,null,null,null,null,null,8.559175843633275,null,null,null],[null,null,null,null,6.818525630049701,null,null,null,null,null,null,null],[null,null,null,null,null,null,null,8.869225358183682,null,null,null,null],[null,null,null,null,null,null,null,null,6.808101060600806,null,null,null],[null,null,null,null,null,null,null,null,null,null,7.017972862065542,null],[null,null,null,null,null,null,null,6.887766974338823,null,null,null,null],[null,null,null,null,null,null,null,7.301109414249166,null,null,null,null],[null,null,null,null,null,null,null,null,6.959133443616567,null,null,null],[null,null,null,null,null,null,null,7.235049772447086,null,null,null,null],[null,null,null,null,null,null,null,null,null,12.163271432543343,null,null],[null,null,7.8531826497737764,null,null,null,null,null,null,null,null,null],[null,null,null,null,null,null,null,null,6.599394886762154,null,null,null],[null,null,null,null,null,null,null,null,null,null,7.986992462708582,null],[null,null,null,null,null,null,null,null,null,null,6.66350106253479,null],[null,null,null,null,null,null,null,null,7.266823098840962,null,null,null],[null,null,null,null,null,null,null,null,null,7.453287904085061,null,null],[null,null,null,null,null,null,null,null,8.406950422480717,null,null,null],[null,null,9.460771081761246,null,null,null,null,null,null,null,null,null],[null,null,null,null,null,null,null,null,null,null,6.81556255689501,null],[null,null,null,null,null,null,6.9429332533104215,null,null,null,null,null],[null,null,null,null,null,null,null,null,null,null,13.841512769908556,null],[null,null,null,null,null,null,null,null,null,6.708266025071973,null,null],[null,8.430571643181738,null,null,null,null,null,null,null,null,null,null],[null,null,null,null,null,null,null,null,null,null,null,null]],\"type\":\"contour\",\"xaxis\":\"x5\",\"yaxis\":\"y5\"},{\"marker\":{\"color\":\"black\",\"line\":{\"color\":\"Grey\",\"width\":2.0}},\"mode\":\"markers\",\"showlegend\":false,\"x\":[5,5,2,9,7,6,10,7,9,10,3,5,4,7,1,6,4,8,8,8,4,6,6,8,5,7,3,3,3,1,5,2,2,2,2,3,4,1,9,9,10,9,9,9,9,10,8,10,7,9,8,10,9,10,9,10,8,10,8,7,8,9,6,9,8,5,9,7,8,10,9,9,9,10,8,9,5,10,8,8,7,4,9,8,8,6,9,9,8,7,10,9,9,9,10,9,10,9,9,4],\"y\":[0.4013989012755729,0.44702597226093654,0.2348422161207379,0.5995316559891004,0.5168571625601595,0.3808027516424747,0.30191840830159195,0.4354438381832276,0.35386472050007467,0.7095012959991417,0.2108826496676009,0.3203415688148227,0.49175394637869163,0.2681459855693354,0.7887516870762818,0.3749189144410235,0.4907791267588383,0.5586170018880328,0.6001711724099198,0.5762782789998131,0.4396274674688022,0.4340122499072176,0.670087893263115,0.5318688040643682,0.3324263103771623,0.4006285877650944,0.27990987262531963,0.2801974824045272,0.24970399445385352,0.2071533476327387,0.4691586882647345,0.3788294226986846,0.2977276300587118,0.5518485968165537,0.6234369246742749,0.22649845425951956,0.35466104158978995,0.41688810647788116,0.4566626873377028,0.47253514112491374,0.5142977926155852,0.38204232987610165,0.455905289052174,0.4141572734251889,0.4149470234793615,0.35419768500124926,0.3922829293782359,0.6442402197305542,0.5052768869322142,0.5466223038624164,0.44889510397034976,0.3301181793574532,0.32839785214494066,0.3557250391285034,0.3625855513617516,0.4218058278410013,0.39580965661540085,0.5742808911649575,0.3072609332536895,0.30531717585775664,0.4917432340030627,0.342767360728064,0.3095890919721405,0.4333832950114248,0.4714978764718547,0.42526534297124013,0.7220926758066272,0.3691733908101926,0.28979439121120054,0.2640041660119855,0.4034323355527375,0.44248607387749755,0.3902298506549719,0.345665206416253,0.3724013309897641,0.3199482097685925,0.41030953202979964,0.4317746174342902,0.4573645058485396,0.4613086789148259,0.5341243158916451,0.4471748005498575,0.48809307381469913,0.5057238326175705,0.48133832632026236,0.3842108131624772,0.4135162081334625,0.43129455297287184,0.43308404180119137,0.5261139715008444,0.5756080830124146,0.4000580606180995,0.4572336064734494,0.43818774370819397,0.397812210271553,0.42555688144573245,0.40754813412109675,0.4697627715615094,0.41835992614351647,0.45496615783406313],\"type\":\"scatter\",\"xaxis\":\"x5\",\"yaxis\":\"y5\"},{\"colorbar\":{\"title\":{\"text\":\"distance\"}},\"colorscale\":[[0.0,\"rgb(247,251,255)\"],[0.125,\"rgb(222,235,247)\"],[0.25,\"rgb(198,219,239)\"],[0.375,\"rgb(158,202,225)\"],[0.5,\"rgb(107,174,214)\"],[0.625,\"rgb(66,146,198)\"],[0.75,\"rgb(33,113,181)\"],[0.875,\"rgb(8,81,156)\"],[1.0,\"rgb(8,48,107)\"]],\"connectgaps\":true,\"contours\":{\"coloring\":\"heatmap\"},\"hoverinfo\":\"none\",\"line\":{\"smoothing\":1.3},\"reversescale\":true,\"showscale\":false,\"x\":[0.55,1,2,3,4,5,6,7,8,9,10,10.45],\"y\":[2.75,5,10,15,20,25,30,35,40,45,50,52.25],\"z\":[[null,null,null,null,null,null,null,null,null,null,null,null],[null,null,null,null,11.925298482021743,null,null,null,null,12.163271432543343,8.01258529334201,null],[null,8.708227955210178,null,null,null,7.964575044068963,8.503983449642131,8.869225358183682,8.559175843633275,7.068810960223108,6.876332674549545,null],[null,null,9.460771081761246,7.646147403787222,7.216405004586652,null,7.321542595070055,null,7.005949083428422,7.157780863809487,6.64246398086282,null],[null,8.57022760004778,7.8531826497737764,7.6624150454747175,null,7.084958189604117,6.96561054208297,6.682989805676676,6.64645176318988,6.957283794360092,7.263445589789916,null],[null,null,6.748722872287084,6.941922662101007,6.576550046951129,null,null,7.301109414249166,7.391283589596038,null,6.997488803389456,null],[null,null,null,null,null,null,6.9429332533104215,null,7.024234465112119,6.708266025071973,7.051566361899401,null],[null,null,null,null,null,7.515397508167222,null,6.66382503839976,7.217140271784709,null,null,null],[null,8.430571643181738,null,6.8117460133373084,null,null,null,null,6.808101060600806,null,null,null],[null,null,null,null,7.221052347750691,null,null,7.235049772447086,null,7.370998759623221,null,null],[null,null,null,null,6.818525630049701,null,6.795074677253929,null,null,7.126390293845463,7.90844943711807,null],[null,null,null,null,null,null,null,null,null,null,null,null]],\"type\":\"contour\",\"xaxis\":\"x9\",\"yaxis\":\"y9\"},{\"marker\":{\"color\":\"black\",\"line\":{\"color\":\"Grey\",\"width\":2.0}},\"mode\":\"markers\",\"showlegend\":false,\"x\":[5,5,2,9,7,6,10,7,9,10,3,5,4,7,1,6,4,8,8,8,4,6,6,8,5,7,3,3,3,1,5,2,2,2,2,3,4,1,9,9,10,9,9,9,9,10,8,10,7,9,8,10,9,10,9,10,8,10,8,7,8,9,6,9,8,5,9,7,8,10,9,9,9,10,8,9,5,10,8,8,7,4,9,8,8,6,9,9,8,7,10,9,9,9,10,9,10,9,9,4],\"y\":[20,20,25,15,25,50,50,10,20,5,40,35,50,35,40,30,45,15,10,15,5,20,30,15,10,25,15,15,20,10,20,20,25,20,15,25,15,20,10,5,10,15,10,15,5,15,10,15,10,5,25,15,15,10,10,5,20,10,15,20,10,15,15,30,30,35,30,35,25,30,45,15,10,20,15,15,20,10,40,40,45,45,15,40,35,10,50,20,20,25,25,20,20,20,5,20,25,20,20,25],\"type\":\"scatter\",\"xaxis\":\"x9\",\"yaxis\":\"y9\"},{\"colorbar\":{\"title\":{\"text\":\"distance\"}},\"colorscale\":[[0.0,\"rgb(247,251,255)\"],[0.125,\"rgb(222,235,247)\"],[0.25,\"rgb(198,219,239)\"],[0.375,\"rgb(158,202,225)\"],[0.5,\"rgb(107,174,214)\"],[0.625,\"rgb(66,146,198)\"],[0.75,\"rgb(33,113,181)\"],[0.875,\"rgb(8,81,156)\"],[1.0,\"rgb(8,48,107)\"]],\"connectgaps\":true,\"contours\":{\"coloring\":\"heatmap\"},\"hoverinfo\":\"none\",\"line\":{\"smoothing\":1.3},\"reversescale\":true,\"showscale\":false,\"x\":[0.55,1,2,3,4,5,6,7,8,9,10,10.45],\"y\":[0.55,1,2,3,4,5,6,7,8,9,10,10.45],\"z\":[[null,null,null,null,null,null,null,null,null,null,null,null],[null,null,null,null,null,8.66674258217236,null,8.869225358183682,null,null,null,null],[null,null,7.729002147545588,6.941922662101007,null,null,null,null,null,12.163271432543343,null,null],[null,null,null,null,null,6.981201246209411,6.979135063046851,6.815801292072273,null,7.370998759623221,null,null],[null,null,null,6.8117460133373084,11.925298482021743,null,8.503983449642131,6.832556332139712,null,null,null,null],[null,null,null,null,6.956236529867877,7.964575044068963,null,null,7.217140271784709,null,7.051566361899401,null],[null,8.57022760004778,null,null,null,7.515397508167222,6.9429332533104215,7.235049772447086,6.808101060600806,7.453287904085061,6.66350106253479,null],[null,null,6.748722872287084,null,7.221052347750691,null,6.96561054208297,null,7.005949083428422,6.645324265512597,6.997488803389456,null],[null,null,7.8531826497737764,null,6.576550046951129,null,null,null,6.745689398782036,6.957283794360092,6.876332674549545,null],[null,8.708227955210178,9.460771081761246,7.6624150454747175,null,7.084958189604117,null,6.908755853941913,6.64645176318988,7.713219893326127,8.01258529334201,null],[null,null,null,7.646147403787222,null,null,null,7.301109414249166,null,7.094660598117216,null,null],[null,null,null,null,null,null,null,null,null,null,null,null]],\"type\":\"contour\",\"xaxis\":\"x13\",\"yaxis\":\"y13\"},{\"marker\":{\"color\":\"black\",\"line\":{\"color\":\"Grey\",\"width\":2.0}},\"mode\":\"markers\",\"showlegend\":false,\"x\":[5,5,2,9,7,6,10,7,9,10,3,5,4,7,1,6,4,8,8,8,4,6,6,8,5,7,3,3,3,1,5,2,2,2,2,3,4,1,9,9,10,9,9,9,9,10,8,10,7,9,8,10,9,10,9,10,8,10,8,7,8,9,6,9,8,5,9,7,8,10,9,9,9,10,8,9,5,10,8,8,7,4,9,8,8,6,9,9,8,7,10,9,9,9,10,9,10,9,9,4],\"y\":[1,3,2,6,1,6,5,9,10,8,4,3,7,4,6,3,5,7,8,7,4,7,6,8,5,3,9,10,9,9,1,7,7,8,9,2,7,6,8,10,8,8,9,8,8,6,8,7,1,2,8,9,10,9,8,7,9,8,6,6,5,7,4,7,5,6,7,6,7,5,3,8,8,9,7,7,9,8,6,6,6,7,8,6,5,4,7,8,9,10,6,8,8,8,9,7,7,7,8,8],\"type\":\"scatter\",\"xaxis\":\"x13\",\"yaxis\":\"y13\"},{\"colorbar\":{\"title\":{\"text\":\"distance\"}},\"colorscale\":[[0.0,\"rgb(247,251,255)\"],[0.125,\"rgb(222,235,247)\"],[0.25,\"rgb(198,219,239)\"],[0.375,\"rgb(158,202,225)\"],[0.5,\"rgb(107,174,214)\"],[0.625,\"rgb(66,146,198)\"],[0.75,\"rgb(33,113,181)\"],[0.875,\"rgb(8,81,156)\"],[1.0,\"rgb(8,48,107)\"]],\"connectgaps\":true,\"contours\":{\"coloring\":\"heatmap\"},\"hoverinfo\":\"none\",\"line\":{\"smoothing\":1.3},\"reversescale\":true,\"showscale\":false,\"x\":[0.19375795348254654,0.2071533476327387,0.2108826496676009,0.22649845425951956,0.2348422161207379,0.24970399445385352,0.2640041660119855,0.2681459855693354,0.27990987262531963,0.2801974824045272,0.28979439121120054,0.2977276300587118,0.30191840830159195,0.30531717585775664,0.3072609332536895,0.3095890919721405,0.3199482097685925,0.3203415688148227,0.32839785214494066,0.3301181793574532,0.3324263103771623,0.342767360728064,0.345665206416253,0.35386472050007467,0.35419768500124926,0.35466104158978995,0.3557250391285034,0.3625855513617516,0.3691733908101926,0.3724013309897641,0.3749189144410235,0.3788294226986846,0.3808027516424747,0.38204232987610165,0.3842108131624772,0.3902298506549719,0.3922829293782359,0.39580965661540085,0.397812210271553,0.4000580606180995,0.4006285877650944,0.4013989012755729,0.4034323355527375,0.40754813412109675,0.41030953202979964,0.4135162081334625,0.4141572734251889,0.4149470234793615,0.41688810647788116,0.41835992614351647,0.4218058278410013,0.42526534297124013,0.42555688144573245,0.43129455297287184,0.4317746174342902,0.43308404180119137,0.4333832950114248,0.4340122499072176,0.4354438381832276,0.43818774370819397,0.4396274674688022,0.44248607387749755,0.44702597226093654,0.4471748005498575,0.44889510397034976,0.45496615783406313,0.455905289052174,0.4566626873377028,0.4572336064734494,0.4573645058485396,0.4613086789148259,0.4691586882647345,0.4697627715615094,0.4714978764718547,0.47253514112491374,0.48133832632026236,0.48809307381469913,0.4907791267588383,0.4917432340030627,0.49175394637869163,0.5052768869322142,0.5057238326175705,0.5142977926155852,0.5168571625601595,0.5261139715008444,0.5318688040643682,0.5341243158916451,0.5466223038624164,0.5518485968165537,0.5586170018880328,0.5742808911649575,0.5756080830124146,0.5762782789998131,0.5995316559891004,0.6001711724099198,0.6234369246742749,0.6442402197305542,0.670087893263115,0.7095012959991417,0.7220926758066272,0.7887516870762818,0.8432817827193884],\"y\":[0.55,1,2,3,4,5,6,7,8,9,10,10.45],\"z\":[[null,null,null,null,null,null,null,null,null,null,null,null,null,null,null,null,null,null,null,null,null,null,null,null,null,null,null,null,null,null,null,null,null,null,null,null,null,null,null,null,null,null,null,null,null,null,null,null,null,null,null,null,null,null,null,null,null,null,null,null,null,null,null,null,null,null,null,null,null,null,null,null,null,null,null,null,null,null,null,null,null,null,null,null,null,null,null,null,null,null,null,null,null,null,null,null,null,null,null,null,null,null],[null,8.708227955210178,null,null,null,null,null,null,null,null,null,null,null,null,null,null,null,null,null,null,null,null,null,null,null,null,null,null,null,null,null,null,null,null,null,null,null,null,null,null,null,null,null,null,null,null,null,null,8.57022760004778,null,null,null,null,null,null,null,null,null,null,null,null,null,null,null,null,null,null,null,null,null,null,null,null,null,null,null,null,null,null,null,null,null,null,null,null,null,null,null,null,null,null,null,null,null,null,null,null,null,null,null,8.430571643181738,null],[null,null,null,null,7.729002147545588,null,null,null,null,null,null,6.748722872287084,null,null,null,null,null,null,null,null,null,null,null,null,null,null,null,null,null,null,null,6.72411317175734,null,null,null,null,null,null,null,null,null,null,null,null,null,null,null,null,null,null,null,null,null,null,null,null,null,null,null,null,null,null,null,null,null,null,null,null,null,null,null,null,null,null,null,null,null,null,null,null,null,null,null,null,null,null,null,null,7.8531826497737764,null,null,null,null,null,null,9.460771081761246,null,null,null,null,null,null],[null,null,6.8117460133373084,6.941922662101007,null,7.6624150454747175,null,null,6.671881060560426,7.646147403787222,null,null,null,null,null,null,null,null,null,null,null,null,null,null,null,null,null,null,null,null,null,null,null,null,null,null,null,null,null,null,null,null,null,null,null,null,null,null,null,null,null,null,null,null,null,null,null,null,null,null,null,null,null,null,null,null,null,null,null,null,null,null,null,null,null,null,null,null,null,null,null,null,null,null,null,null,null,null,null,null,null,null,null,null,null,null,null,null,null,null,null,null],[null,null,null,null,null,null,null,null,null,null,null,null,null,null,null,null,null,null,null,null,null,null,null,null,null,7.216405004586652,null,null,null,null,null,null,null,null,null,null,null,null,null,null,null,null,null,null,null,null,null,null,null,null,null,null,null,null,null,null,null,null,null,null,11.925298482021743,null,null,7.221052347750691,null,6.576550046951129,null,null,null,null,null,null,null,null,null,null,null,6.956236529867877,null,6.818525630049701,null,null,null,null,null,null,null,null,null,null,null,null,null,null,null,null,null,null,null,null,null,null],[null,null,null,null,null,null,null,null,null,null,null,null,null,null,null,null,null,6.981201246209411,null,null,7.964575044068963,null,null,null,null,null,null,null,null,null,null,null,null,null,null,null,null,null,null,null,null,8.585233033074145,null,null,7.084958189604117,null,null,null,null,null,null,7.515397508167222,null,null,null,null,null,null,null,null,null,null,6.618593669483881,null,null,null,null,null,null,null,null,8.66674258217236,null,null,null,null,null,null,null,null,null,null,null,null,null,null,null,null,null,null,null,null,null,null,null,null,null,null,null,null,null,null],[null,null,null,null,null,null,null,null,null,null,null,null,null,null,null,7.321542595070055,null,null,null,null,null,null,null,null,null,null,null,null,null,null,6.979135063046851,null,6.795074677253929,null,8.503983449642131,null,null,null,null,null,null,null,null,null,null,null,null,null,null,null,null,null,null,null,null,null,null,6.96561054208297,null,null,null,null,null,null,null,null,null,null,null,null,null,null,null,null,null,null,null,null,null,null,null,null,null,null,null,null,null,null,null,null,null,null,null,null,null,null,null,6.9429332533104215,null,null,null,null],[null,null,null,null,null,null,null,6.832556332139712,null,null,null,null,null,6.682989805676676,null,null,null,null,null,null,null,null,null,null,null,null,null,null,6.66382503839976,null,null,null,null,null,null,null,null,null,null,null,6.815801292072273,null,null,null,null,null,null,null,null,null,null,null,null,null,null,null,null,null,6.908755853941913,null,null,null,null,null,null,null,null,null,null,null,null,null,null,null,null,null,null,null,null,null,8.869225358183682,null,null,6.887766974338823,7.301109414249166,null,7.235049772447086,null,null,null,null,null,null,null,null,null,null,null,null,null,null,null],[null,null,null,null,null,null,null,null,null,null,7.391283589596038,null,null,null,6.627462023521828,null,null,null,null,null,null,null,null,null,null,null,null,null,null,7.005949083428422,null,null,null,null,null,null,7.295825720624886,6.815373873760449,null,null,null,null,null,null,null,null,null,null,null,null,null,null,null,null,null,6.64645176318988,null,null,null,null,null,null,null,null,6.745689398782036,null,null,null,null,6.580320620577788,6.7562629718977085,null,null,7.024234465112119,null,7.217140271784709,null,null,8.559175843633275,null,null,6.808101060600806,null,null,null,6.959133443616567,null,null,null,6.599394886762154,null,null,7.266823098840962,null,8.406950422480717,null,null,null,null,null,null,null],[null,null,null,null,null,null,null,null,null,null,null,null,null,null,null,null,7.15789438857747,null,7.094660598117216,null,null,7.211213195809447,null,6.921022812909283,null,null,null,7.628141333970418,null,null,null,null,null,6.640850624509698,null,7.068810960223108,null,null,null,6.308989647949975,null,null,7.370998759623221,null,null,7.126390293845463,6.492786820564281,10.051626422752918,null,6.957283794360092,null,null,6.615732926652282,6.433846807545842,null,null,6.588846670861879,null,null,6.6920013351818435,null,6.947963177181552,null,null,null,null,7.713219893326127,6.16138370816904,6.665481385609239,null,null,null,6.645324265512597,null,9.60516791607654,null,7.157780863809487,null,null,null,null,null,null,null,null,null,null,12.163271432543343,null,null,null,null,null,7.453287904085061,null,null,null,null,null,6.708266025071973,null,null],[null,null,null,null,null,null,7.051566361899401,null,null,null,null,null,7.90844943711807,null,null,null,null,null,null,6.64246398086282,null,null,7.263445589789916,null,6.945652088103281,null,6.582774692333775,null,null,null,null,null,null,null,null,null,null,null,8.01258529334201,null,null,null,null,6.997488803389456,null,null,null,null,null,null,10.368444606240724,null,null,null,6.876332674549545,null,null,null,null,null,null,null,null,null,null,null,null,null,null,null,null,null,null,null,null,null,null,null,null,null,null,null,7.017972862065542,null,null,null,null,null,null,null,7.986992462708582,6.66350106253479,null,null,null,null,6.81556255689501,null,13.841512769908556,null,null,null],[null,null,null,null,null,null,null,null,null,null,null,null,null,null,null,null,null,null,null,null,null,null,null,null,null,null,null,null,null,null,null,null,null,null,null,null,null,null,null,null,null,null,null,null,null,null,null,null,null,null,null,null,null,null,null,null,null,null,null,null,null,null,null,null,null,null,null,null,null,null,null,null,null,null,null,null,null,null,null,null,null,null,null,null,null,null,null,null,null,null,null,null,null,null,null,null,null,null,null,null,null,null]],\"type\":\"contour\",\"xaxis\":\"x2\",\"yaxis\":\"y2\"},{\"marker\":{\"color\":\"black\",\"line\":{\"color\":\"Grey\",\"width\":2.0}},\"mode\":\"markers\",\"showlegend\":false,\"x\":[0.4013989012755729,0.44702597226093654,0.2348422161207379,0.5995316559891004,0.5168571625601595,0.3808027516424747,0.30191840830159195,0.4354438381832276,0.35386472050007467,0.7095012959991417,0.2108826496676009,0.3203415688148227,0.49175394637869163,0.2681459855693354,0.7887516870762818,0.3749189144410235,0.4907791267588383,0.5586170018880328,0.6001711724099198,0.5762782789998131,0.4396274674688022,0.4340122499072176,0.670087893263115,0.5318688040643682,0.3324263103771623,0.4006285877650944,0.27990987262531963,0.2801974824045272,0.24970399445385352,0.2071533476327387,0.4691586882647345,0.3788294226986846,0.2977276300587118,0.5518485968165537,0.6234369246742749,0.22649845425951956,0.35466104158978995,0.41688810647788116,0.4566626873377028,0.47253514112491374,0.5142977926155852,0.38204232987610165,0.455905289052174,0.4141572734251889,0.4149470234793615,0.35419768500124926,0.3922829293782359,0.6442402197305542,0.5052768869322142,0.5466223038624164,0.44889510397034976,0.3301181793574532,0.32839785214494066,0.3557250391285034,0.3625855513617516,0.4218058278410013,0.39580965661540085,0.5742808911649575,0.3072609332536895,0.30531717585775664,0.4917432340030627,0.342767360728064,0.3095890919721405,0.4333832950114248,0.4714978764718547,0.42526534297124013,0.7220926758066272,0.3691733908101926,0.28979439121120054,0.2640041660119855,0.4034323355527375,0.44248607387749755,0.3902298506549719,0.345665206416253,0.3724013309897641,0.3199482097685925,0.41030953202979964,0.4317746174342902,0.4573645058485396,0.4613086789148259,0.5341243158916451,0.4471748005498575,0.48809307381469913,0.5057238326175705,0.48133832632026236,0.3842108131624772,0.4135162081334625,0.43129455297287184,0.43308404180119137,0.5261139715008444,0.5756080830124146,0.4000580606180995,0.4572336064734494,0.43818774370819397,0.397812210271553,0.42555688144573245,0.40754813412109675,0.4697627715615094,0.41835992614351647,0.45496615783406313],\"y\":[5,5,2,9,7,6,10,7,9,10,3,5,4,7,1,6,4,8,8,8,4,6,6,8,5,7,3,3,3,1,5,2,2,2,2,3,4,1,9,9,10,9,9,9,9,10,8,10,7,9,8,10,9,10,9,10,8,10,8,7,8,9,6,9,8,5,9,7,8,10,9,9,9,10,8,9,5,10,8,8,7,4,9,8,8,6,9,9,8,7,10,9,9,9,10,9,10,9,9,4],\"type\":\"scatter\",\"xaxis\":\"x2\",\"yaxis\":\"y2\"},{\"type\":\"scatter\",\"xaxis\":\"x6\",\"yaxis\":\"y6\"},{\"colorbar\":{\"title\":{\"text\":\"distance\"}},\"colorscale\":[[0.0,\"rgb(247,251,255)\"],[0.125,\"rgb(222,235,247)\"],[0.25,\"rgb(198,219,239)\"],[0.375,\"rgb(158,202,225)\"],[0.5,\"rgb(107,174,214)\"],[0.625,\"rgb(66,146,198)\"],[0.75,\"rgb(33,113,181)\"],[0.875,\"rgb(8,81,156)\"],[1.0,\"rgb(8,48,107)\"]],\"connectgaps\":true,\"contours\":{\"coloring\":\"heatmap\"},\"hoverinfo\":\"none\",\"line\":{\"smoothing\":1.3},\"reversescale\":true,\"showscale\":false,\"x\":[0.19375795348254654,0.2071533476327387,0.2108826496676009,0.22649845425951956,0.2348422161207379,0.24970399445385352,0.2640041660119855,0.2681459855693354,0.27990987262531963,0.2801974824045272,0.28979439121120054,0.2977276300587118,0.30191840830159195,0.30531717585775664,0.3072609332536895,0.3095890919721405,0.3199482097685925,0.3203415688148227,0.32839785214494066,0.3301181793574532,0.3324263103771623,0.342767360728064,0.345665206416253,0.35386472050007467,0.35419768500124926,0.35466104158978995,0.3557250391285034,0.3625855513617516,0.3691733908101926,0.3724013309897641,0.3749189144410235,0.3788294226986846,0.3808027516424747,0.38204232987610165,0.3842108131624772,0.3902298506549719,0.3922829293782359,0.39580965661540085,0.397812210271553,0.4000580606180995,0.4006285877650944,0.4013989012755729,0.4034323355527375,0.40754813412109675,0.41030953202979964,0.4135162081334625,0.4141572734251889,0.4149470234793615,0.41688810647788116,0.41835992614351647,0.4218058278410013,0.42526534297124013,0.42555688144573245,0.43129455297287184,0.4317746174342902,0.43308404180119137,0.4333832950114248,0.4340122499072176,0.4354438381832276,0.43818774370819397,0.4396274674688022,0.44248607387749755,0.44702597226093654,0.4471748005498575,0.44889510397034976,0.45496615783406313,0.455905289052174,0.4566626873377028,0.4572336064734494,0.4573645058485396,0.4613086789148259,0.4691586882647345,0.4697627715615094,0.4714978764718547,0.47253514112491374,0.48133832632026236,0.48809307381469913,0.4907791267588383,0.4917432340030627,0.49175394637869163,0.5052768869322142,0.5057238326175705,0.5142977926155852,0.5168571625601595,0.5261139715008444,0.5318688040643682,0.5341243158916451,0.5466223038624164,0.5518485968165537,0.5586170018880328,0.5742808911649575,0.5756080830124146,0.5762782789998131,0.5995316559891004,0.6001711724099198,0.6234369246742749,0.6442402197305542,0.670087893263115,0.7095012959991417,0.7220926758066272,0.7887516870762818,0.8432817827193884],\"y\":[2.75,5,10,15,20,25,30,35,40,45,50,52.25],\"z\":[[null,null,null,null,null,null,null,null,null,null,null,null,null,null,null,null,null,null,null,null,null,null,null,null,null,null,null,null,null,null,null,null,null,null,null,null,null,null,null,null,null,null,null,null,null,null,null,null,null,null,null,null,null,null,null,null,null,null,null,null,null,null,null,null,null,null,null,null,null,null,null,null,null,null,null,null,null,null,null,null,null,null,null,null,null,null,null,null,null,null,null,null,null,null,null,null,null,null,null,null,null,null],[null,null,null,null,null,null,null,null,null,null,null,null,null,null,null,null,null,null,null,null,null,null,null,null,null,null,null,null,null,null,null,null,null,null,null,null,null,null,8.01258529334201,null,null,null,null,null,null,null,null,10.051626422752918,null,null,10.368444606240724,null,null,null,null,null,null,null,null,null,11.925298482021743,null,null,null,null,null,null,null,null,null,null,null,null,null,9.60516791607654,null,null,null,null,null,null,null,null,null,null,null,null,12.163271432543343,null,null,null,null,null,null,null,null,null,null,13.841512769908556,null,null,null],[null,8.708227955210178,null,null,null,null,null,null,null,null,null,null,null,null,null,null,null,null,null,null,7.964575044068963,null,null,null,null,null,6.582774692333775,7.628141333970418,null,null,null,null,null,null,8.503983449642131,7.068810960223108,7.295825720624886,null,null,null,null,null,null,null,null,null,null,null,null,null,null,null,null,null,6.876332674549545,null,null,null,6.908755853941913,null,null,null,null,null,null,null,7.713219893326127,6.16138370816904,null,null,null,null,null,null,null,null,null,null,8.559175843633275,null,8.869225358183682,null,7.017972862065542,null,null,null,null,null,null,null,7.986992462708582,null,null,null,8.406950422480717,null,null,null,null,null,null,null],[null,null,null,null,null,null,null,null,6.671881060560426,7.646147403787222,null,null,null,null,6.627462023521828,7.321542595070055,7.15789438857747,null,7.094660598117216,6.64246398086282,null,7.211213195809447,null,null,6.945652088103281,7.216405004586652,null,null,null,7.005949083428422,null,null,null,6.640850624509698,null,null,null,null,null,null,null,null,null,null,null,null,6.492786820564281,null,null,null,null,null,null,null,null,null,null,null,null,null,null,6.947963177181552,null,null,null,null,null,null,null,null,null,null,null,null,null,null,7.157780863809487,null,null,null,null,null,null,null,null,6.959133443616567,null,null,null,6.599394886762154,null,null,7.266823098840962,7.453287904085061,null,9.460771081761246,6.81556255689501,null,null,null,null,null],[null,null,null,null,null,7.6624150454747175,null,null,null,null,null,null,null,6.682989805676676,null,null,null,null,null,null,null,null,7.263445589789916,6.921022812909283,null,null,null,null,null,null,null,6.72411317175734,null,null,null,null,null,6.815373873760449,null,6.308989647949975,null,8.585233033074145,null,null,7.084958189604117,null,null,null,8.57022760004778,6.957283794360092,null,null,6.615732926652282,6.433846807545842,null,6.64645176318988,null,6.96561054208297,null,6.6920013351818435,null,null,6.618593669483881,null,null,null,null,null,6.665481385609239,null,null,8.66674258217236,6.645324265512597,null,null,null,null,null,null,null,null,null,null,null,null,null,null,null,7.8531826497737764,null,null,null,null,null,null,null,null,null,null,null,null,null],[null,null,null,6.941922662101007,7.729002147545588,null,null,null,null,null,7.391283589596038,6.748722872287084,null,null,null,null,null,null,null,null,null,null,null,null,null,null,null,null,null,null,null,null,null,null,null,null,null,null,null,null,6.815801292072273,null,null,6.997488803389456,null,null,null,null,null,null,null,null,null,null,null,null,null,null,null,null,null,null,null,null,6.745689398782036,6.576550046951129,null,null,null,null,null,null,null,null,null,null,null,null,null,null,null,null,null,6.887766974338823,7.301109414249166,null,null,null,null,null,null,6.66350106253479,null,null,null,null,null,null,null,null,null,null],[null,null,null,null,null,null,7.051566361899401,null,null,null,null,null,null,null,null,null,null,null,null,null,null,null,null,null,null,null,null,null,null,null,6.979135063046851,null,null,null,null,null,null,null,null,null,null,null,null,null,null,null,null,null,null,null,null,null,null,null,null,null,6.588846670861879,null,null,null,null,null,null,null,null,null,null,null,null,null,null,null,null,7.024234465112119,null,null,null,null,null,null,null,null,null,null,null,null,null,null,null,null,null,null,null,null,null,null,null,6.9429332533104215,null,6.708266025071973,null,null],[null,null,null,null,null,null,null,6.832556332139712,null,null,null,null,null,null,null,null,null,6.981201246209411,null,null,null,null,null,null,null,null,null,null,6.66382503839976,null,null,null,null,null,null,null,null,null,null,null,null,null,null,null,null,null,null,null,null,null,null,7.515397508167222,null,null,null,null,null,null,null,null,null,null,null,null,null,null,null,null,null,null,null,null,null,null,null,7.217140271784709,null,null,null,null,null,null,null,null,null,null,null,null,null,null,null,null,null,null,null,null,null,null,null,null,null,null],[null,null,6.8117460133373084,null,null,null,null,null,null,null,null,null,null,null,null,null,null,null,null,null,null,null,null,null,null,null,null,null,null,null,null,null,null,null,null,null,null,null,null,null,null,null,null,null,null,null,null,null,null,null,null,null,null,null,null,null,null,null,null,null,null,null,null,null,null,null,null,null,null,6.580320620577788,6.7562629718977085,null,null,null,null,null,null,null,null,null,null,6.808101060600806,null,null,null,null,null,null,null,null,null,null,null,null,null,null,null,null,null,null,8.430571643181738,null],[null,null,null,null,null,null,null,null,null,null,null,null,null,null,null,null,null,null,null,null,null,null,null,null,null,null,null,null,null,null,null,null,null,null,null,null,null,null,null,null,null,null,7.370998759623221,null,null,null,null,null,null,null,null,null,null,null,null,null,null,null,null,null,null,null,null,7.221052347750691,null,null,null,null,null,null,null,null,null,null,null,null,null,6.956236529867877,null,null,null,null,null,null,null,null,7.235049772447086,null,null,null,null,null,null,null,null,null,null,null,null,null,null,null],[null,null,null,null,null,null,null,null,null,null,null,null,7.90844943711807,null,null,null,null,null,null,null,null,null,null,null,null,null,null,null,null,null,null,null,6.795074677253929,null,null,null,null,null,null,null,null,null,null,null,null,7.126390293845463,null,null,null,null,null,null,null,null,null,null,null,null,null,null,null,null,null,null,null,null,null,null,null,null,null,null,null,null,null,null,null,null,null,6.818525630049701,null,null,null,null,null,null,null,null,null,null,null,null,null,null,null,null,null,null,null,null,null,null],[null,null,null,null,null,null,null,null,null,null,null,null,null,null,null,null,null,null,null,null,null,null,null,null,null,null,null,null,null,null,null,null,null,null,null,null,null,null,null,null,null,null,null,null,null,null,null,null,null,null,null,null,null,null,null,null,null,null,null,null,null,null,null,null,null,null,null,null,null,null,null,null,null,null,null,null,null,null,null,null,null,null,null,null,null,null,null,null,null,null,null,null,null,null,null,null,null,null,null,null,null,null]],\"type\":\"contour\",\"xaxis\":\"x10\",\"yaxis\":\"y10\"},{\"marker\":{\"color\":\"black\",\"line\":{\"color\":\"Grey\",\"width\":2.0}},\"mode\":\"markers\",\"showlegend\":false,\"x\":[0.4013989012755729,0.44702597226093654,0.2348422161207379,0.5995316559891004,0.5168571625601595,0.3808027516424747,0.30191840830159195,0.4354438381832276,0.35386472050007467,0.7095012959991417,0.2108826496676009,0.3203415688148227,0.49175394637869163,0.2681459855693354,0.7887516870762818,0.3749189144410235,0.4907791267588383,0.5586170018880328,0.6001711724099198,0.5762782789998131,0.4396274674688022,0.4340122499072176,0.670087893263115,0.5318688040643682,0.3324263103771623,0.4006285877650944,0.27990987262531963,0.2801974824045272,0.24970399445385352,0.2071533476327387,0.4691586882647345,0.3788294226986846,0.2977276300587118,0.5518485968165537,0.6234369246742749,0.22649845425951956,0.35466104158978995,0.41688810647788116,0.4566626873377028,0.47253514112491374,0.5142977926155852,0.38204232987610165,0.455905289052174,0.4141572734251889,0.4149470234793615,0.35419768500124926,0.3922829293782359,0.6442402197305542,0.5052768869322142,0.5466223038624164,0.44889510397034976,0.3301181793574532,0.32839785214494066,0.3557250391285034,0.3625855513617516,0.4218058278410013,0.39580965661540085,0.5742808911649575,0.3072609332536895,0.30531717585775664,0.4917432340030627,0.342767360728064,0.3095890919721405,0.4333832950114248,0.4714978764718547,0.42526534297124013,0.7220926758066272,0.3691733908101926,0.28979439121120054,0.2640041660119855,0.4034323355527375,0.44248607387749755,0.3902298506549719,0.345665206416253,0.3724013309897641,0.3199482097685925,0.41030953202979964,0.4317746174342902,0.4573645058485396,0.4613086789148259,0.5341243158916451,0.4471748005498575,0.48809307381469913,0.5057238326175705,0.48133832632026236,0.3842108131624772,0.4135162081334625,0.43129455297287184,0.43308404180119137,0.5261139715008444,0.5756080830124146,0.4000580606180995,0.4572336064734494,0.43818774370819397,0.397812210271553,0.42555688144573245,0.40754813412109675,0.4697627715615094,0.41835992614351647,0.45496615783406313],\"y\":[20,20,25,15,25,50,50,10,20,5,40,35,50,35,40,30,45,15,10,15,5,20,30,15,10,25,15,15,20,10,20,20,25,20,15,25,15,20,10,5,10,15,10,15,5,15,10,15,10,5,25,15,15,10,10,5,20,10,15,20,10,15,15,30,30,35,30,35,25,30,45,15,10,20,15,15,20,10,40,40,45,45,15,40,35,10,50,20,20,25,25,20,20,20,5,20,25,20,20,25],\"type\":\"scatter\",\"xaxis\":\"x10\",\"yaxis\":\"y10\"},{\"colorbar\":{\"title\":{\"text\":\"distance\"}},\"colorscale\":[[0.0,\"rgb(247,251,255)\"],[0.125,\"rgb(222,235,247)\"],[0.25,\"rgb(198,219,239)\"],[0.375,\"rgb(158,202,225)\"],[0.5,\"rgb(107,174,214)\"],[0.625,\"rgb(66,146,198)\"],[0.75,\"rgb(33,113,181)\"],[0.875,\"rgb(8,81,156)\"],[1.0,\"rgb(8,48,107)\"]],\"connectgaps\":true,\"contours\":{\"coloring\":\"heatmap\"},\"hoverinfo\":\"none\",\"line\":{\"smoothing\":1.3},\"reversescale\":true,\"showscale\":false,\"x\":[0.19375795348254654,0.2071533476327387,0.2108826496676009,0.22649845425951956,0.2348422161207379,0.24970399445385352,0.2640041660119855,0.2681459855693354,0.27990987262531963,0.2801974824045272,0.28979439121120054,0.2977276300587118,0.30191840830159195,0.30531717585775664,0.3072609332536895,0.3095890919721405,0.3199482097685925,0.3203415688148227,0.32839785214494066,0.3301181793574532,0.3324263103771623,0.342767360728064,0.345665206416253,0.35386472050007467,0.35419768500124926,0.35466104158978995,0.3557250391285034,0.3625855513617516,0.3691733908101926,0.3724013309897641,0.3749189144410235,0.3788294226986846,0.3808027516424747,0.38204232987610165,0.3842108131624772,0.3902298506549719,0.3922829293782359,0.39580965661540085,0.397812210271553,0.4000580606180995,0.4006285877650944,0.4013989012755729,0.4034323355527375,0.40754813412109675,0.41030953202979964,0.4135162081334625,0.4141572734251889,0.4149470234793615,0.41688810647788116,0.41835992614351647,0.4218058278410013,0.42526534297124013,0.42555688144573245,0.43129455297287184,0.4317746174342902,0.43308404180119137,0.4333832950114248,0.4340122499072176,0.4354438381832276,0.43818774370819397,0.4396274674688022,0.44248607387749755,0.44702597226093654,0.4471748005498575,0.44889510397034976,0.45496615783406313,0.455905289052174,0.4566626873377028,0.4572336064734494,0.4573645058485396,0.4613086789148259,0.4691586882647345,0.4697627715615094,0.4714978764718547,0.47253514112491374,0.48133832632026236,0.48809307381469913,0.4907791267588383,0.4917432340030627,0.49175394637869163,0.5052768869322142,0.5057238326175705,0.5142977926155852,0.5168571625601595,0.5261139715008444,0.5318688040643682,0.5341243158916451,0.5466223038624164,0.5518485968165537,0.5586170018880328,0.5742808911649575,0.5756080830124146,0.5762782789998131,0.5995316559891004,0.6001711724099198,0.6234369246742749,0.6442402197305542,0.670087893263115,0.7095012959991417,0.7220926758066272,0.7887516870762818,0.8432817827193884],\"y\":[0.55,1,2,3,4,5,6,7,8,9,10,10.45],\"z\":[[null,null,null,null,null,null,null,null,null,null,null,null,null,null,null,null,null,null,null,null,null,null,null,null,null,null,null,null,null,null,null,null,null,null,null,null,null,null,null,null,null,null,null,null,null,null,null,null,null,null,null,null,null,null,null,null,null,null,null,null,null,null,null,null,null,null,null,null,null,null,null,null,null,null,null,null,null,null,null,null,null,null,null,null,null,null,null,null,null,null,null,null,null,null,null,null,null,null,null,null,null,null],[null,null,null,null,null,null,null,null,null,null,null,null,null,null,null,null,null,null,null,null,null,null,null,null,null,null,null,null,null,null,null,null,null,null,null,null,null,null,null,null,null,8.585233033074145,null,null,null,null,null,null,null,null,null,null,null,null,null,null,null,null,null,null,null,null,null,null,null,null,null,null,null,null,null,8.66674258217236,null,null,null,null,null,null,null,null,8.869225358183682,null,null,6.887766974338823,null,null,null,null,null,null,null,null,null,null,null,null,null,null,null,null,null,null],[null,null,null,6.941922662101007,7.729002147545588,null,null,null,null,null,null,null,null,null,null,null,null,null,null,null,null,null,null,null,null,null,null,null,null,null,null,null,null,null,null,null,null,null,null,null,null,null,null,null,null,null,null,null,null,null,null,null,null,null,null,null,null,null,null,null,null,null,null,null,null,null,null,null,null,null,null,null,null,null,null,null,null,null,null,null,null,null,null,null,null,null,null,12.163271432543343,null,null,null,null,null,null,null,null,null,null,null,null,null,null],[null,null,null,null,null,null,null,null,null,null,null,null,null,null,null,null,null,6.981201246209411,null,null,null,null,null,null,null,null,null,null,null,null,6.979135063046851,null,null,null,null,null,null,null,null,null,6.815801292072273,null,7.370998759623221,null,null,null,null,null,null,null,null,null,null,null,null,null,null,null,null,null,null,null,6.618593669483881,null,null,null,null,null,null,null,null,null,null,null,null,null,null,null,null,null,null,null,null,null,null,null,null,null,null,null,null,null,null,null,null,null,null,null,null,null,null,null],[null,null,6.8117460133373084,null,null,null,null,6.832556332139712,null,null,null,null,null,null,null,7.321542595070055,null,null,null,null,null,null,null,null,null,null,null,null,null,null,null,null,null,null,8.503983449642131,null,null,null,null,null,null,null,null,null,null,null,null,null,null,null,null,null,null,null,null,null,null,null,null,null,11.925298482021743,null,null,null,null,null,null,null,null,null,null,null,null,null,null,null,null,null,null,null,null,null,null,null,null,null,null,null,null,null,null,null,null,null,null,null,null,null,null,null,null,null],[null,null,null,null,null,null,7.051566361899401,null,null,null,null,null,7.90844943711807,null,null,null,null,null,null,null,7.964575044068963,null,null,null,null,null,null,null,null,null,null,null,null,null,null,null,null,null,null,null,null,null,null,null,null,null,null,null,null,null,null,null,null,null,null,null,null,null,null,null,null,null,null,null,null,null,null,null,null,null,null,null,null,7.024234465112119,null,7.217140271784709,null,6.956236529867877,8.559175843633275,null,null,null,null,null,null,null,null,null,null,null,null,null,null,null,null,null,null,null,null,null,null,null],[null,null,null,null,null,null,null,null,null,null,null,null,null,6.682989805676676,6.627462023521828,null,null,null,null,null,null,null,null,null,6.945652088103281,null,null,null,6.66382503839976,null,null,null,6.795074677253929,null,null,null,null,null,null,null,null,null,null,null,null,null,null,null,8.57022760004778,null,null,7.515397508167222,null,null,null,null,null,null,null,null,null,null,null,null,null,null,null,null,null,6.580320620577788,6.7562629718977085,null,null,null,null,null,null,null,null,null,null,6.808101060600806,null,null,null,null,7.235049772447086,null,null,null,null,6.66350106253479,null,7.453287904085061,null,null,null,6.9429332533104215,null,null,8.430571643181738,null],[null,null,null,null,null,null,null,null,null,null,7.391283589596038,6.748722872287084,null,null,null,null,7.15789438857747,null,null,null,null,7.211213195809447,null,null,null,7.216405004586652,null,null,null,7.005949083428422,null,6.72411317175734,null,null,null,null,null,null,null,null,null,null,null,6.997488803389456,null,7.126390293845463,null,null,null,null,10.368444606240724,null,6.615732926652282,null,null,null,6.588846670861879,6.96561054208297,null,null,null,null,null,7.221052347750691,null,null,null,null,null,null,null,null,6.645324265512597,null,null,null,null,null,null,6.818525630049701,null,null,null,null,null,null,null,null,null,6.599394886762154,null,null,7.266823098840962,null,null,null,6.81556255689501,null,null,6.708266025071973,null,null],[null,null,null,null,null,null,null,null,null,null,null,null,null,null,null,null,null,null,null,null,null,null,null,null,null,null,null,7.628141333970418,null,null,null,null,null,6.640850624509698,null,7.068810960223108,7.295825720624886,null,null,6.308989647949975,null,null,null,null,null,null,6.492786820564281,10.051626422752918,null,6.957283794360092,null,null,null,6.433846807545842,6.876332674549545,null,null,null,null,6.6920013351818435,null,6.947963177181552,null,null,6.745689398782036,6.576550046951129,null,6.16138370816904,6.665481385609239,null,null,null,null,null,null,null,7.157780863809487,null,null,null,null,null,7.017972862065542,null,null,6.959133443616567,null,null,7.8531826497737764,null,7.986992462708582,null,null,null,8.406950422480717,null,null,null,13.841512769908556,null,null,null],[null,8.708227955210178,null,null,null,7.6624150454747175,null,null,6.671881060560426,null,null,null,null,null,null,null,null,null,null,6.64246398086282,null,null,7.263445589789916,null,null,null,6.582774692333775,null,null,null,null,null,null,null,null,null,null,6.815373873760449,8.01258529334201,null,null,null,null,null,7.084958189604117,null,null,null,null,null,null,null,null,null,null,6.64645176318988,null,null,6.908755853941913,null,null,null,null,null,null,null,7.713219893326127,null,null,null,null,null,null,null,null,null,null,null,null,null,null,null,null,null,null,null,null,null,null,null,null,null,null,null,null,9.460771081761246,null,null,null,null,null,null],[null,null,null,null,null,null,null,null,null,7.646147403787222,null,null,null,null,null,null,null,null,7.094660598117216,null,null,null,null,6.921022812909283,null,null,null,null,null,null,null,null,null,null,null,null,null,null,null,null,null,null,null,null,null,null,null,null,null,null,null,null,null,null,null,null,null,null,null,null,null,null,null,null,null,null,null,null,null,null,null,null,null,null,9.60516791607654,null,null,null,null,null,null,null,null,null,7.301109414249166,null,null,null,null,null,null,null,null,null,null,null,null,null,null,null,null,null],[null,null,null,null,null,null,null,null,null,null,null,null,null,null,null,null,null,null,null,null,null,null,null,null,null,null,null,null,null,null,null,null,null,null,null,null,null,null,null,null,null,null,null,null,null,null,null,null,null,null,null,null,null,null,null,null,null,null,null,null,null,null,null,null,null,null,null,null,null,null,null,null,null,null,null,null,null,null,null,null,null,null,null,null,null,null,null,null,null,null,null,null,null,null,null,null,null,null,null,null,null,null]],\"type\":\"contour\",\"xaxis\":\"x14\",\"yaxis\":\"y14\"},{\"marker\":{\"color\":\"black\",\"line\":{\"color\":\"Grey\",\"width\":2.0}},\"mode\":\"markers\",\"showlegend\":false,\"x\":[0.4013989012755729,0.44702597226093654,0.2348422161207379,0.5995316559891004,0.5168571625601595,0.3808027516424747,0.30191840830159195,0.4354438381832276,0.35386472050007467,0.7095012959991417,0.2108826496676009,0.3203415688148227,0.49175394637869163,0.2681459855693354,0.7887516870762818,0.3749189144410235,0.4907791267588383,0.5586170018880328,0.6001711724099198,0.5762782789998131,0.4396274674688022,0.4340122499072176,0.670087893263115,0.5318688040643682,0.3324263103771623,0.4006285877650944,0.27990987262531963,0.2801974824045272,0.24970399445385352,0.2071533476327387,0.4691586882647345,0.3788294226986846,0.2977276300587118,0.5518485968165537,0.6234369246742749,0.22649845425951956,0.35466104158978995,0.41688810647788116,0.4566626873377028,0.47253514112491374,0.5142977926155852,0.38204232987610165,0.455905289052174,0.4141572734251889,0.4149470234793615,0.35419768500124926,0.3922829293782359,0.6442402197305542,0.5052768869322142,0.5466223038624164,0.44889510397034976,0.3301181793574532,0.32839785214494066,0.3557250391285034,0.3625855513617516,0.4218058278410013,0.39580965661540085,0.5742808911649575,0.3072609332536895,0.30531717585775664,0.4917432340030627,0.342767360728064,0.3095890919721405,0.4333832950114248,0.4714978764718547,0.42526534297124013,0.7220926758066272,0.3691733908101926,0.28979439121120054,0.2640041660119855,0.4034323355527375,0.44248607387749755,0.3902298506549719,0.345665206416253,0.3724013309897641,0.3199482097685925,0.41030953202979964,0.4317746174342902,0.4573645058485396,0.4613086789148259,0.5341243158916451,0.4471748005498575,0.48809307381469913,0.5057238326175705,0.48133832632026236,0.3842108131624772,0.4135162081334625,0.43129455297287184,0.43308404180119137,0.5261139715008444,0.5756080830124146,0.4000580606180995,0.4572336064734494,0.43818774370819397,0.397812210271553,0.42555688144573245,0.40754813412109675,0.4697627715615094,0.41835992614351647,0.45496615783406313],\"y\":[1,3,2,6,1,6,5,9,10,8,4,3,7,4,6,3,5,7,8,7,4,7,6,8,5,3,9,10,9,9,1,7,7,8,9,2,7,6,8,10,8,8,9,8,8,6,8,7,1,2,8,9,10,9,8,7,9,8,6,6,5,7,4,7,5,6,7,6,7,5,3,8,8,9,7,7,9,8,6,6,6,7,8,6,5,4,7,8,9,10,6,8,8,8,9,7,7,7,8,8],\"type\":\"scatter\",\"xaxis\":\"x14\",\"yaxis\":\"y14\"},{\"colorbar\":{\"title\":{\"text\":\"distance\"}},\"colorscale\":[[0.0,\"rgb(247,251,255)\"],[0.125,\"rgb(222,235,247)\"],[0.25,\"rgb(198,219,239)\"],[0.375,\"rgb(158,202,225)\"],[0.5,\"rgb(107,174,214)\"],[0.625,\"rgb(66,146,198)\"],[0.75,\"rgb(33,113,181)\"],[0.875,\"rgb(8,81,156)\"],[1.0,\"rgb(8,48,107)\"]],\"connectgaps\":true,\"contours\":{\"coloring\":\"heatmap\"},\"hoverinfo\":\"none\",\"line\":{\"smoothing\":1.3},\"reversescale\":true,\"showscale\":false,\"x\":[2.75,5,10,15,20,25,30,35,40,45,50,52.25],\"y\":[0.55,1,2,3,4,5,6,7,8,9,10,10.45],\"z\":[[null,null,null,null,null,null,null,null,null,null,null,null],[null,null,8.708227955210178,null,8.57022760004778,null,null,null,8.430571643181738,null,null,null],[null,null,null,9.460771081761246,7.8531826497737764,6.748722872287084,null,null,null,null,null,null],[null,null,null,7.646147403787222,7.6624150454747175,6.941922662101007,null,null,6.8117460133373084,null,null,null],[null,11.925298482021743,null,7.216405004586652,null,6.576550046951129,null,null,null,7.221052347750691,6.818525630049701,null],[null,null,7.964575044068963,null,7.084958189604117,null,null,7.515397508167222,null,null,null,null],[null,null,8.503983449642131,7.321542595070055,6.96561054208297,null,6.9429332533104215,null,null,null,6.795074677253929,null],[null,null,8.869225358183682,null,6.682989805676676,7.301109414249166,null,6.66382503839976,null,7.235049772447086,null,null],[null,null,8.559175843633275,7.005949083428422,6.64645176318988,7.391283589596038,7.024234465112119,7.217140271784709,6.808101060600806,null,null,null],[null,12.163271432543343,7.068810960223108,7.157780863809487,6.957283794360092,null,6.708266025071973,null,null,7.370998759623221,7.126390293845463,null],[null,8.01258529334201,6.876332674549545,6.64246398086282,7.263445589789916,6.997488803389456,7.051566361899401,null,null,null,7.90844943711807,null],[null,null,null,null,null,null,null,null,null,null,null,null]],\"type\":\"contour\",\"xaxis\":\"x3\",\"yaxis\":\"y3\"},{\"marker\":{\"color\":\"black\",\"line\":{\"color\":\"Grey\",\"width\":2.0}},\"mode\":\"markers\",\"showlegend\":false,\"x\":[20,20,25,15,25,50,50,10,20,5,40,35,50,35,40,30,45,15,10,15,5,20,30,15,10,25,15,15,20,10,20,20,25,20,15,25,15,20,10,5,10,15,10,15,5,15,10,15,10,5,25,15,15,10,10,5,20,10,15,20,10,15,15,30,30,35,30,35,25,30,45,15,10,20,15,15,20,10,40,40,45,45,15,40,35,10,50,20,20,25,25,20,20,20,5,20,25,20,20,25],\"y\":[5,5,2,9,7,6,10,7,9,10,3,5,4,7,1,6,4,8,8,8,4,6,6,8,5,7,3,3,3,1,5,2,2,2,2,3,4,1,9,9,10,9,9,9,9,10,8,10,7,9,8,10,9,10,9,10,8,10,8,7,8,9,6,9,8,5,9,7,8,10,9,9,9,10,8,9,5,10,8,8,7,4,9,8,8,6,9,9,8,7,10,9,9,9,10,9,10,9,9,4],\"type\":\"scatter\",\"xaxis\":\"x3\",\"yaxis\":\"y3\"},{\"colorbar\":{\"title\":{\"text\":\"distance\"}},\"colorscale\":[[0.0,\"rgb(247,251,255)\"],[0.125,\"rgb(222,235,247)\"],[0.25,\"rgb(198,219,239)\"],[0.375,\"rgb(158,202,225)\"],[0.5,\"rgb(107,174,214)\"],[0.625,\"rgb(66,146,198)\"],[0.75,\"rgb(33,113,181)\"],[0.875,\"rgb(8,81,156)\"],[1.0,\"rgb(8,48,107)\"]],\"connectgaps\":true,\"contours\":{\"coloring\":\"heatmap\"},\"hoverinfo\":\"none\",\"line\":{\"smoothing\":1.3},\"reversescale\":true,\"showscale\":false,\"x\":[2.75,5,10,15,20,25,30,35,40,45,50,52.25],\"y\":[0.19375795348254654,0.2071533476327387,0.2108826496676009,0.22649845425951956,0.2348422161207379,0.24970399445385352,0.2640041660119855,0.2681459855693354,0.27990987262531963,0.2801974824045272,0.28979439121120054,0.2977276300587118,0.30191840830159195,0.30531717585775664,0.3072609332536895,0.3095890919721405,0.3199482097685925,0.3203415688148227,0.32839785214494066,0.3301181793574532,0.3324263103771623,0.342767360728064,0.345665206416253,0.35386472050007467,0.35419768500124926,0.35466104158978995,0.3557250391285034,0.3625855513617516,0.3691733908101926,0.3724013309897641,0.3749189144410235,0.3788294226986846,0.3808027516424747,0.38204232987610165,0.3842108131624772,0.3902298506549719,0.3922829293782359,0.39580965661540085,0.397812210271553,0.4000580606180995,0.4006285877650944,0.4013989012755729,0.4034323355527375,0.40754813412109675,0.41030953202979964,0.4135162081334625,0.4141572734251889,0.4149470234793615,0.41688810647788116,0.41835992614351647,0.4218058278410013,0.42526534297124013,0.42555688144573245,0.43129455297287184,0.4317746174342902,0.43308404180119137,0.4333832950114248,0.4340122499072176,0.4354438381832276,0.43818774370819397,0.4396274674688022,0.44248607387749755,0.44702597226093654,0.4471748005498575,0.44889510397034976,0.45496615783406313,0.455905289052174,0.4566626873377028,0.4572336064734494,0.4573645058485396,0.4613086789148259,0.4691586882647345,0.4697627715615094,0.4714978764718547,0.47253514112491374,0.48133832632026236,0.48809307381469913,0.4907791267588383,0.4917432340030627,0.49175394637869163,0.5052768869322142,0.5057238326175705,0.5142977926155852,0.5168571625601595,0.5261139715008444,0.5318688040643682,0.5341243158916451,0.5466223038624164,0.5518485968165537,0.5586170018880328,0.5742808911649575,0.5756080830124146,0.5762782789998131,0.5995316559891004,0.6001711724099198,0.6234369246742749,0.6442402197305542,0.670087893263115,0.7095012959991417,0.7220926758066272,0.7887516870762818,0.8432817827193884],\"z\":[[null,null,null,null,null,null,null,null,null,null,null,null],[null,null,8.708227955210178,null,null,null,null,null,null,null,null,null],[null,null,null,null,null,null,null,null,6.8117460133373084,null,null,null],[null,null,null,null,null,6.941922662101007,null,null,null,null,null,null],[null,null,null,null,null,7.729002147545588,null,null,null,null,null,null],[null,null,null,null,7.6624150454747175,null,null,null,null,null,null,null],[null,null,null,null,null,null,7.051566361899401,null,null,null,null,null],[null,null,null,null,null,null,null,6.832556332139712,null,null,null,null],[null,null,null,6.671881060560426,null,null,null,null,null,null,null,null],[null,null,null,7.646147403787222,null,null,null,null,null,null,null,null],[null,null,null,null,null,7.391283589596038,null,null,null,null,null,null],[null,null,null,null,null,6.748722872287084,null,null,null,null,null,null],[null,null,null,null,null,null,null,null,null,null,7.90844943711807,null],[null,null,null,null,6.682989805676676,null,null,null,null,null,null,null],[null,null,null,6.627462023521828,null,null,null,null,null,null,null,null],[null,null,null,7.321542595070055,null,null,null,null,null,null,null,null],[null,null,null,7.15789438857747,null,null,null,null,null,null,null,null],[null,null,null,null,null,null,null,6.981201246209411,null,null,null,null],[null,null,null,7.094660598117216,null,null,null,null,null,null,null,null],[null,null,null,6.64246398086282,null,null,null,null,null,null,null,null],[null,null,7.964575044068963,null,null,null,null,null,null,null,null,null],[null,null,null,7.211213195809447,null,null,null,null,null,null,null,null],[null,null,null,null,7.263445589789916,null,null,null,null,null,null,null],[null,null,null,null,6.921022812909283,null,null,null,null,null,null,null],[null,null,null,6.945652088103281,null,null,null,null,null,null,null,null],[null,null,null,7.216405004586652,null,null,null,null,null,null,null,null],[null,null,6.582774692333775,null,null,null,null,null,null,null,null,null],[null,null,7.628141333970418,null,null,null,null,null,null,null,null,null],[null,null,null,null,null,null,null,6.66382503839976,null,null,null,null],[null,null,null,7.005949083428422,null,null,null,null,null,null,null,null],[null,null,null,null,null,null,6.979135063046851,null,null,null,null,null],[null,null,null,null,6.72411317175734,null,null,null,null,null,null,null],[null,null,null,null,null,null,null,null,null,null,6.795074677253929,null],[null,null,null,6.640850624509698,null,null,null,null,null,null,null,null],[null,null,8.503983449642131,null,null,null,null,null,null,null,null,null],[null,null,7.068810960223108,null,null,null,null,null,null,null,null,null],[null,null,7.295825720624886,null,null,null,null,null,null,null,null,null],[null,null,null,null,6.815373873760449,null,null,null,null,null,null,null],[null,8.01258529334201,null,null,null,null,null,null,null,null,null,null],[null,null,null,null,6.308989647949975,null,null,null,null,null,null,null],[null,null,null,null,null,6.815801292072273,null,null,null,null,null,null],[null,null,null,null,8.585233033074145,null,null,null,null,null,null,null],[null,null,null,null,null,null,null,null,null,7.370998759623221,null,null],[null,null,null,null,null,6.997488803389456,null,null,null,null,null,null],[null,null,null,null,7.084958189604117,null,null,null,null,null,null,null],[null,null,null,null,null,null,null,null,null,null,7.126390293845463,null],[null,null,null,6.492786820564281,null,null,null,null,null,null,null,null],[null,10.051626422752918,null,null,null,null,null,null,null,null,null,null],[null,null,null,null,8.57022760004778,null,null,null,null,null,null,null],[null,null,null,null,6.957283794360092,null,null,null,null,null,null,null],[null,10.368444606240724,null,null,null,null,null,null,null,null,null,null],[null,null,null,null,null,null,null,7.515397508167222,null,null,null,null],[null,null,null,null,6.615732926652282,null,null,null,null,null,null,null],[null,null,null,null,6.433846807545842,null,null,null,null,null,null,null],[null,null,6.876332674549545,null,null,null,null,null,null,null,null,null],[null,null,null,null,6.64645176318988,null,null,null,null,null,null,null],[null,null,null,null,null,null,6.588846670861879,null,null,null,null,null],[null,null,null,null,6.96561054208297,null,null,null,null,null,null,null],[null,null,6.908755853941913,null,null,null,null,null,null,null,null,null],[null,null,null,null,6.6920013351818435,null,null,null,null,null,null,null],[null,11.925298482021743,null,null,null,null,null,null,null,null,null,null],[null,null,null,6.947963177181552,null,null,null,null,null,null,null,null],[null,null,null,null,6.618593669483881,null,null,null,null,null,null,null],[null,null,null,null,null,null,null,null,null,7.221052347750691,null,null],[null,null,null,null,null,6.745689398782036,null,null,null,null,null,null],[null,null,null,null,null,6.576550046951129,null,null,null,null,null,null],[null,null,7.713219893326127,null,null,null,null,null,null,null,null,null],[null,null,6.16138370816904,null,null,null,null,null,null,null,null,null],[null,null,null,null,6.665481385609239,null,null,null,null,null,null,null],[null,null,null,null,null,null,null,null,6.580320620577788,null,null,null],[null,null,null,null,null,null,null,null,6.7562629718977085,null,null,null],[null,null,null,null,8.66674258217236,null,null,null,null,null,null,null],[null,null,null,null,6.645324265512597,null,null,null,null,null,null,null],[null,null,null,null,null,null,7.024234465112119,null,null,null,null,null],[null,9.60516791607654,null,null,null,null,null,null,null,null,null,null],[null,null,null,null,null,null,null,7.217140271784709,null,null,null,null],[null,null,null,7.157780863809487,null,null,null,null,null,null,null,null],[null,null,null,null,null,null,null,null,null,6.956236529867877,null,null],[null,null,8.559175843633275,null,null,null,null,null,null,null,null,null],[null,null,null,null,null,null,null,null,null,null,6.818525630049701,null],[null,null,8.869225358183682,null,null,null,null,null,null,null,null,null],[null,null,null,null,null,null,null,null,6.808101060600806,null,null,null],[null,null,7.017972862065542,null,null,null,null,null,null,null,null,null],[null,null,null,null,null,6.887766974338823,null,null,null,null,null,null],[null,null,null,null,null,7.301109414249166,null,null,null,null,null,null],[null,null,null,6.959133443616567,null,null,null,null,null,null,null,null],[null,null,null,null,null,null,null,null,null,7.235049772447086,null,null],[null,12.163271432543343,null,null,null,null,null,null,null,null,null,null],[null,null,null,null,7.8531826497737764,null,null,null,null,null,null,null],[null,null,null,6.599394886762154,null,null,null,null,null,null,null,null],[null,null,7.986992462708582,null,null,null,null,null,null,null,null,null],[null,null,null,null,null,6.66350106253479,null,null,null,null,null,null],[null,null,null,7.266823098840962,null,null,null,null,null,null,null,null],[null,null,null,7.453287904085061,null,null,null,null,null,null,null,null],[null,null,8.406950422480717,null,null,null,null,null,null,null,null,null],[null,null,null,9.460771081761246,null,null,null,null,null,null,null,null],[null,null,null,6.81556255689501,null,null,null,null,null,null,null,null],[null,null,null,null,null,null,6.9429332533104215,null,null,null,null,null],[null,13.841512769908556,null,null,null,null,null,null,null,null,null,null],[null,null,null,null,null,null,6.708266025071973,null,null,null,null,null],[null,null,null,null,null,null,null,null,8.430571643181738,null,null,null],[null,null,null,null,null,null,null,null,null,null,null,null]],\"type\":\"contour\",\"xaxis\":\"x7\",\"yaxis\":\"y7\"},{\"marker\":{\"color\":\"black\",\"line\":{\"color\":\"Grey\",\"width\":2.0}},\"mode\":\"markers\",\"showlegend\":false,\"x\":[20,20,25,15,25,50,50,10,20,5,40,35,50,35,40,30,45,15,10,15,5,20,30,15,10,25,15,15,20,10,20,20,25,20,15,25,15,20,10,5,10,15,10,15,5,15,10,15,10,5,25,15,15,10,10,5,20,10,15,20,10,15,15,30,30,35,30,35,25,30,45,15,10,20,15,15,20,10,40,40,45,45,15,40,35,10,50,20,20,25,25,20,20,20,5,20,25,20,20,25],\"y\":[0.4013989012755729,0.44702597226093654,0.2348422161207379,0.5995316559891004,0.5168571625601595,0.3808027516424747,0.30191840830159195,0.4354438381832276,0.35386472050007467,0.7095012959991417,0.2108826496676009,0.3203415688148227,0.49175394637869163,0.2681459855693354,0.7887516870762818,0.3749189144410235,0.4907791267588383,0.5586170018880328,0.6001711724099198,0.5762782789998131,0.4396274674688022,0.4340122499072176,0.670087893263115,0.5318688040643682,0.3324263103771623,0.4006285877650944,0.27990987262531963,0.2801974824045272,0.24970399445385352,0.2071533476327387,0.4691586882647345,0.3788294226986846,0.2977276300587118,0.5518485968165537,0.6234369246742749,0.22649845425951956,0.35466104158978995,0.41688810647788116,0.4566626873377028,0.47253514112491374,0.5142977926155852,0.38204232987610165,0.455905289052174,0.4141572734251889,0.4149470234793615,0.35419768500124926,0.3922829293782359,0.6442402197305542,0.5052768869322142,0.5466223038624164,0.44889510397034976,0.3301181793574532,0.32839785214494066,0.3557250391285034,0.3625855513617516,0.4218058278410013,0.39580965661540085,0.5742808911649575,0.3072609332536895,0.30531717585775664,0.4917432340030627,0.342767360728064,0.3095890919721405,0.4333832950114248,0.4714978764718547,0.42526534297124013,0.7220926758066272,0.3691733908101926,0.28979439121120054,0.2640041660119855,0.4034323355527375,0.44248607387749755,0.3902298506549719,0.345665206416253,0.3724013309897641,0.3199482097685925,0.41030953202979964,0.4317746174342902,0.4573645058485396,0.4613086789148259,0.5341243158916451,0.4471748005498575,0.48809307381469913,0.5057238326175705,0.48133832632026236,0.3842108131624772,0.4135162081334625,0.43129455297287184,0.43308404180119137,0.5261139715008444,0.5756080830124146,0.4000580606180995,0.4572336064734494,0.43818774370819397,0.397812210271553,0.42555688144573245,0.40754813412109675,0.4697627715615094,0.41835992614351647,0.45496615783406313],\"type\":\"scatter\",\"xaxis\":\"x7\",\"yaxis\":\"y7\"},{\"type\":\"scatter\",\"xaxis\":\"x11\",\"yaxis\":\"y11\"},{\"colorbar\":{\"title\":{\"text\":\"distance\"}},\"colorscale\":[[0.0,\"rgb(247,251,255)\"],[0.125,\"rgb(222,235,247)\"],[0.25,\"rgb(198,219,239)\"],[0.375,\"rgb(158,202,225)\"],[0.5,\"rgb(107,174,214)\"],[0.625,\"rgb(66,146,198)\"],[0.75,\"rgb(33,113,181)\"],[0.875,\"rgb(8,81,156)\"],[1.0,\"rgb(8,48,107)\"]],\"connectgaps\":true,\"contours\":{\"coloring\":\"heatmap\"},\"hoverinfo\":\"none\",\"line\":{\"smoothing\":1.3},\"reversescale\":true,\"showscale\":false,\"x\":[2.75,5,10,15,20,25,30,35,40,45,50,52.25],\"y\":[0.55,1,2,3,4,5,6,7,8,9,10,10.45],\"z\":[[null,null,null,null,null,null,null,null,null,null,null,null],[null,null,8.869225358183682,null,8.66674258217236,6.887766974338823,null,null,null,null,null,null],[null,12.163271432543343,null,null,null,6.941922662101007,null,null,null,null,null,null],[null,null,null,null,6.618593669483881,6.815801292072273,6.979135063046851,6.981201246209411,null,7.370998759623221,null,null],[null,11.925298482021743,8.503983449642131,7.321542595070055,null,null,null,6.832556332139712,6.8117460133373084,null,null,null],[null,null,8.559175843633275,null,null,null,7.051566361899401,7.217140271784709,null,6.956236529867877,7.90844943711807,null],[null,null,null,6.627462023521828,6.682989805676676,6.66350106253479,6.9429332533104215,6.66382503839976,6.808101060600806,7.235049772447086,6.795074677253929,null],[null,10.368444606240724,null,7.15789438857747,6.645324265512597,6.997488803389456,6.708266025071973,null,null,7.221052347750691,7.126390293845463,null],[null,10.051626422752918,6.876332674549545,7.157780863809487,6.957283794360092,6.576550046951129,null,null,null,null,null,null],[null,8.01258529334201,6.582774692333775,6.64246398086282,6.64645176318988,null,null,null,null,null,null,null],[null,9.60516791607654,null,7.094660598117216,6.921022812909283,7.301109414249166,null,null,null,null,null,null],[null,null,null,null,null,null,null,null,null,null,null,null]],\"type\":\"contour\",\"xaxis\":\"x15\",\"yaxis\":\"y15\"},{\"marker\":{\"color\":\"black\",\"line\":{\"color\":\"Grey\",\"width\":2.0}},\"mode\":\"markers\",\"showlegend\":false,\"x\":[20,20,25,15,25,50,50,10,20,5,40,35,50,35,40,30,45,15,10,15,5,20,30,15,10,25,15,15,20,10,20,20,25,20,15,25,15,20,10,5,10,15,10,15,5,15,10,15,10,5,25,15,15,10,10,5,20,10,15,20,10,15,15,30,30,35,30,35,25,30,45,15,10,20,15,15,20,10,40,40,45,45,15,40,35,10,50,20,20,25,25,20,20,20,5,20,25,20,20,25],\"y\":[1,3,2,6,1,6,5,9,10,8,4,3,7,4,6,3,5,7,8,7,4,7,6,8,5,3,9,10,9,9,1,7,7,8,9,2,7,6,8,10,8,8,9,8,8,6,8,7,1,2,8,9,10,9,8,7,9,8,6,6,5,7,4,7,5,6,7,6,7,5,3,8,8,9,7,7,9,8,6,6,6,7,8,6,5,4,7,8,9,10,6,8,8,8,9,7,7,7,8,8],\"type\":\"scatter\",\"xaxis\":\"x15\",\"yaxis\":\"y15\"},{\"colorbar\":{\"title\":{\"text\":\"distance\"}},\"colorscale\":[[0.0,\"rgb(247,251,255)\"],[0.125,\"rgb(222,235,247)\"],[0.25,\"rgb(198,219,239)\"],[0.375,\"rgb(158,202,225)\"],[0.5,\"rgb(107,174,214)\"],[0.625,\"rgb(66,146,198)\"],[0.75,\"rgb(33,113,181)\"],[0.875,\"rgb(8,81,156)\"],[1.0,\"rgb(8,48,107)\"]],\"connectgaps\":true,\"contours\":{\"coloring\":\"heatmap\"},\"hoverinfo\":\"none\",\"line\":{\"smoothing\":1.3},\"reversescale\":true,\"showscale\":false,\"x\":[0.55,1,2,3,4,5,6,7,8,9,10,10.45],\"y\":[0.55,1,2,3,4,5,6,7,8,9,10,10.45],\"z\":[[null,null,null,null,null,null,null,null,null,null,null,null],[null,null,null,null,null,null,8.57022760004778,null,null,8.708227955210178,null,null],[null,null,7.729002147545588,null,null,null,null,6.748722872287084,7.8531826497737764,9.460771081761246,null,null],[null,null,6.941922662101007,null,6.8117460133373084,null,null,null,null,7.6624150454747175,7.646147403787222,null],[null,null,null,null,11.925298482021743,6.956236529867877,null,7.221052347750691,6.576550046951129,null,null,null],[null,8.66674258217236,null,6.981201246209411,null,7.964575044068963,7.515397508167222,null,null,7.084958189604117,null,null],[null,null,null,6.979135063046851,8.503983449642131,null,6.9429332533104215,6.96561054208297,null,null,null,null],[null,8.869225358183682,null,6.815801292072273,6.832556332139712,null,7.235049772447086,null,null,6.908755853941913,7.301109414249166,null],[null,null,null,null,null,7.217140271784709,6.808101060600806,7.005949083428422,6.745689398782036,6.64645176318988,null,null],[null,null,12.163271432543343,7.370998759623221,null,null,7.453287904085061,6.645324265512597,6.957283794360092,7.713219893326127,7.094660598117216,null],[null,null,null,null,null,7.051566361899401,6.66350106253479,6.997488803389456,6.876332674549545,8.01258529334201,null,null],[null,null,null,null,null,null,null,null,null,null,null,null]],\"type\":\"contour\",\"xaxis\":\"x4\",\"yaxis\":\"y4\"},{\"marker\":{\"color\":\"black\",\"line\":{\"color\":\"Grey\",\"width\":2.0}},\"mode\":\"markers\",\"showlegend\":false,\"x\":[1,3,2,6,1,6,5,9,10,8,4,3,7,4,6,3,5,7,8,7,4,7,6,8,5,3,9,10,9,9,1,7,7,8,9,2,7,6,8,10,8,8,9,8,8,6,8,7,1,2,8,9,10,9,8,7,9,8,6,6,5,7,4,7,5,6,7,6,7,5,3,8,8,9,7,7,9,8,6,6,6,7,8,6,5,4,7,8,9,10,6,8,8,8,9,7,7,7,8,8],\"y\":[5,5,2,9,7,6,10,7,9,10,3,5,4,7,1,6,4,8,8,8,4,6,6,8,5,7,3,3,3,1,5,2,2,2,2,3,4,1,9,9,10,9,9,9,9,10,8,10,7,9,8,10,9,10,9,10,8,10,8,7,8,9,6,9,8,5,9,7,8,10,9,9,9,10,8,9,5,10,8,8,7,4,9,8,8,6,9,9,8,7,10,9,9,9,10,9,10,9,9,4],\"type\":\"scatter\",\"xaxis\":\"x4\",\"yaxis\":\"y4\"},{\"colorbar\":{\"title\":{\"text\":\"distance\"}},\"colorscale\":[[0.0,\"rgb(247,251,255)\"],[0.125,\"rgb(222,235,247)\"],[0.25,\"rgb(198,219,239)\"],[0.375,\"rgb(158,202,225)\"],[0.5,\"rgb(107,174,214)\"],[0.625,\"rgb(66,146,198)\"],[0.75,\"rgb(33,113,181)\"],[0.875,\"rgb(8,81,156)\"],[1.0,\"rgb(8,48,107)\"]],\"connectgaps\":true,\"contours\":{\"coloring\":\"heatmap\"},\"hoverinfo\":\"none\",\"line\":{\"smoothing\":1.3},\"reversescale\":true,\"showscale\":false,\"x\":[0.55,1,2,3,4,5,6,7,8,9,10,10.45],\"y\":[0.19375795348254654,0.2071533476327387,0.2108826496676009,0.22649845425951956,0.2348422161207379,0.24970399445385352,0.2640041660119855,0.2681459855693354,0.27990987262531963,0.2801974824045272,0.28979439121120054,0.2977276300587118,0.30191840830159195,0.30531717585775664,0.3072609332536895,0.3095890919721405,0.3199482097685925,0.3203415688148227,0.32839785214494066,0.3301181793574532,0.3324263103771623,0.342767360728064,0.345665206416253,0.35386472050007467,0.35419768500124926,0.35466104158978995,0.3557250391285034,0.3625855513617516,0.3691733908101926,0.3724013309897641,0.3749189144410235,0.3788294226986846,0.3808027516424747,0.38204232987610165,0.3842108131624772,0.3902298506549719,0.3922829293782359,0.39580965661540085,0.397812210271553,0.4000580606180995,0.4006285877650944,0.4013989012755729,0.4034323355527375,0.40754813412109675,0.41030953202979964,0.4135162081334625,0.4141572734251889,0.4149470234793615,0.41688810647788116,0.41835992614351647,0.4218058278410013,0.42526534297124013,0.42555688144573245,0.43129455297287184,0.4317746174342902,0.43308404180119137,0.4333832950114248,0.4340122499072176,0.4354438381832276,0.43818774370819397,0.4396274674688022,0.44248607387749755,0.44702597226093654,0.4471748005498575,0.44889510397034976,0.45496615783406313,0.455905289052174,0.4566626873377028,0.4572336064734494,0.4573645058485396,0.4613086789148259,0.4691586882647345,0.4697627715615094,0.4714978764718547,0.47253514112491374,0.48133832632026236,0.48809307381469913,0.4907791267588383,0.4917432340030627,0.49175394637869163,0.5052768869322142,0.5057238326175705,0.5142977926155852,0.5168571625601595,0.5261139715008444,0.5318688040643682,0.5341243158916451,0.5466223038624164,0.5518485968165537,0.5586170018880328,0.5742808911649575,0.5756080830124146,0.5762782789998131,0.5995316559891004,0.6001711724099198,0.6234369246742749,0.6442402197305542,0.670087893263115,0.7095012959991417,0.7220926758066272,0.7887516870762818,0.8432817827193884],\"z\":[[null,null,null,null,null,null,null,null,null,null,null,null],[null,null,null,null,null,null,null,null,null,8.708227955210178,null,null],[null,null,null,null,6.8117460133373084,null,null,null,null,null,null,null],[null,null,6.941922662101007,null,null,null,null,null,null,null,null,null],[null,null,7.729002147545588,null,null,null,null,null,null,null,null,null],[null,null,null,null,null,null,null,null,null,7.6624150454747175,null,null],[null,null,null,null,null,7.051566361899401,null,null,null,null,null,null],[null,null,null,null,6.832556332139712,null,null,null,null,null,null,null],[null,null,null,null,null,null,null,null,null,6.671881060560426,null,null],[null,null,null,null,null,null,null,null,null,null,7.646147403787222,null],[null,null,null,null,null,null,null,7.391283589596038,null,null,null,null],[null,null,null,null,null,null,null,6.748722872287084,null,null,null,null],[null,null,null,null,null,7.90844943711807,null,null,null,null,null,null],[null,null,null,null,null,null,6.682989805676676,null,null,null,null,null],[null,null,null,null,null,null,6.627462023521828,null,null,null,null,null],[null,null,null,null,7.321542595070055,null,null,null,null,null,null,null],[null,null,null,null,null,null,null,7.15789438857747,null,null,null,null],[null,null,null,6.981201246209411,null,null,null,null,null,null,null,null],[null,null,null,null,null,null,null,null,null,null,7.094660598117216,null],[null,null,null,null,null,null,null,null,null,6.64246398086282,null,null],[null,null,null,null,null,7.964575044068963,null,null,null,null,null,null],[null,null,null,null,null,null,null,7.211213195809447,null,null,null,null],[null,null,null,null,null,null,null,null,null,7.263445589789916,null,null],[null,null,null,null,null,null,null,null,null,null,6.921022812909283,null],[null,null,null,null,null,null,6.945652088103281,null,null,null,null,null],[null,null,null,null,null,null,null,7.216405004586652,null,null,null,null],[null,null,null,null,null,null,null,null,null,6.582774692333775,null,null],[null,null,null,null,null,null,null,null,7.628141333970418,null,null,null],[null,null,null,null,null,null,6.66382503839976,null,null,null,null,null],[null,null,null,null,null,null,null,7.005949083428422,null,null,null,null],[null,null,null,6.979135063046851,null,null,null,null,null,null,null,null],[null,null,null,null,null,null,null,6.72411317175734,null,null,null,null],[null,null,null,null,null,null,6.795074677253929,null,null,null,null,null],[null,null,null,null,null,null,null,null,6.640850624509698,null,null,null],[null,null,null,null,8.503983449642131,null,null,null,null,null,null,null],[null,null,null,null,null,null,null,null,7.068810960223108,null,null,null],[null,null,null,null,null,null,null,null,7.295825720624886,null,null,null],[null,null,null,null,null,null,null,null,null,6.815373873760449,null,null],[null,null,null,null,null,null,null,null,null,8.01258529334201,null,null],[null,null,null,null,null,null,null,null,6.308989647949975,null,null,null],[null,null,null,6.815801292072273,null,null,null,null,null,null,null,null],[null,8.585233033074145,null,null,null,null,null,null,null,null,null,null],[null,null,null,7.370998759623221,null,null,null,null,null,null,null,null],[null,null,null,null,null,null,null,6.997488803389456,null,null,null,null],[null,null,null,null,null,null,null,null,null,7.084958189604117,null,null],[null,null,null,null,null,null,null,7.126390293845463,null,null,null,null],[null,null,null,null,null,null,null,null,6.492786820564281,null,null,null],[null,null,null,null,null,null,null,null,10.051626422752918,null,null,null],[null,null,null,null,null,null,8.57022760004778,null,null,null,null,null],[null,null,null,null,null,null,null,null,6.957283794360092,null,null,null],[null,null,null,null,null,null,null,10.368444606240724,null,null,null,null],[null,null,null,null,null,null,7.515397508167222,null,null,null,null,null],[null,null,null,null,null,null,null,6.615732926652282,null,null,null,null],[null,null,null,null,null,null,null,null,6.433846807545842,null,null,null],[null,null,null,null,null,null,null,null,6.876332674549545,null,null,null],[null,null,null,null,null,null,null,null,null,6.64645176318988,null,null],[null,null,null,null,null,null,null,6.588846670861879,null,null,null,null],[null,null,null,null,null,null,null,6.96561054208297,null,null,null,null],[null,null,null,null,null,null,null,null,null,6.908755853941913,null,null],[null,null,null,null,null,null,null,null,6.6920013351818435,null,null,null],[null,null,null,null,11.925298482021743,null,null,null,null,null,null,null],[null,null,null,null,null,null,null,null,6.947963177181552,null,null,null],[null,null,null,6.618593669483881,null,null,null,null,null,null,null,null],[null,null,null,null,null,null,null,7.221052347750691,null,null,null,null],[null,null,null,null,null,null,null,null,6.745689398782036,null,null,null],[null,null,null,null,null,null,null,null,6.576550046951129,null,null,null],[null,null,null,null,null,null,null,null,null,7.713219893326127,null,null],[null,null,null,null,null,null,null,null,6.16138370816904,null,null,null],[null,null,null,null,null,null,null,null,6.665481385609239,null,null,null],[null,null,null,null,null,null,6.580320620577788,null,null,null,null,null],[null,null,null,null,null,null,6.7562629718977085,null,null,null,null,null],[null,8.66674258217236,null,null,null,null,null,null,null,null,null,null],[null,null,null,null,null,null,null,6.645324265512597,null,null,null,null],[null,null,null,null,null,7.024234465112119,null,null,null,null,null,null],[null,null,null,null,null,null,null,null,null,null,9.60516791607654,null],[null,null,null,null,null,7.217140271784709,null,null,null,null,null,null],[null,null,null,null,null,null,null,null,7.157780863809487,null,null,null],[null,null,null,null,null,6.956236529867877,null,null,null,null,null,null],[null,null,null,null,null,8.559175843633275,null,null,null,null,null,null],[null,null,null,null,null,null,null,6.818525630049701,null,null,null,null],[null,8.869225358183682,null,null,null,null,null,null,null,null,null,null],[null,null,null,null,null,null,6.808101060600806,null,null,null,null,null],[null,null,null,null,null,null,null,null,7.017972862065542,null,null,null],[null,6.887766974338823,null,null,null,null,null,null,null,null,null,null],[null,null,null,null,null,null,null,null,null,null,7.301109414249166,null],[null,null,null,null,null,null,null,null,6.959133443616567,null,null,null],[null,null,null,null,null,null,7.235049772447086,null,null,null,null,null],[null,null,12.163271432543343,null,null,null,null,null,null,null,null,null],[null,null,null,null,null,null,null,null,7.8531826497737764,null,null,null],[null,null,null,null,null,null,null,6.599394886762154,null,null,null,null],[null,null,null,null,null,null,null,null,7.986992462708582,null,null,null],[null,null,null,null,null,null,6.66350106253479,null,null,null,null,null],[null,null,null,null,null,null,null,7.266823098840962,null,null,null,null],[null,null,null,null,null,null,7.453287904085061,null,null,null,null,null],[null,null,null,null,null,null,null,null,8.406950422480717,null,null,null],[null,null,null,null,null,null,null,null,null,9.460771081761246,null,null],[null,null,null,null,null,null,null,6.81556255689501,null,null,null,null],[null,null,null,null,null,null,6.9429332533104215,null,null,null,null,null],[null,null,null,null,null,null,null,null,13.841512769908556,null,null,null],[null,null,null,null,null,null,null,6.708266025071973,null,null,null,null],[null,null,null,null,null,null,8.430571643181738,null,null,null,null,null],[null,null,null,null,null,null,null,null,null,null,null,null]],\"type\":\"contour\",\"xaxis\":\"x8\",\"yaxis\":\"y8\"},{\"marker\":{\"color\":\"black\",\"line\":{\"color\":\"Grey\",\"width\":2.0}},\"mode\":\"markers\",\"showlegend\":false,\"x\":[1,3,2,6,1,6,5,9,10,8,4,3,7,4,6,3,5,7,8,7,4,7,6,8,5,3,9,10,9,9,1,7,7,8,9,2,7,6,8,10,8,8,9,8,8,6,8,7,1,2,8,9,10,9,8,7,9,8,6,6,5,7,4,7,5,6,7,6,7,5,3,8,8,9,7,7,9,8,6,6,6,7,8,6,5,4,7,8,9,10,6,8,8,8,9,7,7,7,8,8],\"y\":[0.4013989012755729,0.44702597226093654,0.2348422161207379,0.5995316559891004,0.5168571625601595,0.3808027516424747,0.30191840830159195,0.4354438381832276,0.35386472050007467,0.7095012959991417,0.2108826496676009,0.3203415688148227,0.49175394637869163,0.2681459855693354,0.7887516870762818,0.3749189144410235,0.4907791267588383,0.5586170018880328,0.6001711724099198,0.5762782789998131,0.4396274674688022,0.4340122499072176,0.670087893263115,0.5318688040643682,0.3324263103771623,0.4006285877650944,0.27990987262531963,0.2801974824045272,0.24970399445385352,0.2071533476327387,0.4691586882647345,0.3788294226986846,0.2977276300587118,0.5518485968165537,0.6234369246742749,0.22649845425951956,0.35466104158978995,0.41688810647788116,0.4566626873377028,0.47253514112491374,0.5142977926155852,0.38204232987610165,0.455905289052174,0.4141572734251889,0.4149470234793615,0.35419768500124926,0.3922829293782359,0.6442402197305542,0.5052768869322142,0.5466223038624164,0.44889510397034976,0.3301181793574532,0.32839785214494066,0.3557250391285034,0.3625855513617516,0.4218058278410013,0.39580965661540085,0.5742808911649575,0.3072609332536895,0.30531717585775664,0.4917432340030627,0.342767360728064,0.3095890919721405,0.4333832950114248,0.4714978764718547,0.42526534297124013,0.7220926758066272,0.3691733908101926,0.28979439121120054,0.2640041660119855,0.4034323355527375,0.44248607387749755,0.3902298506549719,0.345665206416253,0.3724013309897641,0.3199482097685925,0.41030953202979964,0.4317746174342902,0.4573645058485396,0.4613086789148259,0.5341243158916451,0.4471748005498575,0.48809307381469913,0.5057238326175705,0.48133832632026236,0.3842108131624772,0.4135162081334625,0.43129455297287184,0.43308404180119137,0.5261139715008444,0.5756080830124146,0.4000580606180995,0.4572336064734494,0.43818774370819397,0.397812210271553,0.42555688144573245,0.40754813412109675,0.4697627715615094,0.41835992614351647,0.45496615783406313],\"type\":\"scatter\",\"xaxis\":\"x8\",\"yaxis\":\"y8\"},{\"colorbar\":{\"title\":{\"text\":\"distance\"}},\"colorscale\":[[0.0,\"rgb(247,251,255)\"],[0.125,\"rgb(222,235,247)\"],[0.25,\"rgb(198,219,239)\"],[0.375,\"rgb(158,202,225)\"],[0.5,\"rgb(107,174,214)\"],[0.625,\"rgb(66,146,198)\"],[0.75,\"rgb(33,113,181)\"],[0.875,\"rgb(8,81,156)\"],[1.0,\"rgb(8,48,107)\"]],\"connectgaps\":true,\"contours\":{\"coloring\":\"heatmap\"},\"hoverinfo\":\"none\",\"line\":{\"smoothing\":1.3},\"reversescale\":true,\"showscale\":false,\"x\":[0.55,1,2,3,4,5,6,7,8,9,10,10.45],\"y\":[2.75,5,10,15,20,25,30,35,40,45,50,52.25],\"z\":[[null,null,null,null,null,null,null,null,null,null,null,null],[null,null,12.163271432543343,null,11.925298482021743,null,null,10.368444606240724,10.051626422752918,8.01258529334201,9.60516791607654,null],[null,8.869225358183682,null,null,8.503983449642131,8.559175843633275,null,null,6.876332674549545,6.582774692333775,null,null],[null,null,null,null,7.321542595070055,null,6.627462023521828,7.15789438857747,7.157780863809487,6.64246398086282,7.094660598117216,null],[null,8.66674258217236,null,6.618593669483881,null,null,6.682989805676676,6.645324265512597,6.957283794360092,6.64645176318988,6.921022812909283,null],[null,6.887766974338823,6.941922662101007,6.815801292072273,null,null,6.66350106253479,6.997488803389456,6.576550046951129,null,7.301109414249166,null],[null,null,null,6.979135063046851,null,7.051566361899401,6.9429332533104215,6.708266025071973,null,null,null,null],[null,null,null,6.981201246209411,6.832556332139712,7.217140271784709,6.66382503839976,null,null,null,null,null],[null,null,null,null,6.8117460133373084,null,6.808101060600806,null,null,null,null,null],[null,null,null,7.370998759623221,null,6.956236529867877,7.235049772447086,7.221052347750691,null,null,null,null],[null,null,null,null,null,7.90844943711807,6.795074677253929,7.126390293845463,null,null,null,null],[null,null,null,null,null,null,null,null,null,null,null,null]],\"type\":\"contour\",\"xaxis\":\"x12\",\"yaxis\":\"y12\"},{\"marker\":{\"color\":\"black\",\"line\":{\"color\":\"Grey\",\"width\":2.0}},\"mode\":\"markers\",\"showlegend\":false,\"x\":[1,3,2,6,1,6,5,9,10,8,4,3,7,4,6,3,5,7,8,7,4,7,6,8,5,3,9,10,9,9,1,7,7,8,9,2,7,6,8,10,8,8,9,8,8,6,8,7,1,2,8,9,10,9,8,7,9,8,6,6,5,7,4,7,5,6,7,6,7,5,3,8,8,9,7,7,9,8,6,6,6,7,8,6,5,4,7,8,9,10,6,8,8,8,9,7,7,7,8,8],\"y\":[20,20,25,15,25,50,50,10,20,5,40,35,50,35,40,30,45,15,10,15,5,20,30,15,10,25,15,15,20,10,20,20,25,20,15,25,15,20,10,5,10,15,10,15,5,15,10,15,10,5,25,15,15,10,10,5,20,10,15,20,10,15,15,30,30,35,30,35,25,30,45,15,10,20,15,15,20,10,40,40,45,45,15,40,35,10,50,20,20,25,25,20,20,20,5,20,25,20,20,25],\"type\":\"scatter\",\"xaxis\":\"x12\",\"yaxis\":\"y12\"},{\"type\":\"scatter\",\"xaxis\":\"x16\",\"yaxis\":\"y16\"}],                        {\"template\":{\"data\":{\"bar\":[{\"error_x\":{\"color\":\"#2a3f5f\"},\"error_y\":{\"color\":\"#2a3f5f\"},\"marker\":{\"line\":{\"color\":\"#E5ECF6\",\"width\":0.5},\"pattern\":{\"fillmode\":\"overlay\",\"size\":10,\"solidity\":0.2}},\"type\":\"bar\"}],\"barpolar\":[{\"marker\":{\"line\":{\"color\":\"#E5ECF6\",\"width\":0.5},\"pattern\":{\"fillmode\":\"overlay\",\"size\":10,\"solidity\":0.2}},\"type\":\"barpolar\"}],\"carpet\":[{\"aaxis\":{\"endlinecolor\":\"#2a3f5f\",\"gridcolor\":\"white\",\"linecolor\":\"white\",\"minorgridcolor\":\"white\",\"startlinecolor\":\"#2a3f5f\"},\"baxis\":{\"endlinecolor\":\"#2a3f5f\",\"gridcolor\":\"white\",\"linecolor\":\"white\",\"minorgridcolor\":\"white\",\"startlinecolor\":\"#2a3f5f\"},\"type\":\"carpet\"}],\"choropleth\":[{\"colorbar\":{\"outlinewidth\":0,\"ticks\":\"\"},\"type\":\"choropleth\"}],\"contour\":[{\"colorbar\":{\"outlinewidth\":0,\"ticks\":\"\"},\"colorscale\":[[0.0,\"#0d0887\"],[0.1111111111111111,\"#46039f\"],[0.2222222222222222,\"#7201a8\"],[0.3333333333333333,\"#9c179e\"],[0.4444444444444444,\"#bd3786\"],[0.5555555555555556,\"#d8576b\"],[0.6666666666666666,\"#ed7953\"],[0.7777777777777778,\"#fb9f3a\"],[0.8888888888888888,\"#fdca26\"],[1.0,\"#f0f921\"]],\"type\":\"contour\"}],\"contourcarpet\":[{\"colorbar\":{\"outlinewidth\":0,\"ticks\":\"\"},\"type\":\"contourcarpet\"}],\"heatmap\":[{\"colorbar\":{\"outlinewidth\":0,\"ticks\":\"\"},\"colorscale\":[[0.0,\"#0d0887\"],[0.1111111111111111,\"#46039f\"],[0.2222222222222222,\"#7201a8\"],[0.3333333333333333,\"#9c179e\"],[0.4444444444444444,\"#bd3786\"],[0.5555555555555556,\"#d8576b\"],[0.6666666666666666,\"#ed7953\"],[0.7777777777777778,\"#fb9f3a\"],[0.8888888888888888,\"#fdca26\"],[1.0,\"#f0f921\"]],\"type\":\"heatmap\"}],\"heatmapgl\":[{\"colorbar\":{\"outlinewidth\":0,\"ticks\":\"\"},\"colorscale\":[[0.0,\"#0d0887\"],[0.1111111111111111,\"#46039f\"],[0.2222222222222222,\"#7201a8\"],[0.3333333333333333,\"#9c179e\"],[0.4444444444444444,\"#bd3786\"],[0.5555555555555556,\"#d8576b\"],[0.6666666666666666,\"#ed7953\"],[0.7777777777777778,\"#fb9f3a\"],[0.8888888888888888,\"#fdca26\"],[1.0,\"#f0f921\"]],\"type\":\"heatmapgl\"}],\"histogram\":[{\"marker\":{\"pattern\":{\"fillmode\":\"overlay\",\"size\":10,\"solidity\":0.2}},\"type\":\"histogram\"}],\"histogram2d\":[{\"colorbar\":{\"outlinewidth\":0,\"ticks\":\"\"},\"colorscale\":[[0.0,\"#0d0887\"],[0.1111111111111111,\"#46039f\"],[0.2222222222222222,\"#7201a8\"],[0.3333333333333333,\"#9c179e\"],[0.4444444444444444,\"#bd3786\"],[0.5555555555555556,\"#d8576b\"],[0.6666666666666666,\"#ed7953\"],[0.7777777777777778,\"#fb9f3a\"],[0.8888888888888888,\"#fdca26\"],[1.0,\"#f0f921\"]],\"type\":\"histogram2d\"}],\"histogram2dcontour\":[{\"colorbar\":{\"outlinewidth\":0,\"ticks\":\"\"},\"colorscale\":[[0.0,\"#0d0887\"],[0.1111111111111111,\"#46039f\"],[0.2222222222222222,\"#7201a8\"],[0.3333333333333333,\"#9c179e\"],[0.4444444444444444,\"#bd3786\"],[0.5555555555555556,\"#d8576b\"],[0.6666666666666666,\"#ed7953\"],[0.7777777777777778,\"#fb9f3a\"],[0.8888888888888888,\"#fdca26\"],[1.0,\"#f0f921\"]],\"type\":\"histogram2dcontour\"}],\"mesh3d\":[{\"colorbar\":{\"outlinewidth\":0,\"ticks\":\"\"},\"type\":\"mesh3d\"}],\"parcoords\":[{\"line\":{\"colorbar\":{\"outlinewidth\":0,\"ticks\":\"\"}},\"type\":\"parcoords\"}],\"pie\":[{\"automargin\":true,\"type\":\"pie\"}],\"scatter\":[{\"marker\":{\"colorbar\":{\"outlinewidth\":0,\"ticks\":\"\"}},\"type\":\"scatter\"}],\"scatter3d\":[{\"line\":{\"colorbar\":{\"outlinewidth\":0,\"ticks\":\"\"}},\"marker\":{\"colorbar\":{\"outlinewidth\":0,\"ticks\":\"\"}},\"type\":\"scatter3d\"}],\"scattercarpet\":[{\"marker\":{\"colorbar\":{\"outlinewidth\":0,\"ticks\":\"\"}},\"type\":\"scattercarpet\"}],\"scattergeo\":[{\"marker\":{\"colorbar\":{\"outlinewidth\":0,\"ticks\":\"\"}},\"type\":\"scattergeo\"}],\"scattergl\":[{\"marker\":{\"colorbar\":{\"outlinewidth\":0,\"ticks\":\"\"}},\"type\":\"scattergl\"}],\"scattermapbox\":[{\"marker\":{\"colorbar\":{\"outlinewidth\":0,\"ticks\":\"\"}},\"type\":\"scattermapbox\"}],\"scatterpolar\":[{\"marker\":{\"colorbar\":{\"outlinewidth\":0,\"ticks\":\"\"}},\"type\":\"scatterpolar\"}],\"scatterpolargl\":[{\"marker\":{\"colorbar\":{\"outlinewidth\":0,\"ticks\":\"\"}},\"type\":\"scatterpolargl\"}],\"scatterternary\":[{\"marker\":{\"colorbar\":{\"outlinewidth\":0,\"ticks\":\"\"}},\"type\":\"scatterternary\"}],\"surface\":[{\"colorbar\":{\"outlinewidth\":0,\"ticks\":\"\"},\"colorscale\":[[0.0,\"#0d0887\"],[0.1111111111111111,\"#46039f\"],[0.2222222222222222,\"#7201a8\"],[0.3333333333333333,\"#9c179e\"],[0.4444444444444444,\"#bd3786\"],[0.5555555555555556,\"#d8576b\"],[0.6666666666666666,\"#ed7953\"],[0.7777777777777778,\"#fb9f3a\"],[0.8888888888888888,\"#fdca26\"],[1.0,\"#f0f921\"]],\"type\":\"surface\"}],\"table\":[{\"cells\":{\"fill\":{\"color\":\"#EBF0F8\"},\"line\":{\"color\":\"white\"}},\"header\":{\"fill\":{\"color\":\"#C8D4E3\"},\"line\":{\"color\":\"white\"}},\"type\":\"table\"}]},\"layout\":{\"annotationdefaults\":{\"arrowcolor\":\"#2a3f5f\",\"arrowhead\":0,\"arrowwidth\":1},\"autotypenumbers\":\"strict\",\"coloraxis\":{\"colorbar\":{\"outlinewidth\":0,\"ticks\":\"\"}},\"colorscale\":{\"diverging\":[[0,\"#8e0152\"],[0.1,\"#c51b7d\"],[0.2,\"#de77ae\"],[0.3,\"#f1b6da\"],[0.4,\"#fde0ef\"],[0.5,\"#f7f7f7\"],[0.6,\"#e6f5d0\"],[0.7,\"#b8e186\"],[0.8,\"#7fbc41\"],[0.9,\"#4d9221\"],[1,\"#276419\"]],\"sequential\":[[0.0,\"#0d0887\"],[0.1111111111111111,\"#46039f\"],[0.2222222222222222,\"#7201a8\"],[0.3333333333333333,\"#9c179e\"],[0.4444444444444444,\"#bd3786\"],[0.5555555555555556,\"#d8576b\"],[0.6666666666666666,\"#ed7953\"],[0.7777777777777778,\"#fb9f3a\"],[0.8888888888888888,\"#fdca26\"],[1.0,\"#f0f921\"]],\"sequentialminus\":[[0.0,\"#0d0887\"],[0.1111111111111111,\"#46039f\"],[0.2222222222222222,\"#7201a8\"],[0.3333333333333333,\"#9c179e\"],[0.4444444444444444,\"#bd3786\"],[0.5555555555555556,\"#d8576b\"],[0.6666666666666666,\"#ed7953\"],[0.7777777777777778,\"#fb9f3a\"],[0.8888888888888888,\"#fdca26\"],[1.0,\"#f0f921\"]]},\"colorway\":[\"#636efa\",\"#EF553B\",\"#00cc96\",\"#ab63fa\",\"#FFA15A\",\"#19d3f3\",\"#FF6692\",\"#B6E880\",\"#FF97FF\",\"#FECB52\"],\"font\":{\"color\":\"#2a3f5f\"},\"geo\":{\"bgcolor\":\"white\",\"lakecolor\":\"white\",\"landcolor\":\"#E5ECF6\",\"showlakes\":true,\"showland\":true,\"subunitcolor\":\"white\"},\"hoverlabel\":{\"align\":\"left\"},\"hovermode\":\"closest\",\"mapbox\":{\"style\":\"light\"},\"paper_bgcolor\":\"white\",\"plot_bgcolor\":\"#E5ECF6\",\"polar\":{\"angularaxis\":{\"gridcolor\":\"white\",\"linecolor\":\"white\",\"ticks\":\"\"},\"bgcolor\":\"#E5ECF6\",\"radialaxis\":{\"gridcolor\":\"white\",\"linecolor\":\"white\",\"ticks\":\"\"}},\"scene\":{\"xaxis\":{\"backgroundcolor\":\"#E5ECF6\",\"gridcolor\":\"white\",\"gridwidth\":2,\"linecolor\":\"white\",\"showbackground\":true,\"ticks\":\"\",\"zerolinecolor\":\"white\"},\"yaxis\":{\"backgroundcolor\":\"#E5ECF6\",\"gridcolor\":\"white\",\"gridwidth\":2,\"linecolor\":\"white\",\"showbackground\":true,\"ticks\":\"\",\"zerolinecolor\":\"white\"},\"zaxis\":{\"backgroundcolor\":\"#E5ECF6\",\"gridcolor\":\"white\",\"gridwidth\":2,\"linecolor\":\"white\",\"showbackground\":true,\"ticks\":\"\",\"zerolinecolor\":\"white\"}},\"shapedefaults\":{\"line\":{\"color\":\"#2a3f5f\"}},\"ternary\":{\"aaxis\":{\"gridcolor\":\"white\",\"linecolor\":\"white\",\"ticks\":\"\"},\"baxis\":{\"gridcolor\":\"white\",\"linecolor\":\"white\",\"ticks\":\"\"},\"bgcolor\":\"#E5ECF6\",\"caxis\":{\"gridcolor\":\"white\",\"linecolor\":\"white\",\"ticks\":\"\"}},\"title\":{\"x\":0.05},\"xaxis\":{\"automargin\":true,\"gridcolor\":\"white\",\"linecolor\":\"white\",\"ticks\":\"\",\"title\":{\"standoff\":15},\"zerolinecolor\":\"white\",\"zerolinewidth\":2},\"yaxis\":{\"automargin\":true,\"gridcolor\":\"white\",\"linecolor\":\"white\",\"ticks\":\"\",\"title\":{\"standoff\":15},\"zerolinecolor\":\"white\",\"zerolinewidth\":2}}},\"xaxis\":{\"anchor\":\"y\",\"domain\":[0.0,0.2125],\"matches\":\"x13\",\"showticklabels\":false,\"range\":[0.55,10.45]},\"yaxis\":{\"anchor\":\"x\",\"domain\":[0.80625,1.0],\"range\":[0.55,10.45],\"title\":{\"text\":\"CHILDREN\"}},\"xaxis2\":{\"anchor\":\"y2\",\"domain\":[0.2625,0.475],\"matches\":\"x14\",\"showticklabels\":false,\"range\":[-0.7127404612981068,-0.074027281565345],\"type\":\"log\"},\"yaxis2\":{\"anchor\":\"x2\",\"domain\":[0.80625,1.0],\"matches\":\"y\",\"showticklabels\":false,\"range\":[0.55,10.45]},\"xaxis3\":{\"anchor\":\"y3\",\"domain\":[0.525,0.7375],\"matches\":\"x15\",\"showticklabels\":false,\"range\":[2.75,52.25]},\"yaxis3\":{\"anchor\":\"x3\",\"domain\":[0.80625,1.0],\"matches\":\"y\",\"showticklabels\":false,\"range\":[0.55,10.45]},\"xaxis4\":{\"anchor\":\"y4\",\"domain\":[0.7875,1.0],\"matches\":\"x16\",\"showticklabels\":false,\"range\":[0.55,10.45]},\"yaxis4\":{\"anchor\":\"x4\",\"domain\":[0.80625,1.0],\"matches\":\"y\",\"showticklabels\":false,\"range\":[0.55,10.45]},\"xaxis5\":{\"anchor\":\"y5\",\"domain\":[0.0,0.2125],\"matches\":\"x13\",\"showticklabels\":false,\"range\":[0.55,10.45]},\"yaxis5\":{\"anchor\":\"x5\",\"domain\":[0.5375,0.73125],\"range\":[-0.7127404612981068,-0.074027281565345],\"type\":\"log\",\"title\":{\"text\":\"MUTATION\"}},\"xaxis6\":{\"anchor\":\"y6\",\"domain\":[0.2625,0.475],\"matches\":\"x14\",\"showticklabels\":false,\"range\":[-0.7127404612981068,-0.074027281565345],\"type\":\"log\"},\"yaxis6\":{\"anchor\":\"x6\",\"domain\":[0.5375,0.73125],\"matches\":\"y5\",\"showticklabels\":false,\"range\":[-0.7127404612981068,-0.074027281565345],\"type\":\"log\"},\"xaxis7\":{\"anchor\":\"y7\",\"domain\":[0.525,0.7375],\"matches\":\"x15\",\"showticklabels\":false,\"range\":[2.75,52.25]},\"yaxis7\":{\"anchor\":\"x7\",\"domain\":[0.5375,0.73125],\"matches\":\"y5\",\"showticklabels\":false,\"range\":[-0.7127404612981068,-0.074027281565345],\"type\":\"log\"},\"xaxis8\":{\"anchor\":\"y8\",\"domain\":[0.7875,1.0],\"matches\":\"x16\",\"showticklabels\":false,\"range\":[0.55,10.45]},\"yaxis8\":{\"anchor\":\"x8\",\"domain\":[0.5375,0.73125],\"matches\":\"y5\",\"showticklabels\":false,\"range\":[-0.7127404612981068,-0.074027281565345],\"type\":\"log\"},\"xaxis9\":{\"anchor\":\"y9\",\"domain\":[0.0,0.2125],\"matches\":\"x13\",\"showticklabels\":false,\"range\":[0.55,10.45]},\"yaxis9\":{\"anchor\":\"x9\",\"domain\":[0.26875,0.4625],\"range\":[2.75,52.25],\"title\":{\"text\":\"N_MUTATION\"}},\"xaxis10\":{\"anchor\":\"y10\",\"domain\":[0.2625,0.475],\"matches\":\"x14\",\"showticklabels\":false,\"range\":[-0.7127404612981068,-0.074027281565345],\"type\":\"log\"},\"yaxis10\":{\"anchor\":\"x10\",\"domain\":[0.26875,0.4625],\"matches\":\"y9\",\"showticklabels\":false,\"range\":[2.75,52.25]},\"xaxis11\":{\"anchor\":\"y11\",\"domain\":[0.525,0.7375],\"matches\":\"x15\",\"showticklabels\":false,\"range\":[2.75,52.25]},\"yaxis11\":{\"anchor\":\"x11\",\"domain\":[0.26875,0.4625],\"matches\":\"y9\",\"showticklabels\":false,\"range\":[2.75,52.25]},\"xaxis12\":{\"anchor\":\"y12\",\"domain\":[0.7875,1.0],\"matches\":\"x16\",\"showticklabels\":false,\"range\":[0.55,10.45]},\"yaxis12\":{\"anchor\":\"x12\",\"domain\":[0.26875,0.4625],\"matches\":\"y9\",\"showticklabels\":false,\"range\":[2.75,52.25]},\"xaxis13\":{\"anchor\":\"y13\",\"domain\":[0.0,0.2125],\"range\":[0.55,10.45],\"title\":{\"text\":\"CHILDREN\"}},\"yaxis13\":{\"anchor\":\"x13\",\"domain\":[0.0,0.19375],\"range\":[0.55,10.45],\"title\":{\"text\":\"POPULATION\"}},\"xaxis14\":{\"anchor\":\"y14\",\"domain\":[0.2625,0.475],\"range\":[-0.7127404612981068,-0.074027281565345],\"type\":\"log\",\"title\":{\"text\":\"MUTATION\"}},\"yaxis14\":{\"anchor\":\"x14\",\"domain\":[0.0,0.19375],\"matches\":\"y13\",\"showticklabels\":false,\"range\":[0.55,10.45]},\"xaxis15\":{\"anchor\":\"y15\",\"domain\":[0.525,0.7375],\"range\":[2.75,52.25],\"title\":{\"text\":\"N_MUTATION\"}},\"yaxis15\":{\"anchor\":\"x15\",\"domain\":[0.0,0.19375],\"matches\":\"y13\",\"showticklabels\":false,\"range\":[0.55,10.45]},\"xaxis16\":{\"anchor\":\"y16\",\"domain\":[0.7875,1.0],\"range\":[0.55,10.45],\"title\":{\"text\":\"POPULATION\"}},\"yaxis16\":{\"anchor\":\"x16\",\"domain\":[0.0,0.19375],\"matches\":\"y13\",\"showticklabels\":false,\"range\":[0.55,10.45]},\"title\":{\"text\":\"Contour Plot\"}},                        {\"responsive\": true}                    ).then(function(){\n",
       "                            \n",
       "var gd = document.getElementById('54b9739c-7552-48c6-8d98-b1c609898158');\n",
       "var x = new MutationObserver(function (mutations, observer) {{\n",
       "        var display = window.getComputedStyle(gd).display;\n",
       "        if (!display || display === 'none') {{\n",
       "            console.log([gd, 'removed!']);\n",
       "            Plotly.purge(gd);\n",
       "            observer.disconnect();\n",
       "        }}\n",
       "}});\n",
       "\n",
       "// Listen for the removal of the full notebook cells\n",
       "var notebookContainer = gd.closest('#notebook-container');\n",
       "if (notebookContainer) {{\n",
       "    x.observe(notebookContainer, {childList: true});\n",
       "}}\n",
       "\n",
       "// Listen for the clearing of the current output cell\n",
       "var outputEl = gd.closest('.output');\n",
       "if (outputEl) {{\n",
       "    x.observe(outputEl, {childList: true});\n",
       "}}\n",
       "\n",
       "                        })                };                });            </script>        </div>"
      ]
     },
     "metadata": {},
     "output_type": "display_data"
    }
   ],
   "source": [
    "# Plotting countour plot that shows coorelation between parameters\n",
    "fig = optuna.visualization.plot_contour(study, target_name=\"distance\")\n",
    "fig.show()"
   ]
  },
  {
   "cell_type": "code",
   "execution_count": 34,
   "id": "6db7db51",
   "metadata": {},
   "outputs": [
    {
     "data": {
      "application/vnd.plotly.v1+json": {
       "config": {
        "plotlyServerURL": "https://plot.ly"
       },
       "data": [
        {
         "colorbar": {
          "title": {
           "text": "distance"
          }
         },
         "colorscale": [
          [
           0,
           "rgb(247,251,255)"
          ],
          [
           0.125,
           "rgb(222,235,247)"
          ],
          [
           0.25,
           "rgb(198,219,239)"
          ],
          [
           0.375,
           "rgb(158,202,225)"
          ],
          [
           0.5,
           "rgb(107,174,214)"
          ],
          [
           0.625,
           "rgb(66,146,198)"
          ],
          [
           0.75,
           "rgb(33,113,181)"
          ],
          [
           0.875,
           "rgb(8,81,156)"
          ],
          [
           1,
           "rgb(8,48,107)"
          ]
         ],
         "connectgaps": true,
         "contours": {
          "coloring": "heatmap"
         },
         "hoverinfo": "none",
         "line": {
          "smoothing": 1.3
         },
         "reversescale": true,
         "type": "contour",
         "x": [
          0.55,
          1,
          2,
          3,
          4,
          5,
          6,
          7,
          8,
          9,
          10,
          10.45
         ],
         "y": [
          0.55,
          1,
          2,
          3,
          4,
          5,
          6,
          7,
          8,
          9,
          10,
          10.45
         ],
         "z": [
          [
           null,
           null,
           null,
           null,
           null,
           null,
           null,
           null,
           null,
           null,
           null,
           null
          ],
          [
           null,
           null,
           null,
           null,
           null,
           8.66674258217236,
           null,
           8.869225358183682,
           null,
           null,
           null,
           null
          ],
          [
           null,
           null,
           7.729002147545588,
           6.941922662101007,
           null,
           null,
           null,
           null,
           null,
           12.163271432543343,
           null,
           null
          ],
          [
           null,
           null,
           null,
           null,
           null,
           6.981201246209411,
           6.979135063046851,
           6.815801292072273,
           null,
           7.370998759623221,
           null,
           null
          ],
          [
           null,
           null,
           null,
           6.8117460133373084,
           11.925298482021743,
           null,
           8.503983449642131,
           6.832556332139712,
           null,
           null,
           null,
           null
          ],
          [
           null,
           null,
           null,
           null,
           6.956236529867877,
           7.964575044068963,
           null,
           null,
           7.217140271784709,
           null,
           7.051566361899401,
           null
          ],
          [
           null,
           8.57022760004778,
           null,
           null,
           null,
           7.515397508167222,
           6.9429332533104215,
           7.235049772447086,
           6.808101060600806,
           7.453287904085061,
           6.66350106253479,
           null
          ],
          [
           null,
           null,
           6.748722872287084,
           null,
           7.221052347750691,
           null,
           6.96561054208297,
           null,
           7.005949083428422,
           6.645324265512597,
           6.997488803389456,
           null
          ],
          [
           null,
           null,
           7.8531826497737764,
           null,
           6.576550046951129,
           null,
           null,
           null,
           6.745689398782036,
           6.957283794360092,
           6.876332674549545,
           null
          ],
          [
           null,
           8.708227955210178,
           9.460771081761246,
           7.6624150454747175,
           null,
           7.084958189604117,
           null,
           6.908755853941913,
           6.64645176318988,
           7.713219893326127,
           8.01258529334201,
           null
          ],
          [
           null,
           null,
           null,
           7.646147403787222,
           null,
           null,
           null,
           7.301109414249166,
           null,
           7.094660598117216,
           null,
           null
          ],
          [
           null,
           null,
           null,
           null,
           null,
           null,
           null,
           null,
           null,
           null,
           null,
           null
          ]
         ]
        },
        {
         "marker": {
          "color": "black",
          "line": {
           "color": "Grey",
           "width": 2
          }
         },
         "mode": "markers",
         "showlegend": false,
         "type": "scatter",
         "x": [
          5,
          5,
          2,
          9,
          7,
          6,
          10,
          7,
          9,
          10,
          3,
          5,
          4,
          7,
          1,
          6,
          4,
          8,
          8,
          8,
          4,
          6,
          6,
          8,
          5,
          7,
          3,
          3,
          3,
          1,
          5,
          2,
          2,
          2,
          2,
          3,
          4,
          1,
          9,
          9,
          10,
          9,
          9,
          9,
          9,
          10,
          8,
          10,
          7,
          9,
          8,
          10,
          9,
          10,
          9,
          10,
          8,
          10,
          8,
          7,
          8,
          9,
          6,
          9,
          8,
          5,
          9,
          7,
          8,
          10,
          9,
          9,
          9,
          10,
          8,
          9,
          5,
          10,
          8,
          8,
          7,
          4,
          9,
          8,
          8,
          6,
          9,
          9,
          8,
          7,
          10,
          9,
          9,
          9,
          10,
          9,
          10,
          9,
          9,
          4
         ],
         "y": [
          1,
          3,
          2,
          6,
          1,
          6,
          5,
          9,
          10,
          8,
          4,
          3,
          7,
          4,
          6,
          3,
          5,
          7,
          8,
          7,
          4,
          7,
          6,
          8,
          5,
          3,
          9,
          10,
          9,
          9,
          1,
          7,
          7,
          8,
          9,
          2,
          7,
          6,
          8,
          10,
          8,
          8,
          9,
          8,
          8,
          6,
          8,
          7,
          1,
          2,
          8,
          9,
          10,
          9,
          8,
          7,
          9,
          8,
          6,
          6,
          5,
          7,
          4,
          7,
          5,
          6,
          7,
          6,
          7,
          5,
          3,
          8,
          8,
          9,
          7,
          7,
          9,
          8,
          6,
          6,
          6,
          7,
          8,
          6,
          5,
          4,
          7,
          8,
          9,
          10,
          6,
          8,
          8,
          8,
          9,
          7,
          7,
          7,
          8,
          8
         ]
        }
       ],
       "layout": {
        "template": {
         "data": {
          "bar": [
           {
            "error_x": {
             "color": "#2a3f5f"
            },
            "error_y": {
             "color": "#2a3f5f"
            },
            "marker": {
             "line": {
              "color": "#E5ECF6",
              "width": 0.5
             },
             "pattern": {
              "fillmode": "overlay",
              "size": 10,
              "solidity": 0.2
             }
            },
            "type": "bar"
           }
          ],
          "barpolar": [
           {
            "marker": {
             "line": {
              "color": "#E5ECF6",
              "width": 0.5
             },
             "pattern": {
              "fillmode": "overlay",
              "size": 10,
              "solidity": 0.2
             }
            },
            "type": "barpolar"
           }
          ],
          "carpet": [
           {
            "aaxis": {
             "endlinecolor": "#2a3f5f",
             "gridcolor": "white",
             "linecolor": "white",
             "minorgridcolor": "white",
             "startlinecolor": "#2a3f5f"
            },
            "baxis": {
             "endlinecolor": "#2a3f5f",
             "gridcolor": "white",
             "linecolor": "white",
             "minorgridcolor": "white",
             "startlinecolor": "#2a3f5f"
            },
            "type": "carpet"
           }
          ],
          "choropleth": [
           {
            "colorbar": {
             "outlinewidth": 0,
             "ticks": ""
            },
            "type": "choropleth"
           }
          ],
          "contour": [
           {
            "colorbar": {
             "outlinewidth": 0,
             "ticks": ""
            },
            "colorscale": [
             [
              0,
              "#0d0887"
             ],
             [
              0.1111111111111111,
              "#46039f"
             ],
             [
              0.2222222222222222,
              "#7201a8"
             ],
             [
              0.3333333333333333,
              "#9c179e"
             ],
             [
              0.4444444444444444,
              "#bd3786"
             ],
             [
              0.5555555555555556,
              "#d8576b"
             ],
             [
              0.6666666666666666,
              "#ed7953"
             ],
             [
              0.7777777777777778,
              "#fb9f3a"
             ],
             [
              0.8888888888888888,
              "#fdca26"
             ],
             [
              1,
              "#f0f921"
             ]
            ],
            "type": "contour"
           }
          ],
          "contourcarpet": [
           {
            "colorbar": {
             "outlinewidth": 0,
             "ticks": ""
            },
            "type": "contourcarpet"
           }
          ],
          "heatmap": [
           {
            "colorbar": {
             "outlinewidth": 0,
             "ticks": ""
            },
            "colorscale": [
             [
              0,
              "#0d0887"
             ],
             [
              0.1111111111111111,
              "#46039f"
             ],
             [
              0.2222222222222222,
              "#7201a8"
             ],
             [
              0.3333333333333333,
              "#9c179e"
             ],
             [
              0.4444444444444444,
              "#bd3786"
             ],
             [
              0.5555555555555556,
              "#d8576b"
             ],
             [
              0.6666666666666666,
              "#ed7953"
             ],
             [
              0.7777777777777778,
              "#fb9f3a"
             ],
             [
              0.8888888888888888,
              "#fdca26"
             ],
             [
              1,
              "#f0f921"
             ]
            ],
            "type": "heatmap"
           }
          ],
          "heatmapgl": [
           {
            "colorbar": {
             "outlinewidth": 0,
             "ticks": ""
            },
            "colorscale": [
             [
              0,
              "#0d0887"
             ],
             [
              0.1111111111111111,
              "#46039f"
             ],
             [
              0.2222222222222222,
              "#7201a8"
             ],
             [
              0.3333333333333333,
              "#9c179e"
             ],
             [
              0.4444444444444444,
              "#bd3786"
             ],
             [
              0.5555555555555556,
              "#d8576b"
             ],
             [
              0.6666666666666666,
              "#ed7953"
             ],
             [
              0.7777777777777778,
              "#fb9f3a"
             ],
             [
              0.8888888888888888,
              "#fdca26"
             ],
             [
              1,
              "#f0f921"
             ]
            ],
            "type": "heatmapgl"
           }
          ],
          "histogram": [
           {
            "marker": {
             "pattern": {
              "fillmode": "overlay",
              "size": 10,
              "solidity": 0.2
             }
            },
            "type": "histogram"
           }
          ],
          "histogram2d": [
           {
            "colorbar": {
             "outlinewidth": 0,
             "ticks": ""
            },
            "colorscale": [
             [
              0,
              "#0d0887"
             ],
             [
              0.1111111111111111,
              "#46039f"
             ],
             [
              0.2222222222222222,
              "#7201a8"
             ],
             [
              0.3333333333333333,
              "#9c179e"
             ],
             [
              0.4444444444444444,
              "#bd3786"
             ],
             [
              0.5555555555555556,
              "#d8576b"
             ],
             [
              0.6666666666666666,
              "#ed7953"
             ],
             [
              0.7777777777777778,
              "#fb9f3a"
             ],
             [
              0.8888888888888888,
              "#fdca26"
             ],
             [
              1,
              "#f0f921"
             ]
            ],
            "type": "histogram2d"
           }
          ],
          "histogram2dcontour": [
           {
            "colorbar": {
             "outlinewidth": 0,
             "ticks": ""
            },
            "colorscale": [
             [
              0,
              "#0d0887"
             ],
             [
              0.1111111111111111,
              "#46039f"
             ],
             [
              0.2222222222222222,
              "#7201a8"
             ],
             [
              0.3333333333333333,
              "#9c179e"
             ],
             [
              0.4444444444444444,
              "#bd3786"
             ],
             [
              0.5555555555555556,
              "#d8576b"
             ],
             [
              0.6666666666666666,
              "#ed7953"
             ],
             [
              0.7777777777777778,
              "#fb9f3a"
             ],
             [
              0.8888888888888888,
              "#fdca26"
             ],
             [
              1,
              "#f0f921"
             ]
            ],
            "type": "histogram2dcontour"
           }
          ],
          "mesh3d": [
           {
            "colorbar": {
             "outlinewidth": 0,
             "ticks": ""
            },
            "type": "mesh3d"
           }
          ],
          "parcoords": [
           {
            "line": {
             "colorbar": {
              "outlinewidth": 0,
              "ticks": ""
             }
            },
            "type": "parcoords"
           }
          ],
          "pie": [
           {
            "automargin": true,
            "type": "pie"
           }
          ],
          "scatter": [
           {
            "marker": {
             "colorbar": {
              "outlinewidth": 0,
              "ticks": ""
             }
            },
            "type": "scatter"
           }
          ],
          "scatter3d": [
           {
            "line": {
             "colorbar": {
              "outlinewidth": 0,
              "ticks": ""
             }
            },
            "marker": {
             "colorbar": {
              "outlinewidth": 0,
              "ticks": ""
             }
            },
            "type": "scatter3d"
           }
          ],
          "scattercarpet": [
           {
            "marker": {
             "colorbar": {
              "outlinewidth": 0,
              "ticks": ""
             }
            },
            "type": "scattercarpet"
           }
          ],
          "scattergeo": [
           {
            "marker": {
             "colorbar": {
              "outlinewidth": 0,
              "ticks": ""
             }
            },
            "type": "scattergeo"
           }
          ],
          "scattergl": [
           {
            "marker": {
             "colorbar": {
              "outlinewidth": 0,
              "ticks": ""
             }
            },
            "type": "scattergl"
           }
          ],
          "scattermapbox": [
           {
            "marker": {
             "colorbar": {
              "outlinewidth": 0,
              "ticks": ""
             }
            },
            "type": "scattermapbox"
           }
          ],
          "scatterpolar": [
           {
            "marker": {
             "colorbar": {
              "outlinewidth": 0,
              "ticks": ""
             }
            },
            "type": "scatterpolar"
           }
          ],
          "scatterpolargl": [
           {
            "marker": {
             "colorbar": {
              "outlinewidth": 0,
              "ticks": ""
             }
            },
            "type": "scatterpolargl"
           }
          ],
          "scatterternary": [
           {
            "marker": {
             "colorbar": {
              "outlinewidth": 0,
              "ticks": ""
             }
            },
            "type": "scatterternary"
           }
          ],
          "surface": [
           {
            "colorbar": {
             "outlinewidth": 0,
             "ticks": ""
            },
            "colorscale": [
             [
              0,
              "#0d0887"
             ],
             [
              0.1111111111111111,
              "#46039f"
             ],
             [
              0.2222222222222222,
              "#7201a8"
             ],
             [
              0.3333333333333333,
              "#9c179e"
             ],
             [
              0.4444444444444444,
              "#bd3786"
             ],
             [
              0.5555555555555556,
              "#d8576b"
             ],
             [
              0.6666666666666666,
              "#ed7953"
             ],
             [
              0.7777777777777778,
              "#fb9f3a"
             ],
             [
              0.8888888888888888,
              "#fdca26"
             ],
             [
              1,
              "#f0f921"
             ]
            ],
            "type": "surface"
           }
          ],
          "table": [
           {
            "cells": {
             "fill": {
              "color": "#EBF0F8"
             },
             "line": {
              "color": "white"
             }
            },
            "header": {
             "fill": {
              "color": "#C8D4E3"
             },
             "line": {
              "color": "white"
             }
            },
            "type": "table"
           }
          ]
         },
         "layout": {
          "annotationdefaults": {
           "arrowcolor": "#2a3f5f",
           "arrowhead": 0,
           "arrowwidth": 1
          },
          "autotypenumbers": "strict",
          "coloraxis": {
           "colorbar": {
            "outlinewidth": 0,
            "ticks": ""
           }
          },
          "colorscale": {
           "diverging": [
            [
             0,
             "#8e0152"
            ],
            [
             0.1,
             "#c51b7d"
            ],
            [
             0.2,
             "#de77ae"
            ],
            [
             0.3,
             "#f1b6da"
            ],
            [
             0.4,
             "#fde0ef"
            ],
            [
             0.5,
             "#f7f7f7"
            ],
            [
             0.6,
             "#e6f5d0"
            ],
            [
             0.7,
             "#b8e186"
            ],
            [
             0.8,
             "#7fbc41"
            ],
            [
             0.9,
             "#4d9221"
            ],
            [
             1,
             "#276419"
            ]
           ],
           "sequential": [
            [
             0,
             "#0d0887"
            ],
            [
             0.1111111111111111,
             "#46039f"
            ],
            [
             0.2222222222222222,
             "#7201a8"
            ],
            [
             0.3333333333333333,
             "#9c179e"
            ],
            [
             0.4444444444444444,
             "#bd3786"
            ],
            [
             0.5555555555555556,
             "#d8576b"
            ],
            [
             0.6666666666666666,
             "#ed7953"
            ],
            [
             0.7777777777777778,
             "#fb9f3a"
            ],
            [
             0.8888888888888888,
             "#fdca26"
            ],
            [
             1,
             "#f0f921"
            ]
           ],
           "sequentialminus": [
            [
             0,
             "#0d0887"
            ],
            [
             0.1111111111111111,
             "#46039f"
            ],
            [
             0.2222222222222222,
             "#7201a8"
            ],
            [
             0.3333333333333333,
             "#9c179e"
            ],
            [
             0.4444444444444444,
             "#bd3786"
            ],
            [
             0.5555555555555556,
             "#d8576b"
            ],
            [
             0.6666666666666666,
             "#ed7953"
            ],
            [
             0.7777777777777778,
             "#fb9f3a"
            ],
            [
             0.8888888888888888,
             "#fdca26"
            ],
            [
             1,
             "#f0f921"
            ]
           ]
          },
          "colorway": [
           "#636efa",
           "#EF553B",
           "#00cc96",
           "#ab63fa",
           "#FFA15A",
           "#19d3f3",
           "#FF6692",
           "#B6E880",
           "#FF97FF",
           "#FECB52"
          ],
          "font": {
           "color": "#2a3f5f"
          },
          "geo": {
           "bgcolor": "white",
           "lakecolor": "white",
           "landcolor": "#E5ECF6",
           "showlakes": true,
           "showland": true,
           "subunitcolor": "white"
          },
          "hoverlabel": {
           "align": "left"
          },
          "hovermode": "closest",
          "mapbox": {
           "style": "light"
          },
          "paper_bgcolor": "white",
          "plot_bgcolor": "#E5ECF6",
          "polar": {
           "angularaxis": {
            "gridcolor": "white",
            "linecolor": "white",
            "ticks": ""
           },
           "bgcolor": "#E5ECF6",
           "radialaxis": {
            "gridcolor": "white",
            "linecolor": "white",
            "ticks": ""
           }
          },
          "scene": {
           "xaxis": {
            "backgroundcolor": "#E5ECF6",
            "gridcolor": "white",
            "gridwidth": 2,
            "linecolor": "white",
            "showbackground": true,
            "ticks": "",
            "zerolinecolor": "white"
           },
           "yaxis": {
            "backgroundcolor": "#E5ECF6",
            "gridcolor": "white",
            "gridwidth": 2,
            "linecolor": "white",
            "showbackground": true,
            "ticks": "",
            "zerolinecolor": "white"
           },
           "zaxis": {
            "backgroundcolor": "#E5ECF6",
            "gridcolor": "white",
            "gridwidth": 2,
            "linecolor": "white",
            "showbackground": true,
            "ticks": "",
            "zerolinecolor": "white"
           }
          },
          "shapedefaults": {
           "line": {
            "color": "#2a3f5f"
           }
          },
          "ternary": {
           "aaxis": {
            "gridcolor": "white",
            "linecolor": "white",
            "ticks": ""
           },
           "baxis": {
            "gridcolor": "white",
            "linecolor": "white",
            "ticks": ""
           },
           "bgcolor": "#E5ECF6",
           "caxis": {
            "gridcolor": "white",
            "linecolor": "white",
            "ticks": ""
           }
          },
          "title": {
           "x": 0.05
          },
          "xaxis": {
           "automargin": true,
           "gridcolor": "white",
           "linecolor": "white",
           "ticks": "",
           "title": {
            "standoff": 15
           },
           "zerolinecolor": "white",
           "zerolinewidth": 2
          },
          "yaxis": {
           "automargin": true,
           "gridcolor": "white",
           "linecolor": "white",
           "ticks": "",
           "title": {
            "standoff": 15
           },
           "zerolinecolor": "white",
           "zerolinewidth": 2
          }
         }
        },
        "title": {
         "text": "Contour Plot"
        },
        "xaxis": {
         "range": [
          0.55,
          10.45
         ],
         "title": {
          "text": "CHILDREN"
         }
        },
        "yaxis": {
         "range": [
          0.55,
          10.45
         ],
         "title": {
          "text": "POPULATION"
         }
        }
       }
      },
      "text/html": [
       "<div>                            <div id=\"d761f0cf-3537-49f8-8760-49b0bd1cbe92\" class=\"plotly-graph-div\" style=\"height:525px; width:100%;\"></div>            <script type=\"text/javascript\">                require([\"plotly\"], function(Plotly) {                    window.PLOTLYENV=window.PLOTLYENV || {};                                    if (document.getElementById(\"d761f0cf-3537-49f8-8760-49b0bd1cbe92\")) {                    Plotly.newPlot(                        \"d761f0cf-3537-49f8-8760-49b0bd1cbe92\",                        [{\"colorbar\":{\"title\":{\"text\":\"distance\"}},\"colorscale\":[[0.0,\"rgb(247,251,255)\"],[0.125,\"rgb(222,235,247)\"],[0.25,\"rgb(198,219,239)\"],[0.375,\"rgb(158,202,225)\"],[0.5,\"rgb(107,174,214)\"],[0.625,\"rgb(66,146,198)\"],[0.75,\"rgb(33,113,181)\"],[0.875,\"rgb(8,81,156)\"],[1.0,\"rgb(8,48,107)\"]],\"connectgaps\":true,\"contours\":{\"coloring\":\"heatmap\"},\"hoverinfo\":\"none\",\"line\":{\"smoothing\":1.3},\"reversescale\":true,\"x\":[0.55,1,2,3,4,5,6,7,8,9,10,10.45],\"y\":[0.55,1,2,3,4,5,6,7,8,9,10,10.45],\"z\":[[null,null,null,null,null,null,null,null,null,null,null,null],[null,null,null,null,null,8.66674258217236,null,8.869225358183682,null,null,null,null],[null,null,7.729002147545588,6.941922662101007,null,null,null,null,null,12.163271432543343,null,null],[null,null,null,null,null,6.981201246209411,6.979135063046851,6.815801292072273,null,7.370998759623221,null,null],[null,null,null,6.8117460133373084,11.925298482021743,null,8.503983449642131,6.832556332139712,null,null,null,null],[null,null,null,null,6.956236529867877,7.964575044068963,null,null,7.217140271784709,null,7.051566361899401,null],[null,8.57022760004778,null,null,null,7.515397508167222,6.9429332533104215,7.235049772447086,6.808101060600806,7.453287904085061,6.66350106253479,null],[null,null,6.748722872287084,null,7.221052347750691,null,6.96561054208297,null,7.005949083428422,6.645324265512597,6.997488803389456,null],[null,null,7.8531826497737764,null,6.576550046951129,null,null,null,6.745689398782036,6.957283794360092,6.876332674549545,null],[null,8.708227955210178,9.460771081761246,7.6624150454747175,null,7.084958189604117,null,6.908755853941913,6.64645176318988,7.713219893326127,8.01258529334201,null],[null,null,null,7.646147403787222,null,null,null,7.301109414249166,null,7.094660598117216,null,null],[null,null,null,null,null,null,null,null,null,null,null,null]],\"type\":\"contour\"},{\"marker\":{\"color\":\"black\",\"line\":{\"color\":\"Grey\",\"width\":2.0}},\"mode\":\"markers\",\"showlegend\":false,\"x\":[5,5,2,9,7,6,10,7,9,10,3,5,4,7,1,6,4,8,8,8,4,6,6,8,5,7,3,3,3,1,5,2,2,2,2,3,4,1,9,9,10,9,9,9,9,10,8,10,7,9,8,10,9,10,9,10,8,10,8,7,8,9,6,9,8,5,9,7,8,10,9,9,9,10,8,9,5,10,8,8,7,4,9,8,8,6,9,9,8,7,10,9,9,9,10,9,10,9,9,4],\"y\":[1,3,2,6,1,6,5,9,10,8,4,3,7,4,6,3,5,7,8,7,4,7,6,8,5,3,9,10,9,9,1,7,7,8,9,2,7,6,8,10,8,8,9,8,8,6,8,7,1,2,8,9,10,9,8,7,9,8,6,6,5,7,4,7,5,6,7,6,7,5,3,8,8,9,7,7,9,8,6,6,6,7,8,6,5,4,7,8,9,10,6,8,8,8,9,7,7,7,8,8],\"type\":\"scatter\"}],                        {\"title\":{\"text\":\"Contour Plot\"},\"template\":{\"data\":{\"bar\":[{\"error_x\":{\"color\":\"#2a3f5f\"},\"error_y\":{\"color\":\"#2a3f5f\"},\"marker\":{\"line\":{\"color\":\"#E5ECF6\",\"width\":0.5},\"pattern\":{\"fillmode\":\"overlay\",\"size\":10,\"solidity\":0.2}},\"type\":\"bar\"}],\"barpolar\":[{\"marker\":{\"line\":{\"color\":\"#E5ECF6\",\"width\":0.5},\"pattern\":{\"fillmode\":\"overlay\",\"size\":10,\"solidity\":0.2}},\"type\":\"barpolar\"}],\"carpet\":[{\"aaxis\":{\"endlinecolor\":\"#2a3f5f\",\"gridcolor\":\"white\",\"linecolor\":\"white\",\"minorgridcolor\":\"white\",\"startlinecolor\":\"#2a3f5f\"},\"baxis\":{\"endlinecolor\":\"#2a3f5f\",\"gridcolor\":\"white\",\"linecolor\":\"white\",\"minorgridcolor\":\"white\",\"startlinecolor\":\"#2a3f5f\"},\"type\":\"carpet\"}],\"choropleth\":[{\"colorbar\":{\"outlinewidth\":0,\"ticks\":\"\"},\"type\":\"choropleth\"}],\"contour\":[{\"colorbar\":{\"outlinewidth\":0,\"ticks\":\"\"},\"colorscale\":[[0.0,\"#0d0887\"],[0.1111111111111111,\"#46039f\"],[0.2222222222222222,\"#7201a8\"],[0.3333333333333333,\"#9c179e\"],[0.4444444444444444,\"#bd3786\"],[0.5555555555555556,\"#d8576b\"],[0.6666666666666666,\"#ed7953\"],[0.7777777777777778,\"#fb9f3a\"],[0.8888888888888888,\"#fdca26\"],[1.0,\"#f0f921\"]],\"type\":\"contour\"}],\"contourcarpet\":[{\"colorbar\":{\"outlinewidth\":0,\"ticks\":\"\"},\"type\":\"contourcarpet\"}],\"heatmap\":[{\"colorbar\":{\"outlinewidth\":0,\"ticks\":\"\"},\"colorscale\":[[0.0,\"#0d0887\"],[0.1111111111111111,\"#46039f\"],[0.2222222222222222,\"#7201a8\"],[0.3333333333333333,\"#9c179e\"],[0.4444444444444444,\"#bd3786\"],[0.5555555555555556,\"#d8576b\"],[0.6666666666666666,\"#ed7953\"],[0.7777777777777778,\"#fb9f3a\"],[0.8888888888888888,\"#fdca26\"],[1.0,\"#f0f921\"]],\"type\":\"heatmap\"}],\"heatmapgl\":[{\"colorbar\":{\"outlinewidth\":0,\"ticks\":\"\"},\"colorscale\":[[0.0,\"#0d0887\"],[0.1111111111111111,\"#46039f\"],[0.2222222222222222,\"#7201a8\"],[0.3333333333333333,\"#9c179e\"],[0.4444444444444444,\"#bd3786\"],[0.5555555555555556,\"#d8576b\"],[0.6666666666666666,\"#ed7953\"],[0.7777777777777778,\"#fb9f3a\"],[0.8888888888888888,\"#fdca26\"],[1.0,\"#f0f921\"]],\"type\":\"heatmapgl\"}],\"histogram\":[{\"marker\":{\"pattern\":{\"fillmode\":\"overlay\",\"size\":10,\"solidity\":0.2}},\"type\":\"histogram\"}],\"histogram2d\":[{\"colorbar\":{\"outlinewidth\":0,\"ticks\":\"\"},\"colorscale\":[[0.0,\"#0d0887\"],[0.1111111111111111,\"#46039f\"],[0.2222222222222222,\"#7201a8\"],[0.3333333333333333,\"#9c179e\"],[0.4444444444444444,\"#bd3786\"],[0.5555555555555556,\"#d8576b\"],[0.6666666666666666,\"#ed7953\"],[0.7777777777777778,\"#fb9f3a\"],[0.8888888888888888,\"#fdca26\"],[1.0,\"#f0f921\"]],\"type\":\"histogram2d\"}],\"histogram2dcontour\":[{\"colorbar\":{\"outlinewidth\":0,\"ticks\":\"\"},\"colorscale\":[[0.0,\"#0d0887\"],[0.1111111111111111,\"#46039f\"],[0.2222222222222222,\"#7201a8\"],[0.3333333333333333,\"#9c179e\"],[0.4444444444444444,\"#bd3786\"],[0.5555555555555556,\"#d8576b\"],[0.6666666666666666,\"#ed7953\"],[0.7777777777777778,\"#fb9f3a\"],[0.8888888888888888,\"#fdca26\"],[1.0,\"#f0f921\"]],\"type\":\"histogram2dcontour\"}],\"mesh3d\":[{\"colorbar\":{\"outlinewidth\":0,\"ticks\":\"\"},\"type\":\"mesh3d\"}],\"parcoords\":[{\"line\":{\"colorbar\":{\"outlinewidth\":0,\"ticks\":\"\"}},\"type\":\"parcoords\"}],\"pie\":[{\"automargin\":true,\"type\":\"pie\"}],\"scatter\":[{\"marker\":{\"colorbar\":{\"outlinewidth\":0,\"ticks\":\"\"}},\"type\":\"scatter\"}],\"scatter3d\":[{\"line\":{\"colorbar\":{\"outlinewidth\":0,\"ticks\":\"\"}},\"marker\":{\"colorbar\":{\"outlinewidth\":0,\"ticks\":\"\"}},\"type\":\"scatter3d\"}],\"scattercarpet\":[{\"marker\":{\"colorbar\":{\"outlinewidth\":0,\"ticks\":\"\"}},\"type\":\"scattercarpet\"}],\"scattergeo\":[{\"marker\":{\"colorbar\":{\"outlinewidth\":0,\"ticks\":\"\"}},\"type\":\"scattergeo\"}],\"scattergl\":[{\"marker\":{\"colorbar\":{\"outlinewidth\":0,\"ticks\":\"\"}},\"type\":\"scattergl\"}],\"scattermapbox\":[{\"marker\":{\"colorbar\":{\"outlinewidth\":0,\"ticks\":\"\"}},\"type\":\"scattermapbox\"}],\"scatterpolar\":[{\"marker\":{\"colorbar\":{\"outlinewidth\":0,\"ticks\":\"\"}},\"type\":\"scatterpolar\"}],\"scatterpolargl\":[{\"marker\":{\"colorbar\":{\"outlinewidth\":0,\"ticks\":\"\"}},\"type\":\"scatterpolargl\"}],\"scatterternary\":[{\"marker\":{\"colorbar\":{\"outlinewidth\":0,\"ticks\":\"\"}},\"type\":\"scatterternary\"}],\"surface\":[{\"colorbar\":{\"outlinewidth\":0,\"ticks\":\"\"},\"colorscale\":[[0.0,\"#0d0887\"],[0.1111111111111111,\"#46039f\"],[0.2222222222222222,\"#7201a8\"],[0.3333333333333333,\"#9c179e\"],[0.4444444444444444,\"#bd3786\"],[0.5555555555555556,\"#d8576b\"],[0.6666666666666666,\"#ed7953\"],[0.7777777777777778,\"#fb9f3a\"],[0.8888888888888888,\"#fdca26\"],[1.0,\"#f0f921\"]],\"type\":\"surface\"}],\"table\":[{\"cells\":{\"fill\":{\"color\":\"#EBF0F8\"},\"line\":{\"color\":\"white\"}},\"header\":{\"fill\":{\"color\":\"#C8D4E3\"},\"line\":{\"color\":\"white\"}},\"type\":\"table\"}]},\"layout\":{\"annotationdefaults\":{\"arrowcolor\":\"#2a3f5f\",\"arrowhead\":0,\"arrowwidth\":1},\"autotypenumbers\":\"strict\",\"coloraxis\":{\"colorbar\":{\"outlinewidth\":0,\"ticks\":\"\"}},\"colorscale\":{\"diverging\":[[0,\"#8e0152\"],[0.1,\"#c51b7d\"],[0.2,\"#de77ae\"],[0.3,\"#f1b6da\"],[0.4,\"#fde0ef\"],[0.5,\"#f7f7f7\"],[0.6,\"#e6f5d0\"],[0.7,\"#b8e186\"],[0.8,\"#7fbc41\"],[0.9,\"#4d9221\"],[1,\"#276419\"]],\"sequential\":[[0.0,\"#0d0887\"],[0.1111111111111111,\"#46039f\"],[0.2222222222222222,\"#7201a8\"],[0.3333333333333333,\"#9c179e\"],[0.4444444444444444,\"#bd3786\"],[0.5555555555555556,\"#d8576b\"],[0.6666666666666666,\"#ed7953\"],[0.7777777777777778,\"#fb9f3a\"],[0.8888888888888888,\"#fdca26\"],[1.0,\"#f0f921\"]],\"sequentialminus\":[[0.0,\"#0d0887\"],[0.1111111111111111,\"#46039f\"],[0.2222222222222222,\"#7201a8\"],[0.3333333333333333,\"#9c179e\"],[0.4444444444444444,\"#bd3786\"],[0.5555555555555556,\"#d8576b\"],[0.6666666666666666,\"#ed7953\"],[0.7777777777777778,\"#fb9f3a\"],[0.8888888888888888,\"#fdca26\"],[1.0,\"#f0f921\"]]},\"colorway\":[\"#636efa\",\"#EF553B\",\"#00cc96\",\"#ab63fa\",\"#FFA15A\",\"#19d3f3\",\"#FF6692\",\"#B6E880\",\"#FF97FF\",\"#FECB52\"],\"font\":{\"color\":\"#2a3f5f\"},\"geo\":{\"bgcolor\":\"white\",\"lakecolor\":\"white\",\"landcolor\":\"#E5ECF6\",\"showlakes\":true,\"showland\":true,\"subunitcolor\":\"white\"},\"hoverlabel\":{\"align\":\"left\"},\"hovermode\":\"closest\",\"mapbox\":{\"style\":\"light\"},\"paper_bgcolor\":\"white\",\"plot_bgcolor\":\"#E5ECF6\",\"polar\":{\"angularaxis\":{\"gridcolor\":\"white\",\"linecolor\":\"white\",\"ticks\":\"\"},\"bgcolor\":\"#E5ECF6\",\"radialaxis\":{\"gridcolor\":\"white\",\"linecolor\":\"white\",\"ticks\":\"\"}},\"scene\":{\"xaxis\":{\"backgroundcolor\":\"#E5ECF6\",\"gridcolor\":\"white\",\"gridwidth\":2,\"linecolor\":\"white\",\"showbackground\":true,\"ticks\":\"\",\"zerolinecolor\":\"white\"},\"yaxis\":{\"backgroundcolor\":\"#E5ECF6\",\"gridcolor\":\"white\",\"gridwidth\":2,\"linecolor\":\"white\",\"showbackground\":true,\"ticks\":\"\",\"zerolinecolor\":\"white\"},\"zaxis\":{\"backgroundcolor\":\"#E5ECF6\",\"gridcolor\":\"white\",\"gridwidth\":2,\"linecolor\":\"white\",\"showbackground\":true,\"ticks\":\"\",\"zerolinecolor\":\"white\"}},\"shapedefaults\":{\"line\":{\"color\":\"#2a3f5f\"}},\"ternary\":{\"aaxis\":{\"gridcolor\":\"white\",\"linecolor\":\"white\",\"ticks\":\"\"},\"baxis\":{\"gridcolor\":\"white\",\"linecolor\":\"white\",\"ticks\":\"\"},\"bgcolor\":\"#E5ECF6\",\"caxis\":{\"gridcolor\":\"white\",\"linecolor\":\"white\",\"ticks\":\"\"}},\"title\":{\"x\":0.05},\"xaxis\":{\"automargin\":true,\"gridcolor\":\"white\",\"linecolor\":\"white\",\"ticks\":\"\",\"title\":{\"standoff\":15},\"zerolinecolor\":\"white\",\"zerolinewidth\":2},\"yaxis\":{\"automargin\":true,\"gridcolor\":\"white\",\"linecolor\":\"white\",\"ticks\":\"\",\"title\":{\"standoff\":15},\"zerolinecolor\":\"white\",\"zerolinewidth\":2}}},\"xaxis\":{\"title\":{\"text\":\"CHILDREN\"},\"range\":[0.55,10.45]},\"yaxis\":{\"title\":{\"text\":\"POPULATION\"},\"range\":[0.55,10.45]}},                        {\"responsive\": true}                    ).then(function(){\n",
       "                            \n",
       "var gd = document.getElementById('d761f0cf-3537-49f8-8760-49b0bd1cbe92');\n",
       "var x = new MutationObserver(function (mutations, observer) {{\n",
       "        var display = window.getComputedStyle(gd).display;\n",
       "        if (!display || display === 'none') {{\n",
       "            console.log([gd, 'removed!']);\n",
       "            Plotly.purge(gd);\n",
       "            observer.disconnect();\n",
       "        }}\n",
       "}});\n",
       "\n",
       "// Listen for the removal of the full notebook cells\n",
       "var notebookContainer = gd.closest('#notebook-container');\n",
       "if (notebookContainer) {{\n",
       "    x.observe(notebookContainer, {childList: true});\n",
       "}}\n",
       "\n",
       "// Listen for the clearing of the current output cell\n",
       "var outputEl = gd.closest('.output');\n",
       "if (outputEl) {{\n",
       "    x.observe(outputEl, {childList: true});\n",
       "}}\n",
       "\n",
       "                        })                };                });            </script>        </div>"
      ]
     },
     "metadata": {},
     "output_type": "display_data"
    }
   ],
   "source": [
    "optuna.visualization.plot_contour(study, target_name=\"distance\", params=[\"POPULATION\",\"CHILDREN\"])"
   ]
  },
  {
   "cell_type": "code",
   "execution_count": 25,
   "id": "0871f18c",
   "metadata": {},
   "outputs": [
    {
     "data": {
      "text/plain": [
       "FrozenTrial(number=38, values=[6.16138370816904], datetime_start=datetime.datetime(2022, 11, 16, 20, 13, 39, 624089), datetime_complete=datetime.datetime(2022, 11, 16, 20, 17, 31, 696036), params={'POPULATION': 8, 'CHILDREN': 9, 'MUTATION': 0.4566626873377028, 'N_MUTATION': 10}, distributions={'POPULATION': IntDistribution(high=10, log=False, low=1, step=1), 'CHILDREN': IntDistribution(high=10, log=False, low=1, step=1), 'MUTATION': FloatDistribution(high=0.8, log=True, low=0.2, step=None), 'N_MUTATION': IntDistribution(high=50, log=False, low=5, step=5)}, user_attrs={}, system_attrs={}, intermediate_values={}, trial_id=38, state=TrialState.COMPLETE, value=None)"
      ]
     },
     "execution_count": 25,
     "metadata": {},
     "output_type": "execute_result"
    }
   ],
   "source": [
    "# Getting parameters of best trial\n",
    "study.best_trial"
   ]
  }
 ],
 "metadata": {
  "kernelspec": {
   "display_name": "Python 3 (ipykernel)",
   "language": "python",
   "name": "python3"
  },
  "language_info": {
   "codemirror_mode": {
    "name": "ipython",
    "version": 3
   },
   "file_extension": ".py",
   "mimetype": "text/x-python",
   "name": "python",
   "nbconvert_exporter": "python",
   "pygments_lexer": "ipython3",
   "version": "3.9.12"
  }
 },
 "nbformat": 4,
 "nbformat_minor": 5
}
